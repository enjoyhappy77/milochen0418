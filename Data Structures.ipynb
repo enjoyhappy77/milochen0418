{
 "cells": [
  {
   "cell_type": "code",
   "execution_count": 1,
   "metadata": {},
   "outputs": [],
   "source": [
    "# Data Structures (list, dict, tuples, sets, strings)"
   ]
  },
  {
   "cell_type": "code",
   "execution_count": 2,
   "metadata": {},
   "outputs": [
    {
     "name": "stdout",
     "output_type": "stream",
     "text": [
      "--- count ---\n",
      "2\n",
      "3\n",
      "0\n",
      "--- index ---\n",
      "3\n",
      "3\n",
      "3\n",
      "5\n",
      "--- reverse ---\n",
      "before reverse()\n",
      "['orange', 'apple', 'pear', 'banana', 'apple', 'banana', 'banana']\n",
      "after reverse()\n",
      "['banana', 'banana', 'apple', 'banana', 'pear', 'apple', 'orange']\n",
      "--- after sort ---\n",
      "['apple', 'apple', 'banana', 'banana', 'banana', 'orange', 'pear']\n",
      "--- after pop ---\n",
      "['apple', 'apple', 'banana', 'banana', 'banana', 'orange']\n",
      "pop_item =  pear\n"
     ]
    }
   ],
   "source": [
    "# More on Lists\n",
    "\"\"\"\n",
    " append(item): append item to the list\n",
    " insert(index, item): insert item into specific position\n",
    " extend(list): append the input list at the end of current list\n",
    " index(item): the first occurrence of the input item\n",
    " count(item): number of occurrence of the input item\n",
    " remove(item): remove the first occurrence of the input item\n",
    " reverse(): reverse the order of the list\n",
    " sort(): sort the list\n",
    " sort(comp_func): osrt using user defined comparison function\n",
    "\"\"\"\n",
    "\n",
    "fruits = ['orange','apple','pear','banana','apple','banana','banana']\n",
    "print('--- count ---')\n",
    "print(fruits.count('apple'))\n",
    "print(fruits.count('banana'))\n",
    "print(fruits.count('pieapple'))\n",
    "print('--- index ---')\n",
    "print(fruits.index('banana'))\n",
    "print(fruits.index('banana', 2)) # Find next banana starting a position 4\n",
    "print(fruits.index('banana', 3)) # Find next banana starting a position 4\n",
    "print(fruits.index('banana', 4)) # Find next banana starting a position 4\n",
    "\n",
    "print('--- reverse ---')\n",
    "print('before reverse()')\n",
    "print(fruits)\n",
    "print('after reverse()')\n",
    "fruits.reverse()\n",
    "print(fruits)\n",
    "\n",
    "print('--- after sort ---')\n",
    "fruits.sort()\n",
    "print(fruits)\n",
    "\n",
    "print('--- after pop ---')\n",
    "pop_item = fruits.pop()\n",
    "print(fruits)\n",
    "print('pop_item = ', pop_item)\n",
    "pass"
   ]
  },
  {
   "cell_type": "code",
   "execution_count": null,
   "metadata": {},
   "outputs": [],
   "source": []
  }
 ],
 "metadata": {
  "kernelspec": {
   "display_name": "Python 3",
   "language": "python",
   "name": "python3"
  },
  "language_info": {
   "codemirror_mode": {
    "name": "ipython",
    "version": 3
   },
   "file_extension": ".py",
   "mimetype": "text/x-python",
   "name": "python",
   "nbconvert_exporter": "python",
   "pygments_lexer": "ipython3",
   "version": "3.6.4"
  }
 },
 "nbformat": 4,
 "nbformat_minor": 2
}
