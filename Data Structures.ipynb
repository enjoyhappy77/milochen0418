{
 "cells": [
  {
   "cell_type": "code",
   "execution_count": 1,
   "metadata": {},
   "outputs": [],
   "source": [
    "# Data Structures (list, dict, tuples, sets, strings)"
   ]
  },
  {
   "cell_type": "code",
   "execution_count": 2,
   "metadata": {},
   "outputs": [
    {
     "name": "stdout",
     "output_type": "stream",
     "text": [
      "--- count ---\n",
      "2\n",
      "3\n",
      "0\n",
      "--- index ---\n",
      "3\n",
      "3\n",
      "3\n",
      "5\n",
      "--- reverse ---\n",
      "before reverse()\n",
      "['orange', 'apple', 'pear', 'banana', 'apple', 'banana', 'banana']\n",
      "after reverse()\n",
      "['banana', 'banana', 'apple', 'banana', 'pear', 'apple', 'orange']\n",
      "--- after sort ---\n",
      "['apple', 'apple', 'banana', 'banana', 'banana', 'orange', 'pear']\n",
      "--- after pop ---\n",
      "['apple', 'apple', 'banana', 'banana', 'banana', 'orange']\n",
      "pop_item =  pear\n"
     ]
    }
   ],
   "source": [
    "# More on Lists\n",
    "\"\"\"\n",
    " append(item): append item to the list\n",
    " insert(index, item): insert item into specific position\n",
    " extend(list): append the input list at the end of current list\n",
    " index(item): the first occurrence of the input item\n",
    " count(item): number of occurrence of the input item\n",
    " remove(item): remove the first occurrence of the input item\n",
    " reverse(): reverse the order of the list\n",
    " sort(): sort the list\n",
    " sort(comp_func): osrt using user defined comparison function\n",
    "\"\"\"\n",
    "\n",
    "fruits = ['orange','apple','pear','banana','apple','banana','banana']\n",
    "print('--- count ---')\n",
    "print(fruits.count('apple'))\n",
    "print(fruits.count('banana'))\n",
    "print(fruits.count('pieapple'))\n",
    "print('--- index ---')\n",
    "print(fruits.index('banana'))\n",
    "print(fruits.index('banana', 2)) # Find next banana starting a position 4\n",
    "print(fruits.index('banana', 3)) # Find next banana starting a position 4\n",
    "print(fruits.index('banana', 4)) # Find next banana starting a position 4\n",
    "\n",
    "print('--- reverse ---')\n",
    "print('before reverse()')\n",
    "print(fruits)\n",
    "print('after reverse()')\n",
    "fruits.reverse()\n",
    "print(fruits)\n",
    "\n",
    "print('--- after sort ---')\n",
    "fruits.sort()\n",
    "print(fruits)\n",
    "\n",
    "print('--- after pop ---')\n",
    "pop_item = fruits.pop()\n",
    "print(fruits)\n",
    "print('pop_item = ', pop_item)\n",
    "pass"
   ]
  },
  {
   "cell_type": "code",
   "execution_count": 3,
   "metadata": {},
   "outputs": [
    {
     "name": "stdout",
     "output_type": "stream",
     "text": [
      "[3, 4, 5, 6, 7]\n",
      "7\n",
      "[3, 4, 5, 6]\n",
      "6\n",
      "5\n",
      "[3, 4]\n"
     ]
    }
   ],
   "source": [
    "# Using List as Statck\n",
    "#  . Stack => First In First Out\n",
    "stack = [3, 4, 5]\n",
    "stack.append(6) # push 6\n",
    "stack.append(7) # push 7\n",
    "print(stack)\n",
    "print(stack.pop())\n",
    "print(stack)\n",
    "print(stack.pop())\n",
    "print(stack.pop())\n",
    "print(stack)"
   ]
  },
  {
   "cell_type": "code",
   "execution_count": 4,
   "metadata": {},
   "outputs": [
    {
     "name": "stdout",
     "output_type": "stream",
     "text": [
      "Eric\n",
      "John\n",
      "deque(['Mike', 'Teddy', 'George'])\n"
     ]
    }
   ],
   "source": [
    "# Using List as Queue\n",
    "# . Queue => First In First Out\n",
    "from collections import deque\n",
    "queue = deque(['Eric', 'John', 'Mike'])\n",
    "queue.append('Teddy') # Teddy arrives\n",
    "queue.append('George') # George arrives\n",
    "print(queue.popleft()) # The first to arrive leaveing now\n",
    "print(queue.popleft()) # The second to arrive leaveing now\n",
    "print(queue) # remaining queue in order of arrival\n",
    "\n",
    "\n"
   ]
  },
  {
   "cell_type": "code",
   "execution_count": 5,
   "metadata": {},
   "outputs": [],
   "source": [
    "# List comprehension\n"
   ]
  },
  {
   "cell_type": "code",
   "execution_count": 6,
   "metadata": {},
   "outputs": [],
   "source": [
    "# List comprehension provide a concise way to create lists, common applications are\n",
    "\"\"\"\n",
    ". To make new lists where each element is the result of some operations applied \n",
    "  to each member of another sequence or iterable\n",
    ". To create a subsequence of those elements that satisfy a certain condition\n",
    "\n",
    "\"\"\"\n",
    "pass"
   ]
  },
  {
   "cell_type": "code",
   "execution_count": 7,
   "metadata": {},
   "outputs": [
    {
     "name": "stdout",
     "output_type": "stream",
     "text": [
      "[0, 1, 4, 9, 16, 25, 36, 49, 64, 81]\n"
     ]
    }
   ],
   "source": [
    "# For example, to create a list of sequare:\n",
    "squares = []\n",
    "for x in range(10):\n",
    "    squares.append( x**2)\n",
    "print(squares)"
   ]
  },
  {
   "cell_type": "code",
   "execution_count": 8,
   "metadata": {},
   "outputs": [
    {
     "name": "stdout",
     "output_type": "stream",
     "text": [
      "[0, 1, 4, 9, 16, 25, 36, 49, 64, 81]\n"
     ]
    }
   ],
   "source": [
    "# With list comprehension, we can simply:\n",
    "squares = [x**2 for x in range(10)]\n",
    "print(squares)"
   ]
  },
  {
   "cell_type": "code",
   "execution_count": 9,
   "metadata": {},
   "outputs": [
    {
     "name": "stdout",
     "output_type": "stream",
     "text": [
      "[0, 1, 4, 9, 16, 25, 36, 49, 64, 81]\n",
      "[0, 1, 4, 9, 16, 25, 36, 49, 64, 81]\n",
      "[0, 1, 4, 9, 16, 25, 36, 49, 64, 81]\n"
     ]
    }
   ],
   "source": [
    "# The rule of list comprehension\n",
    "#  [mapping-expression for elemenet in source-list iffilter-expression]\n",
    "\n",
    "#  Some examples\n",
    "\n",
    "squares = []\n",
    "for x in range(10):\n",
    "    squares.append(x**2)\n",
    "print(squares)\n",
    "\n",
    "# Note that this creates (or overwrites) a variable named x that still exists after the loop complete\n",
    "squares = list(map(lambda x: x**2, range(10)))\n",
    "print(squares)\n",
    "\n",
    "# or , equivalently:\n",
    "squares = [x**2 for x in range(10)]\n",
    "print(squares)"
   ]
  },
  {
   "cell_type": "code",
   "execution_count": 10,
   "metadata": {},
   "outputs": [
    {
     "name": "stdout",
     "output_type": "stream",
     "text": [
      "[(1, 3), (1, 4), (2, 3), (2, 1), (2, 4), (3, 1), (3, 4)]\n",
      "[(1, 3), (1, 4), (2, 3), (2, 1), (2, 4), (3, 1), (3, 4)]\n"
     ]
    }
   ],
   "source": [
    "# The mapping-expression can be complicated as you want, can also be another list comprehension\n",
    "combs = [(x,y) for x in [1,2,3] for y in [3,1,4] if x != y]\n",
    "print(combs)\n",
    "\n",
    "# and it is equivalent to :\n",
    "combs = []\n",
    "for x in [1,2,3]:\n",
    "    for y in [3,1,4]:\n",
    "        if x != y:\n",
    "            combs.append((x, y))\n",
    "print(combs)"
   ]
  },
  {
   "cell_type": "code",
   "execution_count": 11,
   "metadata": {},
   "outputs": [
    {
     "name": "stdout",
     "output_type": "stream",
     "text": [
      "[-8, -4, 0, 4, 8]\n",
      "[0, 2, 4]\n",
      "[4, 2, 0, 2, 4]\n"
     ]
    }
   ],
   "source": [
    "# More examples for list comprehension PART-I\n",
    "vec = [-4, -2, 0, 2, 4]\n",
    "\n",
    "# create a new list with the values doubled\n",
    "print([x*2 for x in vec])\n",
    "\n",
    "# filter the list to exclude negative numbers\n",
    "print([x for x in vec if x >= 0])\n",
    "\n",
    "# apply a function to all the elements\n",
    "print([abs(x) for x in vec])\n"
   ]
  },
  {
   "cell_type": "code",
   "execution_count": 12,
   "metadata": {},
   "outputs": [
    {
     "name": "stdout",
     "output_type": "stream",
     "text": [
      "['banana', 'loganberry', 'passion fruit']\n",
      "[(0, 0), (1, 1), (2, 4), (3, 9), (4, 16), (5, 25)]\n",
      "[1, 2, 3, 4, 5, 6, 7, 8, 9]\n"
     ]
    }
   ],
   "source": [
    "# More examples for list comprehension PART-II\n",
    "# call a method on each leement\n",
    "freshfruit = ['  banana', '  loganberry ', 'passion fruit  ']\n",
    "print([weapon.strip() for weapon in freshfruit])\n",
    "\n",
    "# create a list of 2-tuples like (number, square)\n",
    "print( [(x,x**2) for x in range(6)] )\n",
    "# the tuple must be parenthesized , otherwise an error is raised\n",
    "\n",
    "# flatten a list using a listcomp with two 'for'\n",
    "vec = [[1,2,3], [4,5,6], [7,8,9]]\n",
    "print ( [num for elem in vec for num in elem] )\n",
    "\n"
   ]
  },
  {
   "cell_type": "code",
   "execution_count": 13,
   "metadata": {},
   "outputs": [
    {
     "name": "stdout",
     "output_type": "stream",
     "text": [
      "[[1, 2, 3, 4], [5, 6, 7, 8], [9, 10, 11, 12]]\n",
      "[[1, 5, 9], [2, 6, 10], [3, 7, 11], [4, 8, 12]]\n",
      "[(1, 5, 9), (2, 6, 10), (3, 7, 11), (4, 8, 12)]\n"
     ]
    }
   ],
   "source": [
    "# Nested List comprehensions \n",
    "matrix = [ [1,2,3,4], [5,6,7,8], [9,10,11,12] ]\n",
    "print(matrix)\n",
    "\n",
    "# The following list comprehension will transpose rows and columns:\n",
    "matrix_T = [[row[i] for row in matrix ] for i in range(4)]\n",
    "print(matrix_T)\n",
    "\n",
    "# zip() function would do a great job for this use case:\n",
    "print(list(zip(*matrix)))\n"
   ]
  },
  {
   "cell_type": "code",
   "execution_count": 14,
   "metadata": {},
   "outputs": [
    {
     "name": "stdout",
     "output_type": "stream",
     "text": [
      "[-1, 1, 66.25, 333, 333, 1234.5]\n",
      "[1, 66.25, 333, 333, 1234.5]\n",
      "====\n",
      "[1, 66.25, 1234.5]\n",
      "[]\n",
      "====\n"
     ]
    },
    {
     "ename": "NameError",
     "evalue": "name 'a' is not defined",
     "output_type": "error",
     "traceback": [
      "\u001b[1;31m---------------------------------------------------------------------------\u001b[0m",
      "\u001b[1;31mNameError\u001b[0m                                 Traceback (most recent call last)",
      "\u001b[1;32m<ipython-input-14-079884966e09>\u001b[0m in \u001b[0;36m<module>\u001b[1;34m()\u001b[0m\n\u001b[0;32m     12\u001b[0m \u001b[1;31m# del can also be used to delete entire variables:\u001b[0m\u001b[1;33m\u001b[0m\u001b[1;33m\u001b[0m\u001b[0m\n\u001b[0;32m     13\u001b[0m \u001b[1;32mdel\u001b[0m \u001b[0ma\u001b[0m\u001b[1;33m\u001b[0m\u001b[0m\n\u001b[1;32m---> 14\u001b[1;33m \u001b[0mprint\u001b[0m\u001b[1;33m(\u001b[0m\u001b[0ma\u001b[0m\u001b[1;33m)\u001b[0m\u001b[1;33m\u001b[0m\u001b[0m\n\u001b[0m",
      "\u001b[1;31mNameError\u001b[0m: name 'a' is not defined"
     ]
    }
   ],
   "source": [
    "# The del statement\n",
    "a = [-1, 1, 66.25, 333, 333, 1234.5]\n",
    "print(a)\n",
    "del a[0]\n",
    "print(a)\n",
    "print('====')\n",
    "del a[2:4]\n",
    "print(a)\n",
    "del a[:]\n",
    "print(a)\n",
    "print ( '====')\n",
    "# del can also be used to delete entire variables:\n",
    "del a\n",
    "print(a)"
   ]
  },
  {
   "cell_type": "code",
   "execution_count": null,
   "metadata": {},
   "outputs": [],
   "source": [
    "# Tuples and Sequences\n"
   ]
  },
  {
   "cell_type": "code",
   "execution_count": 20,
   "metadata": {},
   "outputs": [
    {
     "name": "stdout",
     "output_type": "stream",
     "text": [
      "12345\n",
      "(12345, 54321, 'hello!')\n",
      "((12345, 54321, 'hello!'), (1, 2, 3, 4, 5))\n"
     ]
    },
    {
     "ename": "TypeError",
     "evalue": "'tuple' object does not support item assignment",
     "output_type": "error",
     "traceback": [
      "\u001b[1;31m---------------------------------------------------------------------------\u001b[0m",
      "\u001b[1;31mTypeError\u001b[0m                                 Traceback (most recent call last)",
      "\u001b[1;32m<ipython-input-20-a7fc247ab723>\u001b[0m in \u001b[0;36m<module>\u001b[1;34m()\u001b[0m\n\u001b[0;32m     10\u001b[0m \u001b[1;33m\u001b[0m\u001b[0m\n\u001b[0;32m     11\u001b[0m \u001b[1;31m# Tuples are immutable:\u001b[0m\u001b[1;33m\u001b[0m\u001b[1;33m\u001b[0m\u001b[0m\n\u001b[1;32m---> 12\u001b[1;33m \u001b[0mt\u001b[0m\u001b[1;33m[\u001b[0m\u001b[1;36m0\u001b[0m\u001b[1;33m]\u001b[0m \u001b[1;33m=\u001b[0m \u001b[1;36m88888\u001b[0m\u001b[1;33m\u001b[0m\u001b[0m\n\u001b[0m\u001b[0;32m     13\u001b[0m \u001b[0mprint\u001b[0m\u001b[1;33m(\u001b[0m\u001b[0mt\u001b[0m\u001b[1;33m[\u001b[0m\u001b[1;36m0\u001b[0m\u001b[1;33m]\u001b[0m\u001b[1;33m)\u001b[0m\u001b[1;33m\u001b[0m\u001b[0m\n\u001b[0;32m     14\u001b[0m \u001b[0mprint\u001b[0m\u001b[1;33m(\u001b[0m\u001b[1;34m'aaa'\u001b[0m\u001b[1;33m)\u001b[0m\u001b[1;33m\u001b[0m\u001b[0m\n",
      "\u001b[1;31mTypeError\u001b[0m: 'tuple' object does not support item assignment"
     ]
    }
   ],
   "source": [
    "# . Atuple consists of a number of values separated by commas\n",
    "t = 12345, 54321, 'hello!'\n",
    "print(t[0])\n",
    "print(t)\n",
    "\n",
    "# Tuples may be nested:\n",
    "u = t, (1,2,3,4,5)\n",
    "print(u)\n",
    "\n",
    "# Tuples are immutable:\n",
    "t[0] = 88888\n",
    "print(t[0])\n",
    "\n"
   ]
  },
  {
   "cell_type": "code",
   "execution_count": 22,
   "metadata": {},
   "outputs": [
    {
     "name": "stdout",
     "output_type": "stream",
     "text": [
      "([1, 2, 3], [3, 2, 1])\n",
      "([9, 2, 3], [3, 2, 1])\n"
     ]
    }
   ],
   "source": [
    "# Tuples are immutable, but they can contain mutable objects:\n",
    "v = ([1,2,3], [3,2,1])\n",
    "print(v)\n",
    "v[0][0] = 9 \n",
    "print(v)"
   ]
  },
  {
   "cell_type": "code",
   "execution_count": 23,
   "metadata": {},
   "outputs": [
    {
     "name": "stdout",
     "output_type": "stream",
     "text": [
      "0\n",
      "1\n",
      "('hello',)\n"
     ]
    }
   ],
   "source": [
    "# A special problem is the construction of \n",
    "# tuples containing 0 or 1 items: the syntax has some extra quirks to accommodate these.\n",
    "\n",
    "empty = ()\n",
    "singleton = 'hello',   # <-- note trailing comma\n",
    "print(len(empty))\n",
    "print(len(singleton))\n",
    "\n",
    "print(singleton)\n",
    "\n"
   ]
  },
  {
   "cell_type": "code",
   "execution_count": null,
   "metadata": {},
   "outputs": [],
   "source": [
    "# Set"
   ]
  },
  {
   "cell_type": "code",
   "execution_count": null,
   "metadata": {},
   "outputs": [],
   "source": [
    "# . A set is an unordered collection with no duplicate elements\n",
    "# . To create an empty set you have to use set(), not {}\n"
   ]
  }
 ],
 "metadata": {
  "kernelspec": {
   "display_name": "Python 3",
   "language": "python",
   "name": "python3"
  },
  "language_info": {
   "codemirror_mode": {
    "name": "ipython",
    "version": 3
   },
   "file_extension": ".py",
   "mimetype": "text/x-python",
   "name": "python",
   "nbconvert_exporter": "python",
   "pygments_lexer": "ipython3",
   "version": "3.6.4"
  }
 },
 "nbformat": 4,
 "nbformat_minor": 2
}
