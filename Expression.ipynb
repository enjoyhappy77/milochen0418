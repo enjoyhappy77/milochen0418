{
 "cells": [
  {
   "cell_type": "code",
   "execution_count": 1,
   "metadata": {},
   "outputs": [],
   "source": [
    "# Expression"
   ]
  },
  {
   "cell_type": "code",
   "execution_count": 2,
   "metadata": {},
   "outputs": [],
   "source": [
    "# Relational Operators "
   ]
  },
  {
   "cell_type": "code",
   "execution_count": 3,
   "metadata": {},
   "outputs": [
    {
     "name": "stdout",
     "output_type": "stream",
     "text": [
      "True\n"
     ]
    }
   ],
   "source": [
    "# Comparisons\n",
    "# =====================================\n",
    "#  Operation    Meaning\n",
    "# =====================================\n",
    "#      <        strictly less than\n",
    "#      <=       less than or equal\n",
    "#      >        strictly greater than\n",
    "#      >=       greater than or equal \n",
    "#      ==       equal\n",
    "#      !=       not equal\n",
    "#      is       object identity\n",
    "#    is not     negated object identity\n",
    "print ( 3 < 9 )"
   ]
  },
  {
   "cell_type": "code",
   "execution_count": 4,
   "metadata": {},
   "outputs": [],
   "source": [
    "# Logical Operators"
   ]
  },
  {
   "cell_type": "code",
   "execution_count": 5,
   "metadata": {},
   "outputs": [
    {
     "name": "stdout",
     "output_type": "stream",
     "text": [
      "True\n"
     ]
    }
   ],
   "source": [
    "# Boolean Operations --> the result is still True or False\n",
    "# =======================================\n",
    "#  Operation     Result\n",
    "# =======================================\n",
    "#    x or y      if x is false , then y, else x \n",
    "#   x and y      if x is false, then x , else y\n",
    "#     not x      if x is false, then True, else False\n",
    "print ( 3>9 or 9> 3)"
   ]
  },
  {
   "cell_type": "code",
   "execution_count": 6,
   "metadata": {},
   "outputs": [],
   "source": [
    "# Arithmetic Operators"
   ]
  },
  {
   "cell_type": "code",
   "execution_count": 7,
   "metadata": {},
   "outputs": [
    {
     "name": "stdout",
     "output_type": "stream",
     "text": [
      "81\n",
      "(3+2j)\n"
     ]
    }
   ],
   "source": [
    "# ==========================================================\n",
    "#  Operation             Result\n",
    "# ==========================================================\n",
    "#   x + y                sum of x and y\n",
    "#   x - y                difference of x and y \n",
    "#   x * y                product of x and y\n",
    "#   x / y                quotient of x and y\n",
    "#   x // y               floored quotient of x and y \n",
    "#   x % y                remainder of x / y \n",
    "#    -x                  x negated\n",
    "#    +y                  y unchanged\n",
    "#   abs(x)               absolute value or magnitude of x \n",
    "#   int(x)               x converted to integer\n",
    "#  float(x)              x converted to floating point\n",
    "# complex(re, im)        a complex number with real part re, imaginary\n",
    "#                        part im. im defaults to zero.\n",
    "#  c.conjugate()         conjugate of the complex number c \n",
    "#  divmod(x, y)          the pair (x // y, x % y )\n",
    "#    pow(x, y)           x to the power y \n",
    "#     x ** y             x to the power y\n",
    "print( 9 ** 2 )\n",
    "print(complex(3,2))"
   ]
  },
  {
   "cell_type": "code",
   "execution_count": 8,
   "metadata": {},
   "outputs": [
    {
     "name": "stdout",
     "output_type": "stream",
     "text": [
      "3.0\n",
      "2.5\n",
      "2.52\n",
      "2.525\n",
      "2\n",
      "3\n",
      "2\n"
     ]
    }
   ],
   "source": [
    "# Import math library\n",
    "# . https://docs.python.org/3.5/libray/math.html\n",
    "import math\n",
    "print ( round(2.52452, 0 ))\n",
    "print ( round(2.52452, 1 ))\n",
    "print ( round(2.52452, 2 ))\n",
    "print ( round(2.52452, 3 ))\n",
    "print(math.floor(2.52452))\n",
    "print( math.ceil(2.52452))\n",
    "print(math.trunc(2.52452))\n",
    "\n"
   ]
  },
  {
   "cell_type": "code",
   "execution_count": 9,
   "metadata": {},
   "outputs": [
    {
     "name": "stdout",
     "output_type": "stream",
     "text": [
      "21\n",
      "16\n",
      "5\n",
      "16\n",
      "2\n"
     ]
    }
   ],
   "source": [
    "# Bitwise Operations on Integer Types\n",
    "# ===============================\n",
    "#  Operation     Result\n",
    "#   x | y        bitwise or of x and y\n",
    "#   x ^ y        bitwise exclusive or of x and y \n",
    "#   x & y        bitwise and of x and y\n",
    "#   x << n       x shifted left by n bits\n",
    "#   x >> n       x shifted right by n bits\n",
    "#     ~x       the bits of x inverted\n",
    "print(21 | 5)\n",
    "print(21 ^ 5)\n",
    "print(21 & 5)\n",
    "print(4 << 2)\n",
    "print(4 >> 1)"
   ]
  },
  {
   "cell_type": "code",
   "execution_count": 10,
   "metadata": {},
   "outputs": [
    {
     "name": "stdout",
     "output_type": "stream",
     "text": [
      "b'\\x04\\x00'\n",
      "b'\\x00\\x00\\x00\\x00\\x00\\x00\\x00\\x00\\x04\\x00'\n",
      "b'\\xff\\xff\\xff\\xff\\xff\\xff\\xff\\xff\\xfc\\x00'\n",
      "b'\\xe8\\x03'\n",
      "16\n",
      "4096\n",
      "-1024\n",
      "64512\n",
      "16711680\n"
     ]
    }
   ],
   "source": [
    "# Additional Methods on Integer Types\n",
    "# . int.to_bytes(length, byteorder, *, signed = False)\n",
    "#   Return an array of bytes representing an integer\n",
    "print( (1024).to_bytes( 2, byteorder='big') ) \n",
    "print( (1024).to_bytes(10, byteorder='big') )\n",
    "print( (-1024).to_bytes(10, byteorder='big', signed=True) )\n",
    "x = 1000\n",
    "print(x.to_bytes((x.bit_length() + 7 ) //8, byteorder='little'))\n",
    "\n",
    "# . int.from_bytes(bytes, byteorder, *, signed=False)\n",
    "#   Return the integer represented by the given array of bytes\n",
    "print(int.from_bytes(b'\\x00\\x10', byteorder='big'))\n",
    "print(int.from_bytes(b'\\x00\\x10', byteorder='little'))\n",
    "print(int.from_bytes(b'\\xfc\\x00', byteorder='big', signed=True))\n",
    "print(int.from_bytes(b'\\xfc\\x00', byteorder='big', signed=False))\n",
    "print(int.from_bytes([255, 0, 0], byteorder='big'))"
   ]
  },
  {
   "cell_type": "code",
   "execution_count": null,
   "metadata": {},
   "outputs": [],
   "source": []
  }
 ],
 "metadata": {
  "kernelspec": {
   "display_name": "Python 3",
   "language": "python",
   "name": "python3"
  },
  "language_info": {
   "codemirror_mode": {
    "name": "ipython",
    "version": 3
   },
   "file_extension": ".py",
   "mimetype": "text/x-python",
   "name": "python",
   "nbconvert_exporter": "python",
   "pygments_lexer": "ipython3",
   "version": "3.6.4"
  }
 },
 "nbformat": 4,
 "nbformat_minor": 2
}
