{
 "cells": [
  {
   "cell_type": "code",
   "execution_count": 1,
   "metadata": {},
   "outputs": [],
   "source": [
    "# Expression"
   ]
  },
  {
   "cell_type": "code",
   "execution_count": 2,
   "metadata": {},
   "outputs": [],
   "source": [
    "# Relational Operators "
   ]
  },
  {
   "cell_type": "code",
   "execution_count": 3,
   "metadata": {},
   "outputs": [],
   "source": [
    "# Comparisons\n",
    "# =====================================\n",
    "#  Operation    Meaning\n",
    "# =====================================\n",
    "#      <        strictly less than\n",
    "#      <=       less than or equal\n",
    "#      >        strictly greater than\n",
    "#      >=       greater than or equal \n",
    "#      ==       equal\n",
    "#      !=       not equal\n",
    "#      is       object identity\n",
    "#    is not     negated object identity\n"
   ]
  },
  {
   "cell_type": "code",
   "execution_count": 4,
   "metadata": {},
   "outputs": [],
   "source": [
    "# Logical Operators"
   ]
  },
  {
   "cell_type": "code",
   "execution_count": 5,
   "metadata": {},
   "outputs": [],
   "source": [
    "# Boolean Operations --> the result is still True or False\n",
    "# =======================================\n",
    "#  Operation     Result\n",
    "# =======================================\n",
    "#    x or y      if x is false , then y, else x \n",
    "#   x and y      if x is false, then x , else y\n",
    "#     not x      if x is false, then True, else False\n"
   ]
  },
  {
   "cell_type": "code",
   "execution_count": 6,
   "metadata": {},
   "outputs": [],
   "source": [
    "# Arithmetic Operators"
   ]
  },
  {
   "cell_type": "code",
   "execution_count": 7,
   "metadata": {},
   "outputs": [],
   "source": [
    "# ==========================================================\n",
    "#  Operation             Result\n",
    "# ==========================================================\n",
    "#   x + y                sum of x and y\n",
    "#   x - y                difference of x and y \n",
    "#   x * y                product of x and y\n",
    "#   x / y                quotient of x and y\n",
    "#   x // y               floored quotient of x and y \n",
    "#   x % y                remainder of x / y \n",
    "#    -x                  x negated\n",
    "#    +y                  y unchanged\n",
    "#   abs(x)               absolute value or magnitude of x \n",
    "#   int(x)               x converted to integer\n",
    "#  float(x)              x converted to floating point\n",
    "# complex(re, im)        a complex number with real part re, imaginary\n",
    "#                        part im. im defaults to zero.\n",
    "#  c.conjugate()         conjugate of the complex number c \n",
    "#  divmod(x, y)          the pair (x // y, x % y )\n",
    "#    pow(x, y)           x to the power y \n",
    "#     x ** y             x to the power y\n"
   ]
  },
  {
   "cell_type": "code",
   "execution_count": null,
   "metadata": {},
   "outputs": [],
   "source": []
  }
 ],
 "metadata": {
  "kernelspec": {
   "display_name": "Python 3",
   "language": "python",
   "name": "python3"
  },
  "language_info": {
   "codemirror_mode": {
    "name": "ipython",
    "version": 3
   },
   "file_extension": ".py",
   "mimetype": "text/x-python",
   "name": "python",
   "nbconvert_exporter": "python",
   "pygments_lexer": "ipython3",
   "version": "3.6.4"
  }
 },
 "nbformat": 4,
 "nbformat_minor": 2
}
