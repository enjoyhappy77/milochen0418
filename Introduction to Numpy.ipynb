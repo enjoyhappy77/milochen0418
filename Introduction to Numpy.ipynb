{
 "cells": [
  {
   "cell_type": "code",
   "execution_count": 1,
   "metadata": {},
   "outputs": [],
   "source": [
    "# Numpy\n",
    "# . A library for Python, adding support for large , multi-dimensional arrays and matrices.\n",
    "# . Provides a large collection of high-level mathematical functions to operates on arrays.\n",
    "# . Numpy gives the functionality comparable to matlab since they are both interpreted and \n",
    "#   allow user  to write fast programs for operations on arrays or matrices."
   ]
  },
  {
   "cell_type": "code",
   "execution_count": 2,
   "metadata": {},
   "outputs": [],
   "source": [
    "# Numpy.ndarray\n",
    "# . The main object of Numpy\n",
    "# . Homogeneous multi-dimensional array\n",
    "# . Index by a tuple of positive indexes or array like index\n",
    "# . Attribute of numpy.ndarray\n",
    "#   . ndim : the number of axes (dimension) of the ndarray\n",
    "#   . shape: The dimensions of the array, returns a tuple describing each dimension\n",
    "#   . size : total elements in the ndarray\n",
    "#   . dtype: the data type of the elements in the ndarray. As ndarray is a homogeneous array, \n",
    "#            all elements in the ndarray should be the same type\n",
    "#   . itemsize: the size in byte of each element in the ndarray."
   ]
  },
  {
   "cell_type": "code",
   "execution_count": 3,
   "metadata": {},
   "outputs": [
    {
     "name": "stdout",
     "output_type": "stream",
     "text": [
      "[[1 2 3]\n",
      " [4 5 6]]\n",
      "2\n",
      "(2, 3)\n",
      "6\n",
      "int32\n",
      "4\n"
     ]
    }
   ],
   "source": [
    "import numpy as np\n",
    "a = np.array([[1,2,3], [4,5,6]])\n",
    "print(a)\n",
    "print(a.ndim)\n",
    "print(a.shape)\n",
    "print(a.size)\n",
    "print(a.dtype)\n",
    "print(a.itemsize)"
   ]
  },
  {
   "cell_type": "code",
   "execution_count": 4,
   "metadata": {},
   "outputs": [],
   "source": [
    "# Array Creation "
   ]
  },
  {
   "cell_type": "code",
   "execution_count": 5,
   "metadata": {},
   "outputs": [
    {
     "name": "stdout",
     "output_type": "stream",
     "text": [
      "[2 3 4]\n",
      "int32\n",
      "[1.2 3.5 4.3]\n",
      "float64\n"
     ]
    }
   ],
   "source": [
    "# . Create ndarray from python data structure\n",
    "# . Use np.array()\n",
    "\n",
    "import numpy as np\n",
    "a = np.array([2,3,4])\n",
    "print(a)\n",
    "print(a.dtype)\n",
    "\n",
    "b = np.array([1.2, 3.5, 4.3])\n",
    "print(b)\n",
    "print(b.dtype)"
   ]
  },
  {
   "cell_type": "code",
   "execution_count": 6,
   "metadata": {},
   "outputs": [
    {
     "name": "stdout",
     "output_type": "stream",
     "text": [
      "[1 2 3]\n",
      "int32\n"
     ]
    },
    {
     "ename": "ValueError",
     "evalue": "only 2 non-keyword arguments accepted",
     "output_type": "error",
     "traceback": [
      "\u001b[1;31m---------------------------------------------------------------------------\u001b[0m",
      "\u001b[1;31mValueError\u001b[0m                                Traceback (most recent call last)",
      "\u001b[1;32m<ipython-input-6-6944152aed1a>\u001b[0m in \u001b[0;36m<module>\u001b[1;34m()\u001b[0m\n\u001b[0;32m      5\u001b[0m \u001b[1;33m\u001b[0m\u001b[0m\n\u001b[0;32m      6\u001b[0m \u001b[1;31m# . A frequent error\u001b[0m\u001b[1;33m\u001b[0m\u001b[1;33m\u001b[0m\u001b[0m\n\u001b[1;32m----> 7\u001b[1;33m \u001b[0ma\u001b[0m \u001b[1;33m=\u001b[0m \u001b[0mnp\u001b[0m\u001b[1;33m.\u001b[0m\u001b[0marray\u001b[0m\u001b[1;33m(\u001b[0m\u001b[1;36m1\u001b[0m\u001b[1;33m,\u001b[0m\u001b[1;36m2\u001b[0m\u001b[1;33m,\u001b[0m\u001b[1;36m3\u001b[0m\u001b[1;33m,\u001b[0m\u001b[1;36m4\u001b[0m\u001b[1;33m)\u001b[0m\u001b[1;33m\u001b[0m\u001b[0m\n\u001b[0m",
      "\u001b[1;31mValueError\u001b[0m: only 2 non-keyword arguments accepted"
     ]
    }
   ],
   "source": [
    "# . You can also use tuple\n",
    "a = np.array((1,2,3))\n",
    "print(a)\n",
    "print(a.dtype)\n",
    "\n",
    "# . A frequent error\n",
    "a = np.array(1,2,3,4)\n"
   ]
  },
  {
   "cell_type": "code",
   "execution_count": 7,
   "metadata": {},
   "outputs": [
    {
     "name": "stdout",
     "output_type": "stream",
     "text": [
      "(2, 3)\n",
      "int32\n",
      "[[1 2 3]\n",
      " [4 5 6]]\n",
      "-----\n",
      "(2, 2, 3)\n",
      "int32\n",
      "[[[ 1  2  3]\n",
      "  [ 4  5  6]]\n",
      "\n",
      " [[ 7  8  9]\n",
      "  [10 11 12]]]\n"
     ]
    }
   ],
   "source": [
    "# . numpy.array() transforms sequences of sequences into two-dimensional arrays, \n",
    "#   sequences of sequences of sequences into three-dimensional arrays, and so on.\n",
    "\n",
    "a = np.array([[1,2,3], [4,5,6]])\n",
    "print(a.shape)\n",
    "print(a.dtype)\n",
    "print(a)\n",
    "print('-----')\n",
    "\n",
    "a = np.array([  [[1,2,3],[4,5,6]],  [[7,8,9],[10,11,12]] ])\n",
    "print(a.shape)\n",
    "print(a.dtype)\n",
    "print(a)\n"
   ]
  },
  {
   "cell_type": "code",
   "execution_count": 8,
   "metadata": {},
   "outputs": [
    {
     "name": "stdout",
     "output_type": "stream",
     "text": [
      "(2, 3)\n",
      "int32\n",
      "[[1 2 3]\n",
      " [4 5 6]]\n",
      "--------------\n",
      "(2, 2, 3)\n",
      "int32\n",
      "[[[ 1  2  3]\n",
      "  [ 4  5  6]]\n",
      "\n",
      " [[ 7  8  9]\n",
      "  [10 11 12]]]\n"
     ]
    }
   ],
   "source": [
    "# . You can even mix lists and tuples\n",
    "a = np.array( [(1,2,3), [4,5,6]] )\n",
    "print(a.shape)\n",
    "print(a.dtype)\n",
    "print(a)\n",
    "print('--------------')\n",
    "a = np.array((  [ (1,2,3),[4,5,6] ], [[7,8,9],(10,11,12)]   ))\n",
    "print(a.shape)\n",
    "print(a.dtype)\n",
    "print(a)\n"
   ]
  },
  {
   "cell_type": "code",
   "execution_count": 9,
   "metadata": {},
   "outputs": [
    {
     "name": "stdout",
     "output_type": "stream",
     "text": [
      "[[1.+0.j 2.+0.j]\n",
      " [3.+0.j 4.+0.j]]\n"
     ]
    }
   ],
   "source": [
    "# . The tye of the array can also be explicitly specified at runtime\n",
    "c = np.array( [[1,2],[3,4]], dtype = complex)\n",
    "print(c)"
   ]
  },
  {
   "cell_type": "code",
   "execution_count": 10,
   "metadata": {},
   "outputs": [
    {
     "name": "stdout",
     "output_type": "stream",
     "text": [
      "[[0. 0. 0.]\n",
      " [0. 0. 0.]]\n"
     ]
    },
    {
     "ename": "TypeError",
     "evalue": "data type not understood",
     "output_type": "error",
     "traceback": [
      "\u001b[1;31m---------------------------------------------------------------------------\u001b[0m",
      "\u001b[1;31mTypeError\u001b[0m                                 Traceback (most recent call last)",
      "\u001b[1;32m<ipython-input-10-489810736af9>\u001b[0m in \u001b[0;36m<module>\u001b[1;34m()\u001b[0m\n\u001b[0;32m      5\u001b[0m \u001b[0mprint\u001b[0m\u001b[1;33m(\u001b[0m\u001b[0mz\u001b[0m\u001b[1;33m)\u001b[0m\u001b[1;33m\u001b[0m\u001b[0m\n\u001b[0;32m      6\u001b[0m \u001b[1;33m\u001b[0m\u001b[0m\n\u001b[1;32m----> 7\u001b[1;33m \u001b[0mz\u001b[0m \u001b[1;33m=\u001b[0m \u001b[0mnp\u001b[0m\u001b[1;33m.\u001b[0m\u001b[0mzeros\u001b[0m\u001b[1;33m(\u001b[0m\u001b[1;36m2\u001b[0m\u001b[1;33m,\u001b[0m\u001b[1;36m3\u001b[0m\u001b[1;33m)\u001b[0m\u001b[1;33m\u001b[0m\u001b[0m\n\u001b[0m\u001b[0;32m      8\u001b[0m \u001b[0mprint\u001b[0m\u001b[1;33m(\u001b[0m\u001b[0mz\u001b[0m\u001b[1;33m)\u001b[0m\u001b[1;33m\u001b[0m\u001b[0m\n",
      "\u001b[1;31mTypeError\u001b[0m: data type not understood"
     ]
    }
   ],
   "source": [
    "# . Also, there are some  useful functions to create array\n",
    "# . numpy.zeros()\n",
    "\n",
    "z = np.zeros((2,3))\n",
    "print(z)\n",
    "\n",
    "z = np.zeros(2,3)\n",
    "print(z)"
   ]
  },
  {
   "cell_type": "code",
   "execution_count": 11,
   "metadata": {},
   "outputs": [
    {
     "name": "stdout",
     "output_type": "stream",
     "text": [
      "[[1. 1. 1.]\n",
      " [1. 1. 1.]]\n",
      "[[1. 1. 1.]\n",
      " [1. 1. 1.]]\n",
      "[[0. 0. 0.]\n",
      " [0. 0. 0.]]\n",
      "[[0. 0. 0.]\n",
      " [0. 0. 0.]]\n"
     ]
    }
   ],
   "source": [
    "# . numpy.ones()\n",
    "# . nmpy.empty()\n",
    "print(np.ones([2,3]))\n",
    "print(np.empty([2,3]))\n",
    "print(np.zeros([2,3]))\n",
    "print(np.empty([2,3]))\n",
    "\n",
    "\n",
    "\n"
   ]
  },
  {
   "cell_type": "code",
   "execution_count": 12,
   "metadata": {},
   "outputs": [
    {
     "name": "stdout",
     "output_type": "stream",
     "text": [
      "[10 15 20 25]\n",
      "[0.  0.3 0.6 0.9 1.2 1.5 1.8]\n",
      "[10. 15. 20. 25.]\n"
     ]
    }
   ],
   "source": [
    "# . numpy.arrang( [start,] stop, [step,] dtype=None)\n",
    "#   . Works like the range() function in python2, returns a ndarray\n",
    "#   . Accept float number as input\n",
    "print( np.arange(10,30,5) )\n",
    "\n",
    "print( np.arange(0, 2, 0.3))\n",
    "\n",
    "print( np.arange(10, 30, 5, dtype = float))\n"
   ]
  },
  {
   "cell_type": "code",
   "execution_count": 13,
   "metadata": {},
   "outputs": [
    {
     "name": "stdout",
     "output_type": "stream",
     "text": [
      "[ 0  1  2  3  4  5  6  7  8  9 10]\n",
      "[0.         0.22222222 0.44444444 0.66666667 0.88888889 1.11111111\n",
      " 1.33333333 1.55555556 1.77777778 2.        ]\n"
     ]
    }
   ],
   "source": [
    "# . Generally, we can not predict the number of output when using floating \n",
    "#   point as the input of arange() due to the finite percision\n",
    "# . numpy.linspace(start, end, num, ...)\n",
    "print( np.linspace(0, 10, 11, dtype=int) )\n",
    "print( np.linspace(0,2,10) )"
   ]
  },
  {
   "cell_type": "code",
   "execution_count": 14,
   "metadata": {},
   "outputs": [
    {
     "name": "stdout",
     "output_type": "stream",
     "text": [
      "[  10.  100. 1000.]\n",
      "[2. 4. 8.]\n",
      "[2.         2.82842712 4.         5.65685425 8.        ]\n",
      "[2 2 4 5 8]\n"
     ]
    }
   ],
   "source": [
    "# . numpy.logspace( start, end, num, base = 10)\n",
    "#   . Does the same thing as linspaceon log scale\n",
    "print( np.logspace(1,3,3) )\n",
    "print( np.logspace(1,3,3, base = 2) )\n",
    "print( np.logspace(1,3,5, base = 2) )\n",
    "print( np.logspace(1,3,5, base = 2, dtype = int) )"
   ]
  },
  {
   "cell_type": "code",
   "execution_count": 15,
   "metadata": {},
   "outputs": [
    {
     "name": "stdout",
     "output_type": "stream",
     "text": [
      "------ x \n",
      "(2,)\n",
      "int32\n",
      "[-1  0]\n",
      "------ y \n",
      "(3,)\n",
      "float64\n",
      "[0. 1. 2.]\n",
      "------ meshgrid(x,y)\n",
      "<class 'list'>\n",
      "[array([[-1,  0],\n",
      "       [-1,  0],\n",
      "       [-1,  0]]), array([[0., 0.],\n",
      "       [1., 1.],\n",
      "       [2., 2.]])]\n",
      "------ each item in list of meshgrid(x,y)\n",
      "<class 'numpy.ndarray'>\n",
      "(3, 2)\n",
      "int32\n",
      "[[-1  0]\n",
      " [-1  0]\n",
      " [-1  0]]\n",
      "<class 'numpy.ndarray'>\n",
      "(3, 2)\n",
      "float64\n",
      "[[0. 0.]\n",
      " [1. 1.]\n",
      " [2. 2.]]\n"
     ]
    }
   ],
   "source": [
    "# . numpy.meshgrid()\n",
    "# . Make N-D coordinate arrays for vectorized evaluations of N-D \n",
    "#   scalar/vector fields over N-D grids, given one-dimensional coordinate arrays\n",
    "print ('------ x ')\n",
    "x = np.arange(-1,1,1)\n",
    "print(x.shape)\n",
    "print(x.dtype)\n",
    "print(x)\n",
    "print ('------ y ')\n",
    "y = np.linspace(0, 2, 3)\n",
    "print(y.shape)\n",
    "print(y.dtype)\n",
    "print(y)\n",
    "print ('------ meshgrid(x,y)')\n",
    "grid = np.meshgrid(x,y)\n",
    "print(type(grid)) # grid is a list\n",
    "print(grid )\n",
    "\n",
    "print ('------ each item in list of meshgrid(x,y)')\n",
    "for item in grid:\n",
    "    print(type(item))    \n",
    "    print(item.shape)\n",
    "    print(item.dtype)\n",
    "    print(item)\n",
    "\n",
    "\n"
   ]
  },
  {
   "cell_type": "code",
   "execution_count": 16,
   "metadata": {},
   "outputs": [
    {
     "name": "stdout",
     "output_type": "stream",
     "text": [
      "(2, 2, 2)\n",
      "int32\n",
      "[[[ 1  1]\n",
      "  [ 2  2]]\n",
      "\n",
      " [[-3 -2]\n",
      "  [-3 -2]]]\n"
     ]
    }
   ],
   "source": [
    "# . numpy.mgrid\n",
    "#  . Work like meshgrid(), but not a function. Access via [] operator\n",
    "\n",
    "mg = np.mgrid[1:3, -3:-1]\n",
    "print(mg.shape)\n",
    "print(mg.dtype)\n",
    "print(mg)\n",
    "\n",
    "\n"
   ]
  },
  {
   "cell_type": "code",
   "execution_count": 17,
   "metadata": {},
   "outputs": [
    {
     "name": "stdout",
     "output_type": "stream",
     "text": [
      "<class 'list'>\n",
      "2\n",
      "[array([[1],\n",
      "       [2]]), array([[-3, -2]])]\n",
      "(2, 1)\n",
      "(1, 2)\n"
     ]
    }
   ],
   "source": [
    "# . numpy.ogrid\n",
    "#   . Same as mgrid, except that the return value is flattened\n",
    "og = np.ogrid[1:3, -3:-1]\n",
    "print(type(og))\n",
    "print(len(og))\n",
    "print(og)\n",
    "for i in og:\n",
    "    print(i.shape)"
   ]
  },
  {
   "cell_type": "code",
   "execution_count": 18,
   "metadata": {},
   "outputs": [
    {
     "name": "stdout",
     "output_type": "stream",
     "text": [
      "[[0.10174762 0.9729758 ]\n",
      " [0.08762427 0.34139556]\n",
      " [0.70166088 0.20630486]]\n"
     ]
    }
   ],
   "source": [
    "# . numpy.random.rand()\n",
    "#   . Create an array with given shape and fill with samples \n",
    "#     from uniform distribution over [0,1)\n",
    "print ( np.random.rand(3, 2) )\n",
    "\n",
    "# . numpy.random.randn()\n",
    "#   . Same as rand() except the distribution change to standard normal distribution\n",
    "#   . For random sample from N(u,lo^2), use lo x np.random.rand()+u\n",
    "\n"
   ]
  },
  {
   "cell_type": "code",
   "execution_count": 19,
   "metadata": {},
   "outputs": [
    {
     "name": "stdout",
     "output_type": "stream",
     "text": [
      "[[0. 1. 2. 3.]\n",
      " [1. 2. 3. 4.]\n",
      " [2. 3. 4. 5.]\n",
      " [3. 4. 5. 6.]]\n",
      "[[0. 0. 0. 0.]\n",
      " [1. 1. 1. 1.]\n",
      " [2. 2. 2. 2.]\n",
      " [3. 3. 3. 3.]]\n"
     ]
    }
   ],
   "source": [
    "# . numpy.fromfunction()\n",
    "#   . Pass the coordinate of the point into the function and put the return value to the coordinate\n",
    "def add(a,b):\n",
    "    return a+b\n",
    "print( np.fromfunction(add, (4,4)) )\n",
    "\n",
    "print( np.fromfunction(lambda x,y:x, (4,4))  )"
   ]
  },
  {
   "cell_type": "code",
   "execution_count": 20,
   "metadata": {},
   "outputs": [],
   "source": [
    "# Array Indexing"
   ]
  },
  {
   "cell_type": "code",
   "execution_count": 21,
   "metadata": {},
   "outputs": [
    {
     "name": "stdout",
     "output_type": "stream",
     "text": [
      "2\n",
      "8\n"
     ]
    }
   ],
   "source": [
    "# . Exactly like standard python sequence\n",
    "x = np.arange(10)\n",
    "print(x[2])\n",
    "print(x[-2])"
   ]
  },
  {
   "cell_type": "code",
   "execution_count": 22,
   "metadata": {},
   "outputs": [
    {
     "name": "stdout",
     "output_type": "stream",
     "text": [
      "8\n",
      "9\n",
      "6\n"
     ]
    }
   ],
   "source": [
    "# . Also support multi-dimentional indexing\n",
    "x.shape = (2,5)\n",
    "print(x[1,3])\n",
    "print(x[1,-1])\n",
    "print(x[(1,1)])\n"
   ]
  },
  {
   "cell_type": "code",
   "execution_count": 24,
   "metadata": {},
   "outputs": [
    {
     "name": "stdout",
     "output_type": "stream",
     "text": [
      "[[0 1 2 3 4]\n",
      " [5 6 7 8 9]]\n",
      "[0 1 2 3 4]\n"
     ]
    }
   ],
   "source": [
    "#. If the index of multi-dimensional array is fewer than the dimension, then you gets the sub-dimension array\n",
    "print(x)\n",
    "print(x[0])\n",
    "\n",
    "# Therefore, you can also access single element with"
   ]
  },
  {
   "cell_type": "code",
   "execution_count": null,
   "metadata": {},
   "outputs": [],
   "source": []
  }
 ],
 "metadata": {
  "kernelspec": {
   "display_name": "Python 3",
   "language": "python",
   "name": "python3"
  },
  "language_info": {
   "codemirror_mode": {
    "name": "ipython",
    "version": 3
   },
   "file_extension": ".py",
   "mimetype": "text/x-python",
   "name": "python",
   "nbconvert_exporter": "python",
   "pygments_lexer": "ipython3",
   "version": "3.6.4"
  }
 },
 "nbformat": 4,
 "nbformat_minor": 2
}
