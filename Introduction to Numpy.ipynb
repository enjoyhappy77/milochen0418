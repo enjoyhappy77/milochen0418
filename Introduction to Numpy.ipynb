{
 "cells": [
  {
   "cell_type": "code",
   "execution_count": 1,
   "metadata": {},
   "outputs": [],
   "source": [
    "# Numpy\n",
    "# . A library for Python, adding support for large , multi-dimensional arrays and matrices.\n",
    "# . Provides a large collection of high-level mathematical functions to operates on arrays.\n",
    "# . Numpy gives the functionality comparable to matlab since they are both interpreted and \n",
    "#   allow user  to write fast programs for operations on arrays or matrices."
   ]
  },
  {
   "cell_type": "code",
   "execution_count": 2,
   "metadata": {},
   "outputs": [],
   "source": [
    "# Numpy.ndarray\n",
    "# . The main object of Numpy\n",
    "# . Homogeneous multi-dimensional array\n",
    "# . Index by a tuple of positive indexes or array like index\n",
    "# . Attribute of numpy.ndarray\n",
    "#   . ndim : the number of axes (dimension) of the ndarray\n",
    "#   . shape: The dimensions of the array, returns a tuple describing each dimension\n",
    "#   . size : total elements in the ndarray\n",
    "#   . dtype: the data type of the elements in the ndarray. As ndarray is a homogeneous array, \n",
    "#            all elements in the ndarray should be the same type\n",
    "#   . itemsize: the size in byte of each element in the ndarray."
   ]
  },
  {
   "cell_type": "code",
   "execution_count": 3,
   "metadata": {},
   "outputs": [
    {
     "name": "stdout",
     "output_type": "stream",
     "text": [
      "[[1 2 3]\n",
      " [4 5 6]]\n",
      "2\n",
      "(2, 3)\n",
      "6\n",
      "int32\n",
      "4\n"
     ]
    }
   ],
   "source": [
    "import numpy as np\n",
    "a = np.array([[1,2,3], [4,5,6]])\n",
    "print(a)\n",
    "print(a.ndim)\n",
    "print(a.shape)\n",
    "print(a.size)\n",
    "print(a.dtype)\n",
    "print(a.itemsize)"
   ]
  },
  {
   "cell_type": "code",
   "execution_count": null,
   "metadata": {},
   "outputs": [],
   "source": []
  }
 ],
 "metadata": {
  "kernelspec": {
   "display_name": "Python 3",
   "language": "python",
   "name": "python3"
  },
  "language_info": {
   "codemirror_mode": {
    "name": "ipython",
    "version": 3
   },
   "file_extension": ".py",
   "mimetype": "text/x-python",
   "name": "python",
   "nbconvert_exporter": "python",
   "pygments_lexer": "ipython3",
   "version": "3.6.4"
  }
 },
 "nbformat": 4,
 "nbformat_minor": 2
}
