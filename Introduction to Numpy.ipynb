{
 "cells": [
  {
   "cell_type": "code",
   "execution_count": 1,
   "metadata": {},
   "outputs": [],
   "source": [
    "# Numpy\n",
    "# . A library for Python, adding support for large , multi-dimensional arrays and matrices.\n",
    "# . Provides a large collection of high-level mathematical functions to operates on arrays.\n",
    "# . Numpy gives the functionality comparable to matlab since they are both interpreted and \n",
    "#   allow user  to write fast programs for operations on arrays or matrices."
   ]
  },
  {
   "cell_type": "code",
   "execution_count": 2,
   "metadata": {},
   "outputs": [],
   "source": [
    "# Numpy.ndarray\n",
    "# . The main object of Numpy\n",
    "# . Homogeneous multi-dimensional array\n",
    "# . Index by a tuple of positive indexes or array like index\n",
    "# . Attribute of numpy.ndarray\n",
    "#   . ndim : the number of axes (dimension) of the ndarray\n",
    "#   . shape: The dimensions of the array, returns a tuple describing each dimension\n",
    "#   . size : total elements in the ndarray\n",
    "#   . dtype: the data type of the elements in the ndarray. As ndarray is a homogeneous array, \n",
    "#            all elements in the ndarray should be the same type\n",
    "#   . itemsize: the size in byte of each element in the ndarray."
   ]
  },
  {
   "cell_type": "code",
   "execution_count": 3,
   "metadata": {},
   "outputs": [
    {
     "name": "stdout",
     "output_type": "stream",
     "text": [
      "[[1 2 3]\n",
      " [4 5 6]]\n",
      "2\n",
      "(2, 3)\n",
      "6\n",
      "int32\n",
      "4\n"
     ]
    }
   ],
   "source": [
    "import numpy as np\n",
    "a = np.array([[1,2,3], [4,5,6]])\n",
    "print(a)\n",
    "print(a.ndim)\n",
    "print(a.shape)\n",
    "print(a.size)\n",
    "print(a.dtype)\n",
    "print(a.itemsize)"
   ]
  },
  {
   "cell_type": "code",
   "execution_count": 4,
   "metadata": {},
   "outputs": [],
   "source": [
    "# Array Creation "
   ]
  },
  {
   "cell_type": "code",
   "execution_count": 5,
   "metadata": {},
   "outputs": [
    {
     "name": "stdout",
     "output_type": "stream",
     "text": [
      "[2 3 4]\n",
      "int32\n",
      "[1.2 3.5 4.3]\n",
      "float64\n"
     ]
    }
   ],
   "source": [
    "# . Create ndarray from python data structure\n",
    "# . Use np.array()\n",
    "\n",
    "import numpy as np\n",
    "a = np.array([2,3,4])\n",
    "print(a)\n",
    "print(a.dtype)\n",
    "\n",
    "b = np.array([1.2, 3.5, 4.3])\n",
    "print(b)\n",
    "print(b.dtype)"
   ]
  },
  {
   "cell_type": "code",
   "execution_count": 6,
   "metadata": {},
   "outputs": [
    {
     "name": "stdout",
     "output_type": "stream",
     "text": [
      "[1 2 3]\n",
      "int32\n"
     ]
    },
    {
     "ename": "ValueError",
     "evalue": "only 2 non-keyword arguments accepted",
     "output_type": "error",
     "traceback": [
      "\u001b[1;31m---------------------------------------------------------------------------\u001b[0m",
      "\u001b[1;31mValueError\u001b[0m                                Traceback (most recent call last)",
      "\u001b[1;32m<ipython-input-6-6944152aed1a>\u001b[0m in \u001b[0;36m<module>\u001b[1;34m()\u001b[0m\n\u001b[0;32m      5\u001b[0m \u001b[1;33m\u001b[0m\u001b[0m\n\u001b[0;32m      6\u001b[0m \u001b[1;31m# . A frequent error\u001b[0m\u001b[1;33m\u001b[0m\u001b[1;33m\u001b[0m\u001b[0m\n\u001b[1;32m----> 7\u001b[1;33m \u001b[0ma\u001b[0m \u001b[1;33m=\u001b[0m \u001b[0mnp\u001b[0m\u001b[1;33m.\u001b[0m\u001b[0marray\u001b[0m\u001b[1;33m(\u001b[0m\u001b[1;36m1\u001b[0m\u001b[1;33m,\u001b[0m\u001b[1;36m2\u001b[0m\u001b[1;33m,\u001b[0m\u001b[1;36m3\u001b[0m\u001b[1;33m,\u001b[0m\u001b[1;36m4\u001b[0m\u001b[1;33m)\u001b[0m\u001b[1;33m\u001b[0m\u001b[0m\n\u001b[0m",
      "\u001b[1;31mValueError\u001b[0m: only 2 non-keyword arguments accepted"
     ]
    }
   ],
   "source": [
    "# . You can also use tuple\n",
    "a = np.array((1,2,3))\n",
    "print(a)\n",
    "print(a.dtype)\n",
    "\n",
    "# . A frequent error\n",
    "a = np.array(1,2,3,4)\n"
   ]
  },
  {
   "cell_type": "code",
   "execution_count": 7,
   "metadata": {},
   "outputs": [
    {
     "name": "stdout",
     "output_type": "stream",
     "text": [
      "(2, 3)\n",
      "int32\n",
      "[[1 2 3]\n",
      " [4 5 6]]\n",
      "-----\n",
      "(2, 2, 3)\n",
      "int32\n",
      "[[[ 1  2  3]\n",
      "  [ 4  5  6]]\n",
      "\n",
      " [[ 7  8  9]\n",
      "  [10 11 12]]]\n"
     ]
    }
   ],
   "source": [
    "# . numpy.array() transforms sequences of sequences into two-dimensional arrays, \n",
    "#   sequences of sequences of sequences into three-dimensional arrays, and so on.\n",
    "\n",
    "a = np.array([[1,2,3], [4,5,6]])\n",
    "print(a.shape)\n",
    "print(a.dtype)\n",
    "print(a)\n",
    "print('-----')\n",
    "\n",
    "a = np.array([  [[1,2,3],[4,5,6]],  [[7,8,9],[10,11,12]] ])\n",
    "print(a.shape)\n",
    "print(a.dtype)\n",
    "print(a)\n"
   ]
  },
  {
   "cell_type": "code",
   "execution_count": 8,
   "metadata": {},
   "outputs": [
    {
     "name": "stdout",
     "output_type": "stream",
     "text": [
      "(2, 3)\n",
      "int32\n",
      "[[1 2 3]\n",
      " [4 5 6]]\n",
      "--------------\n",
      "(2, 2, 3)\n",
      "int32\n",
      "[[[ 1  2  3]\n",
      "  [ 4  5  6]]\n",
      "\n",
      " [[ 7  8  9]\n",
      "  [10 11 12]]]\n"
     ]
    }
   ],
   "source": [
    "# . You can even mix lists and tuples\n",
    "a = np.array( [(1,2,3), [4,5,6]] )\n",
    "print(a.shape)\n",
    "print(a.dtype)\n",
    "print(a)\n",
    "print('--------------')\n",
    "a = np.array((  [ (1,2,3),[4,5,6] ], [[7,8,9],(10,11,12)]   ))\n",
    "print(a.shape)\n",
    "print(a.dtype)\n",
    "print(a)\n"
   ]
  },
  {
   "cell_type": "code",
   "execution_count": 9,
   "metadata": {},
   "outputs": [
    {
     "name": "stdout",
     "output_type": "stream",
     "text": [
      "[[1.+0.j 2.+0.j]\n",
      " [3.+0.j 4.+0.j]]\n"
     ]
    }
   ],
   "source": [
    "# . The tye of the array can also be explicitly specified at runtime\n",
    "c = np.array( [[1,2],[3,4]], dtype = complex)\n",
    "print(c)"
   ]
  },
  {
   "cell_type": "code",
   "execution_count": 10,
   "metadata": {},
   "outputs": [
    {
     "name": "stdout",
     "output_type": "stream",
     "text": [
      "[[0. 0. 0.]\n",
      " [0. 0. 0.]]\n"
     ]
    },
    {
     "ename": "TypeError",
     "evalue": "data type not understood",
     "output_type": "error",
     "traceback": [
      "\u001b[1;31m---------------------------------------------------------------------------\u001b[0m",
      "\u001b[1;31mTypeError\u001b[0m                                 Traceback (most recent call last)",
      "\u001b[1;32m<ipython-input-10-489810736af9>\u001b[0m in \u001b[0;36m<module>\u001b[1;34m()\u001b[0m\n\u001b[0;32m      5\u001b[0m \u001b[0mprint\u001b[0m\u001b[1;33m(\u001b[0m\u001b[0mz\u001b[0m\u001b[1;33m)\u001b[0m\u001b[1;33m\u001b[0m\u001b[0m\n\u001b[0;32m      6\u001b[0m \u001b[1;33m\u001b[0m\u001b[0m\n\u001b[1;32m----> 7\u001b[1;33m \u001b[0mz\u001b[0m \u001b[1;33m=\u001b[0m \u001b[0mnp\u001b[0m\u001b[1;33m.\u001b[0m\u001b[0mzeros\u001b[0m\u001b[1;33m(\u001b[0m\u001b[1;36m2\u001b[0m\u001b[1;33m,\u001b[0m\u001b[1;36m3\u001b[0m\u001b[1;33m)\u001b[0m\u001b[1;33m\u001b[0m\u001b[0m\n\u001b[0m\u001b[0;32m      8\u001b[0m \u001b[0mprint\u001b[0m\u001b[1;33m(\u001b[0m\u001b[0mz\u001b[0m\u001b[1;33m)\u001b[0m\u001b[1;33m\u001b[0m\u001b[0m\n",
      "\u001b[1;31mTypeError\u001b[0m: data type not understood"
     ]
    }
   ],
   "source": [
    "# . Also, there are some  useful functions to create array\n",
    "# . numpy.zeros()\n",
    "\n",
    "z = np.zeros((2,3))\n",
    "print(z)\n",
    "\n",
    "z = np.zeros(2,3)\n",
    "print(z)"
   ]
  },
  {
   "cell_type": "code",
   "execution_count": 11,
   "metadata": {},
   "outputs": [
    {
     "name": "stdout",
     "output_type": "stream",
     "text": [
      "[[1. 1. 1.]\n",
      " [1. 1. 1.]]\n",
      "[[1. 1. 1.]\n",
      " [1. 1. 1.]]\n",
      "[[0. 0. 0.]\n",
      " [0. 0. 0.]]\n",
      "[[0. 0. 0.]\n",
      " [0. 0. 0.]]\n"
     ]
    }
   ],
   "source": [
    "# . numpy.ones()\n",
    "# . nmpy.empty()\n",
    "print(np.ones([2,3]))\n",
    "print(np.empty([2,3]))\n",
    "print(np.zeros([2,3]))\n",
    "print(np.empty([2,3]))\n",
    "\n",
    "\n",
    "\n"
   ]
  },
  {
   "cell_type": "code",
   "execution_count": 14,
   "metadata": {},
   "outputs": [
    {
     "name": "stdout",
     "output_type": "stream",
     "text": [
      "[10 15 20 25]\n",
      "[0.  0.3 0.6 0.9 1.2 1.5 1.8]\n",
      "[10. 15. 20. 25.]\n"
     ]
    }
   ],
   "source": [
    "# . numpy.arrang( [start,] stop, [step,] dtype=None)\n",
    "#   . Works like the range() function in python2, returns a ndarray\n",
    "#   . Accept float number as input\n",
    "print( np.arange(10,30,5) )\n",
    "\n",
    "print( np.arange(0, 2, 0.3))\n",
    "\n",
    "print( np.arange(10, 30, 5, dtype = float))\n"
   ]
  },
  {
   "cell_type": "code",
   "execution_count": 16,
   "metadata": {},
   "outputs": [
    {
     "name": "stdout",
     "output_type": "stream",
     "text": [
      "[ 0  1  2  3  4  5  6  7  8  9 10]\n",
      "[0.         0.22222222 0.44444444 0.66666667 0.88888889 1.11111111\n",
      " 1.33333333 1.55555556 1.77777778 2.        ]\n"
     ]
    }
   ],
   "source": [
    "# . Generally, we can not predict the number of output when using floating \n",
    "#   point as the input of arange() due to the finite percision\n",
    "# . numpy.linspace(start, end, num, ...)\n",
    "print( np.linspace(0, 10, 11, dtype=int) )\n",
    "print( np.linspace(0,2,10) )"
   ]
  },
  {
   "cell_type": "code",
   "execution_count": 21,
   "metadata": {},
   "outputs": [
    {
     "name": "stdout",
     "output_type": "stream",
     "text": [
      "[  10.  100. 1000.]\n",
      "[2. 4. 8.]\n",
      "[2.         2.82842712 4.         5.65685425 8.        ]\n",
      "[2 2 4 5 8]\n"
     ]
    }
   ],
   "source": [
    "# . numpy.logspace( start, end, num, base = 10)\n",
    "#   . Does the same thing as linspaceon log scale\n",
    "print( np.logspace(1,3,3) )\n",
    "print( np.logspace(1,3,3, base = 2) )\n",
    "print( np.logspace(1,3,5, base = 2) )\n",
    "print( np.logspace(1,3,5, base = 2, dtype = int) )"
   ]
  },
  {
   "cell_type": "code",
   "execution_count": 22,
   "metadata": {},
   "outputs": [
    {
     "name": "stdout",
     "output_type": "stream",
     "text": [
      "[-1  0]\n"
     ]
    }
   ],
   "source": [
    "# . numpy.meshgrid()\n",
    "# . Make N-D coordinate arrays for vectorizedevaluations of N-D \n",
    "#   scalar/vector fields over N-D grids, given one-dimensional coordinate arrays\n",
    "\n",
    "x = np.arange(-1,1,1)\n",
    "print(x)\n",
    "\n",
    "y = np.linspace(0, 2, 3)\n",
    "pri"
   ]
  },
  {
   "cell_type": "code",
   "execution_count": null,
   "metadata": {},
   "outputs": [],
   "source": []
  }
 ],
 "metadata": {
  "kernelspec": {
   "display_name": "Python 3",
   "language": "python",
   "name": "python3"
  },
  "language_info": {
   "codemirror_mode": {
    "name": "ipython",
    "version": 3
   },
   "file_extension": ".py",
   "mimetype": "text/x-python",
   "name": "python",
   "nbconvert_exporter": "python",
   "pygments_lexer": "ipython3",
   "version": "3.6.4"
  }
 },
 "nbformat": 4,
 "nbformat_minor": 2
}
