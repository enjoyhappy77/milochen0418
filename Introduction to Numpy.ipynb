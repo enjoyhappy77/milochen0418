{
 "cells": [
  {
   "cell_type": "code",
   "execution_count": 1,
   "metadata": {},
   "outputs": [],
   "source": [
    "# Numpy\n",
    "# . A library for Python, adding support for large , multi-dimensional arrays and matrices.\n",
    "# . Provides a large collection of high-level mathematical functions to operates on arrays.\n",
    "# . Numpy gives the functionality comparable to matlab since they are both interpreted and \n",
    "#   allow user  to write fast programs for operations on arrays or matrices."
   ]
  },
  {
   "cell_type": "code",
   "execution_count": 2,
   "metadata": {},
   "outputs": [],
   "source": [
    "# Numpy.ndarray\n",
    "# . The main object of Numpy\n",
    "# . Homogeneous multi-dimensional array\n",
    "# . Index by a tuple of positive indexes or array like index\n",
    "# . Attribute of numpy.ndarray\n",
    "#   . ndim : the number of axes (dimension) of the ndarray\n",
    "#   . shape: The dimensions of the array, returns a tuple describing each dimension\n",
    "#   . size : total elements in the ndarray\n",
    "#   . dtype: the data type of the elements in the ndarray. As ndarray is a homogeneous array, \n",
    "#            all elements in the ndarray should be the same type\n",
    "#   . itemsize: the size in byte of each element in the ndarray."
   ]
  },
  {
   "cell_type": "code",
   "execution_count": 2,
   "metadata": {},
   "outputs": [
    {
     "name": "stdout",
     "output_type": "stream",
     "text": [
      "[[1 2 3]\n",
      " [4 5 6]]\n",
      "2\n",
      "(2, 3)\n",
      "6\n",
      "int64\n",
      "8\n"
     ]
    }
   ],
   "source": [
    "import numpy as np\n",
    "a = np.array([[1,2,3], [4,5,6]])\n",
    "print(a)\n",
    "print(a.ndim)\n",
    "print(a.shape)\n",
    "print(a.size)\n",
    "print(a.dtype)\n",
    "print(a.itemsize)"
   ]
  },
  {
   "cell_type": "code",
   "execution_count": 4,
   "metadata": {},
   "outputs": [],
   "source": [
    "# Array Creation "
   ]
  },
  {
   "cell_type": "code",
   "execution_count": 5,
   "metadata": {},
   "outputs": [
    {
     "name": "stdout",
     "output_type": "stream",
     "text": [
      "[2 3 4]\n",
      "int32\n",
      "[1.2 3.5 4.3]\n",
      "float64\n"
     ]
    }
   ],
   "source": [
    "# . Create ndarray from python data structure\n",
    "# . Use np.array()\n",
    "\n",
    "import numpy as np\n",
    "a = np.array([2,3,4])\n",
    "print(a)\n",
    "print(a.dtype)\n",
    "\n",
    "b = np.array([1.2, 3.5, 4.3])\n",
    "print(b)\n",
    "print(b.dtype)"
   ]
  },
  {
   "cell_type": "code",
   "execution_count": 6,
   "metadata": {},
   "outputs": [
    {
     "name": "stdout",
     "output_type": "stream",
     "text": [
      "[1 2 3]\n",
      "int32\n"
     ]
    },
    {
     "ename": "ValueError",
     "evalue": "only 2 non-keyword arguments accepted",
     "output_type": "error",
     "traceback": [
      "\u001b[1;31m---------------------------------------------------------------------------\u001b[0m",
      "\u001b[1;31mValueError\u001b[0m                                Traceback (most recent call last)",
      "\u001b[1;32m<ipython-input-6-6944152aed1a>\u001b[0m in \u001b[0;36m<module>\u001b[1;34m()\u001b[0m\n\u001b[0;32m      5\u001b[0m \u001b[1;33m\u001b[0m\u001b[0m\n\u001b[0;32m      6\u001b[0m \u001b[1;31m# . A frequent error\u001b[0m\u001b[1;33m\u001b[0m\u001b[1;33m\u001b[0m\u001b[0m\n\u001b[1;32m----> 7\u001b[1;33m \u001b[0ma\u001b[0m \u001b[1;33m=\u001b[0m \u001b[0mnp\u001b[0m\u001b[1;33m.\u001b[0m\u001b[0marray\u001b[0m\u001b[1;33m(\u001b[0m\u001b[1;36m1\u001b[0m\u001b[1;33m,\u001b[0m\u001b[1;36m2\u001b[0m\u001b[1;33m,\u001b[0m\u001b[1;36m3\u001b[0m\u001b[1;33m,\u001b[0m\u001b[1;36m4\u001b[0m\u001b[1;33m)\u001b[0m\u001b[1;33m\u001b[0m\u001b[0m\n\u001b[0m",
      "\u001b[1;31mValueError\u001b[0m: only 2 non-keyword arguments accepted"
     ]
    }
   ],
   "source": [
    "# . You can also use tuple\n",
    "a = np.array((1,2,3))\n",
    "print(a)\n",
    "print(a.dtype)\n",
    "\n",
    "# . A frequent error\n",
    "a = np.array(1,2,3,4)\n"
   ]
  },
  {
   "cell_type": "code",
   "execution_count": null,
   "metadata": {},
   "outputs": [],
   "source": [
    "# . numpy.array() transforms sequences of sequences into two-dimensional arrays, \n",
    "#   sequences of sequences of sequences into three-dimensional arrays, and so on.\n",
    "\n",
    "a = np.array([[1,2,3], [4,5,6]])\n",
    "print(a.shape)\n",
    "print(a.dtype)\n",
    "print(a)\n",
    "print('-----')\n",
    "\n",
    "a = np.array([  [[1,2,3],[4,5,6]],  [[7,8,9],[10,11,12]] ])\n",
    "print(a.shape)\n",
    "print(a.dtype)\n",
    "print(a)\n"
   ]
  },
  {
   "cell_type": "code",
   "execution_count": 7,
   "metadata": {},
   "outputs": [
    {
     "name": "stdout",
     "output_type": "stream",
     "text": [
      "(2, 3)\n",
      "int32\n",
      "[[1 2 3]\n",
      " [4 5 6]]\n",
      "--------------\n",
      "(2, 2, 3)\n",
      "int32\n",
      "[[[ 1  2  3]\n",
      "  [ 4  5  6]]\n",
      "\n",
      " [[ 7  8  9]\n",
      "  [10 11 12]]]\n"
     ]
    }
   ],
   "source": [
    "# . You can even mix lists and tuples\n",
    "a = np.array( [(1,2,3), [4,5,6]] )\n",
    "print(a.shape)\n",
    "print(a.dtype)\n",
    "print(a)\n",
    "print('--------------')\n",
    "a = np.array((  [ (1,2,3),[4,5,6] ], [[7,8,9],(10,11,12)]   ))\n",
    "print(a.shape)\n",
    "print(a.dtype)\n",
    "print(a)\n"
   ]
  },
  {
   "cell_type": "code",
   "execution_count": 8,
   "metadata": {},
   "outputs": [
    {
     "name": "stdout",
     "output_type": "stream",
     "text": [
      "[[1.+0.j 2.+0.j]\n",
      " [3.+0.j 4.+0.j]]\n"
     ]
    }
   ],
   "source": [
    "# . The tye of the array can also be explicitly specified at runtime\n",
    "c = np.array( [[1,2],[3,4]], dtype = complex)\n",
    "print(c)"
   ]
  },
  {
   "cell_type": "code",
   "execution_count": 9,
   "metadata": {},
   "outputs": [
    {
     "name": "stdout",
     "output_type": "stream",
     "text": [
      "[[0. 0. 0.]\n",
      " [0. 0. 0.]]\n"
     ]
    },
    {
     "ename": "TypeError",
     "evalue": "data type not understood",
     "output_type": "error",
     "traceback": [
      "\u001b[1;31m---------------------------------------------------------------------------\u001b[0m",
      "\u001b[1;31mTypeError\u001b[0m                                 Traceback (most recent call last)",
      "\u001b[1;32m<ipython-input-9-489810736af9>\u001b[0m in \u001b[0;36m<module>\u001b[1;34m()\u001b[0m\n\u001b[0;32m      5\u001b[0m \u001b[0mprint\u001b[0m\u001b[1;33m(\u001b[0m\u001b[0mz\u001b[0m\u001b[1;33m)\u001b[0m\u001b[1;33m\u001b[0m\u001b[0m\n\u001b[0;32m      6\u001b[0m \u001b[1;33m\u001b[0m\u001b[0m\n\u001b[1;32m----> 7\u001b[1;33m \u001b[0mz\u001b[0m \u001b[1;33m=\u001b[0m \u001b[0mnp\u001b[0m\u001b[1;33m.\u001b[0m\u001b[0mzeros\u001b[0m\u001b[1;33m(\u001b[0m\u001b[1;36m2\u001b[0m\u001b[1;33m,\u001b[0m\u001b[1;36m3\u001b[0m\u001b[1;33m)\u001b[0m\u001b[1;33m\u001b[0m\u001b[0m\n\u001b[0m\u001b[0;32m      8\u001b[0m \u001b[0mprint\u001b[0m\u001b[1;33m(\u001b[0m\u001b[0mz\u001b[0m\u001b[1;33m)\u001b[0m\u001b[1;33m\u001b[0m\u001b[0m\n",
      "\u001b[1;31mTypeError\u001b[0m: data type not understood"
     ]
    }
   ],
   "source": [
    "# . Also, there are some  useful functions to create array\n",
    "# . numpy.zeros()\n",
    "\n",
    "z = np.zeros((2,3))\n",
    "print(z)\n",
    "\n",
    "z = np.zeros(2,3)\n",
    "print(z)"
   ]
  },
  {
   "cell_type": "code",
   "execution_count": 10,
   "metadata": {},
   "outputs": [
    {
     "name": "stdout",
     "output_type": "stream",
     "text": [
      "[[1. 1. 1.]\n",
      " [1. 1. 1.]]\n",
      "[[1. 1. 1.]\n",
      " [1. 1. 1.]]\n",
      "[[0. 0. 0.]\n",
      " [0. 0. 0.]]\n",
      "[[0. 0. 0.]\n",
      " [0. 0. 0.]]\n"
     ]
    }
   ],
   "source": [
    "# . numpy.ones()\n",
    "# . nmpy.empty()\n",
    "print(np.ones([2,3]))\n",
    "print(np.empty([2,3]))\n",
    "print(np.zeros([2,3]))\n",
    "print(np.empty([2,3]))\n",
    "\n",
    "\n",
    "\n"
   ]
  },
  {
   "cell_type": "code",
   "execution_count": 11,
   "metadata": {},
   "outputs": [
    {
     "name": "stdout",
     "output_type": "stream",
     "text": [
      "[10 15 20 25]\n",
      "[0.  0.3 0.6 0.9 1.2 1.5 1.8]\n",
      "[10. 15. 20. 25.]\n"
     ]
    }
   ],
   "source": [
    "# . numpy.arrang( [start,] stop, [step,] dtype=None)\n",
    "#   . Works like the range() function in python2, returns a ndarray\n",
    "#   . Accept float number as input\n",
    "print( np.arange(10,30,5) )\n",
    "\n",
    "print( np.arange(0, 2, 0.3))\n",
    "\n",
    "print( np.arange(10, 30, 5, dtype = float))\n"
   ]
  },
  {
   "cell_type": "code",
   "execution_count": 12,
   "metadata": {},
   "outputs": [
    {
     "name": "stdout",
     "output_type": "stream",
     "text": [
      "[ 0  1  2  3  4  5  6  7  8  9 10]\n",
      "[0.         0.22222222 0.44444444 0.66666667 0.88888889 1.11111111\n",
      " 1.33333333 1.55555556 1.77777778 2.        ]\n"
     ]
    }
   ],
   "source": [
    "# . Generally, we can not predict the number of output when using floating \n",
    "#   point as the input of arange() due to the finite percision\n",
    "# . numpy.linspace(start, end, num, ...)\n",
    "print( np.linspace(0, 10, 11, dtype=int) )\n",
    "print( np.linspace(0,2,10) )"
   ]
  },
  {
   "cell_type": "code",
   "execution_count": 13,
   "metadata": {},
   "outputs": [
    {
     "name": "stdout",
     "output_type": "stream",
     "text": [
      "[  10.  100. 1000.]\n",
      "[2. 4. 8.]\n",
      "[2.         2.82842712 4.         5.65685425 8.        ]\n",
      "[2 2 4 5 8]\n"
     ]
    }
   ],
   "source": [
    "# . numpy.logspace( start, end, num, base = 10)\n",
    "#   . Does the same thing as linspaceon log scale\n",
    "print( np.logspace(1,3,3) )\n",
    "print( np.logspace(1,3,3, base = 2) )\n",
    "print( np.logspace(1,3,5, base = 2) )\n",
    "print( np.logspace(1,3,5, base = 2, dtype = int) )"
   ]
  },
  {
   "cell_type": "code",
   "execution_count": 14,
   "metadata": {},
   "outputs": [
    {
     "name": "stdout",
     "output_type": "stream",
     "text": [
      "------ x \n",
      "(2,)\n",
      "int32\n",
      "[-1  0]\n",
      "------ y \n",
      "(3,)\n",
      "float64\n",
      "[0. 1. 2.]\n",
      "------ meshgrid(x,y)\n",
      "<class 'list'>\n",
      "[array([[-1,  0],\n",
      "       [-1,  0],\n",
      "       [-1,  0]]), array([[0., 0.],\n",
      "       [1., 1.],\n",
      "       [2., 2.]])]\n",
      "------ each item in list of meshgrid(x,y)\n",
      "<class 'numpy.ndarray'>\n",
      "(3, 2)\n",
      "int32\n",
      "[[-1  0]\n",
      " [-1  0]\n",
      " [-1  0]]\n",
      "<class 'numpy.ndarray'>\n",
      "(3, 2)\n",
      "float64\n",
      "[[0. 0.]\n",
      " [1. 1.]\n",
      " [2. 2.]]\n"
     ]
    }
   ],
   "source": [
    "# . numpy.meshgrid()\n",
    "# . Make N-D coordinate arrays for vectorized evaluations of N-D \n",
    "#   scalar/vector fields over N-D grids, given one-dimensional coordinate arrays\n",
    "print ('------ x ')\n",
    "x = np.arange(-1,1,1)\n",
    "print(x.shape)\n",
    "print(x.dtype)\n",
    "print(x)\n",
    "print ('------ y ')\n",
    "y = np.linspace(0, 2, 3)\n",
    "print(y.shape)\n",
    "print(y.dtype)\n",
    "print(y)\n",
    "print ('------ meshgrid(x,y)')\n",
    "grid = np.meshgrid(x,y)\n",
    "print(type(grid)) # grid is a list\n",
    "print(grid )\n",
    "\n",
    "print ('------ each item in list of meshgrid(x,y)')\n",
    "for item in grid:\n",
    "    print(type(item))    \n",
    "    print(item.shape)\n",
    "    print(item.dtype)\n",
    "    print(item)\n",
    "\n",
    "\n"
   ]
  },
  {
   "cell_type": "code",
   "execution_count": 15,
   "metadata": {},
   "outputs": [
    {
     "name": "stdout",
     "output_type": "stream",
     "text": [
      "(2, 2, 2)\n",
      "int32\n",
      "[[[ 1  1]\n",
      "  [ 2  2]]\n",
      "\n",
      " [[-3 -2]\n",
      "  [-3 -2]]]\n"
     ]
    }
   ],
   "source": [
    "# . numpy.mgrid\n",
    "#  . Work like meshgrid(), but not a function. Access via [] operator\n",
    "\n",
    "mg = np.mgrid[1:3, -3:-1]\n",
    "print(mg.shape)\n",
    "print(mg.dtype)\n",
    "print(mg)\n",
    "\n",
    "\n"
   ]
  },
  {
   "cell_type": "code",
   "execution_count": 16,
   "metadata": {},
   "outputs": [
    {
     "name": "stdout",
     "output_type": "stream",
     "text": [
      "<class 'list'>\n",
      "2\n",
      "[array([[1],\n",
      "       [2]]), array([[-3, -2]])]\n",
      "(2, 1)\n",
      "(1, 2)\n"
     ]
    }
   ],
   "source": [
    "# . numpy.ogrid\n",
    "#   . Same as mgrid, except that the return value is flattened\n",
    "og = np.ogrid[1:3, -3:-1]\n",
    "print(type(og))\n",
    "print(len(og))\n",
    "print(og)\n",
    "for i in og:\n",
    "    print(i.shape)"
   ]
  },
  {
   "cell_type": "code",
   "execution_count": 17,
   "metadata": {},
   "outputs": [
    {
     "name": "stdout",
     "output_type": "stream",
     "text": [
      "[[0.16393217 0.63007851]\n",
      " [0.45895675 0.54512265]\n",
      " [0.68315508 0.51835685]]\n"
     ]
    }
   ],
   "source": [
    "# . numpy.random.rand()\n",
    "#   . Create an array with given shape and fill with samples \n",
    "#     from uniform distribution over [0,1)\n",
    "print ( np.random.rand(3, 2) )\n",
    "\n",
    "# . numpy.random.randn()\n",
    "#   . Same as rand() except the distribution change to standard normal distribution\n",
    "#   . For random sample from N(u,lo^2), use lo x np.random.rand()+u\n",
    "\n"
   ]
  },
  {
   "cell_type": "code",
   "execution_count": 18,
   "metadata": {},
   "outputs": [
    {
     "name": "stdout",
     "output_type": "stream",
     "text": [
      "[[0. 1. 2. 3.]\n",
      " [1. 2. 3. 4.]\n",
      " [2. 3. 4. 5.]\n",
      " [3. 4. 5. 6.]]\n",
      "[[0. 0. 0. 0.]\n",
      " [1. 1. 1. 1.]\n",
      " [2. 2. 2. 2.]\n",
      " [3. 3. 3. 3.]]\n"
     ]
    }
   ],
   "source": [
    "# . numpy.fromfunction()\n",
    "#   . Pass the coordinate of the point into the function and put the return value to the coordinate\n",
    "def add(a,b):\n",
    "    return a+b\n",
    "print( np.fromfunction(add, (4,4)) )\n",
    "\n",
    "print( np.fromfunction(lambda x,y:x, (4,4))  )"
   ]
  },
  {
   "cell_type": "code",
   "execution_count": 19,
   "metadata": {},
   "outputs": [],
   "source": [
    "# Array Indexing"
   ]
  },
  {
   "cell_type": "code",
   "execution_count": 20,
   "metadata": {},
   "outputs": [
    {
     "name": "stdout",
     "output_type": "stream",
     "text": [
      "2\n",
      "8\n"
     ]
    }
   ],
   "source": [
    "# . Exactly like standard python sequence\n",
    "x = np.arange(10)\n",
    "print(x[2])\n",
    "print(x[-2])"
   ]
  },
  {
   "cell_type": "code",
   "execution_count": 21,
   "metadata": {},
   "outputs": [
    {
     "name": "stdout",
     "output_type": "stream",
     "text": [
      "8\n",
      "9\n",
      "6\n"
     ]
    }
   ],
   "source": [
    "# . Also support multi-dimentional indexing\n",
    "x.shape = (2,5)\n",
    "print(x[1,3])\n",
    "print(x[1,-1])\n",
    "print(x[(1,1)])\n"
   ]
  },
  {
   "cell_type": "code",
   "execution_count": 22,
   "metadata": {},
   "outputs": [
    {
     "name": "stdout",
     "output_type": "stream",
     "text": [
      "[[0 1 2 3 4]\n",
      " [5 6 7 8 9]]\n",
      "[0 1 2 3 4]\n",
      "1\n"
     ]
    }
   ],
   "source": [
    "#. If the index of multi-dimensional array is fewer than the dimension, then you gets the sub-dimension array\n",
    "print(x)\n",
    "print(x[0])\n",
    "\n",
    "# Therefore, you can also access single element with \n",
    "print(x[0][1])\n",
    "\n",
    "# However, this will be slight slower than x[0,1] since numpy will first create x[0] then access the second elements in x[0]\n"
   ]
  },
  {
   "cell_type": "code",
   "execution_count": 23,
   "metadata": {},
   "outputs": [],
   "source": [
    "# Other indexing options"
   ]
  },
  {
   "cell_type": "code",
   "execution_count": 24,
   "metadata": {},
   "outputs": [
    {
     "name": "stdout",
     "output_type": "stream",
     "text": [
      "[2 3 4]\n",
      "[0 1 2 3 4 5 6]\n",
      "[1 3 5 7]\n"
     ]
    }
   ],
   "source": [
    "\n",
    "# You can also get the sub-array of the same dimension with\n",
    "x = np.arange(10)\n",
    "print(x[2:5])\n",
    "print(x[:-3])\n",
    "print(x[1:8:2])\n",
    "\n"
   ]
  },
  {
   "cell_type": "code",
   "execution_count": 25,
   "metadata": {},
   "outputs": [
    {
     "name": "stdout",
     "output_type": "stream",
     "text": [
      "[[ 0  1  2  3  4  5  6]\n",
      " [ 7  8  9 10 11 12 13]\n",
      " [14 15 16 17 18 19 20]\n",
      " [21 22 23 24 25 26 27]\n",
      " [28 29 30 31 32 33 34]]\n",
      "[[ 7 10 13]\n",
      " [21 24 27]]\n"
     ]
    }
   ],
   "source": [
    "y = np.arange(35).reshape(5,7)\n",
    "print(y)\n",
    "\n",
    "print(y[1:5:2, ::3])"
   ]
  },
  {
   "cell_type": "code",
   "execution_count": 26,
   "metadata": {},
   "outputs": [
    {
     "name": "stdout",
     "output_type": "stream",
     "text": [
      "(6, 6, 6)\n",
      "(6, 6, 6)\n",
      "[[[1728 1729 1730 1731 1732 1733]\n",
      "  [1734 1735 1736 1737 1738 1739]\n",
      "  [1740 1741 1742 1743 1744 1745]\n",
      "  [1746 1747 1748 1749 1750 1751]\n",
      "  [1752 1753 1754 1755 1756 1757]\n",
      "  [1758 1759 1760 1761 1762 1763]]\n",
      "\n",
      " [[1764 1765 1766 1767 1768 1769]\n",
      "  [1770 1771 1772 1773 1774 1775]\n",
      "  [1776 1777 1778 1779 1780 1781]\n",
      "  [1782 1783 1784 1785 1786 1787]\n",
      "  [1788 1789 1790 1791 1792 1793]\n",
      "  [1794 1795 1796 1797 1798 1799]]\n",
      "\n",
      " [[1800 1801 1802 1803 1804 1805]\n",
      "  [1806 1807 1808 1809 1810 1811]\n",
      "  [1812 1813 1814 1815 1816 1817]\n",
      "  [1818 1819 1820 1821 1822 1823]\n",
      "  [1824 1825 1826 1827 1828 1829]\n",
      "  [1830 1831 1832 1833 1834 1835]]\n",
      "\n",
      " [[1836 1837 1838 1839 1840 1841]\n",
      "  [1842 1843 1844 1845 1846 1847]\n",
      "  [1848 1849 1850 1851 1852 1853]\n",
      "  [1854 1855 1856 1857 1858 1859]\n",
      "  [1860 1861 1862 1863 1864 1865]\n",
      "  [1866 1867 1868 1869 1870 1871]]\n",
      "\n",
      " [[1872 1873 1874 1875 1876 1877]\n",
      "  [1878 1879 1880 1881 1882 1883]\n",
      "  [1884 1885 1886 1887 1888 1889]\n",
      "  [1890 1891 1892 1893 1894 1895]\n",
      "  [1896 1897 1898 1899 1900 1901]\n",
      "  [1902 1903 1904 1905 1906 1907]]\n",
      "\n",
      " [[1908 1909 1910 1911 1912 1913]\n",
      "  [1914 1915 1916 1917 1918 1919]\n",
      "  [1920 1921 1922 1923 1924 1925]\n",
      "  [1926 1927 1928 1929 1930 1931]\n",
      "  [1932 1933 1934 1935 1936 1937]\n",
      "  [1938 1939 1940 1941 1942 1943]]]\n"
     ]
    }
   ],
   "source": [
    "# The dots (...) represents as many colons to produce the complete index\n",
    "# Assume x is a 5 dimensions array, then\n",
    "\n",
    "# CASE z[1,2,...] is the same as to  z[1,2,:,:,:]\n",
    "z = np.arange(6**5).reshape(6,6,6,6,6)\n",
    "print(z[1,2,...].shape)\n",
    "print(z[1,2,:,:,:].shape)\n",
    "print(z[1,2,...])"
   ]
  },
  {
   "cell_type": "code",
   "execution_count": 27,
   "metadata": {},
   "outputs": [
    {
     "name": "stdout",
     "output_type": "stream",
     "text": [
      "(4, 4, 4, 4)\n",
      "(4, 4, 4, 4)\n",
      "[[[[   3    7   11   15]\n",
      "   [  19   23   27   31]\n",
      "   [  35   39   43   47]\n",
      "   [  51   55   59   63]]\n",
      "\n",
      "  [[  67   71   75   79]\n",
      "   [  83   87   91   95]\n",
      "   [  99  103  107  111]\n",
      "   [ 115  119  123  127]]\n",
      "\n",
      "  [[ 131  135  139  143]\n",
      "   [ 147  151  155  159]\n",
      "   [ 163  167  171  175]\n",
      "   [ 179  183  187  191]]\n",
      "\n",
      "  [[ 195  199  203  207]\n",
      "   [ 211  215  219  223]\n",
      "   [ 227  231  235  239]\n",
      "   [ 243  247  251  255]]]\n",
      "\n",
      "\n",
      " [[[ 259  263  267  271]\n",
      "   [ 275  279  283  287]\n",
      "   [ 291  295  299  303]\n",
      "   [ 307  311  315  319]]\n",
      "\n",
      "  [[ 323  327  331  335]\n",
      "   [ 339  343  347  351]\n",
      "   [ 355  359  363  367]\n",
      "   [ 371  375  379  383]]\n",
      "\n",
      "  [[ 387  391  395  399]\n",
      "   [ 403  407  411  415]\n",
      "   [ 419  423  427  431]\n",
      "   [ 435  439  443  447]]\n",
      "\n",
      "  [[ 451  455  459  463]\n",
      "   [ 467  471  475  479]\n",
      "   [ 483  487  491  495]\n",
      "   [ 499  503  507  511]]]\n",
      "\n",
      "\n",
      " [[[ 515  519  523  527]\n",
      "   [ 531  535  539  543]\n",
      "   [ 547  551  555  559]\n",
      "   [ 563  567  571  575]]\n",
      "\n",
      "  [[ 579  583  587  591]\n",
      "   [ 595  599  603  607]\n",
      "   [ 611  615  619  623]\n",
      "   [ 627  631  635  639]]\n",
      "\n",
      "  [[ 643  647  651  655]\n",
      "   [ 659  663  667  671]\n",
      "   [ 675  679  683  687]\n",
      "   [ 691  695  699  703]]\n",
      "\n",
      "  [[ 707  711  715  719]\n",
      "   [ 723  727  731  735]\n",
      "   [ 739  743  747  751]\n",
      "   [ 755  759  763  767]]]\n",
      "\n",
      "\n",
      " [[[ 771  775  779  783]\n",
      "   [ 787  791  795  799]\n",
      "   [ 803  807  811  815]\n",
      "   [ 819  823  827  831]]\n",
      "\n",
      "  [[ 835  839  843  847]\n",
      "   [ 851  855  859  863]\n",
      "   [ 867  871  875  879]\n",
      "   [ 883  887  891  895]]\n",
      "\n",
      "  [[ 899  903  907  911]\n",
      "   [ 915  919  923  927]\n",
      "   [ 931  935  939  943]\n",
      "   [ 947  951  955  959]]\n",
      "\n",
      "  [[ 963  967  971  975]\n",
      "   [ 979  983  987  991]\n",
      "   [ 995  999 1003 1007]\n",
      "   [1011 1015 1019 1023]]]]\n"
     ]
    }
   ],
   "source": [
    "# CASE z[..., 3] is the same as to  z[:,:,:,:, 3]\n",
    "z = np.arange(4**5).reshape(4,4,4,4,4)\n",
    "print(z[..., 3].shape)\n",
    "print(z[:,:,:,:,3].shape)\n",
    "print(z[..., 3])"
   ]
  },
  {
   "cell_type": "code",
   "execution_count": 28,
   "metadata": {},
   "outputs": [
    {
     "name": "stdout",
     "output_type": "stream",
     "text": [
      "(3, 3, 3)\n",
      "(3, 3, 3)\n",
      "[[[ 87  88  89]\n",
      "  [ 96  97  98]\n",
      "  [105 106 107]]\n",
      "\n",
      " [[114 115 116]\n",
      "  [123 124 125]\n",
      "  [132 133 134]]\n",
      "\n",
      " [[141 142 143]\n",
      "  [150 151 152]\n",
      "  [159 160 161]]]\n",
      "[[[ 87  88  89]\n",
      "  [ 96  97  98]\n",
      "  [105 106 107]]\n",
      "\n",
      " [[114 115 116]\n",
      "  [123 124 125]\n",
      "  [132 133 134]]\n",
      "\n",
      " [[141 142 143]\n",
      "  [150 151 152]\n",
      "  [159 160 161]]]\n"
     ]
    }
   ],
   "source": [
    "z = np.arange(3**5).reshape(3,3,3,3,3)\n",
    "# CASE z[1,...,2,:] is the same as to  z[1,:,:,2,:]\n",
    "print(z[1,...,2,:].shape)\n",
    "print(z[1,:,:,2,:].shape)\n",
    "print(z[1,...,2,:])\n",
    "print(z[1,:,:,2,:])\n"
   ]
  },
  {
   "cell_type": "code",
   "execution_count": 29,
   "metadata": {},
   "outputs": [
    {
     "name": "stdout",
     "output_type": "stream",
     "text": [
      "[1 3 5 7]\n",
      "[1 3 5 7]\n",
      "[1 3 4 5]\n",
      "[1 3 6 5]\n"
     ]
    }
   ],
   "source": [
    "# Index Arrays\n",
    "# . The index of a numpy array can also be an array or list\n",
    "x = np.arange(10)\n",
    "y = np.arange(1,8,2)\n",
    "print(y)\n",
    "print(x[y])\n",
    "print(x[[1,3,4,5]])\n",
    "print(x[[1,3,-4,-5]]) # negative index in index array is allowed\n",
    "\n",
    "# . The result of index array is an array with the same shape as the index array, \n",
    "#   and with the type and values of the array being indexed."
   ]
  },
  {
   "cell_type": "code",
   "execution_count": 30,
   "metadata": {},
   "outputs": [
    {
     "name": "stdout",
     "output_type": "stream",
     "text": [
      "bool\n",
      "[False False False False False False  True  True  True  True]\n",
      "[6 7 8 9]\n",
      "-------\n",
      "[ 1. -1. -2.  3.]\n",
      "[False  True  True False]\n",
      "[ 1. 19. 18.  3.]\n",
      "-------\n",
      "[ 1. -1. -2.  3.]\n",
      "[-1. -2.]\n",
      "[ 1. 19. 18.  3.]\n"
     ]
    }
   ],
   "source": [
    "# Boolean array index\n",
    "# . A Boolean array can also be the index of an numpy array\n",
    "# . A Boolean array can be created by \n",
    "x = np.arange(10)\n",
    "A = x > 5\n",
    "print(A.dtype)\n",
    "print(A)\n",
    "\n",
    "# . So we can also do\n",
    "print(np.array([6,7,8,9]))\n",
    "\n",
    "# . A boolean array leave only the elements whose index are true in the array\n",
    "\n",
    "# . The Boolean array should be the same shape with the array indexed.\n",
    "print('-------')\n",
    "x = np.array([1., -1., -2., 3])\n",
    "print(x)\n",
    "A = x < 0 \n",
    "print(A)\n",
    "x[x < 0] += 20\n",
    "print(x)\n",
    "print('-------')\n",
    "x = np.array([1., -1., -2., 3])\n",
    "print(x)\n",
    "A = x < 0 \n",
    "print(x[A])\n",
    "x[A] += 20 \n",
    "print(x)\n"
   ]
  },
  {
   "cell_type": "code",
   "execution_count": 31,
   "metadata": {},
   "outputs": [],
   "source": [
    "# Iterate through the array\n"
   ]
  },
  {
   "cell_type": "code",
   "execution_count": 32,
   "metadata": {},
   "outputs": [
    {
     "name": "stdout",
     "output_type": "stream",
     "text": [
      "[[ 0  1  2  3  4  5  6]\n",
      " [ 7  8  9 10 11 12 13]\n",
      " [14 15 16 17 18 19 20]\n",
      " [21 22 23 24 25 26 27]\n",
      " [28 29 30 31 32 33 34]]\n",
      "[0 1 2 3 4 5 6]\n",
      "[ 7  8  9 10 11 12 13]\n",
      "[14 15 16 17 18 19 20]\n",
      "[21 22 23 24 25 26 27]\n",
      "[28 29 30 31 32 33 34]\n"
     ]
    }
   ],
   "source": [
    "# . If we simply iterate through the array elements, the array wil be sliced along the first dimension.\n",
    "x = np.arange(35).reshape(5,7)\n",
    "print(x)\n",
    "\n",
    "for i in x:\n",
    "    print(i)"
   ]
  },
  {
   "cell_type": "code",
   "execution_count": 33,
   "metadata": {},
   "outputs": [
    {
     "name": "stdout",
     "output_type": "stream",
     "text": [
      "0\n",
      "1\n",
      "2\n",
      "3\n",
      "4\n",
      "5\n",
      "6\n",
      "7\n",
      "8\n",
      "9\n",
      "10\n",
      "11\n",
      "12\n",
      "13\n",
      "14\n",
      "15\n",
      "16\n",
      "17\n",
      "18\n",
      "19\n",
      "20\n",
      "21\n",
      "22\n",
      "23\n",
      "24\n",
      "25\n",
      "26\n",
      "27\n",
      "28\n",
      "29\n",
      "30\n",
      "31\n",
      "32\n",
      "33\n",
      "34\n"
     ]
    }
   ],
   "source": [
    "# . What if we want to iterate through each element in the array?\n",
    "# . The flat attribute provide the iterator needed\n",
    "for i in x.flat:\n",
    "    print(i)"
   ]
  },
  {
   "cell_type": "code",
   "execution_count": null,
   "metadata": {},
   "outputs": [],
   "source": [
    "# Basic array operations\n"
   ]
  },
  {
   "cell_type": "code",
   "execution_count": 34,
   "metadata": {},
   "outputs": [
    {
     "name": "stdout",
     "output_type": "stream",
     "text": [
      "[21 32 43 54]\n",
      "[ 20  60 120 200]\n",
      "[20.         15.         13.33333333 12.5       ]\n",
      "[     20     900   64000 6250000]\n",
      "[ 0.91294525 -0.98803162  0.74511316 -0.26237485]\n"
     ]
    }
   ],
   "source": [
    "# . Arithmetic operators on array apply element-wise. A new array is created and filled with the results.\n",
    "a = np.array([20,30,40,50])\n",
    "b = np.arange(1,5)\n",
    "print(a + b)\n",
    "print(a * b)\n",
    "print(a / b)\n",
    "print(a** b)\n",
    "print(np.sin(a))"
   ]
  },
  {
   "cell_type": "code",
   "execution_count": 35,
   "metadata": {},
   "outputs": [
    {
     "ename": "ValueError",
     "evalue": "operands could not be broadcast together with shapes (10,) (4,) ",
     "output_type": "error",
     "traceback": [
      "\u001b[1;31m---------------------------------------------------------------------------\u001b[0m",
      "\u001b[1;31mValueError\u001b[0m                                Traceback (most recent call last)",
      "\u001b[1;32m<ipython-input-35-8e2e429c0d40>\u001b[0m in \u001b[0;36m<module>\u001b[1;34m()\u001b[0m\n\u001b[0;32m      2\u001b[0m \u001b[0mx\u001b[0m \u001b[1;33m=\u001b[0m \u001b[0mnp\u001b[0m\u001b[1;33m.\u001b[0m\u001b[0marange\u001b[0m\u001b[1;33m(\u001b[0m\u001b[1;36m10\u001b[0m\u001b[1;33m)\u001b[0m\u001b[1;33m\u001b[0m\u001b[0m\n\u001b[0;32m      3\u001b[0m \u001b[0my\u001b[0m \u001b[1;33m=\u001b[0m \u001b[0mnp\u001b[0m\u001b[1;33m.\u001b[0m\u001b[0marange\u001b[0m\u001b[1;33m(\u001b[0m\u001b[1;36m4\u001b[0m\u001b[1;33m)\u001b[0m\u001b[1;33m\u001b[0m\u001b[0m\n\u001b[1;32m----> 4\u001b[1;33m \u001b[0mprint\u001b[0m\u001b[1;33m(\u001b[0m\u001b[0mx\u001b[0m \u001b[1;33m+\u001b[0m \u001b[0my\u001b[0m\u001b[1;33m)\u001b[0m\u001b[1;33m\u001b[0m\u001b[0m\n\u001b[0m",
      "\u001b[1;31mValueError\u001b[0m: operands could not be broadcast together with shapes (10,) (4,) "
     ]
    }
   ],
   "source": [
    "# . Arry shape mismatch results in error.  The following is the such example. \n",
    "x = np.arange(10)\n",
    "y = np.arange(4)\n",
    "print(x + y)"
   ]
  },
  {
   "cell_type": "code",
   "execution_count": 36,
   "metadata": {},
   "outputs": [
    {
     "name": "stdout",
     "output_type": "stream",
     "text": [
      "[[0 1]\n",
      " [2 3]]\n",
      "[[0 2]\n",
      " [2 0]]\n",
      "[[1 0]\n",
      " [9 4]]\n",
      "[[0 1]\n",
      " [2 3]]\n"
     ]
    }
   ],
   "source": [
    "# . Matrix multiplication\n",
    "# . The * operator on two array applies element-wise\n",
    "# . The dot() function performs matrix multiplication\n",
    "x = np.array([[0,1],[2,3]])\n",
    "y = np.array([[3,2],[1,0]])\n",
    "print(x)\n",
    "\n",
    "print( x * y )\n",
    "\n",
    "print(x.dot(y))\n",
    "\n",
    "print(x)"
   ]
  },
  {
   "cell_type": "code",
   "execution_count": 37,
   "metadata": {},
   "outputs": [
    {
     "name": "stdout",
     "output_type": "stream",
     "text": [
      "float64\n",
      "[ 1.        +0.j          0.54030231+0.84147098j -0.41614684+0.90929743j\n",
      " -0.9899925 +0.14112001j -0.65364362-0.7568025j   0.28366219-0.95892427j\n",
      "  0.96017029-0.2794155j   0.75390225+0.6569866j  -0.14550003+0.98935825j\n",
      " -0.91113026+0.41211849j]\n",
      "complex128\n"
     ]
    }
   ],
   "source": [
    "# . When operating with arrays of different types, the type of the resulting \n",
    "#   array corresponds to the more general or precise one.\n",
    "\n",
    "x = np.arange(10)\n",
    "y = np.arange(10,0,-1, dtype = float)\n",
    "z = x * y \n",
    "print(z.dtype)\n",
    "\n",
    "z = np.exp(x * 1j)\n",
    "print(z)\n",
    "\n",
    "print(z.dtype)"
   ]
  },
  {
   "cell_type": "code",
   "execution_count": null,
   "metadata": {},
   "outputs": [],
   "source": [
    "# Some functions\n"
   ]
  },
  {
   "cell_type": "code",
   "execution_count": 4,
   "metadata": {},
   "outputs": [
    {
     "name": "stdout",
     "output_type": "stream",
     "text": [
      "[0.80758654 0.29250011 0.49765235 0.93452164 0.32607742 0.27710551\n",
      " 0.21585131 0.86960782 0.784142   0.74049927]\n",
      "0.9345216439245566\n",
      "0.21585130691763954\n",
      "0.26584858234399095\n"
     ]
    }
   ],
   "source": [
    "# . Unary functions\n",
    "x = np.random.rand(10)\n",
    "print(x)\n",
    "\n",
    "print(x.max())\n",
    "print(x.min())\n",
    "print(x.std())"
   ]
  },
  {
   "cell_type": "code",
   "execution_count": 5,
   "metadata": {},
   "outputs": [
    {
     "name": "stdout",
     "output_type": "stream",
     "text": [
      "[2.2424893  1.33977289 1.64485518 2.54599527 1.38552264 1.31930556\n",
      " 1.24091785 2.38597494 2.19052666 2.09698222]\n",
      "---\n",
      "[0.72262099 0.28834704 0.47736396 0.80431493 0.32032962 0.27357273\n",
      " 0.21417906 0.76407599 0.70621798 0.67465652]\n",
      "---\n",
      "[-0.21370505 -1.22929023 -0.69785355 -0.06772049 -1.12062043 -1.28335694\n",
      " -1.5331655  -0.13971295 -0.24316516 -0.30043063]\n",
      "---\n"
     ]
    }
   ],
   "source": [
    "print( np.exp(x) ) \n",
    "print('---')\n",
    "print( np.sin(x) )\n",
    "print('---')\n",
    "print( np.log(x) )\n",
    "print('---')"
   ]
  },
  {
   "cell_type": "code",
   "execution_count": null,
   "metadata": {},
   "outputs": [],
   "source": []
  }
 ],
 "metadata": {
  "kernelspec": {
   "display_name": "Python 3",
   "language": "python",
   "name": "python3"
  },
  "language_info": {
   "codemirror_mode": {
    "name": "ipython",
    "version": 3
   },
   "file_extension": ".py",
   "mimetype": "text/x-python",
   "name": "python",
   "nbconvert_exporter": "python",
   "pygments_lexer": "ipython3",
   "version": "3.6.9"
  }
 },
 "nbformat": 4,
 "nbformat_minor": 2
}
