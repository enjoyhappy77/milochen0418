{
 "cells": [
  {
   "cell_type": "code",
   "execution_count": null,
   "metadata": {},
   "outputs": [],
   "source": [
    "# PS: You can from https://py.checkio.org\n",
    "\n",
    "\n",
    "\n",
    "# Exam 1\n",
    "# All the same"
   ]
  },
  {
   "cell_type": "code",
   "execution_count": null,
   "metadata": {},
   "outputs": [],
   "source": [
    "\"\"\"\n",
    "Please impelemnt all_the_same function to satisfy following \n",
    "\n",
    "all_the_same([1, 1, 1]) == True\n",
    "all_the_same([1, 2, 1]) == False\n",
    "all_the_same(['a', 'a', 'a']) == True\n",
    "all_the_same([]) == True\n",
    "\"\"\"\n",
    "pass"
   ]
  },
  {
   "cell_type": "code",
   "execution_count": 4,
   "metadata": {},
   "outputs": [
    {
     "name": "stdout",
     "output_type": "stream",
     "text": [
      "True\n",
      "False\n"
     ]
    }
   ],
   "source": [
    "def test_case(test_func):\n",
    "    print(test_func([1, 1, 1]))\n",
    "    print(test_func([1, 2, 1]))\n",
    "\n",
    "def all_the_same(v_list):\n",
    "    if len(v_list) == 0:\n",
    "        return False\n",
    "    first_v = v_list[0]\n",
    "    for v in v_list:\n",
    "        if first_v != v:\n",
    "            return False\n",
    "    return True\n",
    "\n",
    "test_case(all_the_same)"
   ]
  },
  {
   "cell_type": "code",
   "execution_count": null,
   "metadata": {},
   "outputs": [],
   "source": [
    "# Exam 2\n",
    "# Sort Array by Element Frequency"
   ]
  },
  {
   "cell_type": "code",
   "execution_count": null,
   "metadata": {},
   "outputs": [],
   "source": [
    "\"\"\"\n",
    "Sort the given iterable so that its elements end up in the decreasing frequency order, that is, \n",
    "the number of times they appear in elements. If two elements have the same frequency, \n",
    "they should end up in the same order as the first appearance in the iterable.\n",
    "\n",
    "Example:\n",
    "frequency_sort([4, 6, 2, 2, 6, 4, 4, 4]) == [4, 4, 4, 4, 6, 6, 2, 2]\n",
    "frequency_sort(['bob', 'bob', 'carl', 'alex', 'bob']) == ['bob', 'bob', 'bob', 'carl', 'alex']\n",
    "\"\"\"\n",
    "pass"
   ]
  },
  {
   "cell_type": "code",
   "execution_count": 6,
   "metadata": {},
   "outputs": [
    {
     "name": "stdout",
     "output_type": "stream",
     "text": [
      "i =  0\n",
      "ret_list =  [5]\n",
      "vals =  [1, 2, 3, 4]\n",
      "\n",
      "i =  1\n",
      "ret_list =  [5, 4]\n",
      "vals =  [1, 2, 3]\n",
      "\n",
      "i =  2\n",
      "ret_list =  [5, 4, 3]\n",
      "vals =  [1, 2]\n",
      "\n",
      "i =  3\n",
      "ret_list =  [5, 4, 3, 2]\n",
      "vals =  [1]\n",
      "\n",
      "i =  4\n",
      "ret_list =  [5, 4, 3, 2, 1]\n",
      "vals =  []\n",
      "\n"
     ]
    },
    {
     "data": {
      "text/plain": [
       "[5, 4, 3, 2, 1]"
      ]
     },
     "execution_count": 6,
     "metadata": {},
     "output_type": "execute_result"
    }
   ],
   "source": [
    "def test_case(test_func):\n",
    "    print( test_func([4, 6, 2, 2, 6, 4, 4, 4]) ) \n",
    "    #[4, 4, 4, 4, 6, 6, 2, 2]\n",
    "    print( test_func(['bob', 'bob', 'carl', 'alex', 'bob']) )\n",
    "    # ['bob', 'bob', 'bob', 'carl', 'alex']\n",
    "    \n",
    "def sort_algo(vals):\n",
    "    ret_list = []\n",
    "    len_vals = len(vals)\n",
    "    for i in range(len_vals):\n",
    "        max_idx = 0 \n",
    "        for idx in range(len(vals)):\n",
    "            if vals[idx] > vals[max_idx]:\n",
    "                max_idx = idx\n",
    "        ret_list.append(vals[max_idx])\n",
    "        vals = vals[:max_idx] + vals[max_idx+1:]\n",
    "        print('i = ', i )\n",
    "        print('ret_list = ',ret_list)\n",
    "        print('vals = ', vals)\n",
    "        print('')\n",
    "            \n",
    "    return ret_list\n",
    "\n",
    "sort_algo([1,2,3,4,5])\n"
   ]
  },
  {
   "cell_type": "code",
   "execution_count": 9,
   "metadata": {},
   "outputs": [
    {
     "name": "stdout",
     "output_type": "stream",
     "text": [
      "{'bob': 3, 'carl': 1, 'alex': 1}\n",
      "i =  0\n",
      "ret_list =  ['bob']\n",
      "vals =  ['bob', 'bob', 'carl', 'alex']\n",
      "\n",
      "i =  1\n",
      "ret_list =  ['bob', 'bob']\n",
      "vals =  ['bob', 'carl', 'alex']\n",
      "\n",
      "i =  2\n",
      "ret_list =  ['bob', 'bob', 'bob']\n",
      "vals =  ['carl', 'alex']\n",
      "\n",
      "i =  3\n",
      "ret_list =  ['bob', 'bob', 'bob', 'carl']\n",
      "vals =  ['alex']\n",
      "\n",
      "i =  4\n",
      "ret_list =  ['bob', 'bob', 'bob', 'carl', 'alex']\n",
      "vals =  []\n",
      "\n"
     ]
    },
    {
     "data": {
      "text/plain": [
       "['bob', 'bob', 'bob', 'carl', 'alex']"
      ]
     },
     "execution_count": 9,
     "metadata": {},
     "output_type": "execute_result"
    }
   ],
   "source": [
    "\n",
    "\n",
    "def freq_sort_algo(vals):\n",
    "    kvs = {} # key-value \n",
    "    for v in vals:\n",
    "        if v in kvs.keys():\n",
    "            kvs[v] = kvs[v] + 1 \n",
    "        else:\n",
    "            kvs[v] = 1\n",
    "    print(kvs)\n",
    "\n",
    "    \n",
    "    ret_list = []\n",
    "    len_vals = len(vals)\n",
    "    for i in range(len_vals):\n",
    "        max_idx = 0 \n",
    "        for idx in range(len(vals)):\n",
    "            #if vals[idx] > vals[max_idx]:\n",
    "            if kvs[vals[idx]] > kvs[vals[max_idx]]:\n",
    "                max_idx = idx\n",
    "        ret_list.append(vals[max_idx])\n",
    "        vals = vals[:max_idx] + vals[max_idx+1:]\n",
    "        print('i = ', i )\n",
    "        print('ret_list = ',ret_list)\n",
    "        print('vals = ', vals)\n",
    "        print('')\n",
    "            \n",
    "    return ret_list\n",
    "\n",
    "\n",
    "\n",
    "freq_sort_algo(['bob', 'bob', 'bob', 'carl', 'alex'])\n"
   ]
  },
  {
   "cell_type": "code",
   "execution_count": null,
   "metadata": {},
   "outputs": [],
   "source": []
  }
 ],
 "metadata": {
  "kernelspec": {
   "display_name": "Python 3",
   "language": "python",
   "name": "python3"
  },
  "language_info": {
   "codemirror_mode": {
    "name": "ipython",
    "version": 3
   },
   "file_extension": ".py",
   "mimetype": "text/x-python",
   "name": "python",
   "nbconvert_exporter": "python",
   "pygments_lexer": "ipython3",
   "version": "3.6.9"
  }
 },
 "nbformat": 4,
 "nbformat_minor": 2
}
