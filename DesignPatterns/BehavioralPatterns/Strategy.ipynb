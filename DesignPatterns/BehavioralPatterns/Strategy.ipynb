{
 "cells": [
  {
   "cell_type": "code",
   "execution_count": null,
   "metadata": {},
   "outputs": [],
   "source": [
    "import types \n",
    "\n",
    "class Strategy:\n",
    "    def __init__(self, function=None):\n",
    "        self.name = \"Default Strategy\"\n",
    "        if function:\n",
    "            self.execute = types.MethodType(function, self)            \n",
    "    def execute(self):\n",
    "        print(\"{} is used!\".format(self.name))\n",
    "\n",
    "\n",
    "def strategy_one(self):\n",
    "    print(\"{} is used to execute method 1\".format(self.name))\n",
    "\n",
    "\n",
    "def strategy_two(self):\n",
    "    print(\"{} is used to execute method 2\".format(self.name))\n",
    "    \n",
    "\n",
    "s0 = Strategy()\n",
    "\n",
    "s0.execute()\n",
    "\n",
    "\n",
    "s1 = Strategy(strategy_one)\n",
    "\n",
    "s1.name = \"Strategy One\"\n",
    "\n",
    "s1.execute()\n",
    "\n",
    "s2 = Strategy(strategy_two)\n",
    "s2.name = \"Strategy Two\"\n",
    "s2.execute()\n",
    "\n"
   ]
  }
 ],
 "metadata": {
  "kernelspec": {
   "display_name": "Python 3",
   "language": "python",
   "name": "python3"
  },
  "language_info": {
   "codemirror_mode": {
    "name": "ipython",
    "version": 3
   },
   "file_extension": ".py",
   "mimetype": "text/x-python",
   "name": "python",
   "nbconvert_exporter": "python",
   "pygments_lexer": "ipython3",
   "version": "3.6.9"
  }
 },
 "nbformat": 4,
 "nbformat_minor": 2
}
