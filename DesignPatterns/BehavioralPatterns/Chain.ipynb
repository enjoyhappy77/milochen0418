{
 "cells": [
  {
   "cell_type": "code",
   "execution_count": null,
   "metadata": {},
   "outputs": [],
   "source": [
    "class Handler: #Abstract handler\n",
    "    def __init__(self, successor):\n",
    "        self._successor = successor # Define who is the next handler\n",
    "\n",
    "    def handle(self, request):\n",
    "            handled = self._handle(request) #If handled, stop here\n",
    "            if not handled:\n",
    "                self._successor.handle(request)\t\n",
    "\n",
    "\tdef _handle(self, request):\n",
    "\t\traise NotImplementedError('Must provide implementation in subclass!')\n",
    "\n",
    "class ConcreteHandler1(Handler): # Inherits from the abstract handler\n",
    "\tdef _handle(self, request):\n",
    "\t\tif 0 < request <= 10: # Provide a condition for handling\n",
    "\t\t\tprint(\"Request {} handled in handler 1\".format(request))\n",
    "\t\t\treturn True # Indicates that the request has been handled\n",
    "\n",
    "class DefaultHandler(Handler): # Inherits from the abstract handler\n",
    "\t\"\"\"Default handler\"\"\"\n",
    "\n",
    "\tdef _handle(self, request):\n",
    "\t\t\"\"\"If there is no handler available\"\"\"\n",
    "\t\t#No condition checking since this is a default handler\n",
    "\t\tprint(\"End of chain, no handler for {}\".format(request))\n",
    "\t\treturn True # Indicates that the request has been handled\n",
    "\n",
    "class Client: # Using handlers\n",
    "\tdef __init__(self):\n",
    "\t\tself.handler = ConcreteHandler1(DefaultHandler(None)) # Create handlers and use them in a sequence you want\n",
    "\t\t                                                      # Note that the default handler has no successor\n",
    "\n",
    "\tdef delegate(self, requests): # Send your requests one at a time for handlers to handle\n",
    "\t\tfor request in requests:\n",
    "\t\t\t\tself.handler.handle(request)\n",
    "\n",
    "# Create a client\n",
    "c = Client()\n",
    "\n",
    "# Create requests\n",
    "requests = [2, 5, 30]\n",
    "\n",
    "# Send the requests\n",
    "c.delegate(requests)\n",
    "\n",
    "\n"
   ]
  }
 ],
 "metadata": {
  "kernelspec": {
   "display_name": "Python 3",
   "language": "python",
   "name": "python3"
  },
  "language_info": {
   "codemirror_mode": {
    "name": "ipython",
    "version": 3
   },
   "file_extension": ".py",
   "mimetype": "text/x-python",
   "name": "python",
   "nbconvert_exporter": "python",
   "pygments_lexer": "ipython3",
   "version": "3.6.9"
  }
 },
 "nbformat": 4,
 "nbformat_minor": 2
}
