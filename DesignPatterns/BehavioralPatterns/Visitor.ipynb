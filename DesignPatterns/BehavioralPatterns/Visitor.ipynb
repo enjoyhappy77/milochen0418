{
 "cells": [
  {
   "cell_type": "code",
   "execution_count": null,
   "metadata": {},
   "outputs": [],
   "source": [
    "class House(object): #The class being visited \n",
    "    def accept(self, visitor):\n",
    "        visitor.visit(self) #Triggers the visiting operation\n",
    "\n",
    "    def work_on_hvac(self, hvac_specialist):\n",
    "        print(self, \"worked on by\", hvac_specialist) \n",
    "    def work_on_electricity(self, electrician):\n",
    "        print(self, \"worked on by\", electrician) \n",
    "    def __str__(self):\n",
    "        return self.__class__.__name__\n",
    "class Visitor(object):\n",
    "    # Abstract visitor\n",
    "    def __str__(self):\n",
    "        return self.__class__.__name__\n",
    "class HvacSpecialist(Visitor): \n",
    "    def visit(self, house):\n",
    "        house.work_on_hvac(self) \n",
    "class Electrician(Visitor): \n",
    "    def visit(self, house):\n",
    "        house.work_on_electricity(self)\n",
    "\n",
    "\n",
    "hv = HvacSpecialist()\n",
    "\n",
    "e = Electrician()\n",
    "\n",
    "\n",
    "home = House()\n",
    "\n",
    "\n",
    "home.accept(hv)\n",
    "\n",
    "home.accept(e)\n",
    "\n"
   ]
  }
 ],
 "metadata": {
  "kernelspec": {
   "display_name": "Python 3",
   "language": "python",
   "name": "python3"
  },
  "language_info": {
   "codemirror_mode": {
    "name": "ipython",
    "version": 3
   },
   "file_extension": ".py",
   "mimetype": "text/x-python",
   "name": "python",
   "nbconvert_exporter": "python",
   "pygments_lexer": "ipython3",
   "version": "3.6.9"
  }
 },
 "nbformat": 4,
 "nbformat_minor": 2
}
