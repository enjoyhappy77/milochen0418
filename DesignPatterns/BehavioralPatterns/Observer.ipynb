{
 "cells": [
  {
   "cell_type": "code",
   "execution_count": 1,
   "metadata": {},
   "outputs": [],
   "source": [
    "class Subject(object): \n",
    "    def __init__(self):\n",
    "        self._observers = [] \n",
    "    def attach(self, observer):\n",
    "        if observer not in self._observers: \n",
    "            self._observers.append(observer) \n",
    "    def detach(self, observer): \n",
    "        try:\n",
    "            self._observers.remove(observer)\n",
    "        except ValueError:\n",
    "            pass\n",
    "\n",
    "    def notify(self, modifier=None):\n",
    "        for observer in self._observers: \n",
    "            if modifier != observer: \n",
    "                observer.update(self) \n",
    "\n",
    "class Core(Subject): \n",
    "\n",
    "    def __init__(self, name=\"\"):\n",
    "        Subject.__init__(self)\n",
    "        self._name = name \n",
    "        self._temp = 0 \n",
    "        \n",
    "    #Getter that gets the core temperature\n",
    "    @property \n",
    "    def temp(self):\n",
    "        return self._temp\n",
    "    #Setter that sets the core temperature\n",
    "    @temp.setter \n",
    "    def temp(self, temp):\n",
    "        self._temp = temp\n",
    "        self.notify() \n",
    "\n",
    "class TempViewer:\n",
    "    def update(self, subject): \n",
    "        #Alert method that is invoked when the notify() method in a concrete subject is invoked\n",
    "        print(\"Temperature Viewer: {} has Temperature {}\".format(subject._name, subject._temp))\n",
    "\n",
    "\n"
   ]
  },
  {
   "cell_type": "code",
   "execution_count": 2,
   "metadata": {},
   "outputs": [],
   "source": [
    "c1 = Core(\"Core 1\")\n",
    "c2 = Core(\"Core 2\")\n",
    "\n",
    "v1 = TempViewer()\n",
    "v2 = TempViewer()\n",
    "v3 = TempViewer()\n",
    "\n",
    "\n",
    "c1.attach(v1)\n",
    "c2.attach(v2)\n",
    "c2.attach(v3)\n"
   ]
  },
  {
   "cell_type": "code",
   "execution_count": 3,
   "metadata": {},
   "outputs": [
    {
     "name": "stdout",
     "output_type": "stream",
     "text": [
      "Temperature Viewer: Core 1 has Temperature 80\n"
     ]
    }
   ],
   "source": [
    "c1.temp = 80\n"
   ]
  },
  {
   "cell_type": "code",
   "execution_count": 4,
   "metadata": {},
   "outputs": [
    {
     "name": "stdout",
     "output_type": "stream",
     "text": [
      "Temperature Viewer: Core 1 has Temperature 90\n"
     ]
    }
   ],
   "source": [
    "c1.temp = 90"
   ]
  },
  {
   "cell_type": "code",
   "execution_count": 5,
   "metadata": {},
   "outputs": [
    {
     "name": "stdout",
     "output_type": "stream",
     "text": [
      "Temperature Viewer: Core 2 has Temperature 30\n",
      "Temperature Viewer: Core 2 has Temperature 30\n"
     ]
    }
   ],
   "source": [
    "c2.temp = 30"
   ]
  },
  {
   "cell_type": "code",
   "execution_count": null,
   "metadata": {},
   "outputs": [],
   "source": []
  }
 ],
 "metadata": {
  "kernelspec": {
   "display_name": "Python 3",
   "language": "python",
   "name": "python3"
  },
  "language_info": {
   "codemirror_mode": {
    "name": "ipython",
    "version": 3
   },
   "file_extension": ".py",
   "mimetype": "text/x-python",
   "name": "python",
   "nbconvert_exporter": "python",
   "pygments_lexer": "ipython3",
   "version": "3.6.9"
  }
 },
 "nbformat": 4,
 "nbformat_minor": 2
}
