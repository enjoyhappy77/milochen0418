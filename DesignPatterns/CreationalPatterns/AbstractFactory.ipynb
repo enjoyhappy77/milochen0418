{
 "cells": [
  {
   "cell_type": "markdown",
   "metadata": {},
   "source": [
    "# Abstract Factory\n",
    "\n",
    "Abstract Factory is especially useful when a client expects to receive a family of related objects at a given time, but don't have to know which family it is until run time. \n",
    "\n",
    "Here is the scenario we'll be using. We'll first build a pet factory whose concrete factories include Dog factory and Cat factory. Both dog and cat factories produce related products such as dog food and cat food.\n",
    "\n"
   ]
  },
  {
   "cell_type": "code",
   "execution_count": 1,
   "metadata": {},
   "outputs": [],
   "source": [
    "import os\n",
    "class Dog:\n",
    "    def speak(self):\n",
    "        return \"Woof!\"\n",
    "    def __str__(self):\n",
    "        return \"Dog\"\n",
    "    \n",
    "class DogFactory:\n",
    "    def get_pet(self):\n",
    "        return Dog()\n",
    "\n",
    "    def get_food(self):\n",
    "        return \"Dog Food!\"\n",
    "\n",
    "\n",
    "class PetStore:\n",
    "    def __init__(self, pet_factory=None):\n",
    "        self._pet_factory = pet_factory\n",
    "    def show_pet(self):\n",
    "        pet = self._pet_factory.get_pet()\n",
    "        pet_food = self._pet_factory.get_food()\n",
    "        print(\"pet is '{}'!\".format(pet))\n",
    "        print(\"pet says hello by '{}'\".format(pet.speak()))\n",
    "        print(\"it's food is '{}'!\".format(pet_food))\n",
    "\n"
   ]
  },
  {
   "cell_type": "code",
   "execution_count": 2,
   "metadata": {},
   "outputs": [],
   "source": [
    "#Create a Concrete Factory\n",
    "factory = DogFactory()\n",
    "\n"
   ]
  },
  {
   "cell_type": "code",
   "execution_count": 3,
   "metadata": {},
   "outputs": [],
   "source": [
    "#Create a pet store housing our Abstract Factory\n",
    "shop = PetStore(factory)\n",
    "\n"
   ]
  },
  {
   "cell_type": "code",
   "execution_count": 4,
   "metadata": {},
   "outputs": [
    {
     "name": "stdout",
     "output_type": "stream",
     "text": [
      "pet is 'Dog'!\n",
      "pet says hello by 'Woof!'\n",
      "it's food is 'Dog Food!'!\n"
     ]
    }
   ],
   "source": [
    "#Invoke the utility method to show the details of our pet\n",
    "shop.show_pet()\n",
    "\n"
   ]
  },
  {
   "cell_type": "code",
   "execution_count": null,
   "metadata": {},
   "outputs": [],
   "source": []
  }
 ],
 "metadata": {
  "kernelspec": {
   "display_name": "Python 3",
   "language": "python",
   "name": "python3"
  },
  "language_info": {
   "codemirror_mode": {
    "name": "ipython",
    "version": 3
   },
   "file_extension": ".py",
   "mimetype": "text/x-python",
   "name": "python",
   "nbconvert_exporter": "python",
   "pygments_lexer": "ipython3",
   "version": "3.6.9"
  }
 },
 "nbformat": 4,
 "nbformat_minor": 2
}
