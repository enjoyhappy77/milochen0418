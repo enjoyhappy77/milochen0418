{
 "cells": [
  {
   "cell_type": "code",
   "execution_count": 1,
   "metadata": {},
   "outputs": [],
   "source": [
    "class Borg:\n",
    "    _shared_data = {} \n",
    "    def __init__(self):\n",
    "        self.__dict__ = self._shared_data \n",
    "        \n",
    "class Singleton(Borg): \n",
    "    def __init__(self, **kwargs):\n",
    "        Borg.__init__(self)\n",
    "        self._shared_data.update(kwargs) \n",
    "    def __str__(self):\n",
    "        return str(self._shared_data) \n",
    "\n",
    "\n"
   ]
  },
  {
   "cell_type": "code",
   "execution_count": 2,
   "metadata": {},
   "outputs": [
    {
     "name": "stdout",
     "output_type": "stream",
     "text": [
      "{'HTTP': 'Hyper Text Transfer Protocol'}\n"
     ]
    }
   ],
   "source": [
    "#Let's create a singleton object and add our first acronym\n",
    "x = Singleton(HTTP=\"Hyper Text Transfer Protocol\")\n",
    "print(x) \n",
    "\n",
    "\n"
   ]
  },
  {
   "cell_type": "code",
   "execution_count": 3,
   "metadata": {},
   "outputs": [
    {
     "name": "stdout",
     "output_type": "stream",
     "text": [
      "{'HTTP': 'Hyper Text Transfer Protocol', 'SNMP': 'Simple Network Management Protocol'}\n"
     ]
    }
   ],
   "source": [
    "#Let's create another singleton object and if it refers to the same attribute dictionary by adding another acronym.\n",
    "y = Singleton(SNMP=\"Simple Network Management Protocol\")\n",
    "print(y)\n",
    "\n"
   ]
  },
  {
   "cell_type": "code",
   "execution_count": null,
   "metadata": {},
   "outputs": [],
   "source": []
  }
 ],
 "metadata": {
  "kernelspec": {
   "display_name": "Python 3",
   "language": "python",
   "name": "python3"
  },
  "language_info": {
   "codemirror_mode": {
    "name": "ipython",
    "version": 3
   },
   "file_extension": ".py",
   "mimetype": "text/x-python",
   "name": "python",
   "nbconvert_exporter": "python",
   "pygments_lexer": "ipython3",
   "version": "3.6.9"
  }
 },
 "nbformat": 4,
 "nbformat_minor": 2
}
