{
 "cells": [
  {
   "cell_type": "code",
   "execution_count": null,
   "metadata": {},
   "outputs": [],
   "source": [
    "class Director():\n",
    "    def __init__(self, builder):\n",
    "        self._builder = builder \n",
    "        \n",
    "    def construct_car(self):\n",
    "        self._builder.create_new_car()\n",
    "        self._builder.add_model()\n",
    "        self._builder.add_tires()\n",
    "        self._builder.add_engine()\n",
    "        \n",
    "    def get_car(self):\n",
    "        return self._builder.car \n",
    "    \n",
    "class Builder():\n",
    "    def __init__(self):\n",
    "        self.car = None \n",
    "        \n",
    "    def create_new_car(self):\n",
    "        self.car = Car()\n",
    "        \n",
    "\n",
    "\n",
    "class SkyLarkBuilder(Builder):\n",
    "    def add_model(self):\n",
    "        self.car.model = \"Skylark\"\n",
    "\n",
    "    def add_tires(self):\n",
    "        self.car.tires = \"Regular tires\"\n",
    "\n",
    "    def add_engine(self):    \n",
    "        self.car.engine = \"Turbo engine\"\n",
    "\n",
    "class Car():\n",
    "    def __init__(self):\n",
    "        self.model = None\n",
    "        self.tires = None\n",
    "        self.engine = None\n",
    "        \n",
    "    def __str__(self):\n",
    "        return '{} | {} | {}'.format(self.model, self.tires, self.engine)\n",
    "\n",
    "builder = SkyLarkBuilder()\n",
    "director = Director(builder)\n",
    "director.construct_car()\n",
    "car = director.get_car()\n",
    "print(car)\n"
   ]
  }
 ],
 "metadata": {
  "kernelspec": {
   "display_name": "Python 3",
   "language": "python",
   "name": "python3"
  },
  "language_info": {
   "codemirror_mode": {
    "name": "ipython",
    "version": 3
   },
   "file_extension": ".py",
   "mimetype": "text/x-python",
   "name": "python",
   "nbconvert_exporter": "python",
   "pygments_lexer": "ipython3",
   "version": "3.6.9"
  }
 },
 "nbformat": 4,
 "nbformat_minor": 2
}
