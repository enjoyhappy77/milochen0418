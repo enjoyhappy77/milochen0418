{
 "cells": [
  {
   "cell_type": "markdown",
   "metadata": {},
   "source": [
    "# Decorator\n",
    "Python makes implementing Decorator very straightforward due to its built in language features. Our challenge here is to add additional features to an existing object dynamically without using subclassing. Here's our scenario. We start with a function simply displaying a Hello World! message, and then we'd like to make the message look fancier by decorating it with additional tags, such as blink, as you can see here."
   ]
  },
  {
   "cell_type": "code",
   "execution_count": 1,
   "metadata": {},
   "outputs": [],
   "source": [
    "from functools import wraps\n",
    "\n",
    "def make_blink(function):\n",
    "    #This makes the decorator transparent in terms of its name and docstring\n",
    "    @wraps(function)\n",
    "    #Define the inner function\n",
    "    def decorator():\n",
    "        #Grab the return value of the function being decorated\n",
    "        ret = function() \n",
    "        #Add new functionality to the function being decorated\n",
    "        return \"<blink>\" + ret + \"</blink>\"\n",
    "\n",
    "    return decorator\n",
    "\n",
    "#Apply the decorator here!\n",
    "@make_blink\n",
    "def hello_world():\n",
    "    \"\"\" DOC: Original Function\"\"\"\n",
    "    return \"Hello, World!\"\n",
    "\n"
   ]
  },
  {
   "cell_type": "code",
   "execution_count": 2,
   "metadata": {},
   "outputs": [
    {
     "name": "stdout",
     "output_type": "stream",
     "text": [
      "<blink>Hello, World!</blink>\n"
     ]
    }
   ],
   "source": [
    "#Check the result of decorating\n",
    "print(hello_world())\n",
    "\n",
    "\n"
   ]
  },
  {
   "cell_type": "code",
   "execution_count": 3,
   "metadata": {},
   "outputs": [
    {
     "name": "stdout",
     "output_type": "stream",
     "text": [
      "hello_world\n"
     ]
    }
   ],
   "source": [
    "\n",
    "#Check if the function name is still the same name of the function being decorated\n",
    "print(hello_world.__name__)\n",
    "\n",
    "\n"
   ]
  },
  {
   "cell_type": "code",
   "execution_count": 4,
   "metadata": {},
   "outputs": [
    {
     "name": "stdout",
     "output_type": "stream",
     "text": [
      " DOC: Original Function\n"
     ]
    }
   ],
   "source": [
    "\n",
    "#Check if the docstring is still the same as that of the function being decorated\n",
    "print(hello_world.__doc__)\n",
    "\n"
   ]
  },
  {
   "cell_type": "code",
   "execution_count": null,
   "metadata": {},
   "outputs": [],
   "source": []
  }
 ],
 "metadata": {
  "kernelspec": {
   "display_name": "Python 3",
   "language": "python",
   "name": "python3"
  },
  "language_info": {
   "codemirror_mode": {
    "name": "ipython",
    "version": 3
   },
   "file_extension": ".py",
   "mimetype": "text/x-python",
   "name": "python",
   "nbconvert_exporter": "python",
   "pygments_lexer": "ipython3",
   "version": "3.6.9"
  }
 },
 "nbformat": 4,
 "nbformat_minor": 2
}
