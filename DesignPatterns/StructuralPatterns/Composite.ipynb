{
 "cells": [
  {
   "cell_type": "code",
   "execution_count": null,
   "metadata": {},
   "outputs": [],
   "source": [
    "class Component(object):\n",
    "    #Abstract class\n",
    "    def __init__(self, *args, **kwargs):\n",
    "        pass\n",
    "    def component_function(self):\n",
    "        pass\n",
    "\n",
    "class Child(Component): \n",
    "    #Concrete class\n",
    "    def __init__(self, *args, **kwargs):\n",
    "        Component.__init__(self, *args, **kwargs)\n",
    "        self.name = args[0]\n",
    "    def component_function(self):\n",
    "        print(\"{}\".format(self.name))\n",
    "\n",
    "class Composite(Component): \n",
    "    def __init__(self, *args, **kwargs):\n",
    "        Component.__init__(self, *args, **kwargs)\n",
    "        self.name = args[0]\n",
    "        self.children = []\n",
    "    def append_child(self, child):\n",
    "        self.children.append(child)\n",
    "    def remove_child(self, child):\n",
    "        self.children.remove(child)\n",
    "    def component_function(self):\n",
    "        print(\"{}\".format(self.name))\n",
    "        for i in self.children:\n",
    "            i.component_function()\n",
    "\n",
    "sub1 = Composite(\"submenu1\")\n",
    "\n",
    "sub11 = Child(\"sub_submenu 11\")\n",
    "\n",
    "sub12 = Child(\"sub_submenu 12\")\n",
    "\n",
    "sub1.append_child(sub11)\n",
    "sub1.append_child(sub12)\n",
    "\n",
    "top = Composite(\"top_menu\")\n",
    "\n",
    "sub2 = Child(\"submenu2\")\n",
    "\n",
    "top.append_child(sub1)\n",
    "\n",
    "top.append_child(sub2)\n",
    "\n",
    "top.component_function()\n",
    "\n"
   ]
  }
 ],
 "metadata": {
  "kernelspec": {
   "display_name": "Python 3",
   "language": "python",
   "name": "python3"
  },
  "language_info": {
   "codemirror_mode": {
    "name": "ipython",
    "version": 3
   },
   "file_extension": ".py",
   "mimetype": "text/x-python",
   "name": "python",
   "nbconvert_exporter": "python",
   "pygments_lexer": "ipython3",
   "version": "3.6.9"
  }
 },
 "nbformat": 4,
 "nbformat_minor": 2
}
