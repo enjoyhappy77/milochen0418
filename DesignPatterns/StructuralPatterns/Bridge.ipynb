{
 "cells": [
  {
   "cell_type": "code",
   "execution_count": null,
   "metadata": {},
   "outputs": [],
   "source": [
    "class DrawingAPIOne(object):\n",
    "    def draw_circle(self, x, y, radius):\n",
    "        print(\"API 1 drawing a circle at ({}, {} with radius {}!)\".format(x, y, radius))\n",
    "class DrawingAPITwo(object):\n",
    "    def draw_circle(self, x, y, radius):\n",
    "        print(\"API 2 drawing a circle at ({}, {} with radius {}!)\".format(x, y, radius))\n",
    "class Circle(object):\n",
    "    def __init__(self, x, y, radius, drawing_api):\n",
    "        self._x = x\n",
    "        self._y = y\n",
    "        self._radius = radius\n",
    "        self._drawing_api = drawing_api\n",
    "    def draw(self):\n",
    "        self._drawing_api.draw_circle(self._x, self._y, self._radius)\n",
    "    def scale(self, percent):\n",
    "        self._radius *= percent\n",
    "\n",
    "\n",
    "circle1 = Circle(1, 2, 3, DrawingAPIOne())\n",
    "circle1.draw()\n",
    "\n",
    "circle2 = Circle(2, 3, 4, DrawingAPITwo())\n",
    "circle2.draw()\n",
    "\n",
    "\n"
   ]
  }
 ],
 "metadata": {
  "kernelspec": {
   "display_name": "Python 3",
   "language": "python",
   "name": "python3"
  },
  "language_info": {
   "codemirror_mode": {
    "name": "ipython",
    "version": 3
   },
   "file_extension": ".py",
   "mimetype": "text/x-python",
   "name": "python",
   "nbconvert_exporter": "python",
   "pygments_lexer": "ipython3",
   "version": "3.6.9"
  }
 },
 "nbformat": 4,
 "nbformat_minor": 2
}
