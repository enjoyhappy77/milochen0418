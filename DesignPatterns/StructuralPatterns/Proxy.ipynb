{
 "cells": [
  {
   "cell_type": "code",
   "execution_count": 1,
   "metadata": {},
   "outputs": [],
   "source": [
    "import time\n",
    "\n",
    "class Producer:\n",
    "    def produce(self):\n",
    "        print(\"Producer is working hard!\")\n",
    "    def meet(self):\n",
    "        print(\"Producer has time to meet you now!\")\n",
    "        \n",
    "class Proxy:\n",
    "    def __init__(self):  \n",
    "        self.occupied = 'No'\n",
    "        self.producer = None\n",
    "    def produce(self):\n",
    "        print(\"Artist checking if Producer is available ...\")\n",
    "        if self.occupied == 'No':\n",
    "            self.producer = Producer()\n",
    "            time.sleep(2)\n",
    "            self.producer.meet()\n",
    "        else:\n",
    "            time.sleep(2)\n",
    "            print(\"Producer is busy!\")\n",
    "\n"
   ]
  },
  {
   "cell_type": "code",
   "execution_count": 2,
   "metadata": {},
   "outputs": [],
   "source": [
    "#Instantiate a Proxy\n",
    "p = Proxy()\n",
    "\n"
   ]
  },
  {
   "cell_type": "code",
   "execution_count": 3,
   "metadata": {},
   "outputs": [
    {
     "name": "stdout",
     "output_type": "stream",
     "text": [
      "Artist checking if Producer is available ...\n",
      "Producer has time to meet you now!\n"
     ]
    }
   ],
   "source": [
    "#Make the proxy: Artist produce until Producer is available\n",
    "p.produce()\n"
   ]
  },
  {
   "cell_type": "code",
   "execution_count": 4,
   "metadata": {},
   "outputs": [
    {
     "name": "stdout",
     "output_type": "stream",
     "text": [
      "Artist checking if Producer is available ...\n",
      "Producer is busy!\n"
     ]
    }
   ],
   "source": [
    "#Change the state to 'occupied'\n",
    "p.occupied = 'Yes'\n",
    "\n",
    "#Make the Producer produce\n",
    "p.produce()"
   ]
  },
  {
   "cell_type": "code",
   "execution_count": null,
   "metadata": {},
   "outputs": [],
   "source": []
  }
 ],
 "metadata": {
  "kernelspec": {
   "display_name": "Python 3",
   "language": "python",
   "name": "python3"
  },
  "language_info": {
   "codemirror_mode": {
    "name": "ipython",
    "version": 3
   },
   "file_extension": ".py",
   "mimetype": "text/x-python",
   "name": "python",
   "nbconvert_exporter": "python",
   "pygments_lexer": "ipython3",
   "version": "3.6.9"
  }
 },
 "nbformat": 4,
 "nbformat_minor": 2
}
