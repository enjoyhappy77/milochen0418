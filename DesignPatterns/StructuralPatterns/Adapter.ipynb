{
 "cells": [
  {
   "cell_type": "code",
   "execution_count": null,
   "metadata": {},
   "outputs": [],
   "source": [
    "class Korean:\n",
    "    def __init__(self):\n",
    "        self.name = \"Korean\"\n",
    "    def speak_korean(self):\n",
    "        return \"An-neyong?\"\n",
    "\n",
    "class British:\n",
    "    def __init__(self):\n",
    "        self.name = \"British\"\n",
    "    def speak_english(self):\n",
    "        return \"Hello!\"\t\n",
    "\n",
    "class Adapter:\n",
    "    def __init__(self, object, **adapted_method):\n",
    "        self._object = object\n",
    "        self.__dict__.update(adapted_method)\n",
    "    def __getattr__(self, attr):\n",
    "        return getattr(self._object, attr)\n",
    "objects = []\n",
    "\n",
    "korean = Korean()\n",
    "\n",
    "british =British()\n",
    "\n",
    "objects.append(Adapter(korean, speak=korean.speak_korean))\n",
    "objects.append(Adapter(british, speak=british.speak_english))\n",
    "\n",
    "\n",
    "for obj in objects:\n",
    "    print(\"{} says '{}'\\n\".format(obj.name, obj.speak()))\n",
    "\n"
   ]
  }
 ],
 "metadata": {
  "kernelspec": {
   "display_name": "Python 3",
   "language": "python",
   "name": "python3"
  },
  "language_info": {
   "codemirror_mode": {
    "name": "ipython",
    "version": 3
   },
   "file_extension": ".py",
   "mimetype": "text/x-python",
   "name": "python",
   "nbconvert_exporter": "python",
   "pygments_lexer": "ipython3",
   "version": "3.6.9"
  }
 },
 "nbformat": 4,
 "nbformat_minor": 2
}
