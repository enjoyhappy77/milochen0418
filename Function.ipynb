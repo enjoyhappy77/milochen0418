{
 "cells": [
  {
   "cell_type": "code",
   "execution_count": 1,
   "metadata": {},
   "outputs": [],
   "source": [
    "# Functions"
   ]
  },
  {
   "cell_type": "code",
   "execution_count": 2,
   "metadata": {},
   "outputs": [
    {
     "name": "stdout",
     "output_type": "stream",
     "text": [
      "0 1 1 2 3 5 8 13 21 34 55 89 144 233 377 610 987 1597 \n"
     ]
    }
   ],
   "source": [
    "# Functions return a value based on the given arguments\n",
    "\n",
    "def fib(n): # write Fibonacci series up to n\n",
    "    \"\"\"print a Fibonacci series up to n \"\"\"\n",
    "    a, b = 0, 1\n",
    "    while a < n:\n",
    "        print(a, end=' ')\n",
    "        a, b = b, a+b\n",
    "    print()\n",
    "# Now call the function we just defined\n",
    "fib(2000)"
   ]
  },
  {
   "cell_type": "code",
   "execution_count": 3,
   "metadata": {},
   "outputs": [
    {
     "name": "stdout",
     "output_type": "stream",
     "text": [
      "\n",
      "None\n"
     ]
    }
   ],
   "source": [
    "# Return\n",
    "# The return statement returns with a value from a function. \n",
    "# return without an expression argument returns None.\n",
    "\n",
    "print(fib(0))\n"
   ]
  },
  {
   "cell_type": "code",
   "execution_count": 5,
   "metadata": {},
   "outputs": [
    {
     "name": "stdout",
     "output_type": "stream",
     "text": [
      "[0, 1, 1, 2, 3, 5, 8, 13, 21, 34, 55, 89]\n"
     ]
    }
   ],
   "source": [
    "def fib2(n):\n",
    "    \"\"\" Return a list containing the Fibonacci series up to n.\"\"\"\n",
    "    result = []\n",
    "    a, b = 0, 1\n",
    "    while a < n:\n",
    "        result.append(a)\n",
    "        a, b = b, a+b\n",
    "    return result\n",
    "f100 = fib2(100)\n",
    "print(f100)"
   ]
  },
  {
   "cell_type": "code",
   "execution_count": 6,
   "metadata": {},
   "outputs": [],
   "source": [
    "# Function Objects"
   ]
  },
  {
   "cell_type": "code",
   "execution_count": 9,
   "metadata": {},
   "outputs": [
    {
     "name": "stdout",
     "output_type": "stream",
     "text": [
      "<function fib at 0x0000000005C28510>\n",
      "<function fib at 0x0000000005C28510>\n",
      "0 1 1 2 3 5 8 13 21 34 55 89 \n",
      "None\n"
     ]
    }
   ],
   "source": [
    "# . Similar to the \"function pointer\" in C\n",
    "# . Functions are objects. This means that functions can be passed around\n",
    "print(fib)\n",
    "f = fib\n",
    "print(f)\n",
    "print(f(100))"
   ]
  },
  {
   "cell_type": "code",
   "execution_count": 10,
   "metadata": {},
   "outputs": [],
   "source": [
    "# Default Argument Values"
   ]
  },
  {
   "cell_type": "code",
   "execution_count": 14,
   "metadata": {},
   "outputs": [
    {
     "name": "stdout",
     "output_type": "stream",
     "text": [
      "Do you really want to quit?44\n",
      "Do you really want to quit?y\n"
     ]
    },
    {
     "data": {
      "text/plain": [
       "True"
      ]
     },
     "execution_count": 14,
     "metadata": {},
     "output_type": "execute_result"
    }
   ],
   "source": [
    "# This  creates a function that can be called with fewer\n",
    "# arguments than it is defined to allow.\n",
    "def ask_ok(prompt, retries=2, reminder='Please try again!'):\n",
    "    while True:\n",
    "        ok = input(prompt)\n",
    "        if ok in ('y', 'ye', 'yes'):\n",
    "            return True\n",
    "        if ok in ('n', 'no', 'nop', 'nope'):\n",
    "            return False\n",
    "        retries = retries - 1\n",
    "        if retries < 0:\n",
    "            raise ValueError('invalid user response')\n",
    "            print(reminder)\n",
    "ask_ok('Do you really want to quit?')"
   ]
  },
  {
   "cell_type": "code",
   "execution_count": 15,
   "metadata": {},
   "outputs": [
    {
     "name": "stdout",
     "output_type": "stream",
     "text": [
      "5\n"
     ]
    }
   ],
   "source": [
    "# The default values are evaluated at the point of \n",
    "# function definition in the defining scope\n",
    "\n",
    "i = 5\n",
    "def f(arg=i):\n",
    "    print(arg)\n",
    "i = 6\n",
    "f()"
   ]
  },
  {
   "cell_type": "code",
   "execution_count": 16,
   "metadata": {},
   "outputs": [
    {
     "name": "stdout",
     "output_type": "stream",
     "text": [
      "[1]\n",
      "[2]\n",
      "[3]\n"
     ]
    }
   ],
   "source": [
    "# . The default value is evaluated only once.\n",
    "# . This makes a difference when the defulat is a \n",
    "# . mutable object such as a list, dictionary, or instances of most classes.\n",
    "\n",
    "def f1(a, L=[]):\n",
    "    L.append(a)\n",
    "    return L\n",
    "def f2(a, L=None):\n",
    "    if L is None:\n",
    "        L = []\n",
    "    L.append(a)\n",
    "    return L\n",
    "\n",
    "print(f2(1))\n",
    "print(f2(2))\n",
    "print(f2(3))"
   ]
  },
  {
   "cell_type": "code",
   "execution_count": 25,
   "metadata": {},
   "outputs": [
    {
     "name": "stdout",
     "output_type": "stream",
     "text": [
      "-- This parrot wouldn't voom if you put 1000 volts through it.\n",
      "-- Lovely plumage, the Norwegian Blue\n",
      "-- It's a stiff !\n",
      "-- This parrot wouldn't VOOOOOM if you put 1000000 volts through it.\n",
      "-- Lovely plumage, the Norwegian Blue\n",
      "-- It's a stiff !\n",
      "-- This parrot wouldn't jump if you put a million volts through it.\n",
      "-- Lovely plumage, the Norwegian Blue\n",
      "-- It's bereft of life !\n",
      "-- This parrot wouldn't voom if you put a thousand volts through it.\n",
      "-- Lovely plumage, the Norwegian Blue\n",
      "-- It's pushing up the daisies !\n"
     ]
    }
   ],
   "source": [
    "# Keyword Arguments\n",
    "# . Function (kwarg1=value, kwarg2=value, ...)\n",
    "# . In a function call, keyword arguments must follow positional arguments.\n",
    "def parrot(voltage, state='a stiff', action='voom', type='Norwegian Blue'):\n",
    "    print(\"-- This parrot wouldn't\", action , end=' ')\n",
    "    print(\"if you put\", voltage, \"volts through it.\")\n",
    "    print(\"-- Lovely plumage, the\", type)\n",
    "    print(\"-- It's\", state, \"!\")\n",
    "\n",
    "parrot(1000)    # 1 positional argument\n",
    "#parrot(voltage=5.0, 'dead')  # 1 keyword argument\n",
    "parrot(voltage=1000000, action='VOOOOOM') # 2 keyword arguments\n",
    "parrot('a million', 'bereft of life', 'jump') # 3 positional arguments\n",
    "parrot('a thousand', state='pushing up the daisies') # 1 positionaly, 1 keyword\n",
    "\n",
    "\n",
    "#parrot()\n",
    "#parrot(voltage=5.0, 'dead')\n",
    "#parrot(110, voltage=220)\n",
    "#parrot(actor='John Cleese')\n",
    "    "
   ]
  },
  {
   "cell_type": "code",
   "execution_count": 1,
   "metadata": {},
   "outputs": [],
   "source": [
    "# Functions argument\n",
    "# . Positions argument\n",
    "#   . Order matters for positional arguments\n",
    "#   . Positional arguments works like a list\n",
    "#   . Keyword arguments works like a dict\n",
    "#   . Positional arguments should always come before keyword arguments."
   ]
  },
  {
   "cell_type": "code",
   "execution_count": 2,
   "metadata": {},
   "outputs": [
    {
     "name": "stdout",
     "output_type": "stream",
     "text": [
      "10\n",
      "20\n",
      "30\n",
      "----------------------------------------\n",
      "a : 100\n",
      "b : 200\n",
      "c : 300\n"
     ]
    }
   ],
   "source": [
    "# Arbitrary Argument Lists\n",
    "# . When a final formal parameter of the form **name is persent, it receives a dictionary\n",
    "# . This may be combined with a formal parameter of the form *name which receives a tuple \n",
    "#   containing the positional arguments beyond the formal parameter list\n",
    "\n",
    "def test(value, *arguments, **keywords):\n",
    "    print(value)\n",
    "    for arg in arguments:\n",
    "        print(arg)\n",
    "    print(\"-\" * 40)\n",
    "    for kw in keywords:\n",
    "        print(kw, \":\", keywords[kw])\n",
    "test(10,20,30,a=100, b=200, c=300)"
   ]
  },
  {
   "cell_type": "code",
   "execution_count": 3,
   "metadata": {},
   "outputs": [
    {
     "name": "stdout",
     "output_type": "stream",
     "text": [
      "earth/mars/venus/earth/mars/venus\n",
      "earth.mars.venus\n"
     ]
    }
   ],
   "source": [
    "def concat(*args, sep=\"/\"):\n",
    "    return sep.join(args)\n",
    "\n",
    "str1 = concat(\"earth\", \"mars\", \"venus\", 'earth/mars/venus')\n",
    "print(str1)\n",
    "str1 = concat(\"earth\", \"mars\", \"venus\", sep=\".\")\n",
    "print(str1)"
   ]
  },
  {
   "cell_type": "code",
   "execution_count": 5,
   "metadata": {},
   "outputs": [
    {
     "name": "stdout",
     "output_type": "stream",
     "text": [
      "[3, 4, 5]\n",
      "a : 100\n",
      "b : 200\n",
      "c : 300\n",
      "a : 100\n",
      "b : 200\n",
      "c : 300\n"
     ]
    }
   ],
   "source": [
    "# Unpacking Argument Lists\n",
    "\"\"\"\n",
    " . The reverse situation occurs when the arguments are already \n",
    "   in a list or tuple but need to be unpacked for a function call\n",
    "   requiring  separate positional arguments.\n",
    " . write the function call with the * operator to unpack the arguments\n",
    "   out of a list or tuple, and\n",
    " . ** operator to unpack keyword arguments out of a dictionary\n",
    "\"\"\"\n",
    "\n",
    "args = [3, 6]\n",
    "print(list(range(*args)))\n",
    "\n",
    "def test(**keywords):\n",
    "    for kw in keywords:\n",
    "        print(kw, \":\", keywords[kw])\n",
    "\n",
    "test(a=100, b=200, c=300)\n",
    "dict1 = {\"a\":100, \"b\":200, \"c\":300}\n",
    "test(**dict1)\n",
    "pass"
   ]
  },
  {
   "cell_type": "code",
   "execution_count": 6,
   "metadata": {},
   "outputs": [
    {
     "name": "stdout",
     "output_type": "stream",
     "text": [
      "100\n",
      "60\n",
      "70\n"
     ]
    }
   ],
   "source": [
    "# Lambda and Closure\n",
    "\"\"\"\n",
    " . Small anonymous functions can be created with the lambda keyword\n",
    " . The expression must return a value\n",
    " . No Block allowed in lambda. They are syntactically restricted to a single expression\n",
    " . Lambda functions can be used wherever function objects are required. \n",
    "\"\"\"\n",
    "square = lambda x: x**2\n",
    "print(square(10))\n",
    "\n",
    "def make_incrementor(n):\n",
    "    return lambda x: x + n\n",
    "\n",
    "f = make_incrementor(50)\n",
    "print(f(10))\n",
    "print(f(20))\n",
    "\n",
    "\n",
    "pass"
   ]
  },
  {
   "cell_type": "code",
   "execution_count": 12,
   "metadata": {},
   "outputs": [
    {
     "name": "stdout",
     "output_type": "stream",
     "text": [
      "2\n"
     ]
    }
   ],
   "source": [
    "# Enclosing Functions\n",
    "i = 1 \n",
    "def f1():\n",
    "    i = 2\n",
    "    def f2():\n",
    "        print(i)\n",
    "    f2()\n",
    "f1()"
   ]
  },
  {
   "cell_type": "code",
   "execution_count": 9,
   "metadata": {},
   "outputs": [],
   "source": [
    "# Name Scope\n",
    "\"\"\"\n",
    " . The lifetime of objects\n",
    " . The if, for, while in python do not have own scope\n",
    " . Functions, classes have own scope\n",
    " . Use \"global\" to bind global variable\n",
    " . Use \"nonlocal\" to bind enclosing function's local\n",
    "\"\"\"\n",
    "# try nonlocal and global keywork in the code of above cell \"Enclosing Functions\"\n",
    "pass"
   ]
  },
  {
   "cell_type": "code",
   "execution_count": null,
   "metadata": {},
   "outputs": [],
   "source": [
    "# The LEGB rule\n",
    "\"\"\"\n",
    " . LEGB is the order that the python looks for variable\n",
    "  1. L_ocal: inside the function, class.\n",
    "  2. E_nclosing Functions: Name in the scope of any and all statically enclosing functions, from inner to outer\n",
    "  3. G_lobal: Names assigned at the top-level of a module file, or by executing a global statement in a def within the file.\n",
    "  4. B_uilt-in: Names preassigned in the built-in names module\n",
    " . We can use globals() and locals() to see the dict of the namespace.\n",
    " . You can \"access\" non-local variable without specifically declare it, but you have to declare it to change it.\n",
    "\"\"\"\n",
    "pass"
   ]
  },
  {
   "cell_type": "code",
   "execution_count": 13,
   "metadata": {},
   "outputs": [
    {
     "name": "stdout",
     "output_type": "stream",
     "text": [
      "3\n"
     ]
    }
   ],
   "source": [
    "# Name Scope example 1\n",
    "# . Let's make it harder\n",
    "i = 1\n",
    "def f1():\n",
    "    i = 2\n",
    "    def f2():\n",
    "        i = 3\n",
    "        def f3():\n",
    "            nonlocal i\n",
    "            print(i)\n",
    "        f3()\n",
    "    f2()\n",
    "f1()"
   ]
  },
  {
   "cell_type": "code",
   "execution_count": 17,
   "metadata": {},
   "outputs": [
    {
     "name": "stdout",
     "output_type": "stream",
     "text": [
      "3\n",
      "3\n"
     ]
    }
   ],
   "source": [
    "# Name Scope example 2 \n",
    "# . More confusing\n",
    "i = 1\n",
    "def f1():\n",
    "    i = 2\n",
    "    def f2():\n",
    "        global i \n",
    "        i = 3\n",
    "        def f3():\n",
    "            print(i)\n",
    "        f3()\n",
    "    f2()\n",
    "f1()\n"
   ]
  },
  {
   "cell_type": "code",
   "execution_count": 19,
   "metadata": {},
   "outputs": [
    {
     "ename": "SyntaxError",
     "evalue": "no binding for nonlocal 'i' found (<ipython-input-19-d928ca623e96>, line 10)",
     "output_type": "error",
     "traceback": [
      "\u001b[1;36m  File \u001b[1;32m\"<ipython-input-19-d928ca623e96>\"\u001b[1;36m, line \u001b[1;32m10\u001b[0m\n\u001b[1;33m    nonlocal i\u001b[0m\n\u001b[1;37m    ^\u001b[0m\n\u001b[1;31mSyntaxError\u001b[0m\u001b[1;31m:\u001b[0m no binding for nonlocal 'i' found\n"
     ]
    }
   ],
   "source": [
    "# Name Scope example 3\n",
    "# . End this, please\n",
    "i = 1\n",
    "def f1():\n",
    "    i = 2\n",
    "    def f2():\n",
    "        global i\n",
    "        i = 3 \n",
    "        def f3():\n",
    "            nonlocal i\n",
    "            print(i)\n",
    "        f3()\n",
    "    f2()\n",
    "f1()\n",
    "\n",
    "# . all variable assignments in a function store the value in the local symbol table; whereas variable\n",
    "#   references first look in the local symbol table"
   ]
  },
  {
   "cell_type": "code",
   "execution_count": 20,
   "metadata": {},
   "outputs": [],
   "source": [
    "# Generator and yield\n",
    "# . Generators simplifies creation of iterators.\n",
    "# . A generator is a function that produces a sequences of results instread of a single value.\n",
    "# . A generator loops like a function, for example:\n",
    "def yrange(n):\n",
    "    i = 0\n",
    "    while i < n:\n",
    "        x = yield i\n",
    "        i += 1\n",
    "        \n",
    "# . The function stop and return a value every time when the yield is reached.\n",
    "# . However, after the function returned, the call stack is NOT cleared\n",
    "# . When you continue the function, it starts from the last yield\n",
    "# . The call stack is cleared when the function reaches the return statement.\n",
    "# . Execute the function returns a generator objects.\n",
    "# . Run the generator with the next() function\n",
    "gen = yrange(10)\n",
    "next(gen) # return 0 \n",
    "next(gen) # return 1\n",
    "\n",
    "# . You can also pass value to generator with .send() method\n",
    "gen.send(10)\n",
    "# . The passed value is the return value of yield statement\n",
    "# . next(gen) actually equals to gen.send(None)\n"
   ]
  },
  {
   "cell_type": "code",
   "execution_count": null,
   "metadata": {},
   "outputs": [],
   "source": [
    "# Decorator\n",
    "# . A decorator is any callable Python object that is used to modify a function, method or class definition.\n",
    "# . A decorator is passed the original object being defined and returns a modified object\n",
    "# . Python decorators were inspired in part by Java annotations, and have a similar syntax\n",
    "\n",
    "# func1 is a function that takes a function as argument and returns a function \n",
    "\"\"\"\n",
    "@func1\n",
    "def func2():\n",
    "    dosomething()\n",
    "# is equivalent to\n",
    "\n",
    "def func2():\n",
    "    dosomething()\n",
    "func2 = func1(func2)\n",
    "\n",
    "\"\"\"\n",
    "pass"
   ]
  },
  {
   "cell_type": "code",
   "execution_count": 21,
   "metadata": {},
   "outputs": [],
   "source": [
    "# Decorator\n",
    "# . Decorator can be chained\n",
    "\"\"\"\n",
    "@func1\n",
    "@func2\n",
    "def func3():\n",
    "  ...\n",
    "  \n",
    "\"\"\"\n",
    "# . A example of decorator that records the function name and arguments\n",
    "\"\"\"\n",
    "def logged(func):\n",
    "    def with_logging(*args, **kwargs):\n",
    "        print (func.__name__ + \" was called\")\n",
    "        return func(*args, **kwargs)\n",
    "    return with_logging\n",
    "\"\"\"    \n",
    "pass"
   ]
  },
  {
   "cell_type": "code",
   "execution_count": 47,
   "metadata": {},
   "outputs": [
    {
     "name": "stdout",
     "output_type": "stream",
     "text": [
      "with_logging call\n",
      "qq was called\n",
      "call qq\n",
      "with_logging call\n",
      "qfunc was called\n"
     ]
    },
    {
     "ename": "TypeError",
     "evalue": "qfunc() got an unexpected keyword argument 'a'",
     "output_type": "error",
     "traceback": [
      "\u001b[1;31m---------------------------------------------------------------------------\u001b[0m",
      "\u001b[1;31mTypeError\u001b[0m                                 Traceback (most recent call last)",
      "\u001b[1;32m<ipython-input-47-a65d0b16b4ce>\u001b[0m in \u001b[0;36m<module>\u001b[1;34m()\u001b[0m\n\u001b[0;32m     11\u001b[0m \u001b[1;33m\u001b[0m\u001b[0m\n\u001b[0;32m     12\u001b[0m \u001b[0mlogged\u001b[0m\u001b[1;33m(\u001b[0m\u001b[0mqq\u001b[0m\u001b[1;33m)\u001b[0m\u001b[1;33m(\u001b[0m\u001b[1;36m1\u001b[0m\u001b[1;33m,\u001b[0m\u001b[1;36m2\u001b[0m\u001b[1;33m,\u001b[0m\u001b[1;36m3\u001b[0m\u001b[1;33m,\u001b[0m \u001b[0ma\u001b[0m\u001b[1;33m=\u001b[0m\u001b[1;36m333\u001b[0m\u001b[1;33m)\u001b[0m\u001b[1;33m\u001b[0m\u001b[0m\n\u001b[1;32m---> 13\u001b[1;33m \u001b[0mlogged\u001b[0m\u001b[1;33m(\u001b[0m\u001b[0mqfunc\u001b[0m\u001b[1;33m)\u001b[0m\u001b[1;33m(\u001b[0m\u001b[1;36m1\u001b[0m\u001b[1;33m,\u001b[0m\u001b[1;36m2\u001b[0m\u001b[1;33m,\u001b[0m\u001b[1;36m3\u001b[0m\u001b[1;33m,\u001b[0m \u001b[0ma\u001b[0m\u001b[1;33m=\u001b[0m\u001b[1;36m333\u001b[0m\u001b[1;33m)\u001b[0m\u001b[1;33m\u001b[0m\u001b[0m\n\u001b[0m",
      "\u001b[1;32m<ipython-input-47-a65d0b16b4ce>\u001b[0m in \u001b[0;36mwith_logging\u001b[1;34m(*args, **kwargs)\u001b[0m\n\u001b[0;32m      3\u001b[0m         \u001b[0mprint\u001b[0m\u001b[1;33m(\u001b[0m\u001b[1;34m'with_logging call'\u001b[0m\u001b[1;33m)\u001b[0m\u001b[1;33m\u001b[0m\u001b[0m\n\u001b[0;32m      4\u001b[0m         \u001b[0mprint\u001b[0m \u001b[1;33m(\u001b[0m\u001b[0mfunc\u001b[0m\u001b[1;33m.\u001b[0m\u001b[0m__name__\u001b[0m \u001b[1;33m+\u001b[0m \u001b[1;34m\" was called\"\u001b[0m\u001b[1;33m)\u001b[0m\u001b[1;33m\u001b[0m\u001b[0m\n\u001b[1;32m----> 5\u001b[1;33m         \u001b[1;32mreturn\u001b[0m \u001b[0mfunc\u001b[0m\u001b[1;33m(\u001b[0m\u001b[1;33m*\u001b[0m\u001b[0margs\u001b[0m\u001b[1;33m,\u001b[0m \u001b[1;33m**\u001b[0m\u001b[0mkwargs\u001b[0m\u001b[1;33m)\u001b[0m\u001b[1;33m\u001b[0m\u001b[0m\n\u001b[0m\u001b[0;32m      6\u001b[0m     \u001b[1;32mreturn\u001b[0m \u001b[0mwith_logging\u001b[0m\u001b[1;33m\u001b[0m\u001b[0m\n\u001b[0;32m      7\u001b[0m \u001b[1;32mdef\u001b[0m \u001b[0mqq\u001b[0m\u001b[1;33m(\u001b[0m\u001b[1;33m*\u001b[0m\u001b[0margs\u001b[0m\u001b[1;33m,\u001b[0m \u001b[1;33m**\u001b[0m\u001b[0mkwargs\u001b[0m\u001b[1;33m)\u001b[0m\u001b[1;33m:\u001b[0m\u001b[1;33m\u001b[0m\u001b[0m\n",
      "\u001b[1;31mTypeError\u001b[0m: qfunc() got an unexpected keyword argument 'a'"
     ]
    }
   ],
   "source": [
    "def logged(func):\n",
    "    def with_logging(*args, **kwargs):\n",
    "        print('with_logging call')\n",
    "        print (func.__name__ + \" was called\")\n",
    "        return func(*args, **kwargs)\n",
    "    return with_logging\n",
    "def qq(*args, **kwargs):\n",
    "    print(\"call qq\")\n",
    "def qfunc():\n",
    "    print(\"call qfunc()\")\n",
    "    \n",
    "logged(qq)(1,2,3, a=333)\n",
    "logged(qfunc)(1,2,3, a=333)\n"
   ]
  },
  {
   "cell_type": "code",
   "execution_count": null,
   "metadata": {},
   "outputs": [],
   "source": []
  }
 ],
 "metadata": {
  "kernelspec": {
   "display_name": "Python 3",
   "language": "python",
   "name": "python3"
  },
  "language_info": {
   "codemirror_mode": {
    "name": "ipython",
    "version": 3
   },
   "file_extension": ".py",
   "mimetype": "text/x-python",
   "name": "python",
   "nbconvert_exporter": "python",
   "pygments_lexer": "ipython3",
   "version": "3.6.4"
  }
 },
 "nbformat": 4,
 "nbformat_minor": 2
}
