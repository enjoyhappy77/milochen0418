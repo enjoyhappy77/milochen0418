{
 "cells": [
  {
   "cell_type": "code",
   "execution_count": null,
   "metadata": {},
   "outputs": [],
   "source": [
    "# ================ Review HomeWork of Week 1 ==================="
   ]
  },
  {
   "cell_type": "code",
   "execution_count": null,
   "metadata": {
    "slideshow": {
     "slide_type": "slide"
    }
   },
   "outputs": [],
   "source": [
    "# 5. introdution to w3schools of python\n",
    "# Hyperlink --> https://www.w3schools.com/python/"
   ]
  },
  {
   "cell_type": "code",
   "execution_count": null,
   "metadata": {
    "slideshow": {
     "slide_type": "subslide"
    }
   },
   "outputs": [],
   "source": [
    "# 6. Homework Hint\n",
    "\"\"\"\n",
    "1.1 please print the sentence Hello Taiwan\n",
    "Hint: Use print()\n",
    "\n",
    "1.2 please make a addition for string \"33\" add \"77\" and get the answer as string like \"110\" \n",
    "Hint: Use  int()\n",
    "\"\"\"\n",
    "pass"
   ]
  },
  {
   "cell_type": "code",
   "execution_count": 3,
   "metadata": {
    "slideshow": {
     "slide_type": "subslide"
    }
   },
   "outputs": [
    {
     "name": "stdout",
     "output_type": "stream",
     "text": [
      "Hello Taiwan\n"
     ]
    }
   ],
   "source": [
    "# Homework 1.1\n",
    "print(\"Hello Taiwan\") # fix the code here\n",
    "\n",
    "# Expect to see \"Hello Taiwan\" in the following"
   ]
  },
  {
   "cell_type": "code",
   "execution_count": 5,
   "metadata": {
    "slideshow": {
     "slide_type": "subslide"
    }
   },
   "outputs": [
    {
     "name": "stdout",
     "output_type": "stream",
     "text": [
      "110\n"
     ]
    }
   ],
   "source": [
    "# Homework 1.2\n",
    "var1 = \"33\"\n",
    "var2 = \"77\"\n",
    "var3 = int(var1) + int(var2)   # Fix the code here\n",
    "\n",
    "answer = var3\n",
    "print(answer)\n",
    "# Expect to see 110 in the follwoing"
   ]
  },
  {
   "cell_type": "code",
   "execution_count": null,
   "metadata": {
    "slideshow": {
     "slide_type": "slide"
    }
   },
   "outputs": [],
   "source": [
    "# 7. Advanced Home work   (NICE TO HAVE But not Necessary)\n",
    "# Nice to have but not necessary\n",
    "# Homework 2.1\n",
    "#  Use If - else statement to decide you number are odd number of even number\n",
    "\n",
    "# Homework 2.2 \n",
    "#  Let n as some number . and then print out information like \n",
    "#  1\n",
    "#  2\n",
    "#  3\n",
    "#  ...\n",
    "#  n\n",
    "\n",
    "# Homework 2.3 \n",
    "# Search resource and then do read text file and write text file"
   ]
  },
  {
   "cell_type": "code",
   "execution_count": 9,
   "metadata": {},
   "outputs": [
    {
     "name": "stdout",
     "output_type": "stream",
     "text": [
      "Please enter an integer: 2\n",
      "Even\n"
     ]
    }
   ],
   "source": [
    "# Homework 2.1\n",
    "\n",
    "number = int(input(\"Please enter an integer: \"))\n",
    "if number % 2 == 1 : # <-- FIX code here\n",
    "    print(\"Odd\")\n",
    "else :\n",
    "    print(\"Even\")\n",
    "\n",
    "# Expect to print \"Odd\" when number is odd\n",
    "# Expect to print \"Even\" when number is even"
   ]
  },
  {
   "cell_type": "code",
   "execution_count": 8,
   "metadata": {},
   "outputs": [
    {
     "name": "stdout",
     "output_type": "stream",
     "text": [
      "2\n",
      "0\n",
      "1\n",
      "0\n",
      "1\n",
      "0\n",
      "True\n",
      "False\n"
     ]
    }
   ],
   "source": [
    "# Hoomework 2.1 Hint\n",
    "# Use % and ==\n",
    "# You can understand % and == by observe the following code\n",
    "print( 12 % 5 )\n",
    "print(0 % 2)\n",
    "print(1 % 2)\n",
    "print(2 % 2)\n",
    "print(3 % 2)\n",
    "print(4 % 2)\n",
    "print(1 == 1)\n",
    "print(0 == 1)\n",
    "# Try to understand what above code do. \n",
    "# And it may give you some idea to finish Homework 2.1\n"
   ]
  },
  {
   "cell_type": "code",
   "execution_count": 1,
   "metadata": {
    "slideshow": {
     "slide_type": "skip"
    }
   },
   "outputs": [],
   "source": []
  },
  {
   "cell_type": "code",
   "execution_count": 12,
   "metadata": {},
   "outputs": [
    {
     "name": "stdout",
     "output_type": "stream",
     "text": [
      "Please enter an integer: 5\n",
      "n =  5\n",
      "1\n",
      "2\n",
      "3\n",
      "4\n",
      "5\n"
     ]
    }
   ],
   "source": [
    "# Homework 2.2\n",
    "# Search resource and then do read text file and write text file\n",
    "n = int(input(\"Please enter an integer: \"))\n",
    "print(\"n = \", n)\n",
    "\n",
    "for i in range(1,n+1):\n",
    "    print(i)\n",
    "# WRITE code here to print from 1 to n \n",
    "\n"
   ]
  },
  {
   "cell_type": "code",
   "execution_count": null,
   "metadata": {},
   "outputs": [],
   "source": [
    "# [HINT]\n",
    "# Homework 2.2 Hint 1\n",
    "# (1) Maybe try to google it  by the follwoing keyword\n",
    "#     \"python for loop 1 to n\"\n",
    "# (2) Maybe try to open this hyperlink to search any good thing for you ? \n",
    "# https://www.w3schools.com/python/ \n",
    "# (3) Maybe you can read the \"newbie python book.pdf\" (PS: in the email's attached file)\n"
   ]
  },
  {
   "cell_type": "code",
   "execution_count": 10,
   "metadata": {},
   "outputs": [
    {
     "name": "stdout",
     "output_type": "stream",
     "text": [
      "1\n",
      "2\n",
      "3\n"
     ]
    }
   ],
   "source": [
    "# [HINT]\n",
    "# Homework 2.2 Hint 2\n",
    "# Here is example to print value from 1 to 3 \n",
    "for i in range(1,4):\n",
    "    print(i)"
   ]
  },
  {
   "cell_type": "code",
   "execution_count": 2,
   "metadata": {},
   "outputs": [
    {
     "name": "stdout",
     "output_type": "stream",
     "text": [
      "1\n",
      "3\n",
      "5\n",
      "7\n",
      "9\n",
      "11\n",
      "13\n"
     ]
    }
   ],
   "source": [
    "# [HINT]\n",
    "# Homework 2.2 Hint 3\n",
    "n=1\n",
    "while True:\n",
    "    print(n)\n",
    "    n = n + 2\n",
    "    if n > 13:\n",
    "        break\n",
    "        "
   ]
  },
  {
   "cell_type": "code",
   "execution_count": null,
   "metadata": {},
   "outputs": [],
   "source": [
    "# Homework 2.3\n",
    "# Try to do something for read text file and write text file\n",
    "\n",
    "# WRITE code here ... \n"
   ]
  },
  {
   "cell_type": "code",
   "execution_count": null,
   "metadata": {},
   "outputs": [],
   "source": [
    "# [HINT]\n",
    "# Homework 2.3 Hint 1\n",
    "# GO to www.w3schools.com and see the chapter of File Handling. (the following link)\n",
    "# https://www.w3schools.com/python/python_file_handling.asp\n",
    "\n",
    "\n"
   ]
  },
  {
   "cell_type": "code",
   "execution_count": null,
   "metadata": {},
   "outputs": [],
   "source": [
    "# command to make slideshow (Teacher Use this command)\n",
    "# !jupyter nbconvert \"CodingNewbie_Class1_Variable.ipynb\" --to slides --post serve --reveal-prefix '//cdn.bootcss.com/reveal.js/3.5.0'"
   ]
  },
  {
   "cell_type": "code",
   "execution_count": null,
   "metadata": {},
   "outputs": [],
   "source": [
    "# Special Case Sharing"
   ]
  },
  {
   "cell_type": "code",
   "execution_count": null,
   "metadata": {},
   "outputs": [],
   "source": [
    "# Case 1 --  Homework 2.2\n",
    "# Search resource and then do read text file and write text file\n",
    "n = int(input(\"Please enter an integer: \"))\n",
    "print(\"n = \", n)\n",
    "\n",
    "# WRITE code here to print from 1 to n\n",
    "\n",
    "for i in range (1,int(input(\"Please enter an integer: \")) + 1 ):\n",
    "    print (i)\n",
    "    \n"
   ]
  },
  {
   "cell_type": "code",
   "execution_count": null,
   "metadata": {},
   "outputs": [],
   "source": []
  },
  {
   "cell_type": "code",
   "execution_count": null,
   "metadata": {},
   "outputs": [],
   "source": [
    "# Case 2 -- Homework 1.2\n",
    "var1 = int(\"33\")\n",
    "var2 = int(\"77\")\n",
    "var3 = var1 + var2   # Fix the code here\n",
    "\n",
    "answer = var3\n",
    "print(answer)\n",
    "# Expect to see 110 in the follwoing\n",
    "\n",
    "# Suggest to use var3 = int(var1) + int(var2)\n",
    "# because var1 and var2 are string variable"
   ]
  },
  {
   "cell_type": "code",
   "execution_count": null,
   "metadata": {},
   "outputs": [],
   "source": [
    "# Case -- Homework 2.3\n",
    "f = open (\"AABBCCC.txt\", \"w\") \n",
    "f.write(\"Woops! I have deleted the content!\")\n",
    "f.close \n",
    "\n",
    "f = open (\"AABBCCC.txt\", \"r\") \n",
    "print (f.read())\n",
    "\n",
    "\n",
    "# suggest to use f.close() instead f.close \n"
   ]
  },
  {
   "cell_type": "code",
   "execution_count": null,
   "metadata": {},
   "outputs": [],
   "source": [
    "# ================== Additional Teaching in Week 2 ================="
   ]
  },
  {
   "cell_type": "code",
   "execution_count": 16,
   "metadata": {},
   "outputs": [
    {
     "name": "stdout",
     "output_type": "stream",
     "text": [
      "3\n",
      "6\n",
      "9\n",
      "12\n"
     ]
    }
   ],
   "source": [
    "# 1, 3 , 5 , 7 , 9 , 11, 13  <--- print it by range()\n",
    "start = 3\n",
    "end = 12\n",
    "for num in range(start, end + 1,3): \n",
    "    print(num) "
   ]
  },
  {
   "cell_type": "code",
   "execution_count": 1,
   "metadata": {},
   "outputs": [
    {
     "name": "stdout",
     "output_type": "stream",
     "text": [
      "1\n",
      "3\n",
      "5\n",
      "7\n",
      "9\n",
      "11\n",
      "13\n"
     ]
    }
   ],
   "source": [
    "#for loop\n",
    "#for i in [1,3,5,7,9,15 ]:\n",
    "#    print(i)\n",
    "    \n",
    "for i in range(1, 15, 2):\n",
    "    print(i)\n",
    "\n",
    "# [0 , 9)   start=0  end  \n",
    "# range( start =1, end=15+1,  step=2 )\n",
    "# range is Built-In Type\n",
    "\"\"\"\n",
    "rr = range(1,6,2)\n",
    "print(type(rr))\n",
    "print(rr)\n",
    "print(list(rr))\n",
    "\"\"\"\n",
    "\"\"\"\n",
    "for i in range(1,6,2):\n",
    "    print(i)\n",
    "\"\"\"\n",
    "pass\n",
    "# Need to understand Built-in Type of list & range. "
   ]
  },
  {
   "cell_type": "code",
   "execution_count": 29,
   "metadata": {},
   "outputs": [
    {
     "name": "stdout",
     "output_type": "stream",
     "text": [
      "0 1\n",
      "0 2\n",
      "0 3\n",
      "0 4\n",
      "1 1\n",
      "1 2\n",
      "1 3\n",
      "1 4\n",
      "2 1\n",
      "2 2\n",
      "2 3\n",
      "2 4\n",
      "3 1\n",
      "3 2\n",
      "3 3\n",
      "3 4\n",
      "4 1\n",
      "4 2\n",
      "4 3\n",
      "4 4\n"
     ]
    }
   ],
   "source": [
    "# Example of 2-level while-loop\n",
    "i = 0\n",
    "while i < 5:\n",
    "    j = 1\n",
    "    while j < 5:\n",
    "        print( str(i), str(j) )\n",
    "        j = j + 1\n",
    "    i = i + 1\n",
    "    "
   ]
  },
  {
   "cell_type": "code",
   "execution_count": 26,
   "metadata": {},
   "outputs": [],
   "source": [
    "\n"
   ]
  },
  {
   "cell_type": "code",
   "execution_count": 2,
   "metadata": {},
   "outputs": [
    {
     "name": "stdout",
     "output_type": "stream",
     "text": [
      "\n",
      "*\n",
      "**\n",
      "***\n",
      "****\n",
      "*****\n",
      "******\n"
     ]
    }
   ],
   "source": [
    "#for j in range(7):\n",
    "#    print('*', end='')\n",
    "for i in range(7):\n",
    "    for j in range(i):\n",
    "        print('*', end='')  \n",
    "    print('') # next line\n"
   ]
  },
  {
   "cell_type": "code",
   "execution_count": null,
   "metadata": {},
   "outputs": [],
   "source": [
    "# ===========  Start to do HOMEWORK of Week 2 here .==================\n",
    "#\n",
    "# =============   deadline 2019/08/05 Mon. ===========================\n",
    "#\n",
    "# ============= Please send you homework to milo_chen@mail2000.com.tw"
   ]
  },
  {
   "cell_type": "code",
   "execution_count": 11,
   "metadata": {
    "scrolled": true
   },
   "outputs": [
    {
     "name": "stdout",
     "output_type": "stream",
     "text": [
      "*******\n",
      "******\n",
      "*****\n",
      "****\n",
      "***\n",
      "**\n",
      "*\n"
     ]
    }
   ],
   "source": [
    "# HomeWork 1\n",
    "n = int(input(\"Please enter an integer: \"))\n",
    "\n",
    "# --- Write Code here ---- \n",
    "\n",
    "\n",
    "\n",
    "# Inputer number 3\n",
    "# Expect to see\n",
    "\"\"\"\n",
    "***\n",
    "**\n",
    "*\n",
    "\"\"\"\n",
    "\n",
    "\n",
    "# Inputer number 7 \n",
    "# Expect to see\n",
    "\"\"\"\n",
    "*******\n",
    "******\n",
    "*****\n",
    "****\n",
    "***\n",
    "**\n",
    "*\n",
    "\"\"\"\n",
    "pass"
   ]
  },
  {
   "cell_type": "code",
   "execution_count": null,
   "metadata": {},
   "outputs": [],
   "source": [
    "# Homework 2\n",
    "# Fibonacci sequence is 1,1,2,3,5,8,13,21 ...\n",
    "\n",
    "n = int(input(\"Please enter an integer: \"))\n",
    "\n",
    "# ---- Write Code here\n",
    "\n",
    "\n",
    "# input number n = 3 \n",
    "# Expect to see \n",
    "\"\"\"\n",
    "1\n",
    "1\n",
    "2\n",
    "\"\"\"\n",
    "\n",
    "# input number n = 5\n",
    "# Expect to see\n",
    "\"\"\"\n",
    "1\n",
    "1\n",
    "2\n",
    "3\n",
    "5\n",
    "\"\"\"\n",
    "pass"
   ]
  }
 ],
 "metadata": {
  "kernelspec": {
   "display_name": "Python 3",
   "language": "python",
   "name": "python3"
  },
  "language_info": {
   "codemirror_mode": {
    "name": "ipython",
    "version": 3
   },
   "file_extension": ".py",
   "mimetype": "text/x-python",
   "name": "python",
   "nbconvert_exporter": "python",
   "pygments_lexer": "ipython3",
   "version": "3.6.4"
  }
 },
 "nbformat": 4,
 "nbformat_minor": 2
}
