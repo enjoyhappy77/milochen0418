{
 "cells": [
  {
   "cell_type": "code",
   "execution_count": null,
   "metadata": {},
   "outputs": [],
   "source": [
    "# Coding Newbie Class3 Data Structure"
   ]
  },
  {
   "cell_type": "code",
   "execution_count": null,
   "metadata": {},
   "outputs": [],
   "source": [
    "# Review last week "
   ]
  },
  {
   "cell_type": "code",
   "execution_count": null,
   "metadata": {},
   "outputs": [],
   "source": [
    "# Review Function (recursive function is the hardest part of learning function)\n",
    "def fibonacci(n):\n",
    "    if n == 0 or n ==1:\n",
    "        return n\n",
    "    else:\n",
    "        return fibonacci(n-1)+fibonacci(n-2)\n",
    "\n",
    "for i in range(1, n+1):\n",
    "    print(fibonacci(n=i))\n"
   ]
  },
  {
   "cell_type": "code",
   "execution_count": null,
   "metadata": {},
   "outputs": [],
   "source": [
    "# Review Loop (3-Level loop is the hardest part of learning loop )\n",
    "for i in range(1,10,3):    \n",
    "    for j in range(1,10):\n",
    "        for k in range(0,3):\n",
    "            L = i + k \n",
    "            R = j \n",
    "            print(L , \"*\", R, \"=\", L * R, end='\\t')\n",
    "        print('')\n",
    "    print('')"
   ]
  },
  {
   "cell_type": "code",
   "execution_count": null,
   "metadata": {},
   "outputs": [],
   "source": [
    "# Review Variable \n"
   ]
  },
  {
   "cell_type": "code",
   "execution_count": null,
   "metadata": {},
   "outputs": [],
   "source": [
    "x = 3 \n",
    "print(x)"
   ]
  },
  {
   "cell_type": "code",
   "execution_count": null,
   "metadata": {},
   "outputs": [],
   "source": [
    "x = \"This is a string\"\n",
    "print(x)"
   ]
  },
  {
   "cell_type": "code",
   "execution_count": null,
   "metadata": {},
   "outputs": [],
   "source": [
    "x = [1,2,3,4,5]\n",
    "print(x)"
   ]
  },
  {
   "cell_type": "code",
   "execution_count": null,
   "metadata": {},
   "outputs": [],
   "source": [
    "tax = 12.5 / 100\n",
    "price = 100.50\n",
    "price * tax"
   ]
  },
  {
   "cell_type": "code",
   "execution_count": null,
   "metadata": {},
   "outputs": [],
   "source": [
    "width = 20 \n",
    "height = 5 * 9\n",
    "width * height"
   ]
  },
  {
   "cell_type": "code",
   "execution_count": null,
   "metadata": {},
   "outputs": [],
   "source": [
    "17 // 3  # floor division discards the fractional part"
   ]
  },
  {
   "cell_type": "code",
   "execution_count": null,
   "metadata": {},
   "outputs": [],
   "source": [
    "17 % 3 # the % operator returns the remainder of the division"
   ]
  },
  {
   "cell_type": "code",
   "execution_count": null,
   "metadata": {},
   "outputs": [],
   "source": [
    "5 ** 2 # 5 squared"
   ]
  },
  {
   "cell_type": "code",
   "execution_count": null,
   "metadata": {},
   "outputs": [],
   "source": [
    "2 ** 7 # 2 to the power of 7"
   ]
  },
  {
   "cell_type": "code",
   "execution_count": null,
   "metadata": {},
   "outputs": [],
   "source": []
  },
  {
   "cell_type": "code",
   "execution_count": null,
   "metadata": {},
   "outputs": [],
   "source": [
    "#\n",
    "#\n",
    "# The Course Today \n",
    "#\n",
    "#"
   ]
  },
  {
   "cell_type": "code",
   "execution_count": null,
   "metadata": {},
   "outputs": [],
   "source": [
    "# Sequence Types -- list, tuple, range\n",
    "#  . There are three basic sequence types: lists, tuples, \n",
    "#    and range objects."
   ]
  },
  {
   "cell_type": "code",
   "execution_count": 8,
   "metadata": {},
   "outputs": [
    {
     "name": "stdout",
     "output_type": "stream",
     "text": [
      "4341995264\n",
      "4341995200\n",
      "4341995264\n",
      "4341995200\n"
     ]
    }
   ],
   "source": [
    "# Everything in python is an object\n",
    "x = 5 \n",
    "print(id(x))\n",
    "x = 3 \n",
    "print(id(x))\n",
    "print(id(5))\n",
    "print(id(3))"
   ]
  },
  {
   "cell_type": "code",
   "execution_count": 9,
   "metadata": {},
   "outputs": [
    {
     "name": "stdout",
     "output_type": "stream",
     "text": [
      "id(a)= 4387564040\n",
      "[3, 3, 1]\n",
      "4341995200\n",
      "4341995200\n",
      "4341995136\n",
      "\n",
      "id(a)= 4387564040\n",
      "[50, 3, 1]\n",
      "4341996704\n",
      "4341995200\n",
      "4341995136\n"
     ]
    }
   ],
   "source": [
    "# Everhting in python is an object\n",
    "# id is good tool for you to understand the memory usage and structure of object in future\n",
    "a = [3, 3, 1]\n",
    "print('id(a)=',id(a))\n",
    "print(a)\n",
    "print(id(a[0]))\n",
    "print(id(a[1]))\n",
    "print(id(a[2]))\n",
    "\n",
    "print('')\n",
    "\n",
    "a[0] = 50\n",
    "print('id(a)=',id(a))\n",
    "print(a)\n",
    "print(id(a[0]))\n",
    "print(id(a[1]))\n",
    "print(id(a[2]))\n"
   ]
  },
  {
   "cell_type": "code",
   "execution_count": null,
   "metadata": {},
   "outputs": [],
   "source": [
    "# Everything in python is an object\n",
    "# More detail skill to understand memory usage in id\n",
    "# ignore this cell today because you need to have time to think it \n",
    "# , but you can go back to think it more and discuss together or discuss with teacher \n",
    "\n",
    "a = [3, 3, [100,200]]\n",
    "print(a)\n",
    "print(id(a))\n",
    "print(id(a[2]))\n",
    "print(id(a[2][0]))\n",
    "print(id(a[2][1]))\n",
    "\n",
    "a[2][0] = 200\n",
    "print(a)\n",
    "print(id(a))\n",
    "print(id(a[2]))\n",
    "print(id(a[2][0]))\n",
    "print(id(a[2][1]))\n",
    "\n",
    "a[2] = [] \n",
    "print(a)\n",
    "print(id(a))\n",
    "print(id(a[2]))"
   ]
  },
  {
   "cell_type": "code",
   "execution_count": 24,
   "metadata": {},
   "outputs": [
    {
     "name": "stdout",
     "output_type": "stream",
     "text": [
      "<class 'list'>\n",
      "<class 'int'>\n",
      "\n",
      "<class 'float'>\n",
      "<class 'str'>\n",
      "<class 'tuple'>\n",
      "\n",
      "<class 'list'>\n",
      "<class 'range'>\n",
      "<class 'set'>\n",
      "<class 'dict'>\n",
      "\n"
     ]
    }
   ],
   "source": [
    "# And you can show type of every kind of object\n",
    "# The following object are the Build-in Type for python\n",
    "\n",
    "print(type(a))\n",
    "print(type(id(a)))\n",
    "print('')\n",
    "\n",
    "\n",
    "floatNum = 33.03\n",
    "print(type(floatNum))\n",
    "print(type(  \"String \"  ))\n",
    "print(type(  ('tuple','aa',123)  ))\n",
    "\n",
    "print('')\n",
    "\n",
    "listVar = [1,2,'aa',33]\n",
    "print(type(listVar))\n",
    "\n",
    "rangeVar = range(1,2)\n",
    "print(type(rangeVar))\n",
    "\n",
    "setVar = set({1,2,3})\n",
    "print(type(setVar))\n",
    "\n",
    "dictVar = {'a':22, 'bb':23}\n",
    "print(type(   dictVar    ))\n",
    "print('')\n",
    "\n",
    "\n",
    "\n",
    "# I have the document for you to self-learn Built-In type in detail "
   ]
  },
  {
   "cell_type": "code",
   "execution_count": 28,
   "metadata": {},
   "outputs": [
    {
     "name": "stdout",
     "output_type": "stream",
     "text": [
      "[[1 2 3]\n",
      " [3 4 5]\n",
      " [7 8 9]]\n",
      "shape =  (3, 3)\n",
      "dtype =  int64\n"
     ]
    }
   ],
   "source": [
    "# Another type that are not Built-In Type,  but they are very popular\n",
    "# Numpy \n",
    "import numpy as np\n",
    "npVar = np.array([[1,2,3],[3,4,5],[7,8,9]])\n",
    "print(npVar)\n",
    "print('shape = ', npVar.shape)\n",
    "print('dtype = ', npVar.dtype)\n",
    "\n",
    "# I have the document for you to self-learn Numpy in detail  "
   ]
  },
  {
   "cell_type": "code",
   "execution_count": 40,
   "metadata": {},
   "outputs": [
    {
     "name": "stdout",
     "output_type": "stream",
     "text": [
      "<class 'pandas.core.series.Series'>\n",
      "a    1\n",
      "b    2\n",
      "c    3\n",
      "d    4\n",
      "dtype: int64\n"
     ]
    }
   ],
   "source": [
    "# Another type that are not Built-In Type,  but they are very popular\n",
    "# Pandas\n",
    "import pandas as pd\n",
    "data = np.array([1,2,3,4])\n",
    "index = np.array(['a','b','c','d'])\n",
    "s = pd.Series(data, index=index)\n",
    "print(type(s))\n",
    "\n",
    "print(s)\n",
    "# . The \"data\" can be list, tuple, dict, numpy.ndarray ... \n",
    "\n",
    "\n",
    "\n",
    "# I have the document for you to self-learn Pandas in detail  "
   ]
  },
  {
   "cell_type": "code",
   "execution_count": 44,
   "metadata": {},
   "outputs": [
    {
     "data": {
      "text/html": [
       "<div>\n",
       "<style scoped>\n",
       "    .dataframe tbody tr th:only-of-type {\n",
       "        vertical-align: middle;\n",
       "    }\n",
       "\n",
       "    .dataframe tbody tr th {\n",
       "        vertical-align: top;\n",
       "    }\n",
       "\n",
       "    .dataframe thead th {\n",
       "        text-align: right;\n",
       "    }\n",
       "</style>\n",
       "<table border=\"1\" class=\"dataframe\">\n",
       "  <thead>\n",
       "    <tr style=\"text-align: right;\">\n",
       "      <th></th>\n",
       "      <th>Country Code</th>\n",
       "      <th>Region</th>\n",
       "      <th>IncomeGroup</th>\n",
       "      <th>SpecialNotes</th>\n",
       "      <th>TableName</th>\n",
       "      <th>Unnamed: 5</th>\n",
       "    </tr>\n",
       "  </thead>\n",
       "  <tbody>\n",
       "    <tr>\n",
       "      <th>0</th>\n",
       "      <td>ABW</td>\n",
       "      <td>Latin America &amp; Caribbean</td>\n",
       "      <td>High income</td>\n",
       "      <td>NaN</td>\n",
       "      <td>Aruba</td>\n",
       "      <td>NaN</td>\n",
       "    </tr>\n",
       "    <tr>\n",
       "      <th>1</th>\n",
       "      <td>AFG</td>\n",
       "      <td>South Asia</td>\n",
       "      <td>Low income</td>\n",
       "      <td>NaN</td>\n",
       "      <td>Afghanistan</td>\n",
       "      <td>NaN</td>\n",
       "    </tr>\n",
       "    <tr>\n",
       "      <th>2</th>\n",
       "      <td>AGO</td>\n",
       "      <td>Sub-Saharan Africa</td>\n",
       "      <td>Lower middle income</td>\n",
       "      <td>NaN</td>\n",
       "      <td>Angola</td>\n",
       "      <td>NaN</td>\n",
       "    </tr>\n",
       "    <tr>\n",
       "      <th>3</th>\n",
       "      <td>ALB</td>\n",
       "      <td>Europe &amp; Central Asia</td>\n",
       "      <td>Upper middle income</td>\n",
       "      <td>NaN</td>\n",
       "      <td>Albania</td>\n",
       "      <td>NaN</td>\n",
       "    </tr>\n",
       "    <tr>\n",
       "      <th>4</th>\n",
       "      <td>AND</td>\n",
       "      <td>Europe &amp; Central Asia</td>\n",
       "      <td>High income</td>\n",
       "      <td>NaN</td>\n",
       "      <td>Andorra</td>\n",
       "      <td>NaN</td>\n",
       "    </tr>\n",
       "    <tr>\n",
       "      <th>5</th>\n",
       "      <td>ARB</td>\n",
       "      <td>NaN</td>\n",
       "      <td>NaN</td>\n",
       "      <td>Arab World aggregate. Arab World is composed o...</td>\n",
       "      <td>Arab World</td>\n",
       "      <td>NaN</td>\n",
       "    </tr>\n",
       "    <tr>\n",
       "      <th>6</th>\n",
       "      <td>ARE</td>\n",
       "      <td>Middle East &amp; North Africa</td>\n",
       "      <td>High income</td>\n",
       "      <td>NaN</td>\n",
       "      <td>United Arab Emirates</td>\n",
       "      <td>NaN</td>\n",
       "    </tr>\n",
       "    <tr>\n",
       "      <th>7</th>\n",
       "      <td>ARG</td>\n",
       "      <td>Latin America &amp; Caribbean</td>\n",
       "      <td>Upper middle income</td>\n",
       "      <td>NaN</td>\n",
       "      <td>Argentina</td>\n",
       "      <td>NaN</td>\n",
       "    </tr>\n",
       "    <tr>\n",
       "      <th>8</th>\n",
       "      <td>ARM</td>\n",
       "      <td>Europe &amp; Central Asia</td>\n",
       "      <td>Upper middle income</td>\n",
       "      <td>NaN</td>\n",
       "      <td>Armenia</td>\n",
       "      <td>NaN</td>\n",
       "    </tr>\n",
       "    <tr>\n",
       "      <th>9</th>\n",
       "      <td>ASM</td>\n",
       "      <td>East Asia &amp; Pacific</td>\n",
       "      <td>Upper middle income</td>\n",
       "      <td>NaN</td>\n",
       "      <td>American Samoa</td>\n",
       "      <td>NaN</td>\n",
       "    </tr>\n",
       "    <tr>\n",
       "      <th>10</th>\n",
       "      <td>ATG</td>\n",
       "      <td>Latin America &amp; Caribbean</td>\n",
       "      <td>High income</td>\n",
       "      <td>NaN</td>\n",
       "      <td>Antigua and Barbuda</td>\n",
       "      <td>NaN</td>\n",
       "    </tr>\n",
       "    <tr>\n",
       "      <th>11</th>\n",
       "      <td>AUS</td>\n",
       "      <td>East Asia &amp; Pacific</td>\n",
       "      <td>High income</td>\n",
       "      <td>Fiscal year end: June 30; reporting period for...</td>\n",
       "      <td>Australia</td>\n",
       "      <td>NaN</td>\n",
       "    </tr>\n",
       "    <tr>\n",
       "      <th>12</th>\n",
       "      <td>AUT</td>\n",
       "      <td>Europe &amp; Central Asia</td>\n",
       "      <td>High income</td>\n",
       "      <td>A simple multiplier is used to convert the nat...</td>\n",
       "      <td>Austria</td>\n",
       "      <td>NaN</td>\n",
       "    </tr>\n",
       "    <tr>\n",
       "      <th>13</th>\n",
       "      <td>AZE</td>\n",
       "      <td>Europe &amp; Central Asia</td>\n",
       "      <td>Upper middle income</td>\n",
       "      <td>NaN</td>\n",
       "      <td>Azerbaijan</td>\n",
       "      <td>NaN</td>\n",
       "    </tr>\n",
       "    <tr>\n",
       "      <th>14</th>\n",
       "      <td>BDI</td>\n",
       "      <td>Sub-Saharan Africa</td>\n",
       "      <td>Low income</td>\n",
       "      <td>NaN</td>\n",
       "      <td>Burundi</td>\n",
       "      <td>NaN</td>\n",
       "    </tr>\n",
       "    <tr>\n",
       "      <th>15</th>\n",
       "      <td>BEL</td>\n",
       "      <td>Europe &amp; Central Asia</td>\n",
       "      <td>High income</td>\n",
       "      <td>A simple multiplier is used to convert the nat...</td>\n",
       "      <td>Belgium</td>\n",
       "      <td>NaN</td>\n",
       "    </tr>\n",
       "    <tr>\n",
       "      <th>16</th>\n",
       "      <td>BEN</td>\n",
       "      <td>Sub-Saharan Africa</td>\n",
       "      <td>Low income</td>\n",
       "      <td>NaN</td>\n",
       "      <td>Benin</td>\n",
       "      <td>NaN</td>\n",
       "    </tr>\n",
       "    <tr>\n",
       "      <th>17</th>\n",
       "      <td>BFA</td>\n",
       "      <td>Sub-Saharan Africa</td>\n",
       "      <td>Low income</td>\n",
       "      <td>NaN</td>\n",
       "      <td>Burkina Faso</td>\n",
       "      <td>NaN</td>\n",
       "    </tr>\n",
       "    <tr>\n",
       "      <th>18</th>\n",
       "      <td>BGD</td>\n",
       "      <td>South Asia</td>\n",
       "      <td>Lower middle income</td>\n",
       "      <td>Fiscal year end: June 30; reporting period for...</td>\n",
       "      <td>Bangladesh</td>\n",
       "      <td>NaN</td>\n",
       "    </tr>\n",
       "    <tr>\n",
       "      <th>19</th>\n",
       "      <td>BGR</td>\n",
       "      <td>Europe &amp; Central Asia</td>\n",
       "      <td>Upper middle income</td>\n",
       "      <td>NaN</td>\n",
       "      <td>Bulgaria</td>\n",
       "      <td>NaN</td>\n",
       "    </tr>\n",
       "    <tr>\n",
       "      <th>20</th>\n",
       "      <td>BHR</td>\n",
       "      <td>Middle East &amp; North Africa</td>\n",
       "      <td>High income</td>\n",
       "      <td>NaN</td>\n",
       "      <td>Bahrain</td>\n",
       "      <td>NaN</td>\n",
       "    </tr>\n",
       "    <tr>\n",
       "      <th>21</th>\n",
       "      <td>BHS</td>\n",
       "      <td>Latin America &amp; Caribbean</td>\n",
       "      <td>High income</td>\n",
       "      <td>NaN</td>\n",
       "      <td>Bahamas, The</td>\n",
       "      <td>NaN</td>\n",
       "    </tr>\n",
       "    <tr>\n",
       "      <th>22</th>\n",
       "      <td>BIH</td>\n",
       "      <td>Europe &amp; Central Asia</td>\n",
       "      <td>Upper middle income</td>\n",
       "      <td>NaN</td>\n",
       "      <td>Bosnia and Herzegovina</td>\n",
       "      <td>NaN</td>\n",
       "    </tr>\n",
       "    <tr>\n",
       "      <th>23</th>\n",
       "      <td>BLR</td>\n",
       "      <td>Europe &amp; Central Asia</td>\n",
       "      <td>Upper middle income</td>\n",
       "      <td>Data before 2015 were adjusted to reflect the ...</td>\n",
       "      <td>Belarus</td>\n",
       "      <td>NaN</td>\n",
       "    </tr>\n",
       "    <tr>\n",
       "      <th>24</th>\n",
       "      <td>BLZ</td>\n",
       "      <td>Latin America &amp; Caribbean</td>\n",
       "      <td>Upper middle income</td>\n",
       "      <td>NaN</td>\n",
       "      <td>Belize</td>\n",
       "      <td>NaN</td>\n",
       "    </tr>\n",
       "    <tr>\n",
       "      <th>25</th>\n",
       "      <td>BMU</td>\n",
       "      <td>North America</td>\n",
       "      <td>High income</td>\n",
       "      <td>NaN</td>\n",
       "      <td>Bermuda</td>\n",
       "      <td>NaN</td>\n",
       "    </tr>\n",
       "    <tr>\n",
       "      <th>26</th>\n",
       "      <td>BOL</td>\n",
       "      <td>Latin America &amp; Caribbean</td>\n",
       "      <td>Lower middle income</td>\n",
       "      <td>NaN</td>\n",
       "      <td>Bolivia</td>\n",
       "      <td>NaN</td>\n",
       "    </tr>\n",
       "    <tr>\n",
       "      <th>27</th>\n",
       "      <td>BRA</td>\n",
       "      <td>Latin America &amp; Caribbean</td>\n",
       "      <td>Upper middle income</td>\n",
       "      <td>NaN</td>\n",
       "      <td>Brazil</td>\n",
       "      <td>NaN</td>\n",
       "    </tr>\n",
       "    <tr>\n",
       "      <th>28</th>\n",
       "      <td>BRB</td>\n",
       "      <td>Latin America &amp; Caribbean</td>\n",
       "      <td>High income</td>\n",
       "      <td>NaN</td>\n",
       "      <td>Barbados</td>\n",
       "      <td>NaN</td>\n",
       "    </tr>\n",
       "    <tr>\n",
       "      <th>29</th>\n",
       "      <td>BRN</td>\n",
       "      <td>East Asia &amp; Pacific</td>\n",
       "      <td>High income</td>\n",
       "      <td>NaN</td>\n",
       "      <td>Brunei Darussalam</td>\n",
       "      <td>NaN</td>\n",
       "    </tr>\n",
       "    <tr>\n",
       "      <th>...</th>\n",
       "      <td>...</td>\n",
       "      <td>...</td>\n",
       "      <td>...</td>\n",
       "      <td>...</td>\n",
       "      <td>...</td>\n",
       "      <td>...</td>\n",
       "    </tr>\n",
       "    <tr>\n",
       "      <th>233</th>\n",
       "      <td>TLA</td>\n",
       "      <td>NaN</td>\n",
       "      <td>NaN</td>\n",
       "      <td>Latin America &amp; the Caribbean (IDA &amp; IBRD coun...</td>\n",
       "      <td>Latin America &amp; Caribbean (IDA &amp; IBRD)</td>\n",
       "      <td>NaN</td>\n",
       "    </tr>\n",
       "    <tr>\n",
       "      <th>234</th>\n",
       "      <td>TLS</td>\n",
       "      <td>East Asia &amp; Pacific</td>\n",
       "      <td>Lower middle income</td>\n",
       "      <td>NaN</td>\n",
       "      <td>Timor-Leste</td>\n",
       "      <td>NaN</td>\n",
       "    </tr>\n",
       "    <tr>\n",
       "      <th>235</th>\n",
       "      <td>TMN</td>\n",
       "      <td>NaN</td>\n",
       "      <td>NaN</td>\n",
       "      <td>Middle East &amp; North Africa (IDA &amp; IBRD countri...</td>\n",
       "      <td>Middle East &amp; North Africa (IDA &amp; IBRD)</td>\n",
       "      <td>NaN</td>\n",
       "    </tr>\n",
       "    <tr>\n",
       "      <th>236</th>\n",
       "      <td>TON</td>\n",
       "      <td>East Asia &amp; Pacific</td>\n",
       "      <td>Upper middle income</td>\n",
       "      <td>NaN</td>\n",
       "      <td>Tonga</td>\n",
       "      <td>NaN</td>\n",
       "    </tr>\n",
       "    <tr>\n",
       "      <th>237</th>\n",
       "      <td>TSA</td>\n",
       "      <td>NaN</td>\n",
       "      <td>NaN</td>\n",
       "      <td>South Asia (IDA &amp; IBRD countries) aggregate.</td>\n",
       "      <td>South Asia (IDA &amp; IBRD)</td>\n",
       "      <td>NaN</td>\n",
       "    </tr>\n",
       "    <tr>\n",
       "      <th>238</th>\n",
       "      <td>TSS</td>\n",
       "      <td>NaN</td>\n",
       "      <td>NaN</td>\n",
       "      <td>Sub-Saharan Africa (IDA &amp; IBRD countries) aggr...</td>\n",
       "      <td>Sub-Saharan Africa (IDA &amp; IBRD)</td>\n",
       "      <td>NaN</td>\n",
       "    </tr>\n",
       "    <tr>\n",
       "      <th>239</th>\n",
       "      <td>TTO</td>\n",
       "      <td>Latin America &amp; Caribbean</td>\n",
       "      <td>High income</td>\n",
       "      <td>NaN</td>\n",
       "      <td>Trinidad and Tobago</td>\n",
       "      <td>NaN</td>\n",
       "    </tr>\n",
       "    <tr>\n",
       "      <th>240</th>\n",
       "      <td>TUN</td>\n",
       "      <td>Middle East &amp; North Africa</td>\n",
       "      <td>Lower middle income</td>\n",
       "      <td>NaN</td>\n",
       "      <td>Tunisia</td>\n",
       "      <td>NaN</td>\n",
       "    </tr>\n",
       "    <tr>\n",
       "      <th>241</th>\n",
       "      <td>TUR</td>\n",
       "      <td>Europe &amp; Central Asia</td>\n",
       "      <td>Upper middle income</td>\n",
       "      <td>NaN</td>\n",
       "      <td>Turkey</td>\n",
       "      <td>NaN</td>\n",
       "    </tr>\n",
       "    <tr>\n",
       "      <th>242</th>\n",
       "      <td>TUV</td>\n",
       "      <td>East Asia &amp; Pacific</td>\n",
       "      <td>Upper middle income</td>\n",
       "      <td>NaN</td>\n",
       "      <td>Tuvalu</td>\n",
       "      <td>NaN</td>\n",
       "    </tr>\n",
       "    <tr>\n",
       "      <th>243</th>\n",
       "      <td>TZA</td>\n",
       "      <td>Sub-Saharan Africa</td>\n",
       "      <td>Low income</td>\n",
       "      <td>NaN</td>\n",
       "      <td>Tanzania</td>\n",
       "      <td>NaN</td>\n",
       "    </tr>\n",
       "    <tr>\n",
       "      <th>244</th>\n",
       "      <td>UGA</td>\n",
       "      <td>Sub-Saharan Africa</td>\n",
       "      <td>Low income</td>\n",
       "      <td>Fiscal year end: June 30; reporting period for...</td>\n",
       "      <td>Uganda</td>\n",
       "      <td>NaN</td>\n",
       "    </tr>\n",
       "    <tr>\n",
       "      <th>245</th>\n",
       "      <td>UKR</td>\n",
       "      <td>Europe &amp; Central Asia</td>\n",
       "      <td>Lower middle income</td>\n",
       "      <td>NaN</td>\n",
       "      <td>Ukraine</td>\n",
       "      <td>NaN</td>\n",
       "    </tr>\n",
       "    <tr>\n",
       "      <th>246</th>\n",
       "      <td>UMC</td>\n",
       "      <td>NaN</td>\n",
       "      <td>NaN</td>\n",
       "      <td>Upper middle income group aggregate. Upper-mid...</td>\n",
       "      <td>Upper middle income</td>\n",
       "      <td>NaN</td>\n",
       "    </tr>\n",
       "    <tr>\n",
       "      <th>247</th>\n",
       "      <td>URY</td>\n",
       "      <td>Latin America &amp; Caribbean</td>\n",
       "      <td>High income</td>\n",
       "      <td>NaN</td>\n",
       "      <td>Uruguay</td>\n",
       "      <td>NaN</td>\n",
       "    </tr>\n",
       "    <tr>\n",
       "      <th>248</th>\n",
       "      <td>USA</td>\n",
       "      <td>North America</td>\n",
       "      <td>High income</td>\n",
       "      <td>NaN</td>\n",
       "      <td>United States</td>\n",
       "      <td>NaN</td>\n",
       "    </tr>\n",
       "    <tr>\n",
       "      <th>249</th>\n",
       "      <td>UZB</td>\n",
       "      <td>Europe &amp; Central Asia</td>\n",
       "      <td>Lower middle income</td>\n",
       "      <td>NaN</td>\n",
       "      <td>Uzbekistan</td>\n",
       "      <td>NaN</td>\n",
       "    </tr>\n",
       "    <tr>\n",
       "      <th>250</th>\n",
       "      <td>VCT</td>\n",
       "      <td>Latin America &amp; Caribbean</td>\n",
       "      <td>Upper middle income</td>\n",
       "      <td>NaN</td>\n",
       "      <td>St. Vincent and the Grenadines</td>\n",
       "      <td>NaN</td>\n",
       "    </tr>\n",
       "    <tr>\n",
       "      <th>251</th>\n",
       "      <td>VEN</td>\n",
       "      <td>Latin America &amp; Caribbean</td>\n",
       "      <td>Upper middle income</td>\n",
       "      <td>NaN</td>\n",
       "      <td>Venezuela, RB</td>\n",
       "      <td>NaN</td>\n",
       "    </tr>\n",
       "    <tr>\n",
       "      <th>252</th>\n",
       "      <td>VGB</td>\n",
       "      <td>Latin America &amp; Caribbean</td>\n",
       "      <td>High income</td>\n",
       "      <td>NaN</td>\n",
       "      <td>British Virgin Islands</td>\n",
       "      <td>NaN</td>\n",
       "    </tr>\n",
       "    <tr>\n",
       "      <th>253</th>\n",
       "      <td>VIR</td>\n",
       "      <td>Latin America &amp; Caribbean</td>\n",
       "      <td>High income</td>\n",
       "      <td>NaN</td>\n",
       "      <td>Virgin Islands (U.S.)</td>\n",
       "      <td>NaN</td>\n",
       "    </tr>\n",
       "    <tr>\n",
       "      <th>254</th>\n",
       "      <td>VNM</td>\n",
       "      <td>East Asia &amp; Pacific</td>\n",
       "      <td>Lower middle income</td>\n",
       "      <td>NaN</td>\n",
       "      <td>Vietnam</td>\n",
       "      <td>NaN</td>\n",
       "    </tr>\n",
       "    <tr>\n",
       "      <th>255</th>\n",
       "      <td>VUT</td>\n",
       "      <td>East Asia &amp; Pacific</td>\n",
       "      <td>Lower middle income</td>\n",
       "      <td>NaN</td>\n",
       "      <td>Vanuatu</td>\n",
       "      <td>NaN</td>\n",
       "    </tr>\n",
       "    <tr>\n",
       "      <th>256</th>\n",
       "      <td>WLD</td>\n",
       "      <td>NaN</td>\n",
       "      <td>NaN</td>\n",
       "      <td>World aggregate.</td>\n",
       "      <td>World</td>\n",
       "      <td>NaN</td>\n",
       "    </tr>\n",
       "    <tr>\n",
       "      <th>257</th>\n",
       "      <td>WSM</td>\n",
       "      <td>East Asia &amp; Pacific</td>\n",
       "      <td>Upper middle income</td>\n",
       "      <td>Fiscal year ends on June 30; reporting period ...</td>\n",
       "      <td>Samoa</td>\n",
       "      <td>NaN</td>\n",
       "    </tr>\n",
       "    <tr>\n",
       "      <th>258</th>\n",
       "      <td>XKX</td>\n",
       "      <td>Europe &amp; Central Asia</td>\n",
       "      <td>Upper middle income</td>\n",
       "      <td>NaN</td>\n",
       "      <td>Kosovo</td>\n",
       "      <td>NaN</td>\n",
       "    </tr>\n",
       "    <tr>\n",
       "      <th>259</th>\n",
       "      <td>YEM</td>\n",
       "      <td>Middle East &amp; North Africa</td>\n",
       "      <td>Low income</td>\n",
       "      <td>NaN</td>\n",
       "      <td>Yemen, Rep.</td>\n",
       "      <td>NaN</td>\n",
       "    </tr>\n",
       "    <tr>\n",
       "      <th>260</th>\n",
       "      <td>ZAF</td>\n",
       "      <td>Sub-Saharan Africa</td>\n",
       "      <td>Upper middle income</td>\n",
       "      <td>Fiscal year end: March 31; reporting period fo...</td>\n",
       "      <td>South Africa</td>\n",
       "      <td>NaN</td>\n",
       "    </tr>\n",
       "    <tr>\n",
       "      <th>261</th>\n",
       "      <td>ZMB</td>\n",
       "      <td>Sub-Saharan Africa</td>\n",
       "      <td>Lower middle income</td>\n",
       "      <td>National accounts data were rebased to reflect...</td>\n",
       "      <td>Zambia</td>\n",
       "      <td>NaN</td>\n",
       "    </tr>\n",
       "    <tr>\n",
       "      <th>262</th>\n",
       "      <td>ZWE</td>\n",
       "      <td>Sub-Saharan Africa</td>\n",
       "      <td>Lower middle income</td>\n",
       "      <td>NaN</td>\n",
       "      <td>Zimbabwe</td>\n",
       "      <td>NaN</td>\n",
       "    </tr>\n",
       "  </tbody>\n",
       "</table>\n",
       "<p>263 rows × 6 columns</p>\n",
       "</div>"
      ],
      "text/plain": [
       "    Country Code                      Region          IncomeGroup  \\\n",
       "0            ABW   Latin America & Caribbean          High income   \n",
       "1            AFG                  South Asia           Low income   \n",
       "2            AGO          Sub-Saharan Africa  Lower middle income   \n",
       "3            ALB       Europe & Central Asia  Upper middle income   \n",
       "4            AND       Europe & Central Asia          High income   \n",
       "5            ARB                         NaN                  NaN   \n",
       "6            ARE  Middle East & North Africa          High income   \n",
       "7            ARG   Latin America & Caribbean  Upper middle income   \n",
       "8            ARM       Europe & Central Asia  Upper middle income   \n",
       "9            ASM         East Asia & Pacific  Upper middle income   \n",
       "10           ATG   Latin America & Caribbean          High income   \n",
       "11           AUS         East Asia & Pacific          High income   \n",
       "12           AUT       Europe & Central Asia          High income   \n",
       "13           AZE       Europe & Central Asia  Upper middle income   \n",
       "14           BDI          Sub-Saharan Africa           Low income   \n",
       "15           BEL       Europe & Central Asia          High income   \n",
       "16           BEN          Sub-Saharan Africa           Low income   \n",
       "17           BFA          Sub-Saharan Africa           Low income   \n",
       "18           BGD                  South Asia  Lower middle income   \n",
       "19           BGR       Europe & Central Asia  Upper middle income   \n",
       "20           BHR  Middle East & North Africa          High income   \n",
       "21           BHS   Latin America & Caribbean          High income   \n",
       "22           BIH       Europe & Central Asia  Upper middle income   \n",
       "23           BLR       Europe & Central Asia  Upper middle income   \n",
       "24           BLZ   Latin America & Caribbean  Upper middle income   \n",
       "25           BMU               North America          High income   \n",
       "26           BOL   Latin America & Caribbean  Lower middle income   \n",
       "27           BRA   Latin America & Caribbean  Upper middle income   \n",
       "28           BRB   Latin America & Caribbean          High income   \n",
       "29           BRN         East Asia & Pacific          High income   \n",
       "..           ...                         ...                  ...   \n",
       "233          TLA                         NaN                  NaN   \n",
       "234          TLS         East Asia & Pacific  Lower middle income   \n",
       "235          TMN                         NaN                  NaN   \n",
       "236          TON         East Asia & Pacific  Upper middle income   \n",
       "237          TSA                         NaN                  NaN   \n",
       "238          TSS                         NaN                  NaN   \n",
       "239          TTO   Latin America & Caribbean          High income   \n",
       "240          TUN  Middle East & North Africa  Lower middle income   \n",
       "241          TUR       Europe & Central Asia  Upper middle income   \n",
       "242          TUV         East Asia & Pacific  Upper middle income   \n",
       "243          TZA          Sub-Saharan Africa           Low income   \n",
       "244          UGA          Sub-Saharan Africa           Low income   \n",
       "245          UKR       Europe & Central Asia  Lower middle income   \n",
       "246          UMC                         NaN                  NaN   \n",
       "247          URY   Latin America & Caribbean          High income   \n",
       "248          USA               North America          High income   \n",
       "249          UZB       Europe & Central Asia  Lower middle income   \n",
       "250          VCT   Latin America & Caribbean  Upper middle income   \n",
       "251          VEN   Latin America & Caribbean  Upper middle income   \n",
       "252          VGB   Latin America & Caribbean          High income   \n",
       "253          VIR   Latin America & Caribbean          High income   \n",
       "254          VNM         East Asia & Pacific  Lower middle income   \n",
       "255          VUT         East Asia & Pacific  Lower middle income   \n",
       "256          WLD                         NaN                  NaN   \n",
       "257          WSM         East Asia & Pacific  Upper middle income   \n",
       "258          XKX       Europe & Central Asia  Upper middle income   \n",
       "259          YEM  Middle East & North Africa           Low income   \n",
       "260          ZAF          Sub-Saharan Africa  Upper middle income   \n",
       "261          ZMB          Sub-Saharan Africa  Lower middle income   \n",
       "262          ZWE          Sub-Saharan Africa  Lower middle income   \n",
       "\n",
       "                                          SpecialNotes  \\\n",
       "0                                                  NaN   \n",
       "1                                                  NaN   \n",
       "2                                                  NaN   \n",
       "3                                                  NaN   \n",
       "4                                                  NaN   \n",
       "5    Arab World aggregate. Arab World is composed o...   \n",
       "6                                                  NaN   \n",
       "7                                                  NaN   \n",
       "8                                                  NaN   \n",
       "9                                                  NaN   \n",
       "10                                                 NaN   \n",
       "11   Fiscal year end: June 30; reporting period for...   \n",
       "12   A simple multiplier is used to convert the nat...   \n",
       "13                                                 NaN   \n",
       "14                                                 NaN   \n",
       "15   A simple multiplier is used to convert the nat...   \n",
       "16                                                 NaN   \n",
       "17                                                 NaN   \n",
       "18   Fiscal year end: June 30; reporting period for...   \n",
       "19                                                 NaN   \n",
       "20                                                 NaN   \n",
       "21                                                 NaN   \n",
       "22                                                 NaN   \n",
       "23   Data before 2015 were adjusted to reflect the ...   \n",
       "24                                                 NaN   \n",
       "25                                                 NaN   \n",
       "26                                                 NaN   \n",
       "27                                                 NaN   \n",
       "28                                                 NaN   \n",
       "29                                                 NaN   \n",
       "..                                                 ...   \n",
       "233  Latin America & the Caribbean (IDA & IBRD coun...   \n",
       "234                                                NaN   \n",
       "235  Middle East & North Africa (IDA & IBRD countri...   \n",
       "236                                                NaN   \n",
       "237       South Asia (IDA & IBRD countries) aggregate.   \n",
       "238  Sub-Saharan Africa (IDA & IBRD countries) aggr...   \n",
       "239                                                NaN   \n",
       "240                                                NaN   \n",
       "241                                                NaN   \n",
       "242                                                NaN   \n",
       "243                                                NaN   \n",
       "244  Fiscal year end: June 30; reporting period for...   \n",
       "245                                                NaN   \n",
       "246  Upper middle income group aggregate. Upper-mid...   \n",
       "247                                                NaN   \n",
       "248                                                NaN   \n",
       "249                                                NaN   \n",
       "250                                                NaN   \n",
       "251                                                NaN   \n",
       "252                                                NaN   \n",
       "253                                                NaN   \n",
       "254                                                NaN   \n",
       "255                                                NaN   \n",
       "256                                   World aggregate.   \n",
       "257  Fiscal year ends on June 30; reporting period ...   \n",
       "258                                                NaN   \n",
       "259                                                NaN   \n",
       "260  Fiscal year end: March 31; reporting period fo...   \n",
       "261  National accounts data were rebased to reflect...   \n",
       "262                                                NaN   \n",
       "\n",
       "                                   TableName  Unnamed: 5  \n",
       "0                                      Aruba         NaN  \n",
       "1                                Afghanistan         NaN  \n",
       "2                                     Angola         NaN  \n",
       "3                                    Albania         NaN  \n",
       "4                                    Andorra         NaN  \n",
       "5                                 Arab World         NaN  \n",
       "6                       United Arab Emirates         NaN  \n",
       "7                                  Argentina         NaN  \n",
       "8                                    Armenia         NaN  \n",
       "9                             American Samoa         NaN  \n",
       "10                       Antigua and Barbuda         NaN  \n",
       "11                                 Australia         NaN  \n",
       "12                                   Austria         NaN  \n",
       "13                                Azerbaijan         NaN  \n",
       "14                                   Burundi         NaN  \n",
       "15                                   Belgium         NaN  \n",
       "16                                     Benin         NaN  \n",
       "17                              Burkina Faso         NaN  \n",
       "18                                Bangladesh         NaN  \n",
       "19                                  Bulgaria         NaN  \n",
       "20                                   Bahrain         NaN  \n",
       "21                              Bahamas, The         NaN  \n",
       "22                    Bosnia and Herzegovina         NaN  \n",
       "23                                   Belarus         NaN  \n",
       "24                                    Belize         NaN  \n",
       "25                                   Bermuda         NaN  \n",
       "26                                   Bolivia         NaN  \n",
       "27                                    Brazil         NaN  \n",
       "28                                  Barbados         NaN  \n",
       "29                         Brunei Darussalam         NaN  \n",
       "..                                       ...         ...  \n",
       "233   Latin America & Caribbean (IDA & IBRD)         NaN  \n",
       "234                              Timor-Leste         NaN  \n",
       "235  Middle East & North Africa (IDA & IBRD)         NaN  \n",
       "236                                    Tonga         NaN  \n",
       "237                  South Asia (IDA & IBRD)         NaN  \n",
       "238          Sub-Saharan Africa (IDA & IBRD)         NaN  \n",
       "239                      Trinidad and Tobago         NaN  \n",
       "240                                  Tunisia         NaN  \n",
       "241                                   Turkey         NaN  \n",
       "242                                   Tuvalu         NaN  \n",
       "243                                 Tanzania         NaN  \n",
       "244                                   Uganda         NaN  \n",
       "245                                  Ukraine         NaN  \n",
       "246                      Upper middle income         NaN  \n",
       "247                                  Uruguay         NaN  \n",
       "248                            United States         NaN  \n",
       "249                               Uzbekistan         NaN  \n",
       "250           St. Vincent and the Grenadines         NaN  \n",
       "251                            Venezuela, RB         NaN  \n",
       "252                   British Virgin Islands         NaN  \n",
       "253                    Virgin Islands (U.S.)         NaN  \n",
       "254                                  Vietnam         NaN  \n",
       "255                                  Vanuatu         NaN  \n",
       "256                                    World         NaN  \n",
       "257                                    Samoa         NaN  \n",
       "258                                   Kosovo         NaN  \n",
       "259                              Yemen, Rep.         NaN  \n",
       "260                             South Africa         NaN  \n",
       "261                                   Zambia         NaN  \n",
       "262                                 Zimbabwe         NaN  \n",
       "\n",
       "[263 rows x 6 columns]"
      ]
     },
     "execution_count": 44,
     "metadata": {},
     "output_type": "execute_result"
    }
   ],
   "source": [
    "# show Pandas in cool style\n",
    "csv_filename = 'Metadata_Country_API.csv'\n",
    "pd.read_csv(csv_filename)"
   ]
  },
  {
   "cell_type": "code",
   "execution_count": null,
   "metadata": {},
   "outputs": [],
   "source": [
    "# But today, we focus on Built-In Type of python first.\n",
    "# The advance skill is not right now for everybody to learn \n",
    "# ( but maybe that is ok for smart student to learn by themselves in this time)\n",
    "# In this class, we still need to focus the enhancement of our basic skill.\n",
    "\n"
   ]
  },
  {
   "cell_type": "code",
   "execution_count": null,
   "metadata": {},
   "outputs": [],
   "source": [
    "# Mutable and Immutable\n",
    "\"\"\"\n",
    "Multable Definition:\n",
    "    Mutable objects can change their value but keep their id().\n",
    "    \n",
    "Immutable Definition:\n",
    "    An object with a fixed value. Immutable objects include numbers, strings and \n",
    "  tuples. Such an object cannot be altered. A new object has to be created if\n",
    "  a different value has to be stored. They play an important role in places where\n",
    "  a constant has value is needed. for example as a key in a dictionary. \n",
    "  \n",
    "Hashable Definition:\n",
    "    An object is hashable if it has a hash value which never changes during\n",
    "  its lifetime (it needs a hash() method), and can be compared to other objects\n",
    "  (it needs an eq() method). Hashable objects which compare equal must have\n",
    "  the same hash value.\n",
    "\"\"\"\n",
    "pass"
   ]
  },
  {
   "cell_type": "code",
   "execution_count": null,
   "metadata": {},
   "outputs": [],
   "source": [
    "# Mutable and Immutable\n",
    "#  The value of immutable object cannot be changed\n",
    "#  But why can we still write ?\n",
    "#    x = 3\n",
    "#    x = 1\n",
    "#    x = x + 1\n",
    "#  What happened if we write\n",
    "#    x = \"dead\"\n",
    "#    x += \"beef\""
   ]
  },
  {
   "cell_type": "code",
   "execution_count": null,
   "metadata": {},
   "outputs": [],
   "source": [
    "# Summary \n",
    "\"\"\"\n",
    "  Data type        | Multable | Ordered |       Literal example       |  Constructor  |\n",
    "  =======================================================================================\n",
    "   Sequence types\n",
    "  =======================================================================================\n",
    "    list              yes        yes               [1,2,3]              list()        \n",
    "    tuple             no         yes               (1,2,3)              tuple()\n",
    "    str               no         yes            \"text\" / 'text'         str()\n",
    "    range             no         yes                  -                 range()\n",
    "    bytes             no         yes            b'abcde'/b\"abc\"         bytes()\n",
    "    bytearray         yes        yes                  -                 bytearray()\n",
    "    array*            yes        yes                  -                 array.array()\n",
    "  ======================================================================================\n",
    "   Set types\n",
    "  ======================================================================================\n",
    "    set               yes        no                {1,2,3}              set()\n",
    "    frozenset         no         no                   -                 frozenset()\n",
    "  ======================================================================================\n",
    "   Mapping types      \n",
    "  ======================================================================================\n",
    "    dict              yes        no       {\"key1\":\"val\",\"key2\":\"val\"}   dict()\n",
    "    \n",
    "\"\"\"\n",
    "pass"
   ]
  },
  {
   "cell_type": "code",
   "execution_count": null,
   "metadata": {},
   "outputs": [],
   "source": [
    "# Common Operations for sequence type\n",
    "# The operations of following table are supported by most seqeunce type.\n",
    "\"\"\"\n",
    "  Operation               Result\n",
    "  ======================================================================================\n",
    "   x in s                 True if an item of s is equal to x, else False\n",
    "   x not in s             False if an item of s is equal to x, else True\n",
    "   s + t                  the concatenation of s and t\n",
    "   s * n                  equivalent to adding s to itself n times\n",
    "   s[i]                   i_th item of s, origin 0\n",
    "   s[i:j]                 slice of s from i to j \n",
    "   s[i:j:k]               slice of s from i to j with step k \n",
    "   len(s)                 length of s \n",
    "   min(s)                 smallest item of s\n",
    "   max(s)                 largest item of s \n",
    "   s.index(x[, i[, j]])   index of the first occurence of x in s \n",
    "                          (at or after index i and before index j)\n",
    "   s.count(x)             total number of occurences of x in s\n",
    "   \n",
    "   \n",
    "\"\"\"\n",
    "pass"
   ]
  },
  {
   "cell_type": "code",
   "execution_count": 45,
   "metadata": {},
   "outputs": [],
   "source": [
    "# Operator's Example  in, not in \n",
    "# I'm so glad to try the following example by myself\n",
    "x = [1,2,3] # Try  1 in x? 6 in x?\n",
    "x = {1:2, 3:4, 5:6} # Try 1 in x? 2 in x? 1 in x.keys()? 2 in x.values()?\n",
    "x = \"string\" # try 's' in x? 'a' in x?"
   ]
  },
  {
   "cell_type": "code",
   "execution_count": null,
   "metadata": {},
   "outputs": [],
   "source": []
  },
  {
   "cell_type": "code",
   "execution_count": null,
   "metadata": {},
   "outputs": [],
   "source": [
    "# Example: +operator\n",
    "(1,2,3) + (4,5,6) # => (1,2,3,4,5,6)\n",
    "[1,2,3] + [4,5,6] # => [1,2,3,4,5,6]\n",
    "\"Hello\" + \" \" + \"World\" # => 'Hello World'\n",
    "\n",
    "# Note that + operator creates another instance\n",
    "pass"
   ]
  },
  {
   "cell_type": "code",
   "execution_count": null,
   "metadata": {},
   "outputs": [],
   "source": [
    "\"gg\" in \"eggs\""
   ]
  },
  {
   "cell_type": "code",
   "execution_count": null,
   "metadata": {},
   "outputs": [],
   "source": [
    "# [[]]*3 are references to a singple empty list\n",
    "lists = [[]] * 3\n",
    "print(lists)\n",
    "lists[0].append(3)\n",
    "print(lists)"
   ]
  },
  {
   "cell_type": "code",
   "execution_count": null,
   "metadata": {},
   "outputs": [],
   "source": [
    "lists = [[] for i in range(3)]\n",
    "print(lists)\n",
    "lists[0].append(3)\n",
    "lists[1].append(5)\n",
    "lists[2].append(7)\n",
    "print(lists)"
   ]
  },
  {
   "cell_type": "code",
   "execution_count": null,
   "metadata": {},
   "outputs": [],
   "source": [
    "# Common Operations for 'multable' type\n",
    "\"\"\"\n",
    "  Operation         Result\n",
    "  ============================================\n",
    "  s[i] = x          item i of s is replaced by x\n",
    "  s[i:j] = t        slice of s from i to j is replaced by the contents of the iterable t\n",
    "  del s[i:j]        same as s[i:j] = []\n",
    "  s[i:j:k] = t      the elements of s[i:j:k] are replaced by those of t \n",
    "  del s[i:j:k]      removes the elements of s[i:j:k] from the list\n",
    "  s.append(x)       appends x to the end of the sequence(same as\n",
    "                    s[len(s):len(s)] = [x] )\n",
    "  s.clear()         removes all items from s (same as del s[:])\n",
    "  s.copy()          creates a shallow copy of s (same as s[:])\n",
    "  \n",
    "  s.extend(t)       extends s with the contents of t(for the most part that the same\n",
    "  or s += t         as s[len(s):len(s)] = t )\n",
    "  \n",
    "  s *= n            updates s with its contents repeated n times\n",
    "  s.insert(i,x)     inserts x into s at the index given by i(same as s[i:i] = [x])\n",
    "  s.pop([i])        retrieves the item at i and also removes it from s\n",
    "  s.remove(x)       remove the first item from s where s[i] == x\n",
    "  s.reverse()       reverses the items of s in place\n",
    "  \n",
    "\"\"\"\n",
    "pass"
   ]
  },
  {
   "cell_type": "code",
   "execution_count": null,
   "metadata": {},
   "outputs": [],
   "source": [
    "# How to use container type?\n",
    "# List , Dict, Tuple, Set are container types\n",
    "\n",
    "x = {\"dog\":1, \"cat\":2, \"bird\":3}\n",
    "print(x[\"dog\"])\n",
    "x[\"bear\"] = 4\n",
    "x[\"dog\"] = 4\n",
    "print(x.keys())\n",
    "print(x.values())\n",
    "print(len(x))"
   ]
  },
  {
   "cell_type": "code",
   "execution_count": null,
   "metadata": {},
   "outputs": [],
   "source": [
    "# List\n",
    "\"\"\"\n",
    "  .List are mutable sequences,typically used to store \n",
    "   collections of homogeneous items\n",
    "  .Lists may be constructed in several ways:\n",
    "    . Using a pair of square brackets to denote the empty list: []\n",
    "    . Using square brackets, separating items with commas:[a], [a,b,c]\n",
    "    . Using a list comprehension: [x for x in iterable]\n",
    "    . Using the type constructor:list() or list(iterable)\n",
    "  .Lists implement all sequence operations of the common and mutable types\n",
    "\"\"\"\n",
    "pass"
   ]
  },
  {
   "cell_type": "code",
   "execution_count": null,
   "metadata": {},
   "outputs": [],
   "source": [
    "# List Slicing examples as following cells\n",
    "squares = [1,4,9,16,25]\n",
    "print(squares)\n",
    "print(squares[0])\n",
    "print(squares[-1])\n",
    "print(squares[-3:])\n",
    "print(squares[:])\n",
    "print(squares + [36,49,64,81,100])\n",
    "\n"
   ]
  },
  {
   "cell_type": "code",
   "execution_count": 47,
   "metadata": {},
   "outputs": [
    {
     "name": "stdout",
     "output_type": "stream",
     "text": [
      "4\n",
      "[['a', 'b', 'c'], [1, 2, 3]]\n",
      "['a', 'b', 'c']\n",
      "b\n"
     ]
    }
   ],
   "source": [
    "letters = ['a','b','c','d']\n",
    "print(len(letters))\n",
    "a = ['a','b','c']\n",
    "n = [1,2,3]\n",
    "x = [a,n]\n",
    "print(x)\n",
    "print(x[0])\n",
    "print(x[0][1])"
   ]
  },
  {
   "cell_type": "code",
   "execution_count": 48,
   "metadata": {},
   "outputs": [
    {
     "name": "stdout",
     "output_type": "stream",
     "text": [
      "64\n",
      "[1, 8, 27, 64, 125]\n",
      "[1, 8, 27, 64, 125, 216, 343]\n"
     ]
    }
   ],
   "source": [
    "cubes = [1,8,27,65,125] #something is wrong here\n",
    "print(4 ** 3)\n",
    "cubes[3] = 64 #replace the wrong value\n",
    "print(cubes)\n",
    "cubes.append(216) # add cube of 6\n",
    "cubes.append( 7 ** 3) # add cube of 7\n",
    "print(cubes)\n",
    "\n"
   ]
  },
  {
   "cell_type": "code",
   "execution_count": 49,
   "metadata": {},
   "outputs": [
    {
     "name": "stdout",
     "output_type": "stream",
     "text": [
      "['a', 'b', 'c', 'd', 'e', 'f', 'g']\n",
      "['a', 'b', 'C', 'D', 'E', 'f', 'g']\n",
      "['a', 'b', 'f', 'g']\n",
      "[]\n"
     ]
    }
   ],
   "source": [
    "letters = ['a','b','c','d','e','f','g']\n",
    "print(letters)\n",
    "# replace some values\n",
    "letters[2:5] = ['C','D','E']\n",
    "print(letters)\n",
    "# now, remove them\n",
    "letters[2:5] = []\n",
    "print(letters)\n",
    "# clear the list by replacing all the elements with an empty list\n",
    "letters[:] = []\n",
    "print(letters)"
   ]
  },
  {
   "cell_type": "code",
   "execution_count": null,
   "metadata": {},
   "outputs": [],
   "source": [
    "# Tuple : Read-only List\n",
    "\"\"\"\n",
    ". Tuples are immutable sequences, typically used to store collections of heterogeneous data\n",
    ". Tuples may be constructed in a number of ways:\n",
    "  . Using a pair of parentheses to denote the empty tuple:()\n",
    "  . Using a trailing comma for a singleton tuple: a, or (a,)\n",
    "  . Separating items with commas: a, b, c or (a,b,c)\n",
    "  . Using the tuple() built-in: tuple() or tuple(iterable)\n",
    ". Tuples implement all of the common sequence operations.\n",
    "\n",
    "  \n",
    "\"\"\"\n",
    "pass"
   ]
  },
  {
   "cell_type": "code",
   "execution_count": 50,
   "metadata": {},
   "outputs": [
    {
     "name": "stdout",
     "output_type": "stream",
     "text": [
      "[0, 1, 2, 3, 4, 5, 6, 7, 8, 9]\n",
      "[1, 2, 3, 4, 5, 6, 7, 8, 9, 10]\n",
      "[0, 5, 10, 15, 20, 25]\n",
      "[0, 3, 6, 9]\n",
      "[0, -1, -2, -3, -4, -5, -6, -7, -8, -9]\n",
      "[]\n",
      "[]\n"
     ]
    }
   ],
   "source": [
    "# Ranges\n",
    "\"\"\"\n",
    ". The range type represents an immutable sequence of numbers and \n",
    "  is commonly used for looping a specific number of times in for \n",
    "  loops.\n",
    ". Ranges implement all of the common sequence operations except \n",
    "  operations except concatenation and repetition\n",
    "\"\"\"\n",
    "print(list(range(10)))\n",
    "print(list(range(1,11)))\n",
    "print(list(range(0,30,5)))\n",
    "print(list(range(0,10,3)))\n",
    "print(list(range(0,-10,-1)))\n",
    "print(list(range(0)))\n",
    "print(list(range(1,0)))\n",
    "pass"
   ]
  },
  {
   "cell_type": "code",
   "execution_count": 52,
   "metadata": {},
   "outputs": [
    {
     "name": "stdout",
     "output_type": "stream",
     "text": [
      "range(0, 20, 2)\n",
      "False\n",
      "True\n",
      "5\n",
      "\n",
      "10\n",
      "range(0, 10, 2)\n",
      "range(0, 10, 2)\n",
      "18\n"
     ]
    }
   ],
   "source": [
    "r = range(0,20,2)\n",
    "print(r)\n",
    "print(11 in r)\n",
    "print(10 in r)\n",
    "print(r.index(10)) # Will get 5\n",
    "\n",
    "print('')\n",
    "\n",
    "print(r[5])\n",
    "print(r[:5])\n",
    "print(range(0,10,2))\n",
    "print(r[-1])\n",
    "\n"
   ]
  },
  {
   "cell_type": "code",
   "execution_count": 53,
   "metadata": {},
   "outputs": [],
   "source": [
    "# Text Sequence Type\n",
    "\n",
    "#. single quotes('........')\n",
    "#. double quotes(\".........\")\n",
    "#. triple-quoted strings(\"\"\".......\"\"\" or '''........''')\n",
    "#. The backslash(\\) character is used to escape characters that otherwise have a special meaning,\n",
    "#. Textual data in Python is handled with str objects, or strings.\n",
    "#. Strings are immutable sequences\n",
    "\n"
   ]
  },
  {
   "cell_type": "code",
   "execution_count": 54,
   "metadata": {},
   "outputs": [
    {
     "name": "stdout",
     "output_type": "stream",
     "text": [
      "spam eggs\n",
      "doesn't\n",
      "doesn't\n",
      "\"Yes,\" he said.\n",
      "\"Yes,\" he said.\n",
      "\"Isn't,\" she said\n"
     ]
    }
   ],
   "source": [
    "# String\n",
    "print('spam eggs')\n",
    "print('doesn\\'t')\n",
    "print(\"doesn't\")\n",
    "print('\"Yes,\" he said.')\n",
    "print(\"\\\"Yes,\\\" he said.\")\n",
    "print('\"Isn\\'t,\" she said')"
   ]
  },
  {
   "cell_type": "code",
   "execution_count": 55,
   "metadata": {},
   "outputs": [
    {
     "name": "stdout",
     "output_type": "stream",
     "text": [
      "First line.\n",
      "Second line.\n"
     ]
    }
   ],
   "source": [
    "s = 'First line.\\nSecond line.' # \\n means newline\n",
    "print(s)"
   ]
  },
  {
   "cell_type": "code",
   "execution_count": 56,
   "metadata": {},
   "outputs": [
    {
     "name": "stdout",
     "output_type": "stream",
     "text": [
      "C:\\some\n",
      "ame\n",
      "C:\\some\\name\n",
      "Usage: thingy [OPTIONS]\n",
      "    -h            Display this usage message\n",
      "    -H hostname   Hostname to connect to \n",
      "\n"
     ]
    }
   ],
   "source": [
    "# Escape character\n",
    "\n",
    "#  Escape Sequence    Meaning\n",
    "# ===============================\n",
    "# \\\\                 Backslash (\\)\n",
    "# \\'                 Single quote (')\n",
    "# \\\"                 Double quote (\")\n",
    "# \\a                 ASCII Bell (BEL)\n",
    "# \\b                 ASCII Backspace (BS)\n",
    "# \\f                 ASCII Formfeed (FF)\n",
    "# \\n                 ASCII Linefeed (LF)\n",
    "# \\r                 ASCII Carriage Return (CR)\n",
    "# \\t                 ASCII Horizontal Tab (TAB)\n",
    "# \\v                 ASCII Vertical Tab (VT)\n",
    "# \\ooo               ASCII character with octal value ooo\n",
    "# \\xhh...            ASCII ASCII character with hex value hh...\n",
    " \n",
    "print('C:\\some\\name') # here \\n means newline ! \n",
    "print(r'C:\\some\\name') # note the r before the quote\n",
    "print(\"\"\"\\\n",
    "Usage: thingy [OPTIONS]\n",
    "    -h            Display this usage message\n",
    "    -H hostname   Hostname to connect to \n",
    "\"\"\")"
   ]
  },
  {
   "cell_type": "code",
   "execution_count": 57,
   "metadata": {},
   "outputs": [
    {
     "name": "stdout",
     "output_type": "stream",
     "text": [
      "unununium\n",
      "Python\n",
      "Python\n"
     ]
    }
   ],
   "source": [
    "print(3 * 'un' + 'ium')\n",
    "print('Py' 'thon')\n",
    "print('Py' + 'thon')"
   ]
  },
  {
   "cell_type": "code",
   "execution_count": 58,
   "metadata": {},
   "outputs": [
    {
     "name": "stdout",
     "output_type": "stream",
     "text": [
      "P\n",
      "n\n",
      "n\n",
      "o\n",
      "P\n",
      "Py\n",
      "tho\n",
      "===============\n",
      "Python\n",
      "Python\n",
      "Py\n",
      "on\n",
      "on\n"
     ]
    }
   ],
   "source": [
    "word = 'Python'\n",
    "print(word[0])\n",
    "print(word[5])\n",
    "print(word[-1])\n",
    "print(word[-2])\n",
    "print(word[-6])\n",
    "print(word[0:2])\n",
    "print(word[2:5])\n",
    "print('===============')\n",
    "print(word[:2] + word[2:])\n",
    "print(word[:4] + word[4:])\n",
    "print(word[:2])\n",
    "print(word[4:])\n",
    "print(word[-2:])\n",
    "\n"
   ]
  },
  {
   "cell_type": "code",
   "execution_count": null,
   "metadata": {},
   "outputs": [],
   "source": [
    "# String is immutable\n",
    "# Python srings cannot be changed \n",
    "# Therefore, assigning to an indexed position in the string results in an error\n",
    "word = 'Python'\n",
    "word[0] = 'J'"
   ]
  },
  {
   "cell_type": "code",
   "execution_count": null,
   "metadata": {},
   "outputs": [],
   "source": [
    "word[2:] = 'py'"
   ]
  },
  {
   "cell_type": "code",
   "execution_count": null,
   "metadata": {},
   "outputs": [],
   "source": [
    "'J' + word[1:]"
   ]
  },
  {
   "cell_type": "code",
   "execution_count": null,
   "metadata": {},
   "outputs": [],
   "source": [
    "word[:2] + 'py'"
   ]
  },
  {
   "cell_type": "code",
   "execution_count": null,
   "metadata": {},
   "outputs": [],
   "source": [
    "s = 'supercalifragilisticexpasdfddaas'\n",
    "len(s)"
   ]
  },
  {
   "cell_type": "code",
   "execution_count": null,
   "metadata": {},
   "outputs": [],
   "source": [
    "#\n",
    "# String Method: in, strip, split\n",
    "#\n",
    "print('Py' in 'Python')\n",
    "print('    spacious    '.strip())\n",
    "print('www.example.com'.strip('cmowz.'))\n",
    "print('1,2,3'.split(','))\n",
    "print('1,2,3'.split(',', maxsplit=1))\n",
    "print('1,2,,3,'.split(','))\n",
    "\n",
    "# find(sub[, start[, end[[]]]])\n",
    "# Return the lowest index in the string where substring sub is found within the slice s[start:end]\n",
    "\n"
   ]
  },
  {
   "cell_type": "code",
   "execution_count": null,
   "metadata": {},
   "outputs": [],
   "source": [
    "# The following skill will help you how to process \n",
    "# to let CPU and GPU work seperately when you use multi-thread "
   ]
  },
  {
   "cell_type": "code",
   "execution_count": null,
   "metadata": {},
   "outputs": [],
   "source": [
    "# Too Advanced Part ...  but it may too long term for you \n",
    "# Juts ignore this topic ... but you can self-learn it\n",
    "# More on Lists\n",
    "\"\"\"\n",
    " append(item): append item to the list\n",
    " insert(index, item): insert item into specific position\n",
    " extend(list): append the input list at the end of current list\n",
    " index(item): the first occurrence of the input item\n",
    " count(item): number of occurrence of the input item\n",
    " remove(item): remove the first occurrence of the input item\n",
    " reverse(): reverse the order of the list\n",
    " sort(): sort the list\n",
    " sort(comp_func): osrt using user defined comparison function\n",
    "\"\"\"\n",
    "\n",
    "fruits = ['orange','apple','pear','banana','apple','banana','banana']\n",
    "print('--- count ---')\n",
    "print(fruits.count('apple'))\n",
    "print(fruits.count('banana'))\n",
    "print(fruits.count('pieapple'))\n",
    "print('--- index ---')\n",
    "print(fruits.index('banana'))\n",
    "print(fruits.index('banana', 2)) # Find next banana starting a position 4\n",
    "print(fruits.index('banana', 3)) # Find next banana starting a position 4\n",
    "print(fruits.index('banana', 4)) # Find next banana starting a position 4\n",
    "\n",
    "print('--- reverse ---')\n",
    "print('before reverse()')\n",
    "print(fruits)\n",
    "print('after reverse()')\n",
    "fruits.reverse()\n",
    "print(fruits)\n",
    "\n",
    "print('--- after sort ---')\n",
    "fruits.sort()\n",
    "print(fruits)\n",
    "\n",
    "print('--- after pop ---')\n",
    "pop_item = fruits.pop()\n",
    "print(fruits)\n",
    "print('pop_item = ', pop_item)\n",
    "pass"
   ]
  },
  {
   "cell_type": "code",
   "execution_count": null,
   "metadata": {},
   "outputs": [],
   "source": [
    "# Using List as Statck\n",
    "#  . Stack => First In First Out\n",
    "stack = [3, 4, 5]\n",
    "stack.append(6) # push 6\n",
    "stack.append(7) # push 7\n",
    "print(stack)\n",
    "print(stack.pop())\n",
    "print(stack)\n",
    "print(stack.pop())\n",
    "print(stack.pop())\n",
    "print(stack)"
   ]
  },
  {
   "cell_type": "code",
   "execution_count": null,
   "metadata": {},
   "outputs": [],
   "source": [
    "# Using List as Queue\n",
    "# . Queue => First In First Out\n",
    "from collections import deque\n",
    "queue = deque(['Eric', 'John', 'Mike'])\n",
    "queue.append('Teddy') # Teddy arrives\n",
    "queue.append('George') # George arrives\n",
    "print(queue.popleft()) # The first to arrive leaveing now\n",
    "print(queue.popleft()) # The second to arrive leaveing now\n",
    "print(queue) # remaining queue in order of arrival\n",
    "\n"
   ]
  },
  {
   "cell_type": "code",
   "execution_count": null,
   "metadata": {},
   "outputs": [],
   "source": [
    "# Useful part \n",
    "# List comprehension\n",
    "\n",
    "# List comprehension provide a concise way to create lists, common applications are\n",
    "\"\"\"\n",
    ". To make new lists where each element is the result of some operations applied \n",
    "  to each member of another sequence or iterable\n",
    ". To create a subsequence of those elements that satisfy a certain condition\n",
    "\n",
    "\"\"\"\n",
    "pass"
   ]
  },
  {
   "cell_type": "code",
   "execution_count": 59,
   "metadata": {},
   "outputs": [
    {
     "name": "stdout",
     "output_type": "stream",
     "text": [
      "[0, 1, 4, 9, 16, 25, 36, 49, 64, 81]\n"
     ]
    }
   ],
   "source": [
    "# For example, to create a list of sequare:\n",
    "squares = []\n",
    "for x in range(10):\n",
    "    squares.append( x**2)\n",
    "print(squares)"
   ]
  },
  {
   "cell_type": "code",
   "execution_count": 60,
   "metadata": {},
   "outputs": [
    {
     "name": "stdout",
     "output_type": "stream",
     "text": [
      "[0, 1, 4, 9, 16, 25, 36, 49, 64, 81]\n"
     ]
    }
   ],
   "source": [
    "# With list comprehension, we can simply:\n",
    "squares = [x**2 for x in range(10)]\n",
    "print(squares)"
   ]
  },
  {
   "cell_type": "code",
   "execution_count": 61,
   "metadata": {},
   "outputs": [
    {
     "name": "stdout",
     "output_type": "stream",
     "text": [
      "[0, 1, 4, 9, 16, 25, 36, 49, 64, 81]\n",
      "[0, 1, 4, 9, 16, 25, 36, 49, 64, 81]\n",
      "[0, 1, 4, 9, 16, 25, 36, 49, 64, 81]\n"
     ]
    }
   ],
   "source": [
    "# The rule of list comprehension\n",
    "#  [mapping-expression for elemenet in source-list iffilter-expression]\n",
    "\n",
    "#  Some examples\n",
    "\n",
    "squares = []\n",
    "for x in range(10):\n",
    "    squares.append(x**2)\n",
    "print(squares)\n",
    "\n",
    "# Note that this creates (or overwrites) a variable named x that still exists after the loop complete\n",
    "squares = list(map(lambda x: x**2, range(10)))\n",
    "print(squares)\n",
    "\n",
    "# or , equivalently:\n",
    "squares = [x**2 for x in range(10)]\n",
    "print(squares)"
   ]
  },
  {
   "cell_type": "code",
   "execution_count": 62,
   "metadata": {},
   "outputs": [
    {
     "name": "stdout",
     "output_type": "stream",
     "text": [
      "[(1, 3), (1, 4), (2, 3), (2, 1), (2, 4), (3, 1), (3, 4)]\n",
      "[(1, 3), (1, 4), (2, 3), (2, 1), (2, 4), (3, 1), (3, 4)]\n"
     ]
    }
   ],
   "source": [
    "# The mapping-expression can be complicated as you want, can also be another list comprehension\n",
    "combs = [(x,y) for x in [1,2,3] for y in [3,1,4] if x != y]\n",
    "print(combs)\n",
    "\n",
    "# and it is equivalent to :\n",
    "combs = []\n",
    "for x in [1,2,3]:\n",
    "    for y in [3,1,4]:\n",
    "        if x != y:\n",
    "            combs.append((x, y))\n",
    "print(combs)"
   ]
  },
  {
   "cell_type": "code",
   "execution_count": 63,
   "metadata": {},
   "outputs": [
    {
     "name": "stdout",
     "output_type": "stream",
     "text": [
      "[-8, -4, 0, 4, 8]\n",
      "[0, 2, 4]\n",
      "[4, 2, 0, 2, 4]\n"
     ]
    }
   ],
   "source": [
    "# More examples for list comprehension PART-I\n",
    "vec = [-4, -2, 0, 2, 4]\n",
    "\n",
    "# create a new list with the values doubled\n",
    "print([x*2 for x in vec])\n",
    "\n",
    "# filter the list to exclude negative numbers\n",
    "print([x for x in vec if x >= 0])\n",
    "\n",
    "# apply a function to all the elements\n",
    "print([abs(x) for x in vec])\n",
    "\n"
   ]
  },
  {
   "cell_type": "code",
   "execution_count": 64,
   "metadata": {},
   "outputs": [
    {
     "name": "stdout",
     "output_type": "stream",
     "text": [
      "['banana', 'loganberry', 'passion fruit']\n",
      "[(0, 0), (1, 1), (2, 4), (3, 9), (4, 16), (5, 25)]\n",
      "[1, 2, 3, 4, 5, 6, 7, 8, 9]\n"
     ]
    }
   ],
   "source": [
    "# More examples for list comprehension PART-II\n",
    "# call a method on each leement\n",
    "freshfruit = ['  banana', '  loganberry ', 'passion fruit  ']\n",
    "print([weapon.strip() for weapon in freshfruit])\n",
    "\n",
    "# create a list of 2-tuples like (number, square)\n",
    "print( [(x,x**2) for x in range(6)] )\n",
    "# the tuple must be parenthesized , otherwise an error is raised\n",
    "\n",
    "# flatten a list using a listcomp with two 'for'\n",
    "vec = [[1,2,3], [4,5,6], [7,8,9]]\n",
    "print ( [num for elem in vec for num in elem] )\n",
    "\n",
    "\n"
   ]
  },
  {
   "cell_type": "code",
   "execution_count": 65,
   "metadata": {},
   "outputs": [
    {
     "name": "stdout",
     "output_type": "stream",
     "text": [
      "[[1, 2, 3, 4], [5, 6, 7, 8], [9, 10, 11, 12]]\n",
      "[[1, 5, 9], [2, 6, 10], [3, 7, 11], [4, 8, 12]]\n",
      "[(1, 5, 9), (2, 6, 10), (3, 7, 11), (4, 8, 12)]\n"
     ]
    }
   ],
   "source": [
    "# Nested List comprehensions \n",
    "matrix = [ [1,2,3,4], [5,6,7,8], [9,10,11,12] ]\n",
    "print(matrix)\n",
    "\n",
    "# The following list comprehension will transpose rows and columns:\n",
    "matrix_T = [[row[i] for row in matrix ] for i in range(4)]\n",
    "print(matrix_T)\n",
    "\n",
    "# zip() function would do a great job for this use case:\n",
    "print(list(zip(*matrix)))\n",
    "\n"
   ]
  },
  {
   "cell_type": "code",
   "execution_count": 66,
   "metadata": {},
   "outputs": [
    {
     "name": "stdout",
     "output_type": "stream",
     "text": [
      "[-1, 1, 66.25, 333, 333, 1234.5]\n",
      "[1, 66.25, 333, 333, 1234.5]\n",
      "====\n",
      "[1, 66.25, 1234.5]\n",
      "[]\n",
      "====\n"
     ]
    },
    {
     "ename": "NameError",
     "evalue": "name 'a' is not defined",
     "output_type": "error",
     "traceback": [
      "\u001b[0;31m---------------------------------------------------------------------------\u001b[0m",
      "\u001b[0;31mNameError\u001b[0m                                 Traceback (most recent call last)",
      "\u001b[0;32m<ipython-input-66-079884966e09>\u001b[0m in \u001b[0;36m<module>\u001b[0;34m()\u001b[0m\n\u001b[1;32m     12\u001b[0m \u001b[0;31m# del can also be used to delete entire variables:\u001b[0m\u001b[0;34m\u001b[0m\u001b[0;34m\u001b[0m\u001b[0;34m\u001b[0m\u001b[0m\n\u001b[1;32m     13\u001b[0m \u001b[0;32mdel\u001b[0m \u001b[0ma\u001b[0m\u001b[0;34m\u001b[0m\u001b[0;34m\u001b[0m\u001b[0m\n\u001b[0;32m---> 14\u001b[0;31m \u001b[0mprint\u001b[0m\u001b[0;34m(\u001b[0m\u001b[0ma\u001b[0m\u001b[0;34m)\u001b[0m\u001b[0;34m\u001b[0m\u001b[0;34m\u001b[0m\u001b[0m\n\u001b[0m",
      "\u001b[0;31mNameError\u001b[0m: name 'a' is not defined"
     ]
    }
   ],
   "source": [
    "# The del statement\n",
    "a = [-1, 1, 66.25, 333, 333, 1234.5]\n",
    "print(a)\n",
    "del a[0]\n",
    "print(a)\n",
    "print('====')\n",
    "del a[2:4]\n",
    "print(a)\n",
    "del a[:]\n",
    "print(a)\n",
    "print ( '====')\n",
    "# del can also be used to delete entire variables:\n",
    "del a\n",
    "print(a)"
   ]
  },
  {
   "cell_type": "code",
   "execution_count": 67,
   "metadata": {},
   "outputs": [
    {
     "name": "stdout",
     "output_type": "stream",
     "text": [
      "12345\n",
      "(12345, 54321, 'hello!')\n",
      "((12345, 54321, 'hello!'), (1, 2, 3, 4, 5))\n"
     ]
    },
    {
     "ename": "TypeError",
     "evalue": "'tuple' object does not support item assignment",
     "output_type": "error",
     "traceback": [
      "\u001b[0;31m---------------------------------------------------------------------------\u001b[0m",
      "\u001b[0;31mTypeError\u001b[0m                                 Traceback (most recent call last)",
      "\u001b[0;32m<ipython-input-67-a5847ee5e03c>\u001b[0m in \u001b[0;36m<module>\u001b[0;34m()\u001b[0m\n\u001b[1;32m      9\u001b[0m \u001b[0;34m\u001b[0m\u001b[0m\n\u001b[1;32m     10\u001b[0m \u001b[0;31m# Tuples are immutable:\u001b[0m\u001b[0;34m\u001b[0m\u001b[0;34m\u001b[0m\u001b[0;34m\u001b[0m\u001b[0m\n\u001b[0;32m---> 11\u001b[0;31m \u001b[0mt\u001b[0m\u001b[0;34m[\u001b[0m\u001b[0;36m0\u001b[0m\u001b[0;34m]\u001b[0m \u001b[0;34m=\u001b[0m \u001b[0;36m88888\u001b[0m\u001b[0;34m\u001b[0m\u001b[0;34m\u001b[0m\u001b[0m\n\u001b[0m\u001b[1;32m     12\u001b[0m \u001b[0mprint\u001b[0m\u001b[0;34m(\u001b[0m\u001b[0mt\u001b[0m\u001b[0;34m[\u001b[0m\u001b[0;36m0\u001b[0m\u001b[0;34m]\u001b[0m\u001b[0;34m)\u001b[0m\u001b[0;34m\u001b[0m\u001b[0;34m\u001b[0m\u001b[0m\n\u001b[1;32m     13\u001b[0m \u001b[0;34m\u001b[0m\u001b[0m\n",
      "\u001b[0;31mTypeError\u001b[0m: 'tuple' object does not support item assignment"
     ]
    }
   ],
   "source": [
    "# . Atuple consists of a number of values separated by commas\n",
    "t = 12345, 54321, 'hello!'\n",
    "print(t[0])\n",
    "print(t)\n",
    "\n",
    "# Tuples may be nested:\n",
    "u = t, (1,2,3,4,5)\n",
    "print(u)\n",
    "\n",
    "# Tuples are immutable:\n",
    "t[0] = 88888\n",
    "print(t[0])\n",
    "\n"
   ]
  },
  {
   "cell_type": "code",
   "execution_count": null,
   "metadata": {},
   "outputs": [],
   "source": [
    "# Set "
   ]
  },
  {
   "cell_type": "code",
   "execution_count": null,
   "metadata": {},
   "outputs": [],
   "source": [
    "# . A set is an unordered collection with no duplicate elements\n",
    "# . To create an empty set you have to use set(), not {}\n",
    "basket = {'apple', 'orange', 'apple', 'pear', 'orange', 'banana'}\n",
    "print(basket)\n",
    "print( 'orange' in basket)\n",
    "print( 'crabgrass' in basket)\n",
    "\n"
   ]
  },
  {
   "cell_type": "code",
   "execution_count": 68,
   "metadata": {},
   "outputs": [
    {
     "name": "stdout",
     "output_type": "stream",
     "text": [
      "{'r', 'c', 'a', 'b', 'd'}\n",
      "{'z', 'c', 'a', 'l', 'm'}\n",
      "{'r', 'd', 'b'}\n",
      "{'z', 'r', 'c', 'a', 'l', 'b', 'm', 'd'}\n",
      "{'c', 'a'}\n",
      "{'l', 'b', 'z', 'r', 'm', 'd'}\n"
     ]
    }
   ],
   "source": [
    "# Demonstrate set operations on unique letters from two words\n",
    "a = set('abracadabra')\n",
    "b = set('alacazam')\n",
    "\n",
    "# unique letters in a\n",
    "print(a)\n",
    "\n",
    "# unique letters in b\n",
    "print(b)\n",
    "\n",
    "# lettes in a but not in b\n",
    "print(a - b)\n",
    "\n",
    "# letters in either a or b\n",
    "print(a | b)\n",
    "\n",
    "# letters in both a and b\n",
    "print(a & b)\n",
    "\n",
    "# letters in a or b but not both\n",
    "print(a ^ b)"
   ]
  },
  {
   "cell_type": "code",
   "execution_count": null,
   "metadata": {},
   "outputs": [],
   "source": [
    "# Dict"
   ]
  },
  {
   "cell_type": "code",
   "execution_count": 69,
   "metadata": {},
   "outputs": [
    {
     "name": "stdout",
     "output_type": "stream",
     "text": [
      "{'milo': 1111, 'sac': 1234, 'frankie': 4333}\n",
      "{'milo': 1111, 'frankie': 4333, 'ivy': 1111}\n",
      "['milo', 'frankie', 'ivy']\n",
      "['frankie', 'ivy', 'milo']\n",
      "True\n",
      "False\n"
     ]
    }
   ],
   "source": [
    "# . associative arrays\" : {key: value pair, }\n",
    "tel = {'milo':1111, 'sac':1234, }\n",
    "tel['frankie'] = 4333\n",
    "print(tel)\n",
    "\n",
    "# del sac'data and add ivy's data\n",
    "del tel['sac']\n",
    "tel['ivy'] = 1111\n",
    "print(tel)\n",
    "\n",
    "# show keys\n",
    "print(list(tel.keys()))\n",
    "\n",
    "# show sorted keys\n",
    "print(sorted(tel.keys()))\n",
    "\n",
    "print('milo' in tel)\n",
    "print('sac' in tel)\n",
    "\n"
   ]
  },
  {
   "cell_type": "code",
   "execution_count": null,
   "metadata": {},
   "outputs": [],
   "source": [
    "# Loop in adavnced\n"
   ]
  },
  {
   "cell_type": "code",
   "execution_count": 70,
   "metadata": {},
   "outputs": [
    {
     "name": "stdout",
     "output_type": "stream",
     "text": [
      "9\n",
      "7\n",
      "5\n",
      "3\n",
      "1\n"
     ]
    }
   ],
   "source": [
    "for i in reversed (range(1, 10, 2)):\n",
    "    print(i)"
   ]
  },
  {
   "cell_type": "code",
   "execution_count": 71,
   "metadata": {},
   "outputs": [
    {
     "name": "stdout",
     "output_type": "stream",
     "text": [
      "apple\n",
      "banana\n",
      "orange\n",
      "pear\n"
     ]
    }
   ],
   "source": [
    "basket = ['apple','orange', 'apple', 'pear', 'orange', 'banana']\n",
    "for fruit in sorted(set(basket)):\n",
    "    print(fruit)"
   ]
  },
  {
   "cell_type": "code",
   "execution_count": 72,
   "metadata": {},
   "outputs": [
    {
     "name": "stdout",
     "output_type": "stream",
     "text": [
      "{'sac': 1111, 'milo': 2222, 'frankie': 3333}\n",
      "{2: 4, 4: 16, 6: 36}\n",
      "{'sac': 1111, 'milo': 2222, 'frankie': 3333}\n",
      "{'r', 'd'}\n"
     ]
    }
   ],
   "source": [
    "# The dict() constructor buildsdictionaries directly from sequences of key-value pairs:\n",
    "d = dict([('sac',1111), ('milo',2222), ('frankie',3333)])\n",
    "print(d)\n",
    "\n",
    "# In addition, dict comprehensions can be used to create diconaries from arbitrary key and value expressions:\n",
    "print( {x: x**2 for x in (2,4,6)} )\n",
    "\n",
    "# When the keys are simple strings, it is sometimes easier to specifiy pairs using keyword arguments:\n",
    "print( dict(sac=1111, milo=2222, frankie=3333) )\n",
    "\n",
    "# Similarly to list comprehensions, set comprehensions are also supported:\n",
    "print ( {x for x in 'abracadabra' if x not in 'abc'} )"
   ]
  },
  {
   "cell_type": "code",
   "execution_count": 73,
   "metadata": {},
   "outputs": [
    {
     "name": "stdout",
     "output_type": "stream",
     "text": [
      "Compare tuple, list and string\n",
      "True\n",
      "True\n",
      "True\n",
      "True\n",
      "True\n",
      "============\n",
      "Compare different tuple\n",
      "True\n",
      "True\n",
      "True\n"
     ]
    }
   ],
   "source": [
    "# Comparing Sequences and Other Types\n",
    "print('Compare tuple, list and string')\n",
    "print( (1,2,3) < (1,2,4) )\n",
    "print( [1,2,3] < [1,2,4] )\n",
    "print( 'ABC' < 'C')\n",
    "print( 'C' < 'Pascal' )\n",
    "print( 'Pascal' < 'Python' )\n",
    "print('============')\n",
    "print('Compare different tuple')\n",
    "print( (1,2,3,4) < (1,2,4) )\n",
    "print( (1,2) < (1,2,-1)  )\n",
    "print( (1,2,('aa','ab')) < (1,2,('abc','a'),4) )"
   ]
  },
  {
   "cell_type": "code",
   "execution_count": null,
   "metadata": {},
   "outputs": [],
   "source": []
  }
 ],
 "metadata": {
  "kernelspec": {
   "display_name": "Python 3",
   "language": "python",
   "name": "python3"
  },
  "language_info": {
   "codemirror_mode": {
    "name": "ipython",
    "version": 3
   },
   "file_extension": ".py",
   "mimetype": "text/x-python",
   "name": "python",
   "nbconvert_exporter": "python",
   "pygments_lexer": "ipython3",
   "version": "3.6.9"
  }
 },
 "nbformat": 4,
 "nbformat_minor": 2
}
