{
 "cells": [
  {
   "cell_type": "code",
   "execution_count": 1,
   "metadata": {},
   "outputs": [],
   "source": [
    "# PS: \n",
    "# You can also practice more from if coding is fun for you\n",
    "# https://py.checkio.org  <-- good website to practice :D \n",
    "\n",
    "\n",
    "\n",
    "# Exam 1\n",
    "# All the same"
   ]
  },
  {
   "cell_type": "code",
   "execution_count": 2,
   "metadata": {},
   "outputs": [],
   "source": [
    "\"\"\"\n",
    "Please impelemnt all_the_same function to satisfy following \n",
    "\n",
    "all_the_same([1, 1, 1]) == True\n",
    "all_the_same([1, 2, 1]) == False\n",
    "all_the_same(['a', 'a', 'a']) == True\n",
    "all_the_same([]) == True\n",
    "\"\"\"\n",
    "pass"
   ]
  },
  {
   "cell_type": "code",
   "execution_count": 3,
   "metadata": {},
   "outputs": [
    {
     "name": "stdout",
     "output_type": "stream",
     "text": [
      "True\n",
      "False\n"
     ]
    }
   ],
   "source": [
    "def test_case(test_func):\n",
    "    print(test_func([1, 1, 1]))\n",
    "    print(test_func([1, 2, 1]))\n",
    "\n",
    "def all_the_same(v_list):\n",
    "    if len(v_list) == 0:\n",
    "        return False\n",
    "    first_v = v_list[0]\n",
    "    for v in v_list:\n",
    "        if first_v != v:\n",
    "            return False\n",
    "    return True\n",
    "\n",
    "test_case(all_the_same)"
   ]
  },
  {
   "cell_type": "code",
   "execution_count": 4,
   "metadata": {},
   "outputs": [],
   "source": [
    "# Exam 2\n",
    "# Sort Array by Element Frequency"
   ]
  },
  {
   "cell_type": "code",
   "execution_count": 5,
   "metadata": {},
   "outputs": [],
   "source": [
    "\"\"\"\n",
    "Sort the given iterable so that its elements end up in the decreasing frequency order, that is, \n",
    "the number of times they appear in elements. If two elements have the same frequency, \n",
    "they should end up in the same order as the first appearance in the iterable.\n",
    "\n",
    "Example:\n",
    "frequency_sort([4, 6, 2, 2, 6, 4, 4, 4]) == [4, 4, 4, 4, 6, 6, 2, 2]\n",
    "frequency_sort(['bob', 'bob', 'carl', 'alex', 'bob']) == ['bob', 'bob', 'bob', 'carl', 'alex']\n",
    "\"\"\"\n",
    "pass"
   ]
  },
  {
   "cell_type": "code",
   "execution_count": 6,
   "metadata": {},
   "outputs": [],
   "source": [
    "# Idea:\n",
    "# write normal sorting first --> sort_algo\n",
    "# then write frequency_sorg 00> freq_sort_algo"
   ]
  },
  {
   "cell_type": "code",
   "execution_count": 7,
   "metadata": {},
   "outputs": [
    {
     "name": "stdout",
     "output_type": "stream",
     "text": [
      "i =  0\t(max_idx =  5 )\n",
      "[Before] ret_list, vals =  []   [1, 2, 3, 4, 5, 7, 4, 2, 1]\n",
      "[ After] ret_list, vals =  [7]   [1, 2, 3, 4, 5, 4, 2, 1]\n",
      "\n",
      "i =  1\t(max_idx =  4 )\n",
      "[Before] ret_list, vals =  [7]   [1, 2, 3, 4, 5, 4, 2, 1]\n",
      "[ After] ret_list, vals =  [7, 5]   [1, 2, 3, 4, 4, 2, 1]\n",
      "\n",
      "i =  2\t(max_idx =  3 )\n",
      "[Before] ret_list, vals =  [7, 5]   [1, 2, 3, 4, 4, 2, 1]\n",
      "[ After] ret_list, vals =  [7, 5, 4]   [1, 2, 3, 4, 2, 1]\n",
      "\n",
      "i =  3\t(max_idx =  3 )\n",
      "[Before] ret_list, vals =  [7, 5, 4]   [1, 2, 3, 4, 2, 1]\n",
      "[ After] ret_list, vals =  [7, 5, 4, 4]   [1, 2, 3, 2, 1]\n",
      "\n",
      "i =  4\t(max_idx =  2 )\n",
      "[Before] ret_list, vals =  [7, 5, 4, 4]   [1, 2, 3, 2, 1]\n",
      "[ After] ret_list, vals =  [7, 5, 4, 4, 3]   [1, 2, 2, 1]\n",
      "\n",
      "i =  5\t(max_idx =  1 )\n",
      "[Before] ret_list, vals =  [7, 5, 4, 4, 3]   [1, 2, 2, 1]\n",
      "[ After] ret_list, vals =  [7, 5, 4, 4, 3, 2]   [1, 2, 1]\n",
      "\n",
      "i =  6\t(max_idx =  1 )\n",
      "[Before] ret_list, vals =  [7, 5, 4, 4, 3, 2]   [1, 2, 1]\n",
      "[ After] ret_list, vals =  [7, 5, 4, 4, 3, 2, 2]   [1, 1]\n",
      "\n",
      "i =  7\t(max_idx =  0 )\n",
      "[Before] ret_list, vals =  [7, 5, 4, 4, 3, 2, 2]   [1, 1]\n",
      "[ After] ret_list, vals =  [7, 5, 4, 4, 3, 2, 2, 1]   [1]\n",
      "\n",
      "i =  8\t(max_idx =  0 )\n",
      "[Before] ret_list, vals =  [7, 5, 4, 4, 3, 2, 2, 1]   [1]\n",
      "[ After] ret_list, vals =  [7, 5, 4, 4, 3, 2, 2, 1, 1]   []\n",
      "\n",
      "result =  [7, 5, 4, 4, 3, 2, 2, 1, 1]\n"
     ]
    }
   ],
   "source": [
    "def test_case(test_func):\n",
    "    print( test_func([4, 6, 2, 2, 6, 4, 4, 4]) ) \n",
    "    #[4, 4, 4, 4, 6, 6, 2, 2]\n",
    "    print( test_func(['bob', 'bob', 'carl', 'alex', 'bob']) )\n",
    "    # ['bob', 'bob', 'bob', 'carl', 'alex']\n",
    "    \n",
    "def sort_algo(vals):\n",
    "    ret_list = []\n",
    "    len_vals = len(vals)\n",
    "    for i in range(len_vals):\n",
    "        print('i = ', i, end='\\t' )\n",
    "        \n",
    "        max_idx = 0 \n",
    "        for idx in range(len(vals)):\n",
    "            if vals[idx] > vals[max_idx]:\n",
    "                max_idx = idx\n",
    "        print('(max_idx = ', max_idx, ')')\n",
    "        print(\"[Before] ret_list, vals = \", ret_list, \" \", vals)                \n",
    "        ret_list.append(vals[max_idx])\n",
    "        vals = vals[:max_idx] + vals[max_idx+1:]\n",
    "        print(\"[ After] ret_list, vals = \", ret_list, \" \", vals)\n",
    "        print('')\n",
    "            \n",
    "    return ret_list\n",
    "\n",
    "result = sort_algo([1,2,3,4,5,7,4,2,1])\n",
    "print('result = ', result)\n"
   ]
  },
  {
   "cell_type": "code",
   "execution_count": 8,
   "metadata": {},
   "outputs": [
    {
     "name": "stdout",
     "output_type": "stream",
     "text": [
      "kvs =  {'bob': 3, 'carl': 1, 'alex': 1}\n",
      "i =  0\t(max_idx =  0 )\n",
      "[Before] ret_list, vals =  []   ['bob', 'bob', 'bob', 'carl', 'alex']\n",
      "[ After] ret_list, vals =  ['bob']   ['bob', 'bob', 'carl', 'alex']\n",
      "\n",
      "i =  1\t(max_idx =  0 )\n",
      "[Before] ret_list, vals =  ['bob']   ['bob', 'bob', 'carl', 'alex']\n",
      "[ After] ret_list, vals =  ['bob', 'bob']   ['bob', 'carl', 'alex']\n",
      "\n",
      "i =  2\t(max_idx =  0 )\n",
      "[Before] ret_list, vals =  ['bob', 'bob']   ['bob', 'carl', 'alex']\n",
      "[ After] ret_list, vals =  ['bob', 'bob', 'bob']   ['carl', 'alex']\n",
      "\n",
      "i =  3\t(max_idx =  0 )\n",
      "[Before] ret_list, vals =  ['bob', 'bob', 'bob']   ['carl', 'alex']\n",
      "[ After] ret_list, vals =  ['bob', 'bob', 'bob', 'carl']   ['alex']\n",
      "\n",
      "i =  4\t(max_idx =  0 )\n",
      "[Before] ret_list, vals =  ['bob', 'bob', 'bob', 'carl']   ['alex']\n",
      "[ After] ret_list, vals =  ['bob', 'bob', 'bob', 'carl', 'alex']   []\n",
      "\n",
      "result =  ['bob', 'bob', 'bob', 'carl', 'alex']\n"
     ]
    }
   ],
   "source": [
    "\n",
    "\n",
    "def freq_sort_algo(vals):\n",
    "    kvs = {} # key-value \n",
    "    for v in vals:\n",
    "        if v in kvs.keys():\n",
    "            kvs[v] = kvs[v] + 1 \n",
    "        else:\n",
    "            kvs[v] = 1\n",
    "    # kvs is to count how many element in the list\n",
    "    print('kvs = ', kvs)\n",
    "\n",
    "    \n",
    "    ret_list = []\n",
    "    len_vals = len(vals)\n",
    "    for i in range(len_vals):\n",
    "        print('i = ', i, end='\\t' )\n",
    "        max_idx = 0 \n",
    "        for idx in range(len(vals)):\n",
    "            #if vals[idx] > vals[max_idx]:\n",
    "            if kvs[vals[idx]] > kvs[vals[max_idx]]:\n",
    "                max_idx = idx\n",
    "        print('(max_idx = ', max_idx, ')')\n",
    "        print(\"[Before] ret_list, vals = \", ret_list, \" \", vals)\n",
    "        \n",
    "        ret_list.append(vals[max_idx])\n",
    "        vals = vals[:max_idx] + vals[max_idx+1:]\n",
    "        print(\"[ After] ret_list, vals = \", ret_list, \" \", vals)\n",
    "        print('')\n",
    "            \n",
    "    return ret_list\n",
    "\n",
    "\n",
    "\n",
    "result = freq_sort_algo(['bob', 'bob', 'bob', 'carl', 'alex'])\n",
    "print('result = ', result)\n"
   ]
  },
  {
   "cell_type": "code",
   "execution_count": null,
   "metadata": {},
   "outputs": [],
   "source": []
  }
 ],
 "metadata": {
  "kernelspec": {
   "display_name": "Python 3",
   "language": "python",
   "name": "python3"
  },
  "language_info": {
   "codemirror_mode": {
    "name": "ipython",
    "version": 3
   },
   "file_extension": ".py",
   "mimetype": "text/x-python",
   "name": "python",
   "nbconvert_exporter": "python",
   "pygments_lexer": "ipython3",
   "version": "3.6.9"
  }
 },
 "nbformat": 4,
 "nbformat_minor": 2
}
