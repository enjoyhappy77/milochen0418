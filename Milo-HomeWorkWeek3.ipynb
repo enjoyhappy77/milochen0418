{
 "cells": [
  {
   "cell_type": "code",
   "execution_count": 2,
   "metadata": {},
   "outputs": [
    {
     "name": "stdout",
     "output_type": "stream",
     "text": [
      "\n",
      "*\n",
      "**\n",
      "***\n",
      "****\n",
      "*****\n",
      "******\n"
     ]
    }
   ],
   "source": [
    "#for j in range(7):\n",
    "#    print('*', end='')\n",
    "for i in range(7):\n",
    "    for j in range(i):\n",
    "        print('*', end='')  \n",
    "    print('') # next line\n"
   ]
  },
  {
   "cell_type": "code",
   "execution_count": null,
   "metadata": {},
   "outputs": [],
   "source": [
    "# HomeWork assiged at 2019/0730 . deadline 2019/08/05 \n",
    "# Please send you homework to milo_chen@mail2000.com.tw"
   ]
  },
  {
   "cell_type": "code",
   "execution_count": 11,
   "metadata": {
    "scrolled": true
   },
   "outputs": [
    {
     "name": "stdout",
     "output_type": "stream",
     "text": [
      "*******\n",
      "******\n",
      "*****\n",
      "****\n",
      "***\n",
      "**\n",
      "*\n"
     ]
    }
   ],
   "source": [
    "# HomeWork 1.1 \n",
    "\n",
    "\n",
    "# Expect to see\n",
    "\n",
    "\"\"\"\n",
    "*******\n",
    "******\n",
    "*****\n",
    "****\n",
    "***\n",
    "**\n",
    "*\n",
    "\n",
    "\"\"\"\n",
    "pass"
   ]
  },
  {
   "cell_type": "code",
   "execution_count": 19,
   "metadata": {},
   "outputs": [
    {
     "name": "stdout",
     "output_type": "stream",
     "text": [
      "Please enter an integer: 2\n",
      "  *  \n",
      " *** \n",
      "*****\n",
      " *** \n",
      "  *  \n"
     ]
    }
   ],
   "source": [
    "# HomeWork 1.2\n",
    "import math\n",
    "n = int(input(\"Please enter an integer: \"))\n",
    "\n",
    "for i in range(-n,n+1):\n",
    "    for j in range(-n,n+1):\n",
    "        if abs(i) + abs(j) <= n:\n",
    "            print('*', end='')  \n",
    "        else:\n",
    "            print(' ', end='')  \n",
    "    print('') # next line\n"
   ]
  },
  {
   "cell_type": "code",
   "execution_count": null,
   "metadata": {},
   "outputs": [],
   "source": [
    "# HomeWork 1.2 \n",
    "\"\"\"\n",
    "Please enter an integer: 2\n",
    "  *  \n",
    " *** \n",
    "*****\n",
    " *** \n",
    "  * \n",
    "\"\"\"\n",
    "pass\n",
    "\"\"\"\n",
    "Please enter an integer: 3\n",
    "   *   \n",
    "  ***  \n",
    " ***** \n",
    "*******\n",
    " ***** \n",
    "  ***  \n",
    "   *    \n",
    "\"\"\"\n",
    "pass\n",
    "\"\"\"\n",
    "Please enter an integer: 7\n",
    "       *       \n",
    "      ***      \n",
    "     *****     \n",
    "    *******    \n",
    "   *********   \n",
    "  ***********  \n",
    " ************* \n",
    "***************\n",
    " ************* \n",
    "  ***********  \n",
    "   *********   \n",
    "    *******    \n",
    "     *****     \n",
    "      ***      \n",
    "       *     \n",
    "\"\"\"\n",
    "pass"
   ]
  }
 ],
 "metadata": {
  "kernelspec": {
   "display_name": "Python 3",
   "language": "python",
   "name": "python3"
  },
  "language_info": {
   "codemirror_mode": {
    "name": "ipython",
    "version": 3
   },
   "file_extension": ".py",
   "mimetype": "text/x-python",
   "name": "python",
   "nbconvert_exporter": "python",
   "pygments_lexer": "ipython3",
   "version": "3.6.4"
  }
 },
 "nbformat": 4,
 "nbformat_minor": 2
}
