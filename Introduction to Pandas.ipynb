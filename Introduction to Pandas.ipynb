{
 "cells": [
  {
   "cell_type": "code",
   "execution_count": 1,
   "metadata": {},
   "outputs": [],
   "source": [
    "# Pandas is a library that provides useful data structure and data analysis tools\n",
    "# pandas is well suited for many different kinds of data\n",
    "# . Tabular data with heterogeneously-typed columns, as in an SQL table or Excel spreadsheet\n",
    "# . Ordered and unordered (not necessarily fixed-frequency) time series data.\n",
    "# . Arbitrary matrix data (homogeneously typed or heterogeneous) with row and column labels\n",
    "# . Any other form of observational / statistical data sets. The data actually need not be labeled \n",
    "#   at all to be placed into a pandas data structure. \n",
    "\n",
    "import numpy as np\n",
    "import pandas as pd"
   ]
  },
  {
   "cell_type": "code",
   "execution_count": 2,
   "metadata": {},
   "outputs": [],
   "source": [
    "# Pandas Data Structure\n"
   ]
  },
  {
   "cell_type": "code",
   "execution_count": 7,
   "metadata": {},
   "outputs": [],
   "source": [
    "# . Series\n",
    "#   . One dimension array capable of holding any data type,\n",
    "# . To create Series\n",
    "data = np.array([1,2,3,4,5,6,7,8,9])\n",
    "index = np.array([1,3,5])\n",
    "s = pd.Series(data, index=index)\n",
    "# . The \"data\" can be list, tuple, dict, numpy.ndarray ... \n"
   ]
  },
  {
   "cell_type": "code",
   "execution_count": 11,
   "metadata": {},
   "outputs": [
    {
     "name": "stdout",
     "output_type": "stream",
     "text": [
      "0    1\n",
      "1    2\n",
      "2    3\n",
      "3    4\n",
      "dtype: int64\n",
      "\n",
      "a    0\n",
      "b    1\n",
      "dtype: int64\n"
     ]
    }
   ],
   "source": [
    "s = pd.Series([1,2,3,4])\n",
    "print(s)\n",
    "print('')\n",
    "x = {'a':0, 'b':1} # x is dictionary\n",
    "s = pd.Series(x)\n",
    "print(s)"
   ]
  },
  {
   "cell_type": "code",
   "execution_count": null,
   "metadata": {},
   "outputs": [],
   "source": [
    "# . The index should be the same size with the data\n",
    "s = pd.Ser"
   ]
  }
 ],
 "metadata": {
  "kernelspec": {
   "display_name": "Python 3",
   "language": "python",
   "name": "python3"
  },
  "language_info": {
   "codemirror_mode": {
    "name": "ipython",
    "version": 3
   },
   "file_extension": ".py",
   "mimetype": "text/x-python",
   "name": "python",
   "nbconvert_exporter": "python",
   "pygments_lexer": "ipython3",
   "version": "3.6.4"
  }
 },
 "nbformat": 4,
 "nbformat_minor": 2
}
