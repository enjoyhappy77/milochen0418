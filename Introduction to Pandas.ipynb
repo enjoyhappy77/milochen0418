{
 "cells": [
  {
   "cell_type": "code",
   "execution_count": 1,
   "metadata": {},
   "outputs": [],
   "source": [
    "# Pandas is a library that provides useful data structure and data analysis tools\n",
    "# pandas is well suited for many different kinds of data\n",
    "# . Tabular data with heterogeneously-typed columns, as in an SQL table or Excel spreadsheet\n",
    "# . Ordered and unordered (not necessarily fixed-frequency) time series data.\n",
    "# . Arbitrary matrix data (homogeneously typed or heterogeneous) with row and column labels\n",
    "# . Any other form of observational / statistical data sets. The data actually need not be labeled \n",
    "#   at all to be placed into a pandas data structure. \n",
    "\n",
    "import numpy as np\n",
    "import pandas as pd"
   ]
  },
  {
   "cell_type": "code",
   "execution_count": 2,
   "metadata": {},
   "outputs": [],
   "source": [
    "# Pandas Data Structure\n"
   ]
  },
  {
   "cell_type": "code",
   "execution_count": 3,
   "metadata": {},
   "outputs": [
    {
     "name": "stdout",
     "output_type": "stream",
     "text": [
      "a    1\n",
      "b    2\n",
      "c    3\n",
      "d    4\n",
      "dtype: int32\n"
     ]
    }
   ],
   "source": [
    "# . Series\n",
    "#   . One dimension array capable of holding any data type,\n",
    "# . To create Series\n",
    "data = np.array([1,2,3,4])\n",
    "index = np.array(['a','b','c','d'])\n",
    "s = pd.Series(data, index=index)\n",
    "print(s)\n",
    "# . The \"data\" can be list, tuple, dict, numpy.ndarray ... \n"
   ]
  },
  {
   "cell_type": "code",
   "execution_count": 4,
   "metadata": {},
   "outputs": [
    {
     "name": "stdout",
     "output_type": "stream",
     "text": [
      "0    1\n",
      "1    2\n",
      "2    3\n",
      "3    4\n",
      "dtype: int64\n",
      "\n",
      "a    0\n",
      "b    1\n",
      "dtype: int64\n"
     ]
    }
   ],
   "source": [
    "s = pd.Series([1,2,3,4])\n",
    "print(s)\n",
    "print('')\n",
    "x = {'a':0, 'b':1} # x is dictionary\n",
    "s = pd.Series(x)\n",
    "print(s)"
   ]
  },
  {
   "cell_type": "code",
   "execution_count": 5,
   "metadata": {},
   "outputs": [
    {
     "name": "stdout",
     "output_type": "stream",
     "text": [
      "a    0\n",
      "b    1\n",
      "c    2\n",
      "d    3\n",
      "dtype: int64\n"
     ]
    }
   ],
   "source": [
    "# . The index should be the same size with the data\n",
    "s = pd.Series([0,1,2,3], index = ['a','b','c','d'])\n",
    "print(s)"
   ]
  },
  {
   "cell_type": "code",
   "execution_count": 6,
   "metadata": {},
   "outputs": [
    {
     "name": "stdout",
     "output_type": "stream",
     "text": [
      "1\n",
      "\n",
      "a    0\n",
      "c    2\n",
      "dtype: int64\n"
     ]
    }
   ],
   "source": [
    "# . You can access the series element by their index\n",
    "print(s['b'])\n",
    "print('')\n",
    "S = set()\n",
    "S.add('a')\n",
    "S.add('c')\n",
    "print(s[S])"
   ]
  },
  {
   "cell_type": "code",
   "execution_count": 7,
   "metadata": {},
   "outputs": [],
   "source": [
    "# . Data frame\n",
    "#  . 2-dimensional labeled data structure with columns of poetentially different types\n",
    "#  . like a spreadsheet or SQL table, or a dict of Series objects\n",
    "#  . accepts many different kinds of input:\n",
    "#    . Dict of 1D ndarrays, lists, dicts, or Series\n",
    "#    . 2-D numpy.ndarray\n",
    "#    . Structured or record ndarry\n",
    "#    . A Series\n",
    "#    . Another DataFrame\n"
   ]
  },
  {
   "cell_type": "code",
   "execution_count": 8,
   "metadata": {},
   "outputs": [
    {
     "name": "stdout",
     "output_type": "stream",
     "text": [
      "     a    b\n",
      "a  1.0  6.0\n",
      "b  2.0  7.0\n",
      "c  3.0  5.0\n",
      "d  4.0  NaN\n",
      "x  NaN  8.0\n"
     ]
    }
   ],
   "source": [
    "# From dict of series or dict\n",
    "d = {}\n",
    "d['a'] = pd.Series([1,2,3,4], index = ['a','b','c','d'])\n",
    "d['b'] = pd.Series([5,6,7,8], index = ['c','a','b','x'])\n",
    "df = pd.DataFrame(d)\n",
    "print(df)"
   ]
  },
  {
   "cell_type": "code",
   "execution_count": 9,
   "metadata": {},
   "outputs": [
    {
     "name": "stdout",
     "output_type": "stream",
     "text": [
      "   a  b\n",
      "a  1  6\n",
      "b  2  7\n",
      "c  3  5\n",
      "\n",
      "   a    d\n",
      "a  1  NaN\n",
      "b  2  NaN\n",
      "c  3  NaN\n"
     ]
    }
   ],
   "source": [
    "# The index and column parameter\n",
    "df = pd.DataFrame(d, index = ['a','b','c'])\n",
    "print(df)\n",
    "print('')\n",
    "df = pd.DataFrame(d, index = ['a','b','c'], columns = ['a','d'])\n",
    "print(df)"
   ]
  },
  {
   "cell_type": "code",
   "execution_count": 10,
   "metadata": {},
   "outputs": [
    {
     "name": "stdout",
     "output_type": "stream",
     "text": [
      "   a  b    c\n",
      "0  1  2  NaN\n",
      "1  3  4  5.0\n",
      "\n",
      "        a  b    c\n",
      "first   1  2  NaN\n",
      "second  3  4  5.0\n",
      "\n",
      "        a    c\n",
      "first   1  NaN\n",
      "second  3  5.0\n",
      "\n"
     ]
    }
   ],
   "source": [
    "# From list of dict\n",
    "x = [{'a':1, 'b':2}, {'a':3, 'b':4, 'c':5}]\n",
    "print(pd.DataFrame(x))\n",
    "print('')\n",
    "print(pd.DataFrame(x, index = ['first','second']))\n",
    "print('')\n",
    "print(pd.DataFrame(x, index = ['first','second'], columns=['a','c']))\n",
    "print('')\n"
   ]
  },
  {
   "cell_type": "code",
   "execution_count": null,
   "metadata": {},
   "outputs": [],
   "source": []
  }
 ],
 "metadata": {
  "kernelspec": {
   "display_name": "Python 3",
   "language": "python",
   "name": "python3"
  },
  "language_info": {
   "codemirror_mode": {
    "name": "ipython",
    "version": 3
   },
   "file_extension": ".py",
   "mimetype": "text/x-python",
   "name": "python",
   "nbconvert_exporter": "python",
   "pygments_lexer": "ipython3",
   "version": "3.6.4"
  }
 },
 "nbformat": 4,
 "nbformat_minor": 2
}
