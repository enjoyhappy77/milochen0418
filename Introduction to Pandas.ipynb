{
 "cells": [
  {
   "cell_type": "code",
   "execution_count": 1,
   "metadata": {},
   "outputs": [],
   "source": [
    "# Pandas is a library that provides useful data structure and data analysis tools\n",
    "# pandas is well suited for many different kinds of data\n",
    "# . Tabular data with heterogeneously-typed columns, as in an SQL table or Excel spreadsheet\n",
    "# . Ordered and unordered (not necessarily fixed-frequency) time series data.\n",
    "# . Arbitrary matrix data (homogeneously typed or heterogeneous) with row and column labels\n",
    "# . Any other form of observational / statistical data sets. The data actually need not be labeled \n",
    "#   at all to be placed into a pandas data structure. \n",
    "\n"
   ]
  },
  {
   "cell_type": "code",
   "execution_count": null,
   "metadata": {},
   "outputs": [],
   "source": []
  }
 ],
 "metadata": {
  "kernelspec": {
   "display_name": "Python 3",
   "language": "python",
   "name": "python3"
  },
  "language_info": {
   "codemirror_mode": {
    "name": "ipython",
    "version": 3
   },
   "file_extension": ".py",
   "mimetype": "text/x-python",
   "name": "python",
   "nbconvert_exporter": "python",
   "pygments_lexer": "ipython3",
   "version": "3.6.4"
  }
 },
 "nbformat": 4,
 "nbformat_minor": 2
}
