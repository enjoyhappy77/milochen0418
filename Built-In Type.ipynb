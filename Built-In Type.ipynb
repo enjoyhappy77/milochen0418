{
 "cells": [
  {
   "cell_type": "code",
   "execution_count": 1,
   "metadata": {},
   "outputs": [],
   "source": [
    "# Sequence Types -- list, tuple, range\n",
    "#  . There are three basic sequence types: lists, tuples, \n",
    "#    and range objects.\n",
    "#  . Additional sequence types tailored for processing of \n",
    "#    binary data and text strings are discussed later\n",
    "#\n"
   ]
  },
  {
   "cell_type": "code",
   "execution_count": 8,
   "metadata": {},
   "outputs": [],
   "source": [
    "# Mutable and Immutable\n",
    "\"\"\"\n",
    "Multable Definition:\n",
    "    Mutable objects can change their value but keep their id().\n",
    "    \n",
    "Immutable Definition:\n",
    "    An object with a fixed value. Immutable objects include numbers, strings and \n",
    "  tuples. Such an object cannot be altered. A new object has to be created if\n",
    "  a different value has to be stored. They play an important role in places where\n",
    "  a constant has value is needed. for example as a key in a dictionary. \n",
    "  \n",
    "Hashable Definition:\n",
    "    An object is hashable if it has a hash value which never changes during\n",
    "  its lifetime (it needs a hash() method), and can be compared to other objects\n",
    "  (it needs an eq() method). Hashable objects which compare equal must have\n",
    "  the same hash value.\n",
    "\"\"\"\n",
    "pass"
   ]
  },
  {
   "cell_type": "code",
   "execution_count": null,
   "metadata": {},
   "outputs": [],
   "source": [
    "# Mutable and Immutable\n",
    "#  The value of immutable object cannot be changed\n",
    "#  But why can we still write ?\n",
    "#    x = 3\n",
    "#    x = 1\n",
    "#    x = x + 1\n",
    "#  What happened if we write\n",
    "#    x = \"dead\"\n",
    "#    x += \"beef\""
   ]
  },
  {
   "cell_type": "code",
   "execution_count": 9,
   "metadata": {},
   "outputs": [],
   "source": [
    "# Summary \n",
    "\"\"\"\n",
    "  Data type        | Multable | Ordered |       Literal example       |  Constructor  |\n",
    "  =======================================================================================\n",
    "   Sequence types\n",
    "  =======================================================================================\n",
    "    list              yes        yes               [1,2,3]              list()        \n",
    "    tuple             no         yes               (1,2,3)              tuple()\n",
    "    str               no         yes            \"text\" / 'text'         str()\n",
    "    range             no         yes                  -                 range()\n",
    "    bytes             no         yes            b'abcde'/b\"abc\"         bytes()\n",
    "    bytearray         yes        yes                  -                 bytearray()\n",
    "    array*            yes        yes                  -                 array.array()\n",
    "  ======================================================================================\n",
    "   Set types\n",
    "  ======================================================================================\n",
    "    set               yes        no                {1,2,3}              set()\n",
    "    frozenset         no         no                   -                 frozenset()\n",
    "  ======================================================================================\n",
    "   Mapping types      \n",
    "  ===================================================================================\n",
    "    dict              yes        no      {\"key1\":\"val\",\"key2\":\"val\"}\n",
    "    \n",
    "\"\"\"\n",
    "pass"
   ]
  },
  {
   "cell_type": "code",
   "execution_count": null,
   "metadata": {},
   "outputs": [],
   "source": []
  }
 ],
 "metadata": {
  "kernelspec": {
   "display_name": "Python 3",
   "language": "python",
   "name": "python3"
  },
  "language_info": {
   "codemirror_mode": {
    "name": "ipython",
    "version": 3
   },
   "file_extension": ".py",
   "mimetype": "text/x-python",
   "name": "python",
   "nbconvert_exporter": "python",
   "pygments_lexer": "ipython3",
   "version": "3.6.4"
  }
 },
 "nbformat": 4,
 "nbformat_minor": 2
}
