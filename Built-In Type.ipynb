{
 "cells": [
  {
   "cell_type": "code",
   "execution_count": 1,
   "metadata": {},
   "outputs": [],
   "source": [
    "# Sequence Types -- list, tuple, range\n",
    "#  . There are three basic sequence types: lists, tuples, \n",
    "#    and range objects.\n",
    "#  . Additional sequence types tailored for processing of \n",
    "#    binary data and text strings are discussed later\n",
    "#\n"
   ]
  },
  {
   "cell_type": "code",
   "execution_count": 2,
   "metadata": {},
   "outputs": [],
   "source": [
    "# Mutable and Immutable\n",
    "\"\"\"\n",
    "Multable Definition:\n",
    "    Mutable objects can change their value but keep their id().\n",
    "    \n",
    "Immutable Definition:\n",
    "    An object with a fixed value. Immutable objects include numbers, strings and \n",
    "  tuples. Such an object cannot be altered. A new object has to be created if\n",
    "  a different value has to be stored. They play an important role in places where\n",
    "  a constant has value is needed. for example as a key in a dictionary. \n",
    "  \n",
    "Hashable Definition:\n",
    "    An object is hashable if it has a hash value which never changes during\n",
    "  its lifetime (it needs a hash() method), and can be compared to other objects\n",
    "  (it needs an eq() method). Hashable objects which compare equal must have\n",
    "  the same hash value.\n",
    "\"\"\"\n",
    "pass"
   ]
  },
  {
   "cell_type": "code",
   "execution_count": 3,
   "metadata": {},
   "outputs": [],
   "source": [
    "# Mutable and Immutable\n",
    "#  The value of immutable object cannot be changed\n",
    "#  But why can we still write ?\n",
    "#    x = 3\n",
    "#    x = 1\n",
    "#    x = x + 1\n",
    "#  What happened if we write\n",
    "#    x = \"dead\"\n",
    "#    x += \"beef\""
   ]
  },
  {
   "cell_type": "code",
   "execution_count": 4,
   "metadata": {},
   "outputs": [],
   "source": [
    "# Summary \n",
    "\"\"\"\n",
    "  Data type        | Multable | Ordered |       Literal example       |  Constructor  |\n",
    "  =======================================================================================\n",
    "   Sequence types\n",
    "  =======================================================================================\n",
    "    list              yes        yes               [1,2,3]              list()        \n",
    "    tuple             no         yes               (1,2,3)              tuple()\n",
    "    str               no         yes            \"text\" / 'text'         str()\n",
    "    range             no         yes                  -                 range()\n",
    "    bytes             no         yes            b'abcde'/b\"abc\"         bytes()\n",
    "    bytearray         yes        yes                  -                 bytearray()\n",
    "    array*            yes        yes                  -                 array.array()\n",
    "  ======================================================================================\n",
    "   Set types\n",
    "  ======================================================================================\n",
    "    set               yes        no                {1,2,3}              set()\n",
    "    frozenset         no         no                   -                 frozenset()\n",
    "  ======================================================================================\n",
    "   Mapping types      \n",
    "  ======================================================================================\n",
    "    dict              yes        no       {\"key1\":\"val\",\"key2\":\"val\"}   dict()\n",
    "    \n",
    "\"\"\"\n",
    "pass"
   ]
  },
  {
   "cell_type": "code",
   "execution_count": 5,
   "metadata": {},
   "outputs": [],
   "source": [
    "# Common Operations for sequence type\n",
    "# The operations of following table are supported by most seqeunce type.\n",
    "\"\"\"\n",
    "  Operation               Result\n",
    "  ======================================================================================\n",
    "   x in s                 True if an item of s is equal to x, else False\n",
    "   x not in s             False if an item of s is equal to x, else True\n",
    "   s + t                  the concatenation of s and t\n",
    "   s * n                  equivalent to adding s to itself n times\n",
    "   s[i]                   i_th item of s, origin 0\n",
    "   s[i:j]                 slice of s from i to j \n",
    "   s[i:j:k]               slice of s from i to j with step k \n",
    "   len(s)                 length of s \n",
    "   min(s)                 smallest item of s\n",
    "   max(s)                 largest item of s \n",
    "   s.index(x[, i[, j]])   index of the first occurence of x in s \n",
    "                          (at or after index i and before index j)\n",
    "   s.count(x)             total number of occurences of x in s\n",
    "   \n",
    "   \n",
    "\"\"\"\n",
    "pass"
   ]
  },
  {
   "cell_type": "code",
   "execution_count": 6,
   "metadata": {},
   "outputs": [],
   "source": [
    "# Operator's Example  in, not in \n",
    "# I'm so glad to try the following example by myself\n",
    "x = [1,2,3] # Try  1 in x? 6 in x?\n",
    "x = {1:2, 3:4, 5:6} # Try 1 in x? 2 in x? 1 in x.keys()? 2 in x.values()?\n",
    "x = \"string\" # try 's' in x? 'a' in x?"
   ]
  },
  {
   "cell_type": "code",
   "execution_count": 7,
   "metadata": {},
   "outputs": [],
   "source": [
    "# Example: +operator\n",
    "(1,2,3) + (4,5,6) # => (1,2,3,4,5,6)\n",
    "[1,2,3] + [4,5,6] # => [1,2,3,4,5,6]\n",
    "\"Hello\" + \" \" + \"World\" # => 'Hello World'\n",
    "\n",
    "# Note that + operator creates another instance\n",
    "pass"
   ]
  },
  {
   "cell_type": "code",
   "execution_count": 8,
   "metadata": {},
   "outputs": [],
   "source": [
    "# More Example"
   ]
  },
  {
   "cell_type": "code",
   "execution_count": 9,
   "metadata": {},
   "outputs": [
    {
     "data": {
      "text/plain": [
       "True"
      ]
     },
     "execution_count": 9,
     "metadata": {},
     "output_type": "execute_result"
    }
   ],
   "source": [
    "\"gg\" in \"eggs\""
   ]
  },
  {
   "cell_type": "code",
   "execution_count": 10,
   "metadata": {},
   "outputs": [
    {
     "name": "stdout",
     "output_type": "stream",
     "text": [
      "[[], [], []]\n",
      "[[3], [3], [3]]\n"
     ]
    }
   ],
   "source": [
    "# [[]]*3 are references to a singple empty list\n",
    "lists = [[]] * 3\n",
    "print(lists)\n",
    "lists[0].append(3)\n",
    "print(lists)"
   ]
  },
  {
   "cell_type": "code",
   "execution_count": 11,
   "metadata": {},
   "outputs": [
    {
     "name": "stdout",
     "output_type": "stream",
     "text": [
      "[[], [], []]\n",
      "[[3], [5], [7]]\n"
     ]
    }
   ],
   "source": [
    "# create a list of different lists\n",
    "lists = [[] for i in range(3)]\n",
    "print(lists)\n",
    "lists[0].append(3)\n",
    "lists[1].append(5)\n",
    "lists[2].append(7)\n",
    "print(lists)"
   ]
  },
  {
   "cell_type": "code",
   "execution_count": 12,
   "metadata": {},
   "outputs": [],
   "source": [
    "# Common Operations for 'multable' type\n",
    "\"\"\"\n",
    "  Operation         Result\n",
    "  ============================================\n",
    "  s[i] = x          item i of s is replaced by x\n",
    "  s[i:j] = t        slice of s from i to j is replaced by the contents of the iterable t\n",
    "  del s[i:j]        same as s[i:j] = []\n",
    "  s[i:j:k] = t      the elements of s[i:j:k] are replaced by those of t \n",
    "  del s[i:j:k]      removes the elements of s[i:j:k] from the list\n",
    "  s.append(x)       appends x to the end of the sequence(same as\n",
    "                    s[len(s):len(s)] = [x] )\n",
    "  s.clear()         removes all items from s (same as del s[:])\n",
    "  s.copy()          creates a shallow copy of s (same as s[:])\n",
    "  \n",
    "  s.extend(t)       extends s with the contents of t(for the most part that the same\n",
    "  or s += t         as s[len(s):len(s)] = t )\n",
    "  \n",
    "  s *= n            updates s with its contents repeated n times\n",
    "  s.insert(i,x)     inserts x into s at the index given by i(same as s[i:i] = [x])\n",
    "  s.pop([i])        retrieves the item at i and also removes it from s\n",
    "  s.remove(x)       remove the first item from s where s[i] == x\n",
    "  s.reverse()       reverses the items of s in place\n",
    "  \n",
    "\"\"\"\n",
    "pass"
   ]
  },
  {
   "cell_type": "code",
   "execution_count": 13,
   "metadata": {},
   "outputs": [
    {
     "name": "stdout",
     "output_type": "stream",
     "text": [
      "1\n",
      "dict_keys(['dog', 'cat', 'bird', 'bear'])\n",
      "dict_values([4, 2, 3, 4])\n",
      "4\n"
     ]
    }
   ],
   "source": [
    "# How to use container type?\n",
    "# List , Dict, Tuple, Set are container types\n",
    "\n",
    "x = {\"dog\":1, \"cat\":2, \"bird\":3}\n",
    "print(x[\"dog\"])\n",
    "x[\"bear\"] = 4\n",
    "x[\"dog\"] = 4\n",
    "print(x.keys())\n",
    "print(x.values())\n",
    "print(len(x))"
   ]
  },
  {
   "cell_type": "code",
   "execution_count": 14,
   "metadata": {},
   "outputs": [],
   "source": [
    "# List\n",
    "\"\"\"\n",
    "  .List are mutable sequences,typically used to store \n",
    "   collections of homogeneous items\n",
    "  .Lists may be constructed in several ways:\n",
    "    . Using a pair of square brackets to denote the empty list: []\n",
    "    . Using square brackets, separating items with commas:[a], [a,b,c]\n",
    "    . Using a list comprehension: [x for x in iterable]\n",
    "    . Using the type constructor:list() or list(iterable)\n",
    "  .Lists implement all sequence operations of the common and mutable types\n",
    "\"\"\"\n",
    "pass"
   ]
  },
  {
   "cell_type": "code",
   "execution_count": 15,
   "metadata": {},
   "outputs": [
    {
     "name": "stdout",
     "output_type": "stream",
     "text": [
      "[1, 4, 9, 16, 25]\n",
      "1\n",
      "25\n",
      "[9, 16, 25]\n",
      "[1, 4, 9, 16, 25]\n",
      "[1, 4, 9, 16, 25, 36, 49, 64, 81, 100]\n"
     ]
    }
   ],
   "source": [
    "# List Slicing examples as following cells\n",
    "squares = [1,4,9,16,25]\n",
    "print(squares)\n",
    "print(squares[0])\n",
    "print(squares[-1])\n",
    "print(squares[-3:])\n",
    "print(squares[:])\n",
    "print(squares + [36,49,64,81,100])\n"
   ]
  },
  {
   "cell_type": "code",
   "execution_count": 16,
   "metadata": {},
   "outputs": [
    {
     "name": "stdout",
     "output_type": "stream",
     "text": [
      "4\n",
      "[['a', 'b', 'c'], [1, 2, 3]]\n",
      "['a', 'b', 'c']\n",
      "b\n"
     ]
    }
   ],
   "source": [
    "letters = ['a','b','c','d']\n",
    "print(len(letters))\n",
    "a = ['a','b','c']\n",
    "n = [1,2,3]\n",
    "x = [a,n]\n",
    "print(x)\n",
    "print(x[0])\n",
    "print(x[0][1])"
   ]
  },
  {
   "cell_type": "code",
   "execution_count": 17,
   "metadata": {},
   "outputs": [
    {
     "name": "stdout",
     "output_type": "stream",
     "text": [
      "64\n",
      "[1, 8, 27, 64, 125]\n",
      "[1, 8, 27, 64, 125, 216, 343]\n"
     ]
    }
   ],
   "source": [
    "cubes = [1,8,27,65,125] #something is wrong here\n",
    "print(4 ** 3)\n",
    "cubes[3] = 64 #replace the wrong value\n",
    "print(cubes)\n",
    "cubes.append(216) # add cube of 6\n",
    "cubes.append( 7 ** 3) # add cube of 7\n",
    "print(cubes)\n"
   ]
  },
  {
   "cell_type": "code",
   "execution_count": 18,
   "metadata": {},
   "outputs": [
    {
     "name": "stdout",
     "output_type": "stream",
     "text": [
      "['a', 'b', 'c', 'd', 'e', 'f', 'g']\n",
      "['a', 'b', 'C', 'D', 'E', 'f', 'g']\n",
      "['a', 'b', 'f', 'g']\n",
      "[]\n"
     ]
    }
   ],
   "source": [
    "letters = ['a','b','c','d','e','f','g']\n",
    "print(letters)\n",
    "# replace some values\n",
    "letters[2:5] = ['C','D','E']\n",
    "print(letters)\n",
    "# now, remove them\n",
    "letters[2:5] = []\n",
    "print(letters)\n",
    "# clear the list by replacing all the elements with an empty list\n",
    "letters[:] = []\n",
    "print(letters)"
   ]
  },
  {
   "cell_type": "code",
   "execution_count": 19,
   "metadata": {},
   "outputs": [],
   "source": [
    "# Tuple : Read-only List\n",
    "\"\"\"\n",
    ". Tuples are immutable sequences, typically used to store collections of heterogeneous data\n",
    ". Tuples may be constructed in a number of ways:\n",
    "  . Using a pair of parentheses to denote the empty tuple:()\n",
    "  . Using a trailing comma for a singleton tuple: a, or (a,)\n",
    "  . Separating items with commas: a, b, c or (a,b,c)\n",
    "  . Using the tuple() built-in: tuple() or tuple(iterable)\n",
    ". Tuples implement all of the common sequence operations.\n",
    "\n",
    "  \n",
    "\"\"\"\n",
    "pass"
   ]
  },
  {
   "cell_type": "code",
   "execution_count": 20,
   "metadata": {},
   "outputs": [
    {
     "name": "stdout",
     "output_type": "stream",
     "text": [
      "[0, 1, 2, 3, 4, 5, 6, 7, 8, 9]\n",
      "[1, 2, 3, 4, 5, 6, 7, 8, 9, 10]\n",
      "[0, 5, 10, 15, 20, 25]\n",
      "[0, 3, 6, 9]\n",
      "[0, -1, -2, -3, -4, -5, -6, -7, -8, -9]\n",
      "[]\n",
      "[]\n"
     ]
    }
   ],
   "source": [
    "# Ranges\n",
    "\"\"\"\n",
    ". The range type represents an immutable sequence of numbers and \n",
    "  is commonly used for looping a specific number of times in for \n",
    "  loops.\n",
    ". Ranges implement all of the common sequence operations except \n",
    "  operations except concatenation and repetition\n",
    "\"\"\"\n",
    "print(list(range(10)))\n",
    "print(list(range(1,11)))\n",
    "print(list(range(0,30,5)))\n",
    "print(list(range(0,10,3)))\n",
    "print(list(range(0,-10,-1)))\n",
    "print(list(range(0)))\n",
    "print(list(range(1,0)))\n",
    "pass"
   ]
  },
  {
   "cell_type": "code",
   "execution_count": null,
   "metadata": {},
   "outputs": [],
   "source": [
    "r = range(0,20,2)\n",
    "print(r)\n",
    "print(11 in r)\n",
    "print(10 in r)\n",
    "print(r.index(10))\n",
    "printr[5]\n"
   ]
  }
 ],
 "metadata": {
  "kernelspec": {
   "display_name": "Python 3",
   "language": "python",
   "name": "python3"
  },
  "language_info": {
   "codemirror_mode": {
    "name": "ipython",
    "version": 3
   },
   "file_extension": ".py",
   "mimetype": "text/x-python",
   "name": "python",
   "nbconvert_exporter": "python",
   "pygments_lexer": "ipython3",
   "version": "3.6.4"
  }
 },
 "nbformat": 4,
 "nbformat_minor": 2
}
