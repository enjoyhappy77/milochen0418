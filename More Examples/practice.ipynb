{
 "cells": [
  {
   "cell_type": "code",
   "execution_count": 8,
   "metadata": {},
   "outputs": [
    {
     "name": "stdout",
     "output_type": "stream",
     "text": [
      "['cc', 'bcde', 'bcd', 'abcd', 'abc']\n"
     ]
    }
   ],
   "source": [
    "\n",
    "\n",
    "vals = [1,4,8,2,6,3,9]\n",
    "vals2 = ['abc','abcd','cc','bcd','bcde']\n",
    "\n",
    "def sort_algo(v_list):\n",
    "    ret_list = []\n",
    "    max_idx = 0\n",
    "    len_list = len(v_list)\n",
    "    for count in range(len_list):        \n",
    "        max_idx = 0 \n",
    "        # Step 1. \n",
    "        # Figure out the max_idx to indicate the maximum value\n",
    "        for idx in range(len(v_list)):\n",
    "            if v_list[idx] > v_list[max_idx] :\n",
    "                max_idx = idx\n",
    "        # Step 2.\n",
    "        # append maximum value of ret_list\n",
    "        ret_list.append(v_list[max_idx])\n",
    "        \n",
    "        # Step 3. \n",
    "        # remove the maximum value in v_list by max_idx\n",
    "        v_list = v_list[:max_idx] + v_list[max_idx+1:] \n",
    "        \n",
    "    # Step 4. \n",
    "    # return the ret_list, which is sorting by above alogrithm\n",
    "    return ret_list\n",
    "\n",
    "\n",
    "print(sort_algo(vals2))\n",
    "\n",
    "    "
   ]
  },
  {
   "cell_type": "code",
   "execution_count": null,
   "metadata": {},
   "outputs": [],
   "source": [
    "\"\"\"\n",
    "Example:\n",
    "frequency_sort([4, 6, 2, 2, 6, 4, 4, 4]) == [4, 4, 4, 4, 6, 6, 2, 2]\n",
    "frequency_sort(['bob', 'bob', 'carl', 'alex', 'bob']) == ['bob', 'bob', 'bob', 'carl', 'alex']\n",
    "\"\"\""
   ]
  },
  {
   "cell_type": "code",
   "execution_count": 14,
   "metadata": {},
   "outputs": [
    {
     "name": "stdout",
     "output_type": "stream",
     "text": [
      "['bob', 'bob', 'bob', 'carl', 'alex']\n"
     ]
    }
   ],
   "source": [
    "vals = ['bob', 'bob', 'carl', 'alex', 'bob']\n",
    "\n",
    "def frequency_sort(v_list):    \n",
    "    kvs = {} # key-value dictionary \n",
    "    for v in v_list:\n",
    "        if v in kvs.keys():\n",
    "            kvs[v] = kvs[v] + 1\n",
    "        else:\n",
    "            kvs[v] = 1\n",
    "            \n",
    "    ret_list = []\n",
    "    max_idx = 0\n",
    "    len_list = len(v_list)\n",
    "    for count in range(len_list): \n",
    "        \n",
    "        max_idx = 0 \n",
    "        for idx in range(len(v_list)):\n",
    "            #if v_list[idx] > v_list[max_idx] :\n",
    "            if kvs[v_list[idx]] > kvs[v_list[max_idx]] :\n",
    "                max_idx = idx\n",
    "        ret_list.append(v_list[max_idx])\n",
    "        v_list = v_list[:max_idx] + v_list[max_idx+1:] \n",
    "    return ret_list\n",
    "\n",
    "ls = frequency_sort(vals)\n",
    "print(ls)"
   ]
  },
  {
   "cell_type": "code",
   "execution_count": null,
   "metadata": {},
   "outputs": [],
   "source": []
  }
 ],
 "metadata": {
  "kernelspec": {
   "display_name": "Python 3",
   "language": "python",
   "name": "python3"
  },
  "language_info": {
   "codemirror_mode": {
    "name": "ipython",
    "version": 3
   },
   "file_extension": ".py",
   "mimetype": "text/x-python",
   "name": "python",
   "nbconvert_exporter": "python",
   "pygments_lexer": "ipython3",
   "version": "3.6.9"
  }
 },
 "nbformat": 4,
 "nbformat_minor": 2
}
