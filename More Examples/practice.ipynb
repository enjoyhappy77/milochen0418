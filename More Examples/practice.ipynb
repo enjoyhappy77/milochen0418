{
 "cells": [
  {
   "cell_type": "code",
   "execution_count": 8,
   "metadata": {},
   "outputs": [
    {
     "name": "stdout",
     "output_type": "stream",
     "text": [
      "['cc', 'bcde', 'bcd', 'abcd', 'abc']\n"
     ]
    }
   ],
   "source": [
    "\n",
    "\n",
    "\n",
    "vals = [1,4,8,2,6,3,9]\n",
    "vals2 = ['abc','abcd','cc','bcd','bcde']\n",
    "\n",
    "def sort_algo(v_list):\n",
    "    ret_list = []\n",
    "    max_idx = 0\n",
    "    len_list = len(v_list)\n",
    "    \n",
    "    for count in range(len_list):\n",
    "        \n",
    "        max_idx = 0 \n",
    "        for idx in range(len(v_list)):\n",
    "            if v_list[idx] > v_list[max_idx] :\n",
    "                max_idx = idx\n",
    "\n",
    "        ret_list.append(v_list[max_idx])\n",
    "        v_list = v_list[:max_idx] + v_list[max_idx+1:] \n",
    "            \n",
    "\n",
    "    return ret_list\n",
    "\n",
    "\n",
    "print(sort_algo(vals2))\n",
    "\n",
    "    "
   ]
  },
  {
   "cell_type": "code",
   "execution_count": null,
   "metadata": {},
   "outputs": [],
   "source": []
  }
 ],
 "metadata": {
  "kernelspec": {
   "display_name": "Python 3",
   "language": "python",
   "name": "python3"
  },
  "language_info": {
   "codemirror_mode": {
    "name": "ipython",
    "version": 3
   },
   "file_extension": ".py",
   "mimetype": "text/x-python",
   "name": "python",
   "nbconvert_exporter": "python",
   "pygments_lexer": "ipython3",
   "version": "3.6.9"
  }
 },
 "nbformat": 4,
 "nbformat_minor": 2
}
