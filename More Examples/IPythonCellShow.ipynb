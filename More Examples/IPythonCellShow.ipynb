{
 "cells": [
  {
   "cell_type": "code",
   "execution_count": 1,
   "metadata": {},
   "outputs": [],
   "source": [
    "\n",
    "from IPython.display import display, HTML\n"
   ]
  },
  {
   "cell_type": "code",
   "execution_count": null,
   "metadata": {},
   "outputs": [],
   "source": []
  },
  {
   "cell_type": "code",
   "execution_count": 2,
   "metadata": {},
   "outputs": [
    {
     "data": {
      "text/html": [
       "<h1>Hello, world!</h1>"
      ],
      "text/plain": [
       "<IPython.core.display.HTML object>"
      ]
     },
     "metadata": {},
     "output_type": "display_data"
    }
   ],
   "source": [
    "\n",
    "display(HTML('<h1>Hello, world!</h1>'))"
   ]
  },
  {
   "cell_type": "code",
   "execution_count": 3,
   "metadata": {},
   "outputs": [
    {
     "data": {
      "text/html": [
       "<h1>Hello, world!</h1><table><tr><td>A</td><td>B</td><td>C</td></tr><tr><td>1</td><td>2</td><td>3</td></tr><tr><td>a</td><td>b</td><td>c</td></tr><tr><td>1</td><td>2</td><td>3</td></tr><table/>"
      ],
      "text/plain": [
       "<IPython.core.display.HTML object>"
      ]
     },
     "metadata": {},
     "output_type": "display_data"
    }
   ],
   "source": [
    "\n",
    "htmlStr = '<h1>Hello, world!</h1>'\n",
    "htmlStr += '<table>'\n",
    "htmlStr += '<tr>'\n",
    "htmlStr += '<td>A</td><td>B</td><td>C</td>'\n",
    "htmlStr += '</tr><tr>'\n",
    "htmlStr += '<td>1</td><td>2</td><td>3</td>'\n",
    "htmlStr += '</tr><tr>'\n",
    "htmlStr += '<td>a</td><td>b</td><td>c</td>'\n",
    "htmlStr += '</tr><tr>'\n",
    "htmlStr += '<td>1</td><td>2</td><td>3</td>'\n",
    "htmlStr += '</tr>'\n",
    "htmlStr += '<table/>'\n",
    "display(HTML(htmlStr))"
   ]
  },
  {
   "cell_type": "code",
   "execution_count": null,
   "metadata": {},
   "outputs": [],
   "source": []
  },
  {
   "cell_type": "code",
   "execution_count": 4,
   "metadata": {},
   "outputs": [
    {
     "data": {
      "text/html": [
       "<h1>Hello, world!</h1><table><tr><td>A</td><td>B</td><td>C</td></tr><tr><td>1</td><td>2</td><td>3</td></tr><tr><td>a</td><td>b</td><td>c</td></tr><tr><td>1</td><td>2</td><td>3</td></tr><table/>"
      ],
      "text/plain": [
       "<__main__.SomeObject at 0x112ccffd0>"
      ]
     },
     "execution_count": 4,
     "metadata": {},
     "output_type": "execute_result"
    }
   ],
   "source": [
    "# Make a cusomized class, so that the object can be showed on jupyter cell \n",
    "class SomeObject():\n",
    "    def __init__(self):\n",
    "        x = 20\n",
    "    def __rerp__(self):\n",
    "        return ''\n",
    "    def __str__(self):\n",
    "        return '__str__()'\n",
    "    def _repr_html_(self):\n",
    "        htmlStr = '<h1>Hello, world!</h1>'\n",
    "        htmlStr += '<table>'\n",
    "        htmlStr += '<tr>'\n",
    "        htmlStr += '<td>A</td><td>B</td><td>C</td>'\n",
    "        htmlStr += '</tr><tr>'\n",
    "        htmlStr += '<td>1</td><td>2</td><td>3</td>'\n",
    "        htmlStr += '</tr><tr>'\n",
    "        htmlStr += '<td>a</td><td>b</td><td>c</td>'\n",
    "        htmlStr += '</tr><tr>'\n",
    "        htmlStr += '<td>1</td><td>2</td><td>3</td>'\n",
    "        htmlStr += '</tr>'\n",
    "        htmlStr += '<table/>'\n",
    "        return htmlStr\n",
    "\n",
    "obj = SomeObject()\n",
    "obj\n",
    "        "
   ]
  },
  {
   "cell_type": "code",
   "execution_count": 5,
   "metadata": {},
   "outputs": [
    {
     "name": "stdout",
     "output_type": "stream",
     "text": [
      "__str__()\n"
     ]
    },
    {
     "data": {
      "text/html": [
       "<h1>Hello, world!</h1><table><tr><td>A</td><td>B</td><td>C</td></tr><tr><td>1</td><td>2</td><td>3</td></tr><tr><td>a</td><td>b</td><td>c</td></tr><tr><td>1</td><td>2</td><td>3</td></tr><table/>"
      ],
      "text/plain": [
       "<__main__.SomeObject at 0x112ce7438>"
      ]
     },
     "metadata": {},
     "output_type": "display_data"
    }
   ],
   "source": [
    "# display function can show object by its _repr_html_(self)\n",
    "obj = SomeObject()\n",
    "print(obj)\n",
    "display(obj)"
   ]
  },
  {
   "cell_type": "code",
   "execution_count": null,
   "metadata": {},
   "outputs": [],
   "source": []
  },
  {
   "cell_type": "code",
   "execution_count": null,
   "metadata": {},
   "outputs": [],
   "source": []
  }
 ],
 "metadata": {
  "kernelspec": {
   "display_name": "Python 3",
   "language": "python",
   "name": "python3"
  },
  "language_info": {
   "codemirror_mode": {
    "name": "ipython",
    "version": 3
   },
   "file_extension": ".py",
   "mimetype": "text/x-python",
   "name": "python",
   "nbconvert_exporter": "python",
   "pygments_lexer": "ipython3",
   "version": "3.6.9"
  }
 },
 "nbformat": 4,
 "nbformat_minor": 2
}
