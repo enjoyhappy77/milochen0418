{
 "cells": [
  {
   "cell_type": "code",
   "execution_count": 1,
   "metadata": {},
   "outputs": [],
   "source": [
    "import csv, codecs\n",
    "\n",
    "csv_filepath = \"test.csv\"\n",
    "def read_csv_file_test():\n",
    "    print('start to read ', csv_filepath, '\\n\\n')\n",
    "    ifile = codecs.open(csv_filepath, \"rb\", \"utf-8\")\n",
    "    reader = csv.reader(ifile, delimiter=',')  # open cvs reader\n",
    "    for row in reader:\n",
    "        for col in row:\n",
    "            col = col.strip()\n",
    "            print(col , end=',')\n",
    "        print(\"\")\n",
    "    print('\\n\\nDone')\n",
    "\n",
    "\n",
    "\n",
    "\n",
    "def write_csv_file_test():\n",
    "    \n",
    "    output_csv_filepath = csv_filepath\n",
    "    print('start to processing and write to ', output_csv_filepath)\n",
    "    # Step 1 make dictionary\n",
    "    out_dict = {}\n",
    "    out_dict['header'] = ['HEADER_1', 'HEADER_2', 'HEADER_3']\n",
    "    out_dict['body'] = []\n",
    "    for i in range(9):\n",
    "        body_row = []\n",
    "        for j in range(3):\n",
    "            body_row.append(\"{}*{}={}\".format(i,j,i*j))\n",
    "        out_dict['body'].append(body_row)\n",
    "        \n",
    "    # Step 2. write dictionary into csv file\n",
    "    with open(output_csv_filepath, mode='w', newline='') as csv_file:\n",
    "        csv_writter = csv.writer(csv_file, delimiter=',', quotechar='\"', quoting=csv.QUOTE_MINIMAL)\n",
    "        csv_writter.writerow(out_dict['header'])\n",
    "        for rowlist in out_dict['body']:\n",
    "            csv_writter.writerow(rowlist)\n",
    "    print('Done')\n",
    "\n",
    "\n",
    "\n"
   ]
  },
  {
   "cell_type": "code",
   "execution_count": 2,
   "metadata": {},
   "outputs": [
    {
     "name": "stdout",
     "output_type": "stream",
     "text": [
      "start to processing and write to  test.csv\n",
      "Done\n"
     ]
    }
   ],
   "source": [
    "write_csv_file_test()"
   ]
  },
  {
   "cell_type": "code",
   "execution_count": 3,
   "metadata": {},
   "outputs": [
    {
     "name": "stdout",
     "output_type": "stream",
     "text": [
      "start to read  test.csv \n",
      "\n",
      "\n",
      "HEADER_1,HEADER_2,HEADER_3,\n",
      "0*0=0,0*1=0,0*2=0,\n",
      "1*0=0,1*1=1,1*2=2,\n",
      "2*0=0,2*1=2,2*2=4,\n",
      "3*0=0,3*1=3,3*2=6,\n",
      "4*0=0,4*1=4,4*2=8,\n",
      "5*0=0,5*1=5,5*2=10,\n",
      "6*0=0,6*1=6,6*2=12,\n",
      "7*0=0,7*1=7,7*2=14,\n",
      "8*0=0,8*1=8,8*2=16,\n",
      "\n",
      "\n",
      "Done\n"
     ]
    }
   ],
   "source": [
    "read_csv_file_test()"
   ]
  },
  {
   "cell_type": "code",
   "execution_count": 4,
   "metadata": {},
   "outputs": [
    {
     "name": "stdout",
     "output_type": "stream",
     "text": [
      "Done\n",
      " output_filepath =  test.xlsx\n"
     ]
    }
   ],
   "source": [
    "# Convert csv file into Excel file\n",
    "import os\n",
    "import csv\n",
    "from xlsxwriter.workbook import Workbook\n",
    "\n",
    "csvfile = csv_filepath\n",
    "output_filepath = csvfile[:-4] + '.xlsx'\n",
    "workbook = Workbook(output_filepath)\n",
    "worksheet = workbook.add_worksheet()\n",
    "with open(csvfile, 'rt', encoding='utf8') as f:\n",
    "    reader = csv.reader(f)\n",
    "    for r, row in enumerate(reader):\n",
    "        for c, col in enumerate(row):\n",
    "            worksheet.write(r, c, col)\n",
    "workbook.close()\n",
    "print('Done\\n output_filepath = ', output_filepath)"
   ]
  },
  {
   "cell_type": "code",
   "execution_count": 5,
   "metadata": {},
   "outputs": [],
   "source": []
  },
  {
   "cell_type": "code",
   "execution_count": null,
   "metadata": {},
   "outputs": [],
   "source": []
  }
 ],
 "metadata": {
  "kernelspec": {
   "display_name": "Python 3",
   "language": "python",
   "name": "python3"
  },
  "language_info": {
   "codemirror_mode": {
    "name": "ipython",
    "version": 3
   },
   "file_extension": ".py",
   "mimetype": "text/x-python",
   "name": "python",
   "nbconvert_exporter": "python",
   "pygments_lexer": "ipython3",
   "version": "3.6.9"
  }
 },
 "nbformat": 4,
 "nbformat_minor": 2
}
