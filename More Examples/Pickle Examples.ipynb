{
 "cells": [
  {
   "cell_type": "code",
   "execution_count": 1,
   "metadata": {},
   "outputs": [
    {
     "name": "stdout",
     "output_type": "stream",
     "text": [
      "{'a': 1, 'b': 2, 'c': 3}\n"
     ]
    },
    {
     "ename": "EOFError",
     "evalue": "Ran out of input",
     "output_type": "error",
     "traceback": [
      "\u001b[0;31m---------------------------------------------------------------------------\u001b[0m",
      "\u001b[0;31mEOFError\u001b[0m                                  Traceback (most recent call last)",
      "\u001b[0;32m<ipython-input-1-c52d883903c1>\u001b[0m in \u001b[0;36m<module>\u001b[0;34m()\u001b[0m\n\u001b[1;32m     14\u001b[0m \u001b[0mtime\u001b[0m\u001b[0;34m.\u001b[0m\u001b[0msleep\u001b[0m\u001b[0;34m(\u001b[0m\u001b[0;36m1\u001b[0m\u001b[0;34m)\u001b[0m\u001b[0;34m\u001b[0m\u001b[0;34m\u001b[0m\u001b[0m\n\u001b[1;32m     15\u001b[0m \u001b[0mfile_r\u001b[0m \u001b[0;34m=\u001b[0m \u001b[0mopen\u001b[0m\u001b[0;34m(\u001b[0m\u001b[0;34m\"tmp.bytes\"\u001b[0m\u001b[0;34m,\u001b[0m \u001b[0;34m\"rb\"\u001b[0m\u001b[0;34m)\u001b[0m\u001b[0;34m\u001b[0m\u001b[0;34m\u001b[0m\u001b[0m\n\u001b[0;32m---> 16\u001b[0;31m \u001b[0mobj2\u001b[0m \u001b[0;34m=\u001b[0m \u001b[0mpickle\u001b[0m\u001b[0;34m.\u001b[0m\u001b[0mload\u001b[0m\u001b[0;34m(\u001b[0m\u001b[0mfile_r\u001b[0m\u001b[0;34m)\u001b[0m\u001b[0;34m\u001b[0m\u001b[0;34m\u001b[0m\u001b[0m\n\u001b[0m\u001b[1;32m     17\u001b[0m \u001b[0mprint\u001b[0m\u001b[0;34m(\u001b[0m\u001b[0mobj2\u001b[0m\u001b[0;34m)\u001b[0m\u001b[0;34m\u001b[0m\u001b[0;34m\u001b[0m\u001b[0m\n\u001b[1;32m     18\u001b[0m \u001b[0;34m\u001b[0m\u001b[0m\n",
      "\u001b[0;31mEOFError\u001b[0m: Ran out of input"
     ]
    }
   ],
   "source": [
    "import os\n",
    "import time\n",
    "import pickle\n",
    "\n",
    "\n",
    "\n",
    "obj = {\"a\": 1, \"b\": 2, \"c\": 3}\n",
    "print(obj)\n",
    "file_w = open(\"tmp.bytes\", \"wb\")\n",
    "pickle.dump(obj, file_w)\n",
    "\n",
    "# Have saved python object into file of file_w\n",
    "# then, read it as python object\n",
    "time.sleep(1)\n",
    "file_r = open(\"tmp.bytes\", \"rb\")\n",
    "obj2 = pickle.load(file_r)\n",
    "print(obj2)\n",
    "\n"
   ]
  },
  {
   "cell_type": "code",
   "execution_count": 1,
   "metadata": {},
   "outputs": [
    {
     "name": "stdout",
     "output_type": "stream",
     "text": [
      "{'a': 1, 'b': 2, 'c': 3}\n",
      "{'a': 1, 'b': 2, 'c': 3}\n"
     ]
    }
   ],
   "source": [
    "import os\n",
    "import time\n",
    "import pickle\n",
    "\n",
    "\n",
    "filename = \"tmp.bytes\"\n",
    "\n",
    "obj = {\"a\": 1, \"b\": 2, \"c\": 3}\n",
    "print(obj)\n",
    "file_w = open(filename, \"wb\")\n",
    "pickle.dump(obj, file_w)\n",
    "file_w.close()\n",
    "# Have saved python object into file of file_w\n",
    "# then, read it as python object\n",
    "#time.sleep(1)\n",
    "file_r = open(filename, \"rb\")\n",
    "obj2 = pickle.load(file_r)\n",
    "print(obj2)\n",
    "file_r.close()\n",
    "\n"
   ]
  },
  {
   "cell_type": "code",
   "execution_count": 2,
   "metadata": {},
   "outputs": [
    {
     "name": "stdout",
     "output_type": "stream",
     "text": [
      "{'a': 1, 'b': 2, 'c': 3}\n"
     ]
    }
   ],
   "source": [
    "# Wrap as API\n",
    "\n",
    "def python_object_dump(obj, filename):\n",
    "    import os\n",
    "    import time\n",
    "    import pickle\n",
    "    file_w = open(filename, \"wb\")\n",
    "    pickle.dump(obj, file_w)\n",
    "    file_w.close()\n",
    "    \n",
    "def python_object_load(filename):\n",
    "    import os\n",
    "    import time\n",
    "    import pickle    \n",
    "    file_r = open(filename, \"rb\")\n",
    "    obj2 = pickle.load(file_r)\n",
    "    file_r.close()\n",
    "    return obj2\n",
    "\n",
    "obj = {\"a\": 1, \"b\": 2, \"c\": 3}\n",
    "filename = \"tmp.bytes\"\n",
    "\n",
    "python_object_dump(obj, filename)\n",
    "\n",
    "loadObj = python_object_load(filename)\n",
    "print(loadObj)\n",
    "\n",
    "\n",
    "\n"
   ]
  },
  {
   "cell_type": "code",
   "execution_count": null,
   "metadata": {},
   "outputs": [],
   "source": []
  }
 ],
 "metadata": {
  "kernelspec": {
   "display_name": "Python 3",
   "language": "python",
   "name": "python3"
  },
  "language_info": {
   "codemirror_mode": {
    "name": "ipython",
    "version": 3
   },
   "file_extension": ".py",
   "mimetype": "text/x-python",
   "name": "python",
   "nbconvert_exporter": "python",
   "pygments_lexer": "ipython3",
   "version": "3.6.9"
  }
 },
 "nbformat": 4,
 "nbformat_minor": 2
}
