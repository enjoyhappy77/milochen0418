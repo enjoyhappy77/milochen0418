{
 "cells": [
  {
   "cell_type": "code",
   "execution_count": 1,
   "metadata": {
    "slideshow": {
     "slide_type": "slide"
    }
   },
   "outputs": [],
   "source": [
    "# Coding Newbie Class1 Variable\n",
    "# 1. Hello World Jupyter\n",
    "# 2. How to use Comment\n",
    "# 3. Introduction to Variables\n",
    "# 4. Built-in Types for Number\n",
    "# 5. convert between String and Number \n",
    "# 6. Operator\n",
    "# 7. Introduction w3school - some self-learning stuff\n",
    "# 8. Homework Hint"
   ]
  },
  {
   "cell_type": "code",
   "execution_count": 15,
   "metadata": {
    "slideshow": {
     "slide_type": "slide"
    }
   },
   "outputs": [],
   "source": [
    "# 1. Hello World Jupyter\n",
    "# (1) Use shift + enter to execute code in cell\n",
    "# (2) Use print(\"Hello\") to show output\n",
    "\n"
   ]
  },
  {
   "cell_type": "code",
   "execution_count": null,
   "metadata": {
    "slideshow": {
     "slide_type": "subslide"
    }
   },
   "outputs": [],
   "source": [
    "x = 3 \n",
    "# Try to use shift+enter\n",
    "# Long press down the shift button and then use another finter to click enter\n"
   ]
  },
  {
   "cell_type": "code",
   "execution_count": null,
   "metadata": {
    "slideshow": {
     "slide_type": "subslide"
    }
   },
   "outputs": [],
   "source": [
    "print(\"Hello\") \n",
    "# Try to use shift+enter"
   ]
  },
  {
   "cell_type": "code",
   "execution_count": 16,
   "metadata": {
    "slideshow": {
     "slide_type": "slide"
    }
   },
   "outputs": [],
   "source": [
    "# 2.  How to use comment\n",
    "# (1) one-line comment  by #\n",
    "# (2) multiple-lines comment by \"\"\"  comment is here   \"\"\"\n"
   ]
  },
  {
   "cell_type": "code",
   "execution_count": 17,
   "metadata": {
    "slideshow": {
     "slide_type": "subslide"
    }
   },
   "outputs": [],
   "source": [
    "# This is Comment 1 \n",
    "# This is comment 2 \n",
    "# This is comment 3\n",
    "x = 9 # You can also put comment after code in the same line"
   ]
  },
  {
   "cell_type": "code",
   "execution_count": null,
   "metadata": {
    "slideshow": {
     "slide_type": "subslide"
    }
   },
   "outputs": [],
   "source": [
    "\"\"\"\n",
    "These \n",
    "Are \n",
    "Multiple-line comment\n",
    "\"\"\"\n",
    "pass"
   ]
  },
  {
   "cell_type": "code",
   "execution_count": null,
   "metadata": {
    "slideshow": {
     "slide_type": "slide"
    }
   },
   "outputs": [],
   "source": [
    "# 3. Introduction to Different Type of Variable\n",
    "# Dynamic type => no declaration needed\n",
    "# (1) x = 3 ( x is an integer)\n",
    "# (2) x = \"This is a string\" ( x is a string)\n",
    "# (3) x = [1,2,3,4,5] ( x is a list)\n",
    "# (4) x = True ( x is a boolean)\n",
    "# (5) Variable Naming"
   ]
  },
  {
   "cell_type": "code",
   "execution_count": 18,
   "metadata": {
    "slideshow": {
     "slide_type": "subslide"
    }
   },
   "outputs": [
    {
     "name": "stdout",
     "output_type": "stream",
     "text": [
      "3\n"
     ]
    }
   ],
   "source": [
    "x = 3 \n",
    "print(x)"
   ]
  },
  {
   "cell_type": "code",
   "execution_count": 2,
   "metadata": {
    "slideshow": {
     "slide_type": "subslide"
    }
   },
   "outputs": [
    {
     "name": "stdout",
     "output_type": "stream",
     "text": [
      "This is a string\n"
     ]
    }
   ],
   "source": [
    "x = \"This is a string\"\n",
    "print(x)"
   ]
  },
  {
   "cell_type": "code",
   "execution_count": 20,
   "metadata": {
    "slideshow": {
     "slide_type": "subslide"
    }
   },
   "outputs": [
    {
     "name": "stdout",
     "output_type": "stream",
     "text": [
      "[1, 2, 3, 4, 5]\n"
     ]
    }
   ],
   "source": [
    "x = [1,2,3,4,5]\n",
    "print(x)"
   ]
  },
  {
   "cell_type": "code",
   "execution_count": 21,
   "metadata": {
    "slideshow": {
     "slide_type": "subslide"
    }
   },
   "outputs": [
    {
     "name": "stdout",
     "output_type": "stream",
     "text": [
      "True\n"
     ]
    }
   ],
   "source": [
    "x = True\n",
    "print(x)"
   ]
  },
  {
   "cell_type": "code",
   "execution_count": null,
   "metadata": {
    "slideshow": {
     "slide_type": "subslide"
    }
   },
   "outputs": [],
   "source": [
    "# Variable naming\n",
    "# 1. Case sensitive\n",
    "# 2. Cannot start with number\n",
    "# 3. Can contain letters, numbers, and underscores.\n"
   ]
  },
  {
   "cell_type": "code",
   "execution_count": null,
   "metadata": {
    "slideshow": {
     "slide_type": "slide"
    }
   },
   "outputs": [],
   "source": [
    "# 4. Type Conversion and Basic Operator\n",
    "# (1) Boolean operator\n",
    "# (1) (plus) If-else statement\n",
    "# (2) String adding operator\n",
    "# (3) Number adding operator\n",
    "# (4) example of convert Number to String\n",
    "# (5) example of covnert String to umber\n",
    "# (6) moer operator for Number"
   ]
  },
  {
   "cell_type": "code",
   "execution_count": 44,
   "metadata": {
    "slideshow": {
     "slide_type": "subslide"
    }
   },
   "outputs": [
    {
     "name": "stdout",
     "output_type": "stream",
     "text": [
      "False\n",
      "True\n",
      "True\n",
      "False\n",
      "False\n",
      "True\n",
      "True\n"
     ]
    }
   ],
   "source": [
    "# Boolean Operator\n",
    "x = True\n",
    "y = False\n",
    "andValue = x and y\n",
    "orValue = x or y\n",
    "print(andValue)\n",
    "print(orValue)\n",
    "print( 3 < 5 )\n",
    "print( 3 > 5 )\n",
    "print( 3 == 5)\n",
    "print(3 == 3)\n",
    "print(x == y or 3 == 3)"
   ]
  },
  {
   "cell_type": "code",
   "execution_count": 45,
   "metadata": {
    "slideshow": {
     "slide_type": "slide"
    }
   },
   "outputs": [
    {
     "name": "stdout",
     "output_type": "stream",
     "text": [
      "Please enter an integer: 33\n",
      "More\n"
     ]
    }
   ],
   "source": [
    "# (plus) If statement\n",
    "x = int(input(\"Please enter an integer: \"))\n",
    "if x < 0:\n",
    "    print('Negative changed to zero')\n",
    "elif x == 0:\n",
    "    print('Zero')\n",
    "elif x == 1:\n",
    "    print('Single')\n",
    "else:\n",
    "    print('More')"
   ]
  },
  {
   "cell_type": "code",
   "execution_count": 46,
   "metadata": {
    "slideshow": {
     "slide_type": "slide"
    }
   },
   "outputs": [
    {
     "name": "stdout",
     "output_type": "stream",
     "text": [
      "AA\n",
      "BB\n",
      "AABB\n",
      "AABBtest\n"
     ]
    }
   ],
   "source": [
    "# String Add operator\n",
    "strA = \"AA\"\n",
    "strB = 'BB'\n",
    "print(strA)\n",
    "print(strB)\n",
    "strAdd = strA + strB\n",
    "print(strAdd)\n",
    "strAdd = strAdd + \"test\"\n",
    "print(strAdd)"
   ]
  },
  {
   "cell_type": "code",
   "execution_count": 26,
   "metadata": {
    "slideshow": {
     "slide_type": "subslide"
    }
   },
   "outputs": [
    {
     "data": {
      "text/plain": [
       "8"
      ]
     },
     "execution_count": 26,
     "metadata": {},
     "output_type": "execute_result"
    }
   ],
   "source": [
    "# Number adding operator\n",
    "3 + 5"
   ]
  },
  {
   "cell_type": "code",
   "execution_count": 3,
   "metadata": {
    "slideshow": {
     "slide_type": "subslide"
    }
   },
   "outputs": [
    {
     "name": "stdout",
     "output_type": "stream",
     "text": [
      "111\n",
      "222\n",
      "Hello World999\n",
      "Hello 55\n",
      "321\n",
      "xValue\n"
     ]
    }
   ],
   "source": [
    "# example of convert Number to String\n",
    "print(str(111))\n",
    "print(str(111 + 111))\n",
    "print( \"Hello World\" + str(999)  )\n",
    "print( \"Hello \" + str(33+22)  )\n",
    "\n",
    "xValue = 321\n",
    "print(str(xValue))\n",
    "print(\"xValue\")"
   ]
  },
  {
   "cell_type": "code",
   "execution_count": 39,
   "metadata": {
    "slideshow": {
     "slide_type": "subslide"
    }
   },
   "outputs": [
    {
     "name": "stdout",
     "output_type": "stream",
     "text": [
      "200\n",
      "100200\n",
      "10123\n",
      "1000010123\n"
     ]
    }
   ],
   "source": [
    "# example of covnert String to Number\n",
    "print(int(\"200\"))\n",
    "print(int(\"100\" + \"200\") )\n",
    "print(123 +int(\"10000\") )\n",
    "print(123 +int( \"10000\" + \"10000\"  ))"
   ]
  },
  {
   "cell_type": "code",
   "execution_count": null,
   "metadata": {
    "slideshow": {
     "slide_type": "slide"
    }
   },
   "outputs": [],
   "source": [
    "# 5. introdution to w3schools of python\n",
    "# Hyperlink --> https://www.w3schools.com/python/"
   ]
  },
  {
   "cell_type": "code",
   "execution_count": null,
   "metadata": {
    "slideshow": {
     "slide_type": "subslide"
    }
   },
   "outputs": [],
   "source": [
    "# 6. Homework Hint\n",
    "\"\"\"\n",
    "1.1 please print the sentence Hello Taiwan\n",
    "Hint: Use print()\n",
    "\n",
    "1.2 please make a addition for string \"33\" add \"77\" and get the answer as string like \"110\" \n",
    "Hint: Use  int()\n",
    "\"\"\"\n",
    "pass"
   ]
  },
  {
   "cell_type": "code",
   "execution_count": 3,
   "metadata": {
    "slideshow": {
     "slide_type": "subslide"
    }
   },
   "outputs": [
    {
     "name": "stdout",
     "output_type": "stream",
     "text": [
      "Hello Taiwan\n"
     ]
    }
   ],
   "source": [
    "# Homework 1.1\n",
    "print(\"\") # fix the code here\n",
    "\n",
    "# Expect to see \"Hello Taiwan\" in the following"
   ]
  },
  {
   "cell_type": "code",
   "execution_count": null,
   "metadata": {
    "slideshow": {
     "slide_type": "subslide"
    }
   },
   "outputs": [],
   "source": [
    "# Homework 1.2\n",
    "var1 = \"33\"\n",
    "var2 = \"77\"\n",
    "var3 = 0   # Fix the code here\n",
    "\n",
    "answer = var3\n",
    "print(answer)\n",
    "# Expect to see 110 in the follwoing"
   ]
  },
  {
   "cell_type": "code",
   "execution_count": null,
   "metadata": {
    "slideshow": {
     "slide_type": "slide"
    }
   },
   "outputs": [],
   "source": [
    "# 7. Advanced Home work   (NICE TO HAVE But not Necessary)\n",
    "# Nice to have but not necessary\n",
    "# Homework 2.1\n",
    "#  Use If - else statement to decide you number are odd number of even number\n",
    "\n",
    "# Homework 2.2 \n",
    "#  Let n as some number . and then print out information like \n",
    "#  1\n",
    "#  2\n",
    "#  3\n",
    "#  ...\n",
    "#  n\n",
    "\n",
    "# Homework 2.3 \n",
    "# Search resource and then do read text file and write text file"
   ]
  },
  {
   "cell_type": "code",
   "execution_count": 14,
   "metadata": {},
   "outputs": [
    {
     "name": "stdout",
     "output_type": "stream",
     "text": [
      "Please enter an integer: 1\n",
      "Odd\n"
     ]
    }
   ],
   "source": [
    "# Homework 2.1\n",
    "\n",
    "number = int(input(\"Please enter an integer: \"))\n",
    "if number == 1 : # <-- FIX code here\n",
    "    print(\"Odd\")\n",
    "else :\n",
    "    print(\"Even\")\n",
    "\n",
    "# Expect to print \"Odd\" when number is odd\n",
    "# Expect to print \"Even\" when number is even"
   ]
  },
  {
   "cell_type": "code",
   "execution_count": 11,
   "metadata": {},
   "outputs": [
    {
     "name": "stdout",
     "output_type": "stream",
     "text": [
      "0\n",
      "1\n",
      "0\n",
      "1\n",
      "0\n",
      "True\n",
      "False\n"
     ]
    }
   ],
   "source": [
    "# Hoomework 2.1 Hint\n",
    "# Use % and ==\n",
    "# You can understand % and == by observe the following code\n",
    "print(0 % 2)\n",
    "print(1 % 2)\n",
    "print(2 % 2)\n",
    "print(3 % 2)\n",
    "print(4 % 2)\n",
    "print(1 == 1)\n",
    "print(0 == 1)\n",
    "# Try to understand what above code do. And it m\n"
   ]
  },
  {
   "cell_type": "code",
   "execution_count": 1,
   "metadata": {
    "slideshow": {
     "slide_type": "skip"
    }
   },
   "outputs": [],
   "source": []
  },
  {
   "cell_type": "code",
   "execution_count": null,
   "metadata": {},
   "outputs": [],
   "source": [
    "# Homework 2.2\n",
    "# Search resource and then do read text file and write text file"
   ]
  },
  {
   "cell_type": "code",
   "execution_count": null,
   "metadata": {},
   "outputs": [],
   "source": [
    "# Homework 2.2 Hint\n",
    "# (1) Maybe try to google it  by the follwoing keyword\n",
    "#     \"python for loop 1 to n\"\n",
    "# (2) Maybe try to open \n",
    "# https://www.w3schools.com/python/\n"
   ]
  },
  {
   "cell_type": "code",
   "execution_count": null,
   "metadata": {},
   "outputs": [],
   "source": []
  },
  {
   "cell_type": "code",
   "execution_count": null,
   "metadata": {},
   "outputs": [],
   "source": [
    "# command to make slide (Teacher)\n",
    "# !jupyter nbconvert \"CodingNewbie_Class1_Variable.ipynb\" --to slides --post serve --reveal-prefix '//cdn.bootcss.com/reveal.js/3.5.0'"
   ]
  }
 ],
 "metadata": {
  "kernelspec": {
   "display_name": "Python 3",
   "language": "python",
   "name": "python3"
  },
  "language_info": {
   "codemirror_mode": {
    "name": "ipython",
    "version": 3
   },
   "file_extension": ".py",
   "mimetype": "text/x-python",
   "name": "python",
   "nbconvert_exporter": "python",
   "pygments_lexer": "ipython3",
   "version": "3.6.4"
  }
 },
 "nbformat": 4,
 "nbformat_minor": 2
}
