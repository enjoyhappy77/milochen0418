{
 "cells": [
  {
   "cell_type": "code",
   "execution_count": null,
   "metadata": {},
   "outputs": [],
   "source": [
    "# Coding Newbie Class1 Variable\n",
    "# 1. Hello World Jupyter\n",
    "# 2. How to use Comment\n",
    "# 3. Introduction to Variables\n",
    "# 4. Built-in Types for Number\n",
    "# 5. convert between String and Number \n",
    "# 6. Operator\n",
    "# 7. Introduction w3school - some self-learning stuff\n",
    "# 8. Homework Hint"
   ]
  }
 ],
 "metadata": {
  "kernelspec": {
   "display_name": "Python 3",
   "language": "python",
   "name": "python3"
  },
  "language_info": {
   "codemirror_mode": {
    "name": "ipython",
    "version": 3
   },
   "file_extension": ".py",
   "mimetype": "text/x-python",
   "name": "python",
   "nbconvert_exporter": "python",
   "pygments_lexer": "ipython3",
   "version": "3.6.4"
  }
 },
 "nbformat": 4,
 "nbformat_minor": 2
}
