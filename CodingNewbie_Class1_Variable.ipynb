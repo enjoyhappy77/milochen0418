{
 "cells": [
  {
   "cell_type": "code",
   "execution_count": 1,
   "metadata": {
    "slideshow": {
     "slide_type": "slide"
    }
   },
   "outputs": [],
   "source": [
    "# Coding Newbie Class1 Variable\n",
    "# 1. Hello World Jupyter\n",
    "# 2. How to use Comment\n",
    "# 3. Introduction to Variables\n",
    "# 4. Built-in Types for Number\n",
    "# 5. convert between String and Number \n",
    "# 6. Operator\n",
    "# 7. Introduction w3school - some self-learning stuff\n",
    "# 8. Homework Hint"
   ]
  },
  {
   "cell_type": "code",
   "execution_count": 15,
   "metadata": {
    "slideshow": {
     "slide_type": "slide"
    }
   },
   "outputs": [],
   "source": [
    "# 1. Hello World Jupyter\n",
    "# (1) Use shift + enter to execute code in cell\n",
    "# (2) Use print(\"Hello\") to show output\n",
    "\n"
   ]
  },
  {
   "cell_type": "code",
   "execution_count": null,
   "metadata": {
    "slideshow": {
     "slide_type": "subslide"
    }
   },
   "outputs": [],
   "source": [
    "x = 3 \n",
    "# Try to use shift+enter\n",
    "# Long press down the shift button and then use another finter to click enter\n"
   ]
  },
  {
   "cell_type": "code",
   "execution_count": null,
   "metadata": {
    "slideshow": {
     "slide_type": "subslide"
    }
   },
   "outputs": [],
   "source": [
    "print(\"Hello\") \n",
    "# Try to use shift+enter"
   ]
  },
  {
   "cell_type": "code",
   "execution_count": 16,
   "metadata": {
    "slideshow": {
     "slide_type": "slide"
    }
   },
   "outputs": [],
   "source": [
    "# 2.  How to use comment\n",
    "# (1) one-line comment  by #\n",
    "# (2) multiple-lines comment by \"\"\"  comment is here   \"\"\"\n"
   ]
  },
  {
   "cell_type": "code",
   "execution_count": 17,
   "metadata": {
    "slideshow": {
     "slide_type": "subslide"
    }
   },
   "outputs": [],
   "source": [
    "# This is Comment 1 \n",
    "# This is comment 2 \n",
    "# This is comment 3\n",
    "x = 9 # You can also put comment after code in the same line"
   ]
  },
  {
   "cell_type": "code",
   "execution_count": null,
   "metadata": {
    "slideshow": {
     "slide_type": "subslide"
    }
   },
   "outputs": [],
   "source": [
    "\"\"\"\n",
    "These \n",
    "Are \n",
    "Multiple-line comment\n",
    "\"\"\"\n",
    "pass"
   ]
  },
  {
   "cell_type": "code",
   "execution_count": null,
   "metadata": {
    "slideshow": {
     "slide_type": "slide"
    }
   },
   "outputs": [],
   "source": [
    "# 3. Introduction to Different Type of Variable\n",
    "# Dynamic type => no declaration needed\n",
    "# (1) x = 3 ( x is an integer)\n",
    "# (2) x = \"This is a string\" ( x is a string)\n",
    "# (3) x = [1,2,3,4,5] ( x is a list)\n",
    "# (4) x = True ( x is a boolean)\n",
    "# (5) Variable Naming"
   ]
  },
  {
   "cell_type": "code",
   "execution_count": 18,
   "metadata": {
    "slideshow": {
     "slide_type": "subslide"
    }
   },
   "outputs": [
    {
     "name": "stdout",
     "output_type": "stream",
     "text": [
      "3\n"
     ]
    }
   ],
   "source": [
    "x = 3 \n",
    "print(x)"
   ]
  },
  {
   "cell_type": "code",
   "execution_count": 19,
   "metadata": {
    "slideshow": {
     "slide_type": "subslide"
    }
   },
   "outputs": [
    {
     "name": "stdout",
     "output_type": "stream",
     "text": [
      "This is a string\n"
     ]
    }
   ],
   "source": [
    "x = \"This is a string\"\n",
    "print(x)"
   ]
  },
  {
   "cell_type": "code",
   "execution_count": 20,
   "metadata": {
    "slideshow": {
     "slide_type": "subslide"
    }
   },
   "outputs": [
    {
     "name": "stdout",
     "output_type": "stream",
     "text": [
      "[1, 2, 3, 4, 5]\n"
     ]
    }
   ],
   "source": [
    "x = [1,2,3,4,5]\n",
    "print(x)"
   ]
  },
  {
   "cell_type": "code",
   "execution_count": 21,
   "metadata": {
    "slideshow": {
     "slide_type": "subslide"
    }
   },
   "outputs": [
    {
     "name": "stdout",
     "output_type": "stream",
     "text": [
      "True\n"
     ]
    }
   ],
   "source": [
    "x = True\n",
    "print(x)"
   ]
  },
  {
   "cell_type": "code",
   "execution_count": null,
   "metadata": {
    "slideshow": {
     "slide_type": "subslide"
    }
   },
   "outputs": [],
   "source": [
    "# Variable naming\n",
    "# 1. Case sensitive\n",
    "# 2. Cannot start with number\n",
    "# 3. Can contain letters, numbers, and underscores.\n"
   ]
  },
  {
   "cell_type": "code",
   "execution_count": null,
   "metadata": {
    "slideshow": {
     "slide_type": "slide"
    }
   },
   "outputs": [],
   "source": [
    "# 4. Type Conversion and Basic Operator\n",
    "# (1) Boolean operator\n",
    "# (1) (plus) If-else statement\n",
    "# (2) String adding operator\n",
    "# (3) Number adding operator\n",
    "# (4) example of convert Number to String\n",
    "# (5) example of covnert String to umber\n",
    "# (6) moer operator for Number"
   ]
  },
  {
   "cell_type": "code",
   "execution_count": 44,
   "metadata": {
    "slideshow": {
     "slide_type": "subslide"
    }
   },
   "outputs": [
    {
     "name": "stdout",
     "output_type": "stream",
     "text": [
      "False\n",
      "True\n",
      "True\n",
      "False\n",
      "False\n",
      "True\n",
      "True\n"
     ]
    }
   ],
   "source": [
    "# Boolean Operator\n",
    "x = True\n",
    "y = False\n",
    "andValue = x and y\n",
    "orValue = x or y\n",
    "print(andValue)\n",
    "print(orValue)\n",
    "print( 3 < 5 )\n",
    "print( 3 > 5 )\n",
    "print( 3 == 5)\n",
    "print(3 == 3)\n",
    "print(x == y or 3 == 3)"
   ]
  },
  {
   "cell_type": "code",
   "execution_count": 45,
   "metadata": {
    "slideshow": {
     "slide_type": "slide"
    }
   },
   "outputs": [
    {
     "name": "stdout",
     "output_type": "stream",
     "text": [
      "Please enter an integer: 33\n",
      "More\n"
     ]
    }
   ],
   "source": [
    "# (plus) If statement\n",
    "x = int(input(\"Please enter an integer: \"))\n",
    "if x < 0:\n",
    "    print('Negative changed to zero')\n",
    "elif x == 0:\n",
    "    print('Zero')\n",
    "elif x == 1:\n",
    "    print('Single')\n",
    "else:\n",
    "    print('More')"
   ]
  },
  {
   "cell_type": "code",
   "execution_count": 46,
   "metadata": {
    "slideshow": {
     "slide_type": "slide"
    }
   },
   "outputs": [
    {
     "name": "stdout",
     "output_type": "stream",
     "text": [
      "AA\n",
      "BB\n",
      "AABB\n",
      "AABBtest\n"
     ]
    }
   ],
   "source": [
    "# String Add operator\n",
    "strA = \"AA\"\n",
    "strB = 'BB'\n",
    "print(strA)\n",
    "print(strB)\n",
    "strAdd = strA + strB\n",
    "print(strAdd)\n",
    "strAdd = strAdd + \"test\"\n",
    "print(strAdd)"
   ]
  },
  {
   "cell_type": "code",
   "execution_count": 26,
   "metadata": {
    "slideshow": {
     "slide_type": "subslide"
    }
   },
   "outputs": [
    {
     "data": {
      "text/plain": [
       "8"
      ]
     },
     "execution_count": 26,
     "metadata": {},
     "output_type": "execute_result"
    }
   ],
   "source": [
    "# Number adding operator\n",
    "3 + 5"
   ]
  },
  {
   "cell_type": "code",
   "execution_count": 41,
   "metadata": {
    "slideshow": {
     "slide_type": "subslide"
    }
   },
   "outputs": [
    {
     "name": "stdout",
     "output_type": "stream",
     "text": [
      "111\n",
      "222\n",
      "Hello World999\n",
      "Hello 55\n"
     ]
    }
   ],
   "source": [
    "# example of convert Number to String\n",
    "print(str(111))\n",
    "print(str(111 + 111))\n",
    "print( \"Hello World\" + str(999)  )\n",
    "print( \"Hello \" + str(33+22)  )"
   ]
  },
  {
   "cell_type": "code",
   "execution_count": 39,
   "metadata": {
    "slideshow": {
     "slide_type": "subslide"
    }
   },
   "outputs": [
    {
     "name": "stdout",
     "output_type": "stream",
     "text": [
      "200\n",
      "100200\n",
      "10123\n",
      "1000010123\n"
     ]
    }
   ],
   "source": [
    "# example of covnert String to Number\n",
    "print(int(\"200\"))\n",
    "print(int(\"100\" + \"200\") )\n",
    "print(123 +int(\"10000\") )\n",
    "print(123 +int( \"10000\" + \"10000\"  ))"
   ]
  },
  {
   "cell_type": "code",
   "execution_count": null,
   "metadata": {
    "slideshow": {
     "slide_type": "slide"
    }
   },
   "outputs": [],
   "source": [
    "# 5. introdution to w3schools of python\n",
    "# Hyperlink --> https://www.w3schools.com/python/"
   ]
  },
  {
   "cell_type": "code",
   "execution_count": null,
   "metadata": {
    "slideshow": {
     "slide_type": "subslide"
    }
   },
   "outputs": [],
   "source": [
    "# 6. Homework Hint\n",
    "\"\"\"\n",
    "1.1 please print the sentence Hello Taiwan\n",
    "Hint: Use print()\n",
    "\n",
    "1.2 please make a addition for string \"33\" add \"77\" and get the answer as string like \"110\" \n",
    "Hint: Use  int()\n",
    "\"\"\"\n",
    "pass"
   ]
  },
  {
   "cell_type": "code",
   "execution_count": 14,
   "metadata": {
    "slideshow": {
     "slide_type": "subslide"
    }
   },
   "outputs": [
    {
     "name": "stdout",
     "output_type": "stream",
     "text": [
      "\n"
     ]
    }
   ],
   "source": [
    "# Homework 1.1\n",
    "print(\"\") # fix the code here\n",
    "\n",
    "# Expect to see \"Hello Taiwan\" in the following"
   ]
  },
  {
   "cell_type": "code",
   "execution_count": null,
   "metadata": {
    "slideshow": {
     "slide_type": "subslide"
    }
   },
   "outputs": [],
   "source": [
    "# Homework 1.2\n",
    "var1 = \"33\"\n",
    "var2 = \"77\"\n",
    "var3 = 0   # Fix the code here\n",
    "\n",
    "answer = var3\n",
    "print(answer)\n",
    "# Expect to see 110 in the follwoing"
   ]
  },
  {
   "cell_type": "code",
   "execution_count": null,
   "metadata": {
    "slideshow": {
     "slide_type": "slide"
    }
   },
   "outputs": [],
   "source": [
    "# 7 Advance Home work \n",
    "# Nice to have but not neccessary\n",
    "# Homework 2.1\n",
    "#  Use If - else statement to decide you number are odd number of even number\n",
    "\n",
    "# Homework 2.2 \n",
    "#  Let n as some number . and then print out information like \n",
    "#  1\n",
    "#  2\n",
    "#  3\n",
    "#  ...\n",
    "#  n\n",
    "\n",
    "# Homework 2.3 \n",
    "# Search resource and then write some code to do  file read and file write\n"
   ]
  },
  {
   "cell_type": "code",
   "execution_count": 1,
   "metadata": {
    "slideshow": {
     "slide_type": "skip"
    }
   },
   "outputs": [
    {
     "name": "stderr",
     "output_type": "stream",
     "text": [
      "[NbConvertApp] Converting notebook CodingNewbie_Class1_Variable.ipynb to slides\n",
      "[NbConvertApp] Writing 276066 bytes to CodingNewbie_Class1_Variable.slides.html\n",
      "[NbConvertApp] Redirecting reveal.js requests to https://cdnjs.cloudflare.com/ajax/libs/reveal.js/3.5.0\n",
      "Traceback (most recent call last):\n",
      "  File \"C:\\ProgramData\\Anaconda3\\Scripts\\jupyter-nbconvert-script.py\", line 10, in <module>\n",
      "    sys.exit(main())\n",
      "  File \"C:\\ProgramData\\Anaconda3\\lib\\site-packages\\jupyter_core\\application.py\", line 266, in launch_instance\n",
      "    return super(JupyterApp, cls).launch_instance(argv=argv, **kwargs)\n",
      "  File \"C:\\ProgramData\\Anaconda3\\lib\\site-packages\\traitlets\\config\\application.py\", line 658, in launch_instance\n",
      "    app.start()\n",
      "  File \"C:\\ProgramData\\Anaconda3\\lib\\site-packages\\nbconvert\\nbconvertapp.py\", line 325, in start\n",
      "    self.convert_notebooks()\n",
      "  File \"C:\\ProgramData\\Anaconda3\\lib\\site-packages\\nbconvert\\nbconvertapp.py\", line 493, in convert_notebooks\n",
      "    self.convert_single_notebook(notebook_filename)\n",
      "  File \"C:\\ProgramData\\Anaconda3\\lib\\site-packages\\nbconvert\\nbconvertapp.py\", line 466, in convert_single_notebook\n",
      "    self.postprocess_single_notebook(write_results)\n",
      "  File \"C:\\ProgramData\\Anaconda3\\lib\\site-packages\\nbconvert\\nbconvertapp.py\", line 438, in postprocess_single_notebook\n",
      "    self.postprocessor(write_results)\n",
      "  File \"C:\\ProgramData\\Anaconda3\\lib\\site-packages\\nbconvert\\postprocessors\\base.py\", line 28, in __call__\n",
      "    self.postprocess(input)\n",
      "  File \"C:\\ProgramData\\Anaconda3\\lib\\site-packages\\nbconvert\\postprocessors\\serve.py\", line 95, in postprocess\n",
      "    http_server.listen(self.port, address=self.ip)\n",
      "  File \"C:\\ProgramData\\Anaconda3\\lib\\site-packages\\tornado\\tcpserver.py\", line 142, in listen\n",
      "    sockets = bind_sockets(port, address=address)\n",
      "  File \"C:\\ProgramData\\Anaconda3\\lib\\site-packages\\tornado\\netutil.py\", line 197, in bind_sockets\n",
      "    sock.bind(sockaddr)\n",
      "OSError: [WinError 10048] 一次只能用一個通訊端位址 (通訊協定/網路位址/連接埠)。\n"
     ]
    }
   ],
   "source": [
    "!jupyter nbconvert \"CodingNewbie_Class1_Variable.ipynb\" --to slides --post serve --reveal-prefix '//cdn.bootcss.com/reveal.js/3.5.0'"
   ]
  },
  {
   "cell_type": "code",
   "execution_count": null,
   "metadata": {},
   "outputs": [],
   "source": []
  }
 ],
 "metadata": {
  "celltoolbar": "Slideshow",
  "kernelspec": {
   "display_name": "Python 3",
   "language": "python",
   "name": "python3"
  },
  "language_info": {
   "codemirror_mode": {
    "name": "ipython",
    "version": 3
   },
   "file_extension": ".py",
   "mimetype": "text/x-python",
   "name": "python",
   "nbconvert_exporter": "python",
   "pygments_lexer": "ipython3",
   "version": "3.6.4"
  }
 },
 "nbformat": 4,
 "nbformat_minor": 2
}
