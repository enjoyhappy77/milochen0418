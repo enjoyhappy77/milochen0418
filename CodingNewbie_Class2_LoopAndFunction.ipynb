{
 "cells": [
  {
   "cell_type": "code",
   "execution_count": null,
   "metadata": {},
   "outputs": [],
   "source": [
    "# Coding Newbie Class2 Loop And Function\n",
    "# 1. Basic for While-loop and For-loop \n",
    "# 2. 2-Level Loop\n",
    "# 3. Basic Function\n",
    "# 4. Recursive Function\n",
    "# 5. online Python coding resource\n",
    "# 6. Homework and Hint"
   ]
  },
  {
   "cell_type": "code",
   "execution_count": null,
   "metadata": {},
   "outputs": [],
   "source": [
    "# 1. Basic for While-loop and For-loop\n"
   ]
  },
  {
   "cell_type": "code",
   "execution_count": null,
   "metadata": {},
   "outputs": [],
   "source": [
    "# 2. 2-Level Loop\n"
   ]
  },
  {
   "cell_type": "code",
   "execution_count": null,
   "metadata": {},
   "outputs": [],
   "source": [
    "# 3. Basic Function\n"
   ]
  },
  {
   "cell_type": "code",
   "execution_count": null,
   "metadata": {},
   "outputs": [],
   "source": [
    "# 4. Recursive Function\n"
   ]
  },
  {
   "cell_type": "code",
   "execution_count": null,
   "metadata": {},
   "outputs": [],
   "source": [
    "# 5. onlien Python coding resource\n",
    "# Open http://www.checkio.org/ <- Just do it \n",
    "# PS: you can online code python on it\n",
    "\n"
   ]
  },
  {
   "cell_type": "code",
   "execution_count": 2,
   "metadata": {},
   "outputs": [
    {
     "name": "stdout",
     "output_type": "stream",
     "text": [
      "Example:\n",
      "True\n",
      "Coding complete? Click 'Check' to earn cool rewards!\n"
     ]
    }
   ],
   "source": [
    "# (1) solve the problem of  all-the-same\n",
    "# https://py.checkio.org/mission/all-the-same/solve/\n",
    "from typing import List, Any\n",
    "\n",
    "def all_the_same(elements: List[Any]) -> bool:\n",
    "    # your code here\n",
    "    if len(elements) == 0: \n",
    "        return True\n",
    "    else:\n",
    "        firstEle = elements[0]\n",
    "        for e in elements:\n",
    "            if e != firstEle:\n",
    "                return False\n",
    "        return True\n",
    "    return True\n",
    "\n",
    "print(\"Example:\")\n",
    "print(all_the_same([1, 1, 1]))\n",
    "\n",
    "# These \"asserts\" are used for self-checking and not for an auto-testing\n",
    "assert all_the_same([1, 1, 1]) == True\n",
    "assert all_the_same([1, 2, 1]) == False\n",
    "assert all_the_same(['a', 'a', 'a']) == True\n",
    "assert all_the_same([]) == True\n",
    "assert all_the_same([1]) == True\n",
    "print(\"Coding complete? Click 'Check' to earn cool rewards!\")"
   ]
  },
  {
   "cell_type": "code",
   "execution_count": null,
   "metadata": {},
   "outputs": [],
   "source": [
    "# 6. Homework and hint"
   ]
  }
 ],
 "metadata": {
  "kernelspec": {
   "display_name": "Python 3",
   "language": "python",
   "name": "python3"
  },
  "language_info": {
   "codemirror_mode": {
    "name": "ipython",
    "version": 3
   },
   "file_extension": ".py",
   "mimetype": "text/x-python",
   "name": "python",
   "nbconvert_exporter": "python",
   "pygments_lexer": "ipython3",
   "version": "3.6.4"
  }
 },
 "nbformat": 4,
 "nbformat_minor": 2
}
