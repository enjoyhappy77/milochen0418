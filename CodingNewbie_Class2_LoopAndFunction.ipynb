{
 "cells": [
  {
   "cell_type": "code",
   "execution_count": null,
   "metadata": {},
   "outputs": [],
   "source": [
    "# Coding Newbie Class2 Loop And Function\n",
    "# 1. Basic for While-loop and For-loop \n",
    "# 2. 2-Level Loop\n",
    "# 3. Basic Function\n",
    "# 4. Recursive Function\n",
    "# 5. online Python coding resource\n",
    "# 6. Homework and Hint"
   ]
  },
  {
   "cell_type": "code",
   "execution_count": null,
   "metadata": {},
   "outputs": [],
   "source": [
    "# 1. Loop statement \n",
    "#    Basic for While-loop and For-loop\n",
    "\"\"\"\n",
    "Loop statements may have an else clause; it is executed\n",
    "when the loop terminates through exhaustion of the list\n",
    "(with for) or when the condition becomes false (with while), \n",
    "but not when the loop is terminated by a break statement.\n",
    "\"\"\"\n",
    "pass"
   ]
  },
  {
   "cell_type": "code",
   "execution_count": null,
   "metadata": {},
   "outputs": [],
   "source": [
    "# 1.1 If statement \n",
    "x = int(input(\"Please enter an integer: \"))\n",
    "if x < 0:\n",
    "    print('Negative changed to zero')\n",
    "elif x == 0:\n",
    "    print('Zero')\n",
    "elif x == 1:\n",
    "    print('Single')\n",
    "else:\n",
    "    print('More')"
   ]
  },
  {
   "cell_type": "code",
   "execution_count": 3,
   "metadata": {},
   "outputs": [
    {
     "name": "stdout",
     "output_type": "stream",
     "text": [
      "0\n",
      "1\n",
      "2\n",
      "3\n",
      "3\n",
      "4\n"
     ]
    }
   ],
   "source": [
    "# 1.2 While statement\n",
    "n = 5\n",
    "i = 0\n",
    "while i < n:\n",
    "    print(i)\n",
    "    if i == 3:\n",
    "        print(i)\n",
    "    i += 1\n"
   ]
  },
  {
   "cell_type": "code",
   "execution_count": 4,
   "metadata": {},
   "outputs": [
    {
     "name": "stdout",
     "output_type": "stream",
     "text": [
      "0\n",
      "1\n",
      "2\n",
      "3\n",
      "3\n",
      "4\n",
      "ok\n"
     ]
    }
   ],
   "source": [
    "# 1.3 While statement + else\n",
    "n = 5\n",
    "i = 0\n",
    "while i < n:\n",
    "    print(i)\n",
    "    if i == 3:\n",
    "        print(i)\n",
    "    i += 1\n",
    "else: # else will be exeucted in end of loop\n",
    "    print(\"ok\")\n"
   ]
  },
  {
   "cell_type": "code",
   "execution_count": 2,
   "metadata": {},
   "outputs": [
    {
     "name": "stdout",
     "output_type": "stream",
     "text": [
      "0\n",
      "1\n",
      "2\n",
      "3\n",
      "3\n"
     ]
    }
   ],
   "source": [
    "# 1.4 While statement + else + \"break\"\n",
    "n = 5\n",
    "i = 0\n",
    "while i < n:\n",
    "    print(i)\n",
    "    if i == 3:\n",
    "        print(i)\n",
    "        break # break will cause to exit current loop\n",
    "    i += 1\n",
    "else:\n",
    "    print(\"ok\")\n"
   ]
  },
  {
   "cell_type": "code",
   "execution_count": 5,
   "metadata": {},
   "outputs": [
    {
     "name": "stdout",
     "output_type": "stream",
     "text": [
      "0\n",
      "1\n",
      "2\n",
      "3\n",
      "3\n",
      "4\n",
      "ok\n"
     ]
    }
   ],
   "source": [
    "# 1.5 For Loop statement + else\n",
    "for i in range(5):\n",
    "    print(i)\n",
    "    if i == 3:\n",
    "        print(i)\n",
    "else:\n",
    "    print(\"ok\")\n"
   ]
  },
  {
   "cell_type": "code",
   "execution_count": 3,
   "metadata": {},
   "outputs": [
    {
     "name": "stdout",
     "output_type": "stream",
     "text": [
      "0\n",
      "1\n",
      "2\n",
      "3\n",
      "3\n"
     ]
    }
   ],
   "source": [
    "# 1.6 For Loop statement + else\n",
    "for i in range(5):\n",
    "    print(i)\n",
    "    if i == 3:\n",
    "        print(i)\n",
    "        break\n",
    "else:\n",
    "    print(\"ok\")\n"
   ]
  },
  {
   "cell_type": "code",
   "execution_count": 8,
   "metadata": {},
   "outputs": [
    {
     "name": "stdout",
     "output_type": "stream",
     "text": [
      "cat 3\n",
      "window 6\n",
      "defenstrate 11\n"
     ]
    }
   ],
   "source": [
    "# 1.7 For statement\n",
    "words = ['cat', 'window', 'defenstrate']\n",
    "for w in words:\n",
    "    print(w, len(w))\n"
   ]
  },
  {
   "cell_type": "code",
   "execution_count": 1,
   "metadata": {},
   "outputs": [
    {
     "name": "stdout",
     "output_type": "stream",
     "text": [
      "['defenstrate', 'cat', 'window', 'defenstrate']\n"
     ]
    }
   ],
   "source": [
    "# 1.8 For statement + If statement\n",
    "words = ['cat', 'window', 'defenstrate']\n",
    "for w in words[:]:\n",
    "    if len(w) > 6:\n",
    "        words.insert(0, w)\n",
    "print(words)"
   ]
  },
  {
   "cell_type": "code",
   "execution_count": 7,
   "metadata": {},
   "outputs": [
    {
     "name": "stdout",
     "output_type": "stream",
     "text": [
      "1  *  1  =  1\n",
      "1  *  2  =  2\n",
      "1  *  3  =  3\n",
      "1  *  4  =  4\n",
      "1  *  5  =  5\n",
      "1  *  6  =  6\n",
      "1  *  7  =  7\n",
      "1  *  8  =  8\n",
      "1  *  9  =  9\n",
      "\n",
      "2  *  1  =  2\n",
      "2  *  2  =  4\n",
      "2  *  3  =  6\n",
      "2  *  4  =  8\n",
      "2  *  5  =  10\n",
      "2  *  6  =  12\n",
      "2  *  7  =  14\n",
      "2  *  8  =  16\n",
      "2  *  9  =  18\n",
      "\n",
      "3  *  1  =  3\n",
      "3  *  2  =  6\n",
      "3  *  3  =  9\n",
      "3  *  4  =  12\n",
      "3  *  5  =  15\n",
      "3  *  6  =  18\n",
      "3  *  7  =  21\n",
      "3  *  8  =  24\n",
      "3  *  9  =  27\n",
      "\n",
      "4  *  1  =  4\n",
      "4  *  2  =  8\n",
      "4  *  3  =  12\n",
      "4  *  4  =  16\n",
      "4  *  5  =  20\n",
      "4  *  6  =  24\n",
      "4  *  7  =  28\n",
      "4  *  8  =  32\n",
      "4  *  9  =  36\n",
      "\n",
      "5  *  1  =  5\n",
      "5  *  2  =  10\n",
      "5  *  3  =  15\n",
      "5  *  4  =  20\n",
      "5  *  5  =  25\n",
      "5  *  6  =  30\n",
      "5  *  7  =  35\n",
      "5  *  8  =  40\n",
      "5  *  9  =  45\n",
      "\n",
      "6  *  1  =  6\n",
      "6  *  2  =  12\n",
      "6  *  3  =  18\n",
      "6  *  4  =  24\n",
      "6  *  5  =  30\n",
      "6  *  6  =  36\n",
      "6  *  7  =  42\n",
      "6  *  8  =  48\n",
      "6  *  9  =  54\n",
      "\n",
      "7  *  1  =  7\n",
      "7  *  2  =  14\n",
      "7  *  3  =  21\n",
      "7  *  4  =  28\n",
      "7  *  5  =  35\n",
      "7  *  6  =  42\n",
      "7  *  7  =  49\n",
      "7  *  8  =  56\n",
      "7  *  9  =  63\n",
      "\n",
      "8  *  1  =  8\n",
      "8  *  2  =  16\n",
      "8  *  3  =  24\n",
      "8  *  4  =  32\n",
      "8  *  5  =  40\n",
      "8  *  6  =  48\n",
      "8  *  7  =  56\n",
      "8  *  8  =  64\n",
      "8  *  9  =  72\n",
      "\n",
      "9  *  1  =  9\n",
      "9  *  2  =  18\n",
      "9  *  3  =  27\n",
      "9  *  4  =  36\n",
      "9  *  5  =  45\n",
      "9  *  6  =  54\n",
      "9  *  7  =  63\n",
      "9  *  8  =  72\n",
      "9  *  9  =  81\n",
      "\n"
     ]
    }
   ],
   "source": [
    "# 2. 2-Level Loop\n",
    "for L in range(1,10):\n",
    "    for R in range(1,10):\n",
    "        print(L , \" * \", R, \" = \", L * R)\n",
    "    print('')"
   ]
  },
  {
   "cell_type": "code",
   "execution_count": 11,
   "metadata": {},
   "outputs": [
    {
     "name": "stdout",
     "output_type": "stream",
     "text": [
      "1 * 1 = 1\t4 * 1 = 4\t7 * 1 = 7\t\n",
      "1 * 2 = 2\t4 * 2 = 8\t7 * 2 = 14\t\n",
      "1 * 3 = 3\t4 * 3 = 12\t7 * 3 = 21\t\n",
      "1 * 4 = 4\t4 * 4 = 16\t7 * 4 = 28\t\n",
      "1 * 5 = 5\t4 * 5 = 20\t7 * 5 = 35\t\n",
      "1 * 6 = 6\t4 * 6 = 24\t7 * 6 = 42\t\n",
      "1 * 7 = 7\t4 * 7 = 28\t7 * 7 = 49\t\n",
      "1 * 8 = 8\t4 * 8 = 32\t7 * 8 = 56\t\n",
      "1 * 9 = 9\t4 * 9 = 36\t7 * 9 = 63\t\n",
      "\n",
      "2 * 1 = 2\t5 * 1 = 5\t8 * 1 = 8\t\n",
      "2 * 2 = 4\t5 * 2 = 10\t8 * 2 = 16\t\n",
      "2 * 3 = 6\t5 * 3 = 15\t8 * 3 = 24\t\n",
      "2 * 4 = 8\t5 * 4 = 20\t8 * 4 = 32\t\n",
      "2 * 5 = 10\t5 * 5 = 25\t8 * 5 = 40\t\n",
      "2 * 6 = 12\t5 * 6 = 30\t8 * 6 = 48\t\n",
      "2 * 7 = 14\t5 * 7 = 35\t8 * 7 = 56\t\n",
      "2 * 8 = 16\t5 * 8 = 40\t8 * 8 = 64\t\n",
      "2 * 9 = 18\t5 * 9 = 45\t8 * 9 = 72\t\n",
      "\n",
      "3 * 1 = 3\t6 * 1 = 6\t9 * 1 = 9\t\n",
      "3 * 2 = 6\t6 * 2 = 12\t9 * 2 = 18\t\n",
      "3 * 3 = 9\t6 * 3 = 18\t9 * 3 = 27\t\n",
      "3 * 4 = 12\t6 * 4 = 24\t9 * 4 = 36\t\n",
      "3 * 5 = 15\t6 * 5 = 30\t9 * 5 = 45\t\n",
      "3 * 6 = 18\t6 * 6 = 36\t9 * 6 = 54\t\n",
      "3 * 7 = 21\t6 * 7 = 42\t9 * 7 = 63\t\n",
      "3 * 8 = 24\t6 * 8 = 48\t9 * 8 = 72\t\n",
      "3 * 9 = 27\t6 * 9 = 54\t9 * 9 = 81\t\n",
      "\n"
     ]
    }
   ],
   "source": [
    "for i in range(0,3):    \n",
    "    for j in range(1,10):\n",
    "        for k in range(1,10,3):\n",
    "            L = i + k\n",
    "            R = j \n",
    "            print(L , \"*\", R, \"=\", L * R, end='\\t')\n",
    "        print('')\n",
    "    print('')\n",
    "    \n",
    "            \n"
   ]
  },
  {
   "cell_type": "code",
   "execution_count": null,
   "metadata": {},
   "outputs": [],
   "source": [
    "# 3. Basic Function\n"
   ]
  },
  {
   "cell_type": "code",
   "execution_count": null,
   "metadata": {},
   "outputs": [],
   "source": [
    "# 4. Recursive Function\n"
   ]
  },
  {
   "cell_type": "code",
   "execution_count": null,
   "metadata": {},
   "outputs": [],
   "source": [
    "# 5. onlien Python coding resource\n",
    "# Open http://www.checkio.org/ <- Just do it \n",
    "# PS: you can online code python on it\n",
    "# I also share some solution in below\n",
    "\n",
    "# https://py.checkio.org/station/home/ <-- Many problem \n",
    "# and you can see solution from another people if you solve.\n"
   ]
  },
  {
   "cell_type": "code",
   "execution_count": 1,
   "metadata": {},
   "outputs": [
    {
     "name": "stdout",
     "output_type": "stream",
     "text": [
      "Example:\n",
      "True\n",
      "Coding complete? Click 'Check' to earn cool rewards!\n"
     ]
    }
   ],
   "source": [
    "# (1) solve the problem of  all-the-same\n",
    "# https://py.checkio.org/mission/all-the-same/solve/\n",
    "from typing import List, Any\n",
    "\n",
    "def all_the_same(elements: List[Any]) -> bool:\n",
    "    # your code here\n",
    "    if len(elements) == 0: \n",
    "        return True\n",
    "    else:\n",
    "        firstEle = elements[0]\n",
    "        for e in elements:\n",
    "            if e != firstEle:\n",
    "                return False\n",
    "        return True\n",
    "    return True\n",
    "\n",
    "print(\"Example:\")\n",
    "print(all_the_same([1, 1, 1]))\n",
    "\n",
    "# These \"asserts\" are used for self-checking and not for an auto-testing\n",
    "assert all_the_same([1, 1, 1]) == True\n",
    "assert all_the_same([1, 2, 1]) == False\n",
    "assert all_the_same(['a', 'a', 'a']) == True\n",
    "assert all_the_same([]) == True\n",
    "assert all_the_same([1]) == True\n",
    "print(\"Coding complete? Click 'Check' to earn cool rewards!\")"
   ]
  },
  {
   "cell_type": "code",
   "execution_count": 2,
   "metadata": {},
   "outputs": [
    {
     "name": "stdout",
     "output_type": "stream",
     "text": [
      "Coding complete? Click 'Check' to review your tests and earn cool rewards!\n"
     ]
    }
   ],
   "source": [
    "# https://py.checkio.org/mission/house-password/solve/\n",
    "import re\n",
    "def checkio(data: str) -> bool:\n",
    "    #replace this for solution\n",
    "    if None == re.match(\"[0-9a-zA-Z]{10,}\", data):\n",
    "        return False\n",
    "    if not re.compile('[a-z]').search(data):\n",
    "        return False\n",
    "    if not re.compile('[A-Z]').search(data):\n",
    "        return False\n",
    "    if not re.compile('[0-9]').search(data):\n",
    "        return False\n",
    "    return True\n",
    "\n",
    "#Some hints\n",
    "#Just check all conditions\n",
    "\n",
    "\n",
    "if __name__ == '__main__':\n",
    "    #These \"asserts\" using only for self-checking and not necessary for auto-testing\n",
    "    assert checkio('A1213pokl') == False, \"1st example\"\n",
    "    assert checkio('bAse730onE4') == True, \"2nd example\"\n",
    "    assert checkio('asasasasasasasaas') == False, \"3rd example\"\n",
    "    assert checkio('QWERTYqwerty') == False, \"4th example\"\n",
    "    assert checkio('123456123456') == False, \"5th example\"\n",
    "    assert checkio('QwErTy911poqqqq') == True, \"6th example\"\n",
    "    print(\"Coding complete? Click 'Check' to review your tests and earn cool rewards!\")\n"
   ]
  },
  {
   "cell_type": "code",
   "execution_count": null,
   "metadata": {},
   "outputs": [],
   "source": [
    "# 6. Homework and hint"
   ]
  }
 ],
 "metadata": {
  "kernelspec": {
   "display_name": "Python 3",
   "language": "python",
   "name": "python3"
  },
  "language_info": {
   "codemirror_mode": {
    "name": "ipython",
    "version": 3
   },
   "file_extension": ".py",
   "mimetype": "text/x-python",
   "name": "python",
   "nbconvert_exporter": "python",
   "pygments_lexer": "ipython3",
   "version": "3.6.4"
  }
 },
 "nbformat": 4,
 "nbformat_minor": 2
}
