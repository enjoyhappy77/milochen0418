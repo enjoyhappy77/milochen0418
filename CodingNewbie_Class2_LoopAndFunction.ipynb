{
 "cells": [
  {
   "cell_type": "code",
   "execution_count": null,
   "metadata": {},
   "outputs": [],
   "source": [
    "# Coding Newbie Class2 Loop And Function\n",
    "# 1. Basic for While-loop and For-loop \n",
    "# 2. 2-Level Loop\n",
    "# 3. Basic Function\n",
    "# 4. Recursive Function\n",
    "# 5. online Python coding resource\n",
    "# 6. Homework and Hint"
   ]
  },
  {
   "cell_type": "code",
   "execution_count": null,
   "metadata": {},
   "outputs": [],
   "source": [
    "# 1. Loop statement \n",
    "#    Basic for While-loop and For-loop\n",
    "\"\"\"\n",
    "Loop statements may have an else clause; it is executed\n",
    "when the loop terminates through exhaustion of the list\n",
    "(with for) or when the condition becomes false (with while), \n",
    "but not when the loop is terminated by a break statement.\n",
    "\"\"\"\n",
    "pass"
   ]
  },
  {
   "cell_type": "code",
   "execution_count": null,
   "metadata": {},
   "outputs": [],
   "source": [
    "# 1.1 If statement \n",
    "x = int(input(\"Please enter an integer: \"))\n",
    "if x < 0:\n",
    "    print('Negative changed to zero')\n",
    "elif x == 0:\n",
    "    print('Zero')\n",
    "elif x == 1:\n",
    "    print('Single')\n",
    "else:\n",
    "    print('More')"
   ]
  },
  {
   "cell_type": "code",
   "execution_count": 3,
   "metadata": {},
   "outputs": [
    {
     "name": "stdout",
     "output_type": "stream",
     "text": [
      "0\n",
      "1\n",
      "2\n",
      "3\n",
      "3\n",
      "4\n"
     ]
    }
   ],
   "source": [
    "# 1.2 While statement\n",
    "n = 5\n",
    "i = 0\n",
    "while i < n:\n",
    "    print(i)\n",
    "    if i == 3:\n",
    "        print(i)\n",
    "    i += 1\n"
   ]
  },
  {
   "cell_type": "code",
   "execution_count": 4,
   "metadata": {},
   "outputs": [
    {
     "name": "stdout",
     "output_type": "stream",
     "text": [
      "0\n",
      "1\n",
      "2\n",
      "3\n",
      "3\n",
      "4\n",
      "ok\n"
     ]
    }
   ],
   "source": [
    "# 1.3 While statement + else\n",
    "n = 5\n",
    "i = 0\n",
    "while i < n:\n",
    "    print(i)\n",
    "    if i == 3:\n",
    "        print(i)\n",
    "    i += 1\n",
    "else: # else will be exeucted in end of loop\n",
    "    print(\"ok\")\n"
   ]
  },
  {
   "cell_type": "code",
   "execution_count": 2,
   "metadata": {},
   "outputs": [
    {
     "name": "stdout",
     "output_type": "stream",
     "text": [
      "0\n",
      "1\n",
      "2\n",
      "3\n",
      "3\n"
     ]
    }
   ],
   "source": [
    "# 1.4 While statement + else + break\n",
    "n = 5\n",
    "i = 0\n",
    "while i < n:\n",
    "    print(i)\n",
    "    if i == 3:\n",
    "        print(i)\n",
    "        break # break will cause to exit current loop\n",
    "    i += 1\n",
    "else:\n",
    "    print(\"ok\")\n"
   ]
  },
  {
   "cell_type": "code",
   "execution_count": 5,
   "metadata": {},
   "outputs": [
    {
     "name": "stdout",
     "output_type": "stream",
     "text": [
      "0\n",
      "1\n",
      "2\n",
      "3\n",
      "3\n",
      "4\n",
      "ok\n"
     ]
    }
   ],
   "source": [
    "# 1.5 For Loop statement + else\n",
    "for i in range(5):\n",
    "    print(i)\n",
    "    if i == 3:\n",
    "        print(i)\n",
    "else:\n",
    "    print(\"ok\")\n"
   ]
  },
  {
   "cell_type": "code",
   "execution_count": 3,
   "metadata": {},
   "outputs": [
    {
     "name": "stdout",
     "output_type": "stream",
     "text": [
      "0\n",
      "1\n",
      "2\n",
      "3\n",
      "3\n"
     ]
    }
   ],
   "source": [
    "# 1.6 For Loop statement + else\n",
    "for i in range(5):\n",
    "    print(i)\n",
    "    if i == 3:\n",
    "        print(i)\n",
    "        break\n",
    "else:\n",
    "    print(\"ok\")\n"
   ]
  },
  {
   "cell_type": "code",
   "execution_count": 8,
   "metadata": {},
   "outputs": [
    {
     "name": "stdout",
     "output_type": "stream",
     "text": [
      "cat 3\n",
      "window 6\n",
      "defenstrate 11\n"
     ]
    }
   ],
   "source": [
    "# 1.7 For statement\n",
    "words = ['cat', 'window', 'defenstrate']\n",
    "for w in words:\n",
    "    print(w, len(w))\n"
   ]
  },
  {
   "cell_type": "code",
   "execution_count": 1,
   "metadata": {},
   "outputs": [
    {
     "name": "stdout",
     "output_type": "stream",
     "text": [
      "['defenstrate', 'cat', 'window', 'defenstrate']\n"
     ]
    }
   ],
   "source": [
    "# For statement + If statement\n",
    "words = ['cat', 'window', 'defenstrate']\n",
    "for w in words[:]:\n",
    "    if len(w) > 6:\n",
    "        words.insert(0, w)\n",
    "print(words)"
   ]
  },
  {
   "cell_type": "code",
   "execution_count": null,
   "metadata": {},
   "outputs": [],
   "source": [
    "# 2. 2-Level Loop\n"
   ]
  },
  {
   "cell_type": "code",
   "execution_count": null,
   "metadata": {},
   "outputs": [],
   "source": [
    "# 3. Basic Function\n"
   ]
  },
  {
   "cell_type": "code",
   "execution_count": null,
   "metadata": {},
   "outputs": [],
   "source": [
    "# 4. Recursive Function\n"
   ]
  },
  {
   "cell_type": "code",
   "execution_count": null,
   "metadata": {},
   "outputs": [],
   "source": [
    "# 5. onlien Python coding resource\n",
    "# Open http://www.checkio.org/ <- Just do it \n",
    "# PS: you can online code python on it\n",
    "# I also share some solution in below\n",
    "\n",
    "# https://py.checkio.org/station/home/ <-- Many problem \n",
    "# and you can see solution from another people if you solve.\n"
   ]
  },
  {
   "cell_type": "code",
   "execution_count": 1,
   "metadata": {},
   "outputs": [
    {
     "name": "stdout",
     "output_type": "stream",
     "text": [
      "Example:\n",
      "True\n",
      "Coding complete? Click 'Check' to earn cool rewards!\n"
     ]
    }
   ],
   "source": [
    "# (1) solve the problem of  all-the-same\n",
    "# https://py.checkio.org/mission/all-the-same/solve/\n",
    "from typing import List, Any\n",
    "\n",
    "def all_the_same(elements: List[Any]) -> bool:\n",
    "    # your code here\n",
    "    if len(elements) == 0: \n",
    "        return True\n",
    "    else:\n",
    "        firstEle = elements[0]\n",
    "        for e in elements:\n",
    "            if e != firstEle:\n",
    "                return False\n",
    "        return True\n",
    "    return True\n",
    "\n",
    "print(\"Example:\")\n",
    "print(all_the_same([1, 1, 1]))\n",
    "\n",
    "# These \"asserts\" are used for self-checking and not for an auto-testing\n",
    "assert all_the_same([1, 1, 1]) == True\n",
    "assert all_the_same([1, 2, 1]) == False\n",
    "assert all_the_same(['a', 'a', 'a']) == True\n",
    "assert all_the_same([]) == True\n",
    "assert all_the_same([1]) == True\n",
    "print(\"Coding complete? Click 'Check' to earn cool rewards!\")"
   ]
  },
  {
   "cell_type": "code",
   "execution_count": 2,
   "metadata": {},
   "outputs": [
    {
     "name": "stdout",
     "output_type": "stream",
     "text": [
      "Coding complete? Click 'Check' to review your tests and earn cool rewards!\n"
     ]
    }
   ],
   "source": [
    "# https://py.checkio.org/mission/house-password/solve/\n",
    "import re\n",
    "def checkio(data: str) -> bool:\n",
    "    #replace this for solution\n",
    "    if None == re.match(\"[0-9a-zA-Z]{10,}\", data):\n",
    "        return False\n",
    "    if not re.compile('[a-z]').search(data):\n",
    "        return False\n",
    "    if not re.compile('[A-Z]').search(data):\n",
    "        return False\n",
    "    if not re.compile('[0-9]').search(data):\n",
    "        return False\n",
    "    return True\n",
    "\n",
    "#Some hints\n",
    "#Just check all conditions\n",
    "\n",
    "\n",
    "if __name__ == '__main__':\n",
    "    #These \"asserts\" using only for self-checking and not necessary for auto-testing\n",
    "    assert checkio('A1213pokl') == False, \"1st example\"\n",
    "    assert checkio('bAse730onE4') == True, \"2nd example\"\n",
    "    assert checkio('asasasasasasasaas') == False, \"3rd example\"\n",
    "    assert checkio('QWERTYqwerty') == False, \"4th example\"\n",
    "    assert checkio('123456123456') == False, \"5th example\"\n",
    "    assert checkio('QwErTy911poqqqq') == True, \"6th example\"\n",
    "    print(\"Coding complete? Click 'Check' to review your tests and earn cool rewards!\")\n"
   ]
  },
  {
   "cell_type": "code",
   "execution_count": null,
   "metadata": {},
   "outputs": [],
   "source": [
    "# 6. Homework and hint"
   ]
  }
 ],
 "metadata": {
  "kernelspec": {
   "display_name": "Python 3",
   "language": "python",
   "name": "python3"
  },
  "language_info": {
   "codemirror_mode": {
    "name": "ipython",
    "version": 3
   },
   "file_extension": ".py",
   "mimetype": "text/x-python",
   "name": "python",
   "nbconvert_exporter": "python",
   "pygments_lexer": "ipython3",
   "version": "3.6.4"
  }
 },
 "nbformat": 4,
 "nbformat_minor": 2
}
