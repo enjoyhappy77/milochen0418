{
 "cells": [
  {
   "cell_type": "code",
   "execution_count": 1,
   "metadata": {},
   "outputs": [],
   "source": [
    "# Coding Newbie Class2 Loop And Function\n",
    "# 1. Basic for While-loop and For-loop \n",
    "# 2. 2-Level Loop\n",
    "# 3. Basic Function\n",
    "# 4. Recursive Function\n",
    "# 5. online Python coding resource\n",
    "# 6. Homework and Hint"
   ]
  },
  {
   "cell_type": "code",
   "execution_count": 2,
   "metadata": {},
   "outputs": [],
   "source": [
    "# 1. Loop statement \n",
    "#    Basic for While-loop and For-loop\n",
    "\"\"\"\n",
    "Loop statements may have an else clause; it is executed\n",
    "when the loop terminates through exhaustion of the list\n",
    "(with for) or when the condition becomes false (with while), \n",
    "but not when the loop is terminated by a break statement.\n",
    "\"\"\"\n",
    "pass"
   ]
  },
  {
   "cell_type": "code",
   "execution_count": 3,
   "metadata": {},
   "outputs": [
    {
     "name": "stdout",
     "output_type": "stream",
     "text": [
      "Please enter an integer: 3\n",
      "More\n"
     ]
    }
   ],
   "source": [
    "# 1.1 If statement \n",
    "x = int(input(\"Please enter an integer: \"))\n",
    "if x < 0:\n",
    "    print('Negative changed to zero')\n",
    "elif x == 0:\n",
    "    print('Zero')\n",
    "elif x == 1:\n",
    "    print('Single')\n",
    "else:\n",
    "    print('More')"
   ]
  },
  {
   "cell_type": "code",
   "execution_count": 4,
   "metadata": {},
   "outputs": [
    {
     "name": "stdout",
     "output_type": "stream",
     "text": [
      "0\n",
      "1\n",
      "2\n",
      "3\n",
      "3\n",
      "4\n"
     ]
    }
   ],
   "source": [
    "# 1.2 While statement\n",
    "n = 5\n",
    "i = 0\n",
    "while i < n:\n",
    "    print(i)\n",
    "    if i == 3:\n",
    "        print(i)\n",
    "    i += 1\n"
   ]
  },
  {
   "cell_type": "code",
   "execution_count": 5,
   "metadata": {},
   "outputs": [
    {
     "name": "stdout",
     "output_type": "stream",
     "text": [
      "0\n",
      "1\n",
      "2\n",
      "3\n",
      "3\n",
      "4\n",
      "ok\n"
     ]
    }
   ],
   "source": [
    "# 1.3 While statement + else\n",
    "n = 5\n",
    "i = 0\n",
    "while i < n:\n",
    "    print(i)\n",
    "    if i == 3:\n",
    "        print(i)\n",
    "    i += 1\n",
    "else: # else will be exeucted in end of loop\n",
    "    print(\"ok\")\n"
   ]
  },
  {
   "cell_type": "code",
   "execution_count": 6,
   "metadata": {},
   "outputs": [
    {
     "name": "stdout",
     "output_type": "stream",
     "text": [
      "0\n",
      "1\n",
      "2\n",
      "3\n",
      "3\n"
     ]
    }
   ],
   "source": [
    "# 1.4 While statement + else + \"break\"\n",
    "n = 5\n",
    "i = 0\n",
    "while i < n:\n",
    "    print(i)\n",
    "    if i == 3:\n",
    "        print(i)\n",
    "        break # break will cause to exit current loop\n",
    "    i += 1\n",
    "else:\n",
    "    print(\"ok\")\n"
   ]
  },
  {
   "cell_type": "code",
   "execution_count": 7,
   "metadata": {},
   "outputs": [
    {
     "name": "stdout",
     "output_type": "stream",
     "text": [
      "0\n",
      "1\n",
      "2\n",
      "3\n",
      "3\n",
      "4\n",
      "ok\n"
     ]
    }
   ],
   "source": [
    "# 1.5 For Loop statement + else\n",
    "for i in range(5):\n",
    "    print(i)\n",
    "    if i == 3:\n",
    "        print(i)\n",
    "else:\n",
    "    print(\"ok\")\n"
   ]
  },
  {
   "cell_type": "code",
   "execution_count": 8,
   "metadata": {},
   "outputs": [
    {
     "name": "stdout",
     "output_type": "stream",
     "text": [
      "0\n",
      "1\n",
      "2\n",
      "3\n",
      "3\n"
     ]
    }
   ],
   "source": [
    "# 1.6 For Loop statement + else\n",
    "for i in range(5):\n",
    "    print(i)\n",
    "    if i == 3:\n",
    "        print(i)\n",
    "        break\n",
    "else:\n",
    "    print(\"ok\")\n"
   ]
  },
  {
   "cell_type": "code",
   "execution_count": 9,
   "metadata": {},
   "outputs": [
    {
     "name": "stdout",
     "output_type": "stream",
     "text": [
      "cat 3\n",
      "window 6\n",
      "defenstrate 11\n"
     ]
    }
   ],
   "source": [
    "# 1.7 For statement\n",
    "words = ['cat', 'window', 'defenstrate']\n",
    "for w in words:\n",
    "    print(w, len(w))\n"
   ]
  },
  {
   "cell_type": "code",
   "execution_count": 10,
   "metadata": {},
   "outputs": [
    {
     "name": "stdout",
     "output_type": "stream",
     "text": [
      "['defenstrate', 'cat', 'window', 'defenstrate']\n"
     ]
    }
   ],
   "source": [
    "# 1.8 For statement + If statement\n",
    "words = ['cat', 'window', 'defenstrate']\n",
    "for w in words[:]:\n",
    "    if len(w) > 6:\n",
    "        words.insert(0, w)\n",
    "print(words)"
   ]
  },
  {
   "cell_type": "code",
   "execution_count": 11,
   "metadata": {},
   "outputs": [],
   "source": [
    "# 2. 2-Level Loop\n"
   ]
  },
  {
   "cell_type": "code",
   "execution_count": 12,
   "metadata": {},
   "outputs": [
    {
     "name": "stdout",
     "output_type": "stream",
     "text": [
      "*******\n",
      "*******\n",
      "*******\n",
      "*******\n",
      "*******\n",
      "*******\n",
      "*******\n"
     ]
    }
   ],
   "source": [
    "# 2.1 print Square by star\n",
    "n = 7\n",
    "for i in range(n):\n",
    "    for j in range(n):\n",
    "        print('*', end='')\n",
    "    print('')\n"
   ]
  },
  {
   "cell_type": "code",
   "execution_count": 13,
   "metadata": {},
   "outputs": [
    {
     "name": "stdout",
     "output_type": "stream",
     "text": [
      "*      \n",
      " *     \n",
      "  *    \n",
      "   *   \n",
      "    *  \n",
      "     * \n",
      "      *\n"
     ]
    }
   ],
   "source": [
    "# 2.2 print LINE by star\n",
    "n = 7\n",
    "for i in range(n):\n",
    "    for j in range(n):\n",
    "        if i == j :\n",
    "            print('*', end='')\n",
    "        else:\n",
    "            print(' ', end='')\n",
    "    print('')\n"
   ]
  },
  {
   "cell_type": "code",
   "execution_count": 14,
   "metadata": {},
   "outputs": [
    {
     "name": "stdout",
     "output_type": "stream",
     "text": [
      "      *\n",
      "     * \n",
      "    *  \n",
      "   *   \n",
      "  *    \n",
      " *     \n",
      "*      \n"
     ]
    }
   ],
   "source": [
    "n = 7\n",
    "for i in range(n):\n",
    "    for j in range(n):\n",
    "        if i == n-j-1 :\n",
    "            print('*', end='')\n",
    "        else:\n",
    "            print(' ', end='')\n",
    "    print('')\n"
   ]
  },
  {
   "cell_type": "code",
   "execution_count": 15,
   "metadata": {},
   "outputs": [
    {
     "name": "stdout",
     "output_type": "stream",
     "text": [
      "*     *\n",
      " *   * \n",
      "  * *  \n",
      "   *   \n",
      "  * *  \n",
      " *   * \n",
      "*     *\n"
     ]
    }
   ],
   "source": [
    "n = 7\n",
    "for i in range(n):\n",
    "    for j in range(n):\n",
    "        if i == n-j-1 or  i == j :\n",
    "            print('*', end='')\n",
    "        else:\n",
    "            print(' ', end='')\n",
    "    print('')\n"
   ]
  },
  {
   "cell_type": "code",
   "execution_count": null,
   "metadata": {},
   "outputs": [],
   "source": []
  },
  {
   "cell_type": "code",
   "execution_count": 16,
   "metadata": {},
   "outputs": [
    {
     "name": "stdout",
     "output_type": "stream",
     "text": [
      "*      \n",
      "**     \n",
      "***    \n",
      "****   \n",
      "*****  \n",
      "****** \n",
      "*******\n"
     ]
    }
   ],
   "source": [
    "# 2.3 print right triangle case  by star\n",
    "n = 7\n",
    "for i in range(n):\n",
    "    for j in range(n):\n",
    "        if i >= j :\n",
    "            print('*', end='')\n",
    "        else:\n",
    "            print(' ', end='')\n",
    "    print('')\n"
   ]
  },
  {
   "cell_type": "code",
   "execution_count": 17,
   "metadata": {},
   "outputs": [
    {
     "name": "stdout",
     "output_type": "stream",
     "text": [
      "*******\n",
      " ******\n",
      "  *****\n",
      "   ****\n",
      "    ***\n",
      "     **\n",
      "      *\n"
     ]
    }
   ],
   "source": [
    "# 2.4 print right triangle case  by star\n",
    "n = 7\n",
    "for i in range(n):\n",
    "    for j in range(n):\n",
    "        if i <= j :\n",
    "            print('*', end='')\n",
    "        else:\n",
    "            print(' ', end='')\n",
    "    print('')\n"
   ]
  },
  {
   "cell_type": "code",
   "execution_count": 18,
   "metadata": {},
   "outputs": [
    {
     "name": "stdout",
     "output_type": "stream",
     "text": [
      "*******\n",
      "****** \n",
      "*****  \n",
      "****   \n",
      "***    \n",
      "**     \n",
      "*      \n"
     ]
    }
   ],
   "source": [
    "# 2.5 print right triangle case  by star\n",
    "n = 7\n",
    "for i in range(n):\n",
    "    for j in range(n):\n",
    "        if i < n-j :\n",
    "            print('*', end='')\n",
    "        else:\n",
    "            print(' ', end='')\n",
    "    print('')\n"
   ]
  },
  {
   "cell_type": "code",
   "execution_count": 19,
   "metadata": {},
   "outputs": [
    {
     "name": "stdout",
     "output_type": "stream",
     "text": [
      "       \n",
      "      *\n",
      "     **\n",
      "    ***\n",
      "   ****\n",
      "  *****\n",
      " ******\n"
     ]
    }
   ],
   "source": [
    "# 2.6 print right triangle case 2 by star\n",
    "n = 7\n",
    "for i in range(n):\n",
    "    for j in range(n):\n",
    "        if i >= n-j :\n",
    "            print('*', end='')\n",
    "        else:\n",
    "            print(' ', end='')\n",
    "    print('')\n"
   ]
  },
  {
   "cell_type": "code",
   "execution_count": null,
   "metadata": {},
   "outputs": [],
   "source": []
  },
  {
   "cell_type": "code",
   "execution_count": 20,
   "metadata": {},
   "outputs": [
    {
     "name": "stdout",
     "output_type": "stream",
     "text": [
      "1  *  1  =  1\n",
      "1  *  2  =  2\n",
      "1  *  3  =  3\n",
      "1  *  4  =  4\n",
      "1  *  5  =  5\n",
      "1  *  6  =  6\n",
      "1  *  7  =  7\n",
      "1  *  8  =  8\n",
      "1  *  9  =  9\n",
      "\n",
      "2  *  1  =  2\n",
      "2  *  2  =  4\n",
      "2  *  3  =  6\n",
      "2  *  4  =  8\n",
      "2  *  5  =  10\n",
      "2  *  6  =  12\n",
      "2  *  7  =  14\n",
      "2  *  8  =  16\n",
      "2  *  9  =  18\n",
      "\n",
      "3  *  1  =  3\n",
      "3  *  2  =  6\n",
      "3  *  3  =  9\n",
      "3  *  4  =  12\n",
      "3  *  5  =  15\n",
      "3  *  6  =  18\n",
      "3  *  7  =  21\n",
      "3  *  8  =  24\n",
      "3  *  9  =  27\n",
      "\n",
      "4  *  1  =  4\n",
      "4  *  2  =  8\n",
      "4  *  3  =  12\n",
      "4  *  4  =  16\n",
      "4  *  5  =  20\n",
      "4  *  6  =  24\n",
      "4  *  7  =  28\n",
      "4  *  8  =  32\n",
      "4  *  9  =  36\n",
      "\n",
      "5  *  1  =  5\n",
      "5  *  2  =  10\n",
      "5  *  3  =  15\n",
      "5  *  4  =  20\n",
      "5  *  5  =  25\n",
      "5  *  6  =  30\n",
      "5  *  7  =  35\n",
      "5  *  8  =  40\n",
      "5  *  9  =  45\n",
      "\n",
      "6  *  1  =  6\n",
      "6  *  2  =  12\n",
      "6  *  3  =  18\n",
      "6  *  4  =  24\n",
      "6  *  5  =  30\n",
      "6  *  6  =  36\n",
      "6  *  7  =  42\n",
      "6  *  8  =  48\n",
      "6  *  9  =  54\n",
      "\n",
      "7  *  1  =  7\n",
      "7  *  2  =  14\n",
      "7  *  3  =  21\n",
      "7  *  4  =  28\n",
      "7  *  5  =  35\n",
      "7  *  6  =  42\n",
      "7  *  7  =  49\n",
      "7  *  8  =  56\n",
      "7  *  9  =  63\n",
      "\n",
      "8  *  1  =  8\n",
      "8  *  2  =  16\n",
      "8  *  3  =  24\n",
      "8  *  4  =  32\n",
      "8  *  5  =  40\n",
      "8  *  6  =  48\n",
      "8  *  7  =  56\n",
      "8  *  8  =  64\n",
      "8  *  9  =  72\n",
      "\n",
      "9  *  1  =  9\n",
      "9  *  2  =  18\n",
      "9  *  3  =  27\n",
      "9  *  4  =  36\n",
      "9  *  5  =  45\n",
      "9  *  6  =  54\n",
      "9  *  7  =  63\n",
      "9  *  8  =  72\n",
      "9  *  9  =  81\n",
      "\n"
     ]
    }
   ],
   "source": [
    "# 2.3 Nine-nine muplication table\n",
    "for L in range(1,10):\n",
    "    for R in range(1,10):\n",
    "        print(L , \" * \", R, \" = \", L * R)\n",
    "    print('')"
   ]
  },
  {
   "cell_type": "code",
   "execution_count": 21,
   "metadata": {},
   "outputs": [],
   "source": [
    "# 3. Basic Function"
   ]
  },
  {
   "cell_type": "code",
   "execution_count": 22,
   "metadata": {},
   "outputs": [
    {
     "name": "stdout",
     "output_type": "stream",
     "text": [
      "0 1 1 2 3 5 8 13 21 34 55 89 144 233 377 610 987 1597 \n"
     ]
    }
   ],
   "source": [
    "# 3.1 \n",
    "# Functions return a value based on the given arguments\n",
    "\n",
    "def fib(n): # write Fibonacci series up to n\n",
    "    \"\"\"print a Fibonacci series up to n \"\"\"\n",
    "    a, b = 0, 1\n",
    "    while a < n:\n",
    "        print(a, end=' ')\n",
    "        a, b = b, a+b\n",
    "    print()\n",
    "# Now call the function we just defined\n",
    "fib(2000)"
   ]
  },
  {
   "cell_type": "code",
   "execution_count": 23,
   "metadata": {},
   "outputs": [
    {
     "name": "stdout",
     "output_type": "stream",
     "text": [
      "\n",
      "None\n"
     ]
    }
   ],
   "source": [
    "# Return\n",
    "# The return statement returns with a value from a function. \n",
    "# return without an expression argument returns None.\n",
    "\n",
    "print(fib(0))\n"
   ]
  },
  {
   "cell_type": "code",
   "execution_count": 24,
   "metadata": {},
   "outputs": [
    {
     "name": "stdout",
     "output_type": "stream",
     "text": [
      "[0, 1, 1, 2, 3, 5, 8, 13, 21, 34, 55, 89]\n"
     ]
    }
   ],
   "source": [
    "def fib2(n):\n",
    "    # Return a list containing the Fibonacci series up to n.\n",
    "    result = []\n",
    "    a, b = 0, 1\n",
    "    while a < n:\n",
    "        result.append(a)\n",
    "        a, b = b, a+b\n",
    "    return result\n",
    "f100 = fib2(100)\n",
    "print(f100)"
   ]
  },
  {
   "cell_type": "code",
   "execution_count": 25,
   "metadata": {},
   "outputs": [
    {
     "name": "stdout",
     "output_type": "stream",
     "text": [
      "<function fib2 at 0x105f43400>\n",
      "<function fib2 at 0x105f43400>\n",
      "[0, 1, 1, 2, 3, 5, 8, 13, 21, 34, 55, 89]\n"
     ]
    }
   ],
   "source": [
    "# 3.2 Function Object\n",
    "# . Similar to the \"function pointer\" in C\n",
    "# . Functions are objects. This means that functions can be passed around\n",
    "print(fib2)\n",
    "f = fib2\n",
    "print(f)\n",
    "print(f(100))"
   ]
  },
  {
   "cell_type": "code",
   "execution_count": 26,
   "metadata": {},
   "outputs": [
    {
     "name": "stdout",
     "output_type": "stream",
     "text": [
      "0 1 1 2 3 5 8 13 21 34 \n"
     ]
    }
   ],
   "source": [
    "# 4. Recursive Function\n",
    "def fibo(n):\n",
    "    if n == 0:\n",
    "        return 0;\n",
    "    elif n == 1:\n",
    "        return 1;\n",
    "    return fibo(n-1) + fibo(n-2)\n",
    "\n",
    "for i in range(10):\n",
    "    print(fibo(i),end=' ')\n",
    "print('')\n",
    "\n",
    "\n",
    "# refer \n",
    "# https://medium.com/appworks-school/%E5%88%9D%E5%AD%B8%E8%80%85%E5%AD%B8%E6%BC%94%E7%AE%97%E6%B3%95-%E5%BE%9E%E8%B2%BB%E6%B0%8F%E6%95%B8%E5%88%97%E8%AA%8D%E8%AD%98%E4%BD%95%E8%AC%82%E9%81%9E%E8%BF%B4-dea15d2808a3"
   ]
  },
  {
   "cell_type": "code",
   "execution_count": 27,
   "metadata": {},
   "outputs": [],
   "source": [
    "# 5. onlien Python coding resource\n",
    "# Open http://www.checkio.org/ <- Just do it \n",
    "# PS: you can online code python on it\n",
    "# I also share some solution in below\n",
    "\n",
    "# https://py.checkio.org/station/home/ <-- Many problem \n",
    "# and you can see solution from another people if you solve.\n"
   ]
  },
  {
   "cell_type": "code",
   "execution_count": 28,
   "metadata": {},
   "outputs": [
    {
     "name": "stdout",
     "output_type": "stream",
     "text": [
      "Example:\n",
      "True\n",
      "Coding complete? Click 'Check' to earn cool rewards!\n"
     ]
    }
   ],
   "source": [
    "# (1) solve the problem of  all-the-same\n",
    "# https://py.checkio.org/mission/all-the-same/solve/\n",
    "from typing import List, Any\n",
    "\n",
    "def all_the_same(elements: List[Any]) -> bool:\n",
    "    # your code here\n",
    "    if len(elements) == 0: \n",
    "        return True\n",
    "    else:\n",
    "        firstEle = elements[0]\n",
    "        for e in elements:\n",
    "            if e != firstEle:\n",
    "                return False\n",
    "        return True\n",
    "    return True\n",
    "\n",
    "print(\"Example:\")\n",
    "print(all_the_same([1, 1, 1]))\n",
    "\n",
    "# These \"asserts\" are used for self-checking and not for an auto-testing\n",
    "assert all_the_same([1, 1, 1]) == True\n",
    "assert all_the_same([1, 2, 1]) == False\n",
    "assert all_the_same(['a', 'a', 'a']) == True\n",
    "assert all_the_same([]) == True\n",
    "assert all_the_same([1]) == True\n",
    "print(\"Coding complete? Click 'Check' to earn cool rewards!\")"
   ]
  },
  {
   "cell_type": "code",
   "execution_count": 29,
   "metadata": {},
   "outputs": [
    {
     "name": "stdout",
     "output_type": "stream",
     "text": [
      "Coding complete? Click 'Check' to review your tests and earn cool rewards!\n"
     ]
    }
   ],
   "source": [
    "# https://py.checkio.org/mission/house-password/solve/\n",
    "import re\n",
    "def checkio(data: str) -> bool:\n",
    "    #replace this for solution\n",
    "    if None == re.match(\"[0-9a-zA-Z]{10,}\", data):\n",
    "        return False\n",
    "    if not re.compile('[a-z]').search(data):\n",
    "        return False\n",
    "    if not re.compile('[A-Z]').search(data):\n",
    "        return False\n",
    "    if not re.compile('[0-9]').search(data):\n",
    "        return False\n",
    "    return True\n",
    "\n",
    "#Some hints\n",
    "#Just check all conditions\n",
    "\n",
    "\n",
    "if __name__ == '__main__':\n",
    "    #These \"asserts\" using only for self-checking and not necessary for auto-testing\n",
    "    assert checkio('A1213pokl') == False, \"1st example\"\n",
    "    assert checkio('bAse730onE4') == True, \"2nd example\"\n",
    "    assert checkio('asasasasasasasaas') == False, \"3rd example\"\n",
    "    assert checkio('QWERTYqwerty') == False, \"4th example\"\n",
    "    assert checkio('123456123456') == False, \"5th example\"\n",
    "    assert checkio('QwErTy911poqqqq') == True, \"6th example\"\n",
    "    print(\"Coding complete? Click 'Check' to review your tests and earn cool rewards!\")\n"
   ]
  },
  {
   "cell_type": "code",
   "execution_count": 30,
   "metadata": {},
   "outputs": [],
   "source": [
    "# 6. Homework and hint"
   ]
  },
  {
   "cell_type": "code",
   "execution_count": 31,
   "metadata": {},
   "outputs": [],
   "source": [
    "# 6.1 Basic HomeWork\n"
   ]
  },
  {
   "cell_type": "code",
   "execution_count": 57,
   "metadata": {},
   "outputs": [
    {
     "name": "stdout",
     "output_type": "stream",
     "text": [
      "Please enter an integer: 4\n",
      "****\n",
      "****\n",
      "****\n",
      "****\n"
     ]
    }
   ],
   "source": [
    "# 6.1.1 print hollow square \n",
    "n = int(input(\"Please enter an integer: \"))\n",
    "for i in range(n):\n",
    "    for j in range(n):\n",
    "        if i == i :   # Fix this If-statement, so that you can see the expected result  \n",
    "            print('*',end='')\n",
    "        else:\n",
    "            print(' ',end='')\n",
    "    print('')\n",
    "    \n",
    "# Expect result need to  like this     \n",
    "\"\"\"\n",
    "Please enter an integer: 5\n",
    "*****\n",
    "*   *\n",
    "*   *\n",
    "*   *\n",
    "*****\n",
    "\n",
    "Please enter an integer: 7\n",
    "*******\n",
    "*     *\n",
    "*     *\n",
    "*     *\n",
    "*     *\n",
    "*     *\n",
    "*******\n",
    "\n",
    "\"\"\"\n",
    "pass"
   ]
  },
  {
   "cell_type": "code",
   "execution_count": null,
   "metadata": {},
   "outputs": [],
   "source": [
    "# 6.1.2 9x9 multiplication table\n",
    "\n",
    "\n",
    "# Please write code here by 3-Level loop\n",
    "\n",
    "\n",
    "# Expectd result should like following\n",
    "# PS:'\\t' is the same thing that like 'tab' key of keyboard\n",
    "\"\"\"\n",
    "1 * 1 = 1\t2 * 1 = 2\t3 * 1 = 3\t\n",
    "1 * 2 = 2\t2 * 2 = 4\t3 * 2 = 6\t\n",
    "1 * 3 = 3\t2 * 3 = 6\t3 * 3 = 9\t\n",
    "1 * 4 = 4\t2 * 4 = 8\t3 * 4 = 12\t\n",
    "1 * 5 = 5\t2 * 5 = 10\t3 * 5 = 15\t\n",
    "1 * 6 = 6\t2 * 6 = 12\t3 * 6 = 18\t\n",
    "1 * 7 = 7\t2 * 7 = 14\t3 * 7 = 21\t\n",
    "1 * 8 = 8\t2 * 8 = 16\t3 * 8 = 24\t\n",
    "1 * 9 = 9\t2 * 9 = 18\t3 * 9 = 27\t\n",
    "\n",
    "4 * 1 = 4\t5 * 1 = 5\t6 * 1 = 6\t\n",
    "4 * 2 = 8\t5 * 2 = 10\t6 * 2 = 12\t\n",
    "4 * 3 = 12\t5 * 3 = 15\t6 * 3 = 18\t\n",
    "4 * 4 = 16\t5 * 4 = 20\t6 * 4 = 24\t\n",
    "4 * 5 = 20\t5 * 5 = 25\t6 * 5 = 30\t\n",
    "4 * 6 = 24\t5 * 6 = 30\t6 * 6 = 36\t\n",
    "4 * 7 = 28\t5 * 7 = 35\t6 * 7 = 42\t\n",
    "4 * 8 = 32\t5 * 8 = 40\t6 * 8 = 48\t\n",
    "4 * 9 = 36\t5 * 9 = 45\t6 * 9 = 54\t\n",
    "\n",
    "7 * 1 = 7\t8 * 1 = 8\t9 * 1 = 9\t\n",
    "7 * 2 = 14\t8 * 2 = 16\t9 * 2 = 18\t\n",
    "7 * 3 = 21\t8 * 3 = 24\t9 * 3 = 27\t\n",
    "7 * 4 = 28\t8 * 4 = 32\t9 * 4 = 36\t\n",
    "7 * 5 = 35\t8 * 5 = 40\t9 * 5 = 45\t\n",
    "7 * 6 = 42\t8 * 6 = 48\t9 * 6 = 54\t\n",
    "7 * 7 = 49\t8 * 7 = 56\t9 * 7 = 63\t\n",
    "7 * 8 = 56\t8 * 8 = 64\t9 * 8 = 72\t\n",
    "7 * 9 = 63\t8 * 9 = 72\t9 * 9 = 81\n",
    "\n",
    "\"\"\"\n",
    "pass"
   ]
  },
  {
   "cell_type": "code",
   "execution_count": null,
   "metadata": {},
   "outputs": [],
   "source": [
    "# HomeWork 6.1.3 \n",
    "\n",
    "# Implement factorial n! by loop\n",
    "# n! = 1 * 2 * 3 * 4 * ... * n\n",
    "# example,  4! = 1 * 2 * 3 * 4\n",
    "# example,  5! = 1 * 2 * 3 * 4 * 5\n",
    "# Please complete the following function\n",
    "n = int(input(\"Please enter an integer: \"))\n",
    "def factorial_loop(n):\n",
    "    ret = 1\n",
    "    # Write code here to finish your task. by for-loop or by while-loop\n",
    "                \n",
    "    return ret\n",
    "\n",
    "print( factorial_loop(n))\n",
    "# factorial(n!)\n",
    "\n",
    "\n",
    "# The Expect result like following\n",
    "\"\"\"\n",
    "Please enter an integer: 4\n",
    "24\n",
    "\n",
    "Please enter an integer: 3\n",
    "6\n",
    "\n",
    "\"\"\"\n",
    "pass\n"
   ]
  },
  {
   "cell_type": "code",
   "execution_count": null,
   "metadata": {},
   "outputs": [],
   "source": []
  },
  {
   "cell_type": "code",
   "execution_count": null,
   "metadata": {},
   "outputs": [],
   "source": [
    "# 6.2 Advanced HomeWork\n"
   ]
  },
  {
   "cell_type": "code",
   "execution_count": null,
   "metadata": {},
   "outputs": [],
   "source": [
    "# 6.2.1 Print a diamond by star with side-length =n \n",
    "n = int(input(\"Please enter an integer: \"))\n",
    "\n",
    "# Write code here\n",
    "# Please use 2-Level loop to finish the task\n",
    "\n",
    "\n",
    "\n",
    "\n",
    "# Expected Result need to like this\n",
    "\"\"\"\n",
    "Please enter an integer: 3\n",
    "       \n",
    "   *   \n",
    "  ***  \n",
    " ***** \n",
    "  ***  \n",
    "   *   \n",
    "   \n",
    "Please enter an integer: 5\n",
    "           \n",
    "     *     \n",
    "    ***    \n",
    "   *****   \n",
    "  *******  \n",
    " ********* \n",
    "  *******  \n",
    "   *****   \n",
    "    ***    \n",
    "     *     \n",
    "\"\"\"\n",
    "pass\n",
    "\n"
   ]
  },
  {
   "cell_type": "code",
   "execution_count": null,
   "metadata": {},
   "outputs": [],
   "source": [
    "# 6.2.2 Print 9x9 multiplication table in more cool way \n",
    "\n",
    "# Please write a 3-Level loop to finish this task\n",
    "\n",
    "\n",
    "# The Expected Result should like following\n",
    "\"\"\"\n",
    "1 * 1 = 1\t4 * 1 = 4\t7 * 1 = 7\t\n",
    "1 * 2 = 2\t4 * 2 = 8\t7 * 2 = 14\t\n",
    "1 * 3 = 3\t4 * 3 = 12\t7 * 3 = 21\t\n",
    "1 * 4 = 4\t4 * 4 = 16\t7 * 4 = 28\t\n",
    "1 * 5 = 5\t4 * 5 = 20\t7 * 5 = 35\t\n",
    "1 * 6 = 6\t4 * 6 = 24\t7 * 6 = 42\t\n",
    "1 * 7 = 7\t4 * 7 = 28\t7 * 7 = 49\t\n",
    "1 * 8 = 8\t4 * 8 = 32\t7 * 8 = 56\t\n",
    "1 * 9 = 9\t4 * 9 = 36\t7 * 9 = 63\t\n",
    "\n",
    "2 * 1 = 2\t5 * 1 = 5\t8 * 1 = 8\t\n",
    "2 * 2 = 4\t5 * 2 = 10\t8 * 2 = 16\t\n",
    "2 * 3 = 6\t5 * 3 = 15\t8 * 3 = 24\t\n",
    "2 * 4 = 8\t5 * 4 = 20\t8 * 4 = 32\t\n",
    "2 * 5 = 10\t5 * 5 = 25\t8 * 5 = 40\t\n",
    "2 * 6 = 12\t5 * 6 = 30\t8 * 6 = 48\t\n",
    "2 * 7 = 14\t5 * 7 = 35\t8 * 7 = 56\t\n",
    "2 * 8 = 16\t5 * 8 = 40\t8 * 8 = 64\t\n",
    "2 * 9 = 18\t5 * 9 = 45\t8 * 9 = 72\t\n",
    "\n",
    "3 * 1 = 3\t6 * 1 = 6\t9 * 1 = 9\t\n",
    "3 * 2 = 6\t6 * 2 = 12\t9 * 2 = 18\t\n",
    "3 * 3 = 9\t6 * 3 = 18\t9 * 3 = 27\t\n",
    "3 * 4 = 12\t6 * 4 = 24\t9 * 4 = 36\t\n",
    "3 * 5 = 15\t6 * 5 = 30\t9 * 5 = 45\t\n",
    "3 * 6 = 18\t6 * 6 = 36\t9 * 6 = 54\t\n",
    "3 * 7 = 21\t6 * 7 = 42\t9 * 7 = 63\t\n",
    "3 * 8 = 24\t6 * 8 = 48\t9 * 8 = 72\t\n",
    "3 * 9 = 27\t6 * 9 = 54\t9 * 9 = 81\t\n",
    "\"\"\"\n",
    "pass\n"
   ]
  },
  {
   "cell_type": "code",
   "execution_count": null,
   "metadata": {},
   "outputs": [],
   "source": [
    "# 6.2.3\n",
    "# Implement factorial n! by recursive function \n",
    "n = int(input(\"Please enter an integer: \"))\n",
    "def factorial(n):\n",
    "    # Write code here\n",
    "    \n",
    "    pass\n",
    "print( factorial(n))\n",
    "\n",
    "# Expected Result\n",
    "\"\"\"\n",
    "Please enter an integer: 5\n",
    "120\n",
    "\n",
    "Please enter an integer: 3\n",
    "6\n",
    "\"\"\"\n",
    "\n",
    "\n",
    "pass"
   ]
  },
  {
   "cell_type": "code",
   "execution_count": null,
   "metadata": {},
   "outputs": [],
   "source": [
    "# Nice Case from Student's Homework\n"
   ]
  },
  {
   "cell_type": "code",
   "execution_count": 58,
   "metadata": {},
   "outputs": [
    {
     "name": "stdout",
     "output_type": "stream",
     "text": [
      "Please enter an integer: 3\n",
      "1\n",
      "1\n",
      "2\n"
     ]
    }
   ],
   "source": [
    "n = int(input(\"Please enter an integer: \"))\n",
    "i=0\n",
    "j=1\n",
    "for k in range(2,n+2):\n",
    "    k=i+j\n",
    "    i=j\n",
    "    j=k\n",
    "    print(i)"
   ]
  },
  {
   "cell_type": "code",
   "execution_count": 59,
   "metadata": {},
   "outputs": [
    {
     "name": "stdout",
     "output_type": "stream",
     "text": [
      "Please enter an integer: 3\n",
      "***\n",
      "**\n",
      "*\n",
      "\n"
     ]
    }
   ],
   "source": [
    "n = int(input(\"Please enter an integer: \"))\n",
    "for i in  reversed(range(n+1)):\n",
    "    for j in range(i):\n",
    "        print(\"*\",end=\"\")\n",
    "    print(\"\")"
   ]
  },
  {
   "cell_type": "code",
   "execution_count": 61,
   "metadata": {},
   "outputs": [
    {
     "name": "stdout",
     "output_type": "stream",
     "text": [
      "***\n",
      "**\n",
      "*\n"
     ]
    }
   ],
   "source": [
    "n = int(input(\"Please enter an integer: \"))\n",
    "for i in range(n,0,-1):\n",
    "    for j in range(i):\n",
    "        print('*', end='')  \n",
    "    print('') "
   ]
  },
  {
   "cell_type": "code",
   "execution_count": 62,
   "metadata": {},
   "outputs": [
    {
     "name": "stdout",
     "output_type": "stream",
     "text": [
      "Please enter an integer: 3\n",
      "***\n",
      "**\n",
      "*\n"
     ]
    }
   ],
   "source": [
    "n = int(input(\"Please enter an integer: \"))\n",
    "\n",
    "for i in range(n):\n",
    "    for j in range(n-i):\n",
    "        print('*',end='')\n",
    "    print('')"
   ]
  },
  {
   "cell_type": "code",
   "execution_count": 65,
   "metadata": {},
   "outputs": [
    {
     "name": "stdout",
     "output_type": "stream",
     "text": [
      "Please enter an integer: 4\n",
      "****\n",
      "***\n",
      "**\n",
      "*\n"
     ]
    }
   ],
   "source": [
    "n = int(input(\"Please enter an integer: \"))\n",
    "\n",
    "for i in range(n+1,1,-1):\n",
    "    for j in range(i,1,-1):\n",
    "        print('*', end='')  \n",
    "    print('') "
   ]
  },
  {
   "cell_type": "code",
   "execution_count": 69,
   "metadata": {},
   "outputs": [
    {
     "name": "stdout",
     "output_type": "stream",
     "text": [
      "* * * * \n",
      "* * * \n",
      "* * \n",
      "* \n"
     ]
    }
   ],
   "source": [
    "for i in range (n):\n",
    "    for j in range (n - i):\n",
    "        print('*',end=' ')\n",
    "    print('')"
   ]
  },
  {
   "cell_type": "code",
   "execution_count": 71,
   "metadata": {},
   "outputs": [
    {
     "name": "stdout",
     "output_type": "stream",
     "text": [
      "***\n",
      "**\n",
      "*\n"
     ]
    }
   ],
   "source": [
    "for i in range(n):\n",
    "    for j in range(n-i):\n",
    "        print('*',end='')\n",
    "    print('') ##印出跳行\n"
   ]
  },
  {
   "cell_type": "code",
   "execution_count": 73,
   "metadata": {},
   "outputs": [
    {
     "name": "stdout",
     "output_type": "stream",
     "text": [
      "Please enter an integer: 4\n",
      "****\n",
      "***\n",
      "**\n",
      "*\n",
      "\n"
     ]
    }
   ],
   "source": [
    "n2 = int(input(\"Please enter an integer: \"))\n",
    "for i in range(n2, -1, -1):   #Specify Start to End and the quantity of decrement\n",
    "    for j in range(i):\n",
    "        print('*', end='')  \n",
    "    print('')\n"
   ]
  },
  {
   "cell_type": "code",
   "execution_count": 60,
   "metadata": {},
   "outputs": [
    {
     "name": "stdout",
     "output_type": "stream",
     "text": [
      "Please enter an integer: 3\n",
      "1\n",
      "1\n",
      "2\n"
     ]
    }
   ],
   "source": [
    "n = int(input(\"Please enter an integer: \"))\n",
    "a1 = 1\n",
    "a2 = 1\n",
    "print(a1)\n",
    "print(a2)\n",
    "for i in range(n-2):\n",
    "        a3 = a1 + a2\n",
    "        print(a3)\n",
    "        a1 = a2\n",
    "        a2 = a3"
   ]
  },
  {
   "cell_type": "code",
   "execution_count": 63,
   "metadata": {},
   "outputs": [
    {
     "name": "stdout",
     "output_type": "stream",
     "text": [
      "Please enter an integer: 4\n",
      "1 1 2 3 "
     ]
    }
   ],
   "source": [
    "n = int(input(\"Please enter an integer: \"))\n",
    "ans=1\n",
    "plus=0\n",
    "temp=0\n",
    "for i in range(n):\n",
    "    temp=ans\n",
    "    print(ans,end=' ')    \n",
    "    ans=ans+plus\n",
    "    plus=temp"
   ]
  },
  {
   "cell_type": "code",
   "execution_count": 66,
   "metadata": {},
   "outputs": [
    {
     "name": "stdout",
     "output_type": "stream",
     "text": [
      "Please enter an integer: 3\n",
      "1\n",
      "1\n",
      "2\n"
     ]
    }
   ],
   "source": [
    "n = int(input(\"Please enter an integer: \"))\n",
    "\n",
    "a = 0\n",
    "b = 1\n",
    "print(b)\n",
    "for i in range(1, n):\n",
    "        c = a + b\n",
    "        print(c)\n",
    "        a = b\n",
    "        b = c"
   ]
  },
  {
   "cell_type": "code",
   "execution_count": 67,
   "metadata": {},
   "outputs": [
    {
     "name": "stdout",
     "output_type": "stream",
     "text": [
      "Please enter an integer: 4\n",
      "1 1 2 3 "
     ]
    }
   ],
   "source": [
    "n = int(input(\"Please enter an integer: \"))\n",
    "n1=1\n",
    "n2=1\n",
    "count=0\n",
    "while count < n:\n",
    "    print(n1,end=' ')\n",
    "    nth = n1 + n2\n",
    "    n1 = n2\n",
    "    n2 = nth\n",
    "    count= count+1"
   ]
  },
  {
   "cell_type": "code",
   "execution_count": 68,
   "metadata": {},
   "outputs": [
    {
     "name": "stdout",
     "output_type": "stream",
     "text": [
      "1\n",
      "1\n",
      "2\n",
      "3\n"
     ]
    }
   ],
   "source": [
    "def fibonacci(n):\n",
    "    if n == 0 or n ==1:\n",
    "        return n\n",
    "    else:\n",
    "        return fibonacci(n-1)+fibonacci(n-2)\n",
    "\n",
    "for i in range(1, n+1):\n",
    "    print(fibonacci(n=i))\n"
   ]
  },
  {
   "cell_type": "code",
   "execution_count": 70,
   "metadata": {},
   "outputs": [
    {
     "name": "stdout",
     "output_type": "stream",
     "text": [
      "Please enter an integer: 3\n",
      "1\n",
      "1\n",
      "2\n",
      "3\n"
     ]
    }
   ],
   "source": [
    "n = int(input(\"Please enter an integer: \"))\n",
    "\n",
    "a,b=0,1\n",
    "\n",
    "while b<= n:\n",
    "    print(b)\n",
    "    a,b = b,a+b"
   ]
  },
  {
   "cell_type": "code",
   "execution_count": 72,
   "metadata": {},
   "outputs": [
    {
     "name": "stdout",
     "output_type": "stream",
     "text": [
      "Please enter an integer: 4\n",
      "1\n",
      "1\n",
      "2\n",
      "3\n",
      "5\n"
     ]
    }
   ],
   "source": [
    "n = int(input(\"Please enter an integer: \"))\n",
    "a1 = 1\n",
    "a2 = 1\n",
    "print(a1)\n",
    "print(a2)\n",
    "for i in range(1, n):\n",
    "        a3 = a1 + a2\n",
    "        print(a3)\n",
    "        a1 = a2\n",
    "        a2 = a3\n"
   ]
  },
  {
   "cell_type": "code",
   "execution_count": 74,
   "metadata": {},
   "outputs": [
    {
     "name": "stdout",
     "output_type": "stream",
     "text": [
      "Please enter an integer: 4\n",
      "1\n",
      "1\n",
      "2\n",
      "3\n"
     ]
    }
   ],
   "source": [
    "\n",
    "n = int(input(\"Please enter an integer: \"))\n",
    "\n",
    "# ---- Write Code here\n",
    "i = 1\n",
    "First = 0          #Fib1 = 0; Fib2 =1\n",
    "Second = 1\n",
    "\n",
    "while i <= n:    \n",
    "    if i <= 1:     # i = 1, j = 1\n",
    "        j = i\n",
    "    else:         \n",
    "        j = First + Second  # i = 2, j = First + Second = 0 + 1 = 1     # i = 3, j = First + Second = 1 + 1 = 2     # i = 4, j = First + Second = 1 + 2 = 3\n",
    "        First = Second      # i = 2, First = Second = 1                     # i = 3, First = Second = 1                    # i = 4, First = Second = 2\n",
    "        Second = j           # i = 2, Second = j = 1                           # i = 3, Second = j = 2                         # i = 4, Second = j = 3\n",
    "    print(j)\n",
    "    i = i + 1\n",
    "\n"
   ]
  },
  {
   "cell_type": "code",
   "execution_count": null,
   "metadata": {},
   "outputs": [],
   "source": []
  }
 ],
 "metadata": {
  "kernelspec": {
   "display_name": "Python 3",
   "language": "python",
   "name": "python3"
  },
  "language_info": {
   "codemirror_mode": {
    "name": "ipython",
    "version": 3
   },
   "file_extension": ".py",
   "mimetype": "text/x-python",
   "name": "python",
   "nbconvert_exporter": "python",
   "pygments_lexer": "ipython3",
   "version": "3.6.9"
  }
 },
 "nbformat": 4,
 "nbformat_minor": 2
}
