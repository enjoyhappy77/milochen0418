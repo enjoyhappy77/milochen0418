{
 "cells": [
  {
   "cell_type": "code",
   "execution_count": 27,
   "metadata": {},
   "outputs": [
    {
     "name": "stdout",
     "output_type": "stream",
     "text": [
      "Please enter an integer: 5\n",
      "*****\n",
      "*   *\n",
      "*   *\n",
      "*   *\n",
      "*****\n"
     ]
    }
   ],
   "source": [
    "# print hollow square \n",
    "n = int(input(\"Please enter an integer: \"))\n",
    "for i in range(n):\n",
    "    for j in range(n):\n",
    "        if i == 0 or j == 0 or i == n-1 or j == n-1:\n",
    "            print('*',end='')\n",
    "        else:\n",
    "            print(' ',end='')\n",
    "    print('')"
   ]
  },
  {
   "cell_type": "code",
   "execution_count": 28,
   "metadata": {},
   "outputs": [
    {
     "name": "stdout",
     "output_type": "stream",
     "text": [
      "Please enter an integer: 5\n",
      "           \n",
      "     *     \n",
      "    ***    \n",
      "   *****   \n",
      "  *******  \n",
      " ********* \n",
      "  *******  \n",
      "   *****   \n",
      "    ***    \n",
      "     *     \n",
      "           \n"
     ]
    }
   ],
   "source": [
    "# Print a diamond by star with side-length =n \n",
    "n = int(input(\"Please enter an integer: \"))\n",
    "# Write code here\n",
    "\n",
    "for i in range(-n,n+1):\n",
    "    for j in range(-n,n+1):\n",
    "        if abs(i) + abs(j) < n :\n",
    "            print('*',end='')\n",
    "        else:\n",
    "            print(' ',end='')\n",
    "    print('')\n",
    "\n"
   ]
  },
  {
   "cell_type": "code",
   "execution_count": 1,
   "metadata": {},
   "outputs": [
    {
     "name": "stdout",
     "output_type": "stream",
     "text": [
      "1 * 1 = 1\t4 * 1 = 4\t7 * 1 = 7\t\n",
      "1 * 2 = 2\t4 * 2 = 8\t7 * 2 = 14\t\n",
      "1 * 3 = 3\t4 * 3 = 12\t7 * 3 = 21\t\n",
      "1 * 4 = 4\t4 * 4 = 16\t7 * 4 = 28\t\n",
      "1 * 5 = 5\t4 * 5 = 20\t7 * 5 = 35\t\n",
      "1 * 6 = 6\t4 * 6 = 24\t7 * 6 = 42\t\n",
      "1 * 7 = 7\t4 * 7 = 28\t7 * 7 = 49\t\n",
      "1 * 8 = 8\t4 * 8 = 32\t7 * 8 = 56\t\n",
      "1 * 9 = 9\t4 * 9 = 36\t7 * 9 = 63\t\n",
      "\n",
      "2 * 1 = 2\t5 * 1 = 5\t8 * 1 = 8\t\n",
      "2 * 2 = 4\t5 * 2 = 10\t8 * 2 = 16\t\n",
      "2 * 3 = 6\t5 * 3 = 15\t8 * 3 = 24\t\n",
      "2 * 4 = 8\t5 * 4 = 20\t8 * 4 = 32\t\n",
      "2 * 5 = 10\t5 * 5 = 25\t8 * 5 = 40\t\n",
      "2 * 6 = 12\t5 * 6 = 30\t8 * 6 = 48\t\n",
      "2 * 7 = 14\t5 * 7 = 35\t8 * 7 = 56\t\n",
      "2 * 8 = 16\t5 * 8 = 40\t8 * 8 = 64\t\n",
      "2 * 9 = 18\t5 * 9 = 45\t8 * 9 = 72\t\n",
      "\n",
      "3 * 1 = 3\t6 * 1 = 6\t9 * 1 = 9\t\n",
      "3 * 2 = 6\t6 * 2 = 12\t9 * 2 = 18\t\n",
      "3 * 3 = 9\t6 * 3 = 18\t9 * 3 = 27\t\n",
      "3 * 4 = 12\t6 * 4 = 24\t9 * 4 = 36\t\n",
      "3 * 5 = 15\t6 * 5 = 30\t9 * 5 = 45\t\n",
      "3 * 6 = 18\t6 * 6 = 36\t9 * 6 = 54\t\n",
      "3 * 7 = 21\t6 * 7 = 42\t9 * 7 = 63\t\n",
      "3 * 8 = 24\t6 * 8 = 48\t9 * 8 = 72\t\n",
      "3 * 9 = 27\t6 * 9 = 54\t9 * 9 = 81\t\n",
      "\n"
     ]
    }
   ],
   "source": [
    "for i in range(0,3):    \n",
    "    for j in range(1,10):\n",
    "        for k in range(1,10,3):\n",
    "            L = i + k\n",
    "            R = j \n",
    "            print(L , \"*\", R, \"=\", L * R, end='\\t')\n",
    "        print('')\n",
    "    print('')\n",
    "    "
   ]
  },
  {
   "cell_type": "code",
   "execution_count": 29,
   "metadata": {},
   "outputs": [
    {
     "name": "stdout",
     "output_type": "stream",
     "text": [
      "1 * 1 = 1\t2 * 1 = 2\t3 * 1 = 3\t\n",
      "1 * 2 = 2\t2 * 2 = 4\t3 * 2 = 6\t\n",
      "1 * 3 = 3\t2 * 3 = 6\t3 * 3 = 9\t\n",
      "1 * 4 = 4\t2 * 4 = 8\t3 * 4 = 12\t\n",
      "1 * 5 = 5\t2 * 5 = 10\t3 * 5 = 15\t\n",
      "1 * 6 = 6\t2 * 6 = 12\t3 * 6 = 18\t\n",
      "1 * 7 = 7\t2 * 7 = 14\t3 * 7 = 21\t\n",
      "1 * 8 = 8\t2 * 8 = 16\t3 * 8 = 24\t\n",
      "1 * 9 = 9\t2 * 9 = 18\t3 * 9 = 27\t\n",
      "\n",
      "4 * 1 = 4\t5 * 1 = 5\t6 * 1 = 6\t\n",
      "4 * 2 = 8\t5 * 2 = 10\t6 * 2 = 12\t\n",
      "4 * 3 = 12\t5 * 3 = 15\t6 * 3 = 18\t\n",
      "4 * 4 = 16\t5 * 4 = 20\t6 * 4 = 24\t\n",
      "4 * 5 = 20\t5 * 5 = 25\t6 * 5 = 30\t\n",
      "4 * 6 = 24\t5 * 6 = 30\t6 * 6 = 36\t\n",
      "4 * 7 = 28\t5 * 7 = 35\t6 * 7 = 42\t\n",
      "4 * 8 = 32\t5 * 8 = 40\t6 * 8 = 48\t\n",
      "4 * 9 = 36\t5 * 9 = 45\t6 * 9 = 54\t\n",
      "\n",
      "7 * 1 = 7\t8 * 1 = 8\t9 * 1 = 9\t\n",
      "7 * 2 = 14\t8 * 2 = 16\t9 * 2 = 18\t\n",
      "7 * 3 = 21\t8 * 3 = 24\t9 * 3 = 27\t\n",
      "7 * 4 = 28\t8 * 4 = 32\t9 * 4 = 36\t\n",
      "7 * 5 = 35\t8 * 5 = 40\t9 * 5 = 45\t\n",
      "7 * 6 = 42\t8 * 6 = 48\t9 * 6 = 54\t\n",
      "7 * 7 = 49\t8 * 7 = 56\t9 * 7 = 63\t\n",
      "7 * 8 = 56\t8 * 8 = 64\t9 * 8 = 72\t\n",
      "7 * 9 = 63\t8 * 9 = 72\t9 * 9 = 81\t\n",
      "\n"
     ]
    }
   ],
   "source": [
    "for i in range(1,10,3):    \n",
    "    for j in range(1,10):\n",
    "        for k in range(0,3):\n",
    "            L = i + k \n",
    "            R = j \n",
    "            print(L , \"*\", R, \"=\", L * R, end='\\t')\n",
    "        print('')\n",
    "    print('')"
   ]
  },
  {
   "cell_type": "code",
   "execution_count": 31,
   "metadata": {},
   "outputs": [
    {
     "name": "stdout",
     "output_type": "stream",
     "text": [
      "Please enter an integer: 3\n",
      "6\n"
     ]
    }
   ],
   "source": [
    "# Implement factorial n! by loop\n",
    "# n! = 1 * 2 * 3 * 4 * ... * n\n",
    "# example,  4! = 1 * 2 * 3 * 4\n",
    "# example,  5! = 1 * 2 * 3 * 4 * 5\n",
    "# Please complete the following function\n",
    "n = int(input(\"Please enter an integer: \"))\n",
    "def factorial_loop(n):\n",
    "    ret = 1\n",
    "    # Write code here. by for-loop or by while-loop\n",
    "    for i in range(1,n+1):\n",
    "        ret = ret * i \n",
    "    return ret\n",
    "\n",
    "print( factorial_loop(n))\n",
    "# factorial(n!)"
   ]
  },
  {
   "cell_type": "code",
   "execution_count": 32,
   "metadata": {},
   "outputs": [
    {
     "name": "stdout",
     "output_type": "stream",
     "text": [
      "Please enter an integer: 3\n",
      "6\n"
     ]
    }
   ],
   "source": [
    "# Implement factorial n! by recursive function \n",
    "n = int(input(\"Please enter an integer: \"))\n",
    "def factorial(n):\n",
    "    if n < 1: \n",
    "        return 0\n",
    "    elif n == 1: \n",
    "        return 1\n",
    "    else:\n",
    "        return n * factorial(n-1)\n",
    "print( factorial(n))"
   ]
  },
  {
   "cell_type": "code",
   "execution_count": 26,
   "metadata": {},
   "outputs": [
    {
     "name": "stdout",
     "output_type": "stream",
     "text": [
      "2\n",
      "3\n",
      "4\n",
      "5\n"
     ]
    }
   ],
   "source": [
    "\n",
    "def addlist(alist):\n",
    "    for i in alist:\n",
    "        yield i + 1\n",
    "alist = [1, 2, 3, 4]\n",
    "\n",
    "for x in addlist(alist):\n",
    "    print(x)\n",
    "\n",
    "# refer http://icodding.blogspot.com/2016/05/python-yield.html\n"
   ]
  },
  {
   "cell_type": "code",
   "execution_count": null,
   "metadata": {},
   "outputs": [],
   "source": []
  }
 ],
 "metadata": {
  "kernelspec": {
   "display_name": "Python 3",
   "language": "python",
   "name": "python3"
  },
  "language_info": {
   "codemirror_mode": {
    "name": "ipython",
    "version": 3
   },
   "file_extension": ".py",
   "mimetype": "text/x-python",
   "name": "python",
   "nbconvert_exporter": "python",
   "pygments_lexer": "ipython3",
   "version": "3.6.4"
  }
 },
 "nbformat": 4,
 "nbformat_minor": 2
}
