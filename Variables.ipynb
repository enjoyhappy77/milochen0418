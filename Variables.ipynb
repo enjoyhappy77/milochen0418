{
 "cells": [
  {
   "cell_type": "code",
   "execution_count": 1,
   "metadata": {},
   "outputs": [],
   "source": [
    "#Variable"
   ]
  },
  {
   "cell_type": "code",
   "execution_count": 2,
   "metadata": {},
   "outputs": [],
   "source": [
    "# Dynamic type => no declaration needed\n",
    "# x = 3 ( x is an integer)\n",
    "# x = \"This is a string\" ( x is a string)\n",
    "# x = [1,2,3,4,5] ( x is a list)\n",
    "\n"
   ]
  },
  {
   "cell_type": "code",
   "execution_count": 3,
   "metadata": {},
   "outputs": [
    {
     "name": "stdout",
     "output_type": "stream",
     "text": [
      "3\n"
     ]
    }
   ],
   "source": [
    "x = 3 \n",
    "print(x)"
   ]
  },
  {
   "cell_type": "code",
   "execution_count": 4,
   "metadata": {},
   "outputs": [
    {
     "name": "stdout",
     "output_type": "stream",
     "text": [
      "This is a string\n"
     ]
    }
   ],
   "source": [
    "x = \"This is a string\"\n",
    "print(x)"
   ]
  },
  {
   "cell_type": "code",
   "execution_count": 5,
   "metadata": {},
   "outputs": [
    {
     "name": "stdout",
     "output_type": "stream",
     "text": [
      "[1, 2, 3, 4, 5]\n"
     ]
    }
   ],
   "source": [
    "x = [1,2,3,4,5]\n",
    "print(x)"
   ]
  },
  {
   "cell_type": "code",
   "execution_count": 6,
   "metadata": {},
   "outputs": [],
   "source": [
    "# Variable naming\n",
    "# 1. Case sensitive\n",
    "# 2. Cannot start with number\n",
    "# 3. Can contain letters, numbers, and underscores.\n"
   ]
  },
  {
   "cell_type": "code",
   "execution_count": 7,
   "metadata": {},
   "outputs": [],
   "source": [
    "# Dynamic type\n",
    "# 1. The type of python variable (represented by an identifier) is determined at runtime. \n",
    "#    i.e., the program loader does not know the type of the variable when loading the program\n",
    "# 2. The same variable (identifier) can be different types at different time during program execution.\n",
    "# 3. Late binding\n",
    "#  3.1 Avoid too overwhelming type information\n",
    "#  3.2 Handle type difference between platforms\n",
    "#  3.3 The variable cast and access should pass lots of test to ensure the operation is valid\n",
    "#  3.4 Drastically decreases the performance\n"
   ]
  },
  {
   "cell_type": "code",
   "execution_count": 8,
   "metadata": {},
   "outputs": [],
   "source": [
    "# Variables\n",
    "# 1. In C/C++ , a variable is an allocated memory segment to store the information of the value\n",
    "# 2. In python, a variable is like an identifier of a memory segment\n",
    "# 3. What actually happens when python executes the statement x = 3 ?\n",
    "#    . An instance of int object of value 3 is created in memory.\n",
    "#      The identifier \"x\" is created and stored into the name list.\n",
    "#      The reference to the int object is then bind to identifier \"x\""
   ]
  },
  {
   "cell_type": "code",
   "execution_count": 9,
   "metadata": {},
   "outputs": [
    {
     "name": "stdout",
     "output_type": "stream",
     "text": [
      "491679328\n",
      "491679264\n",
      "491679328\n",
      "491679264\n"
     ]
    }
   ],
   "source": [
    "# Everything in python is an object\n",
    "x = 5 \n",
    "print(id(x))\n",
    "x = 3 \n",
    "print(id(x))\n",
    "print(id(5))\n",
    "print(id(3))"
   ]
  },
  {
   "cell_type": "code",
   "execution_count": 10,
   "metadata": {},
   "outputs": [
    {
     "name": "stdout",
     "output_type": "stream",
     "text": [
      "62362696\n",
      "491679264\n",
      "491679264\n",
      "491679200\n",
      "[50, 3, 1]\n",
      "491680768\n",
      "491679264\n",
      "62362696\n"
     ]
    }
   ],
   "source": [
    "# Everhting in python is an object\n",
    "a = [3, 3, 1]\n",
    "print(id(a))\n",
    "print(id(a[0]))\n",
    "print(id(a[1]))\n",
    "print(id(a[2]))\n",
    "a[0] = 50\n",
    "print(a)\n",
    "print(id(a[0]))\n",
    "print(id(a[1]))\n",
    "print(id(a))"
   ]
  },
  {
   "cell_type": "code",
   "execution_count": 11,
   "metadata": {},
   "outputs": [
    {
     "name": "stdout",
     "output_type": "stream",
     "text": [
      "[3, 3, [100, 200]]\n",
      "92346824\n",
      "92346440\n",
      "491682368\n",
      "491685568\n",
      "[3, 3, [200, 200]]\n",
      "92346824\n",
      "92346440\n",
      "491685568\n",
      "491685568\n",
      "[3, 3, []]\n",
      "92346824\n",
      "62362696\n"
     ]
    }
   ],
   "source": [
    "# Everything in python is an object\n",
    "a = [3, 3, [100,200]]\n",
    "print(a)\n",
    "print(id(a))\n",
    "print(id(a[2]))\n",
    "print(id(a[2][0]))\n",
    "print(id(a[2][1]))\n",
    "\n",
    "a[2][0] = 200\n",
    "print(a)\n",
    "print(id(a))\n",
    "print(id(a[2]))\n",
    "print(id(a[2][0]))\n",
    "print(id(a[2][1]))\n",
    "\n",
    "a[2] = [] \n",
    "print(a)\n",
    "print(id(a))\n",
    "print(id(a[2]))\n"
   ]
  },
  {
   "cell_type": "code",
   "execution_count": 12,
   "metadata": {},
   "outputs": [],
   "source": [
    "# Built-in Constants\n",
    "# . Literals are notations for constant values of some built-in types.\n",
    "# . False , True\n",
    "# . None\n",
    "#    . The sole value of type NoneType.\n",
    "#    . None is frequently used to represent the absence of a value, as when default \n",
    "#      arguments are not passed to a function\n",
    "#    . Assignments to None are illegal and raise a SyntaxError."
   ]
  },
  {
   "cell_type": "code",
   "execution_count": 13,
   "metadata": {},
   "outputs": [],
   "source": [
    "# Variable Type\n",
    "# . Bool Type: True and False\n",
    "# . Numeric Types: int, float, complex\n",
    "# . Sequence Types: list, tuple, range\n",
    "# . Text Sequence Type: \"Hi ! hello world\"\n",
    "# . Binary Sequence Types: bytes, bytearray\n",
    "# . Set Types : set, frozenset\n",
    "# . Mapping Types: dict\n"
   ]
  },
  {
   "cell_type": "code",
   "execution_count": 14,
   "metadata": {},
   "outputs": [],
   "source": [
    "# Number"
   ]
  },
  {
   "cell_type": "code",
   "execution_count": 15,
   "metadata": {},
   "outputs": [
    {
     "data": {
      "text/plain": [
       "4"
      ]
     },
     "execution_count": 15,
     "metadata": {},
     "output_type": "execute_result"
    }
   ],
   "source": [
    "2 + 2"
   ]
  },
  {
   "cell_type": "code",
   "execution_count": 16,
   "metadata": {},
   "outputs": [
    {
     "data": {
      "text/plain": [
       "20"
      ]
     },
     "execution_count": 16,
     "metadata": {},
     "output_type": "execute_result"
    }
   ],
   "source": [
    "50 - 5*6"
   ]
  },
  {
   "cell_type": "code",
   "execution_count": 17,
   "metadata": {},
   "outputs": [
    {
     "data": {
      "text/plain": [
       "5.0"
      ]
     },
     "execution_count": 17,
     "metadata": {},
     "output_type": "execute_result"
    }
   ],
   "source": [
    "(50 - 5*6) / 4 "
   ]
  },
  {
   "cell_type": "code",
   "execution_count": 18,
   "metadata": {},
   "outputs": [
    {
     "data": {
      "text/plain": [
       "1.6"
      ]
     },
     "execution_count": 18,
     "metadata": {},
     "output_type": "execute_result"
    }
   ],
   "source": [
    "8 / 5 # division always returns a floating point number"
   ]
  },
  {
   "cell_type": "code",
   "execution_count": 19,
   "metadata": {},
   "outputs": [
    {
     "data": {
      "text/plain": [
       "5.666666666666667"
      ]
     },
     "execution_count": 19,
     "metadata": {},
     "output_type": "execute_result"
    }
   ],
   "source": [
    "17 / 3 # classic division returns a float "
   ]
  },
  {
   "cell_type": "code",
   "execution_count": 20,
   "metadata": {},
   "outputs": [
    {
     "data": {
      "text/plain": [
       "5"
      ]
     },
     "execution_count": 20,
     "metadata": {},
     "output_type": "execute_result"
    }
   ],
   "source": [
    "17 // 3  # floor division discards the fractional part"
   ]
  },
  {
   "cell_type": "code",
   "execution_count": 21,
   "metadata": {},
   "outputs": [
    {
     "data": {
      "text/plain": [
       "2"
      ]
     },
     "execution_count": 21,
     "metadata": {},
     "output_type": "execute_result"
    }
   ],
   "source": [
    "17 % 3 # the % operator returns the remainder of the division"
   ]
  },
  {
   "cell_type": "code",
   "execution_count": 22,
   "metadata": {},
   "outputs": [
    {
     "data": {
      "text/plain": [
       "17"
      ]
     },
     "execution_count": 22,
     "metadata": {},
     "output_type": "execute_result"
    }
   ],
   "source": [
    "5 * 3 + 2 # result * divisor + remainder"
   ]
  },
  {
   "cell_type": "code",
   "execution_count": 23,
   "metadata": {},
   "outputs": [
    {
     "data": {
      "text/plain": [
       "25"
      ]
     },
     "execution_count": 23,
     "metadata": {},
     "output_type": "execute_result"
    }
   ],
   "source": [
    "5 ** 2 # 5 squared"
   ]
  },
  {
   "cell_type": "code",
   "execution_count": 24,
   "metadata": {},
   "outputs": [
    {
     "data": {
      "text/plain": [
       "128"
      ]
     },
     "execution_count": 24,
     "metadata": {},
     "output_type": "execute_result"
    }
   ],
   "source": [
    "2 ** 7 # 2 to the power of 7"
   ]
  },
  {
   "cell_type": "code",
   "execution_count": 25,
   "metadata": {},
   "outputs": [
    {
     "data": {
      "text/plain": [
       "900"
      ]
     },
     "execution_count": 25,
     "metadata": {},
     "output_type": "execute_result"
    }
   ],
   "source": [
    "width = 20 \n",
    "height = 5 * 9\n",
    "width * height"
   ]
  },
  {
   "cell_type": "code",
   "execution_count": 26,
   "metadata": {},
   "outputs": [
    {
     "ename": "NameError",
     "evalue": "name 'n' is not defined",
     "output_type": "error",
     "traceback": [
      "\u001b[1;31m---------------------------------------------------------------------------\u001b[0m",
      "\u001b[1;31mNameError\u001b[0m                                 Traceback (most recent call last)",
      "\u001b[1;32m<ipython-input-26-2e0925082c84>\u001b[0m in \u001b[0;36m<module>\u001b[1;34m()\u001b[0m\n\u001b[1;32m----> 1\u001b[1;33m \u001b[0mn\u001b[0m \u001b[1;31m# try to access an undefined variable\u001b[0m\u001b[1;33m\u001b[0m\u001b[0m\n\u001b[0m",
      "\u001b[1;31mNameError\u001b[0m: name 'n' is not defined"
     ]
    }
   ],
   "source": [
    "n # try to access an undefined variable"
   ]
  },
  {
   "cell_type": "code",
   "execution_count": 27,
   "metadata": {},
   "outputs": [],
   "source": [
    "# Float \n",
    "# In interactive mode, the last printed expression is assigned to the variable _."
   ]
  },
  {
   "cell_type": "code",
   "execution_count": 28,
   "metadata": {},
   "outputs": [
    {
     "data": {
      "text/plain": [
       "14.0"
      ]
     },
     "execution_count": 28,
     "metadata": {},
     "output_type": "execute_result"
    }
   ],
   "source": [
    "4 * 3.75 - 1 "
   ]
  },
  {
   "cell_type": "code",
   "execution_count": 29,
   "metadata": {},
   "outputs": [
    {
     "data": {
      "text/plain": [
       "12.5625"
      ]
     },
     "execution_count": 29,
     "metadata": {},
     "output_type": "execute_result"
    }
   ],
   "source": [
    "tax = 12.5 / 100\n",
    "price = 100.50\n",
    "price * tax"
   ]
  },
  {
   "cell_type": "code",
   "execution_count": 30,
   "metadata": {},
   "outputs": [
    {
     "data": {
      "text/plain": [
       "113.0625"
      ]
     },
     "execution_count": 30,
     "metadata": {},
     "output_type": "execute_result"
    }
   ],
   "source": [
    "price + _"
   ]
  },
  {
   "cell_type": "code",
   "execution_count": 31,
   "metadata": {},
   "outputs": [
    {
     "data": {
      "text/plain": [
       "113.06"
      ]
     },
     "execution_count": 31,
     "metadata": {},
     "output_type": "execute_result"
    }
   ],
   "source": [
    "round(_, 2)"
   ]
  },
  {
   "cell_type": "code",
   "execution_count": null,
   "metadata": {},
   "outputs": [],
   "source": []
  }
 ],
 "metadata": {
  "kernelspec": {
   "display_name": "Python 3",
   "language": "python",
   "name": "python3"
  },
  "language_info": {
   "codemirror_mode": {
    "name": "ipython",
    "version": 3
   },
   "file_extension": ".py",
   "mimetype": "text/x-python",
   "name": "python",
   "nbconvert_exporter": "python",
   "pygments_lexer": "ipython3",
   "version": "3.6.4"
  }
 },
 "nbformat": 4,
 "nbformat_minor": 2
}
