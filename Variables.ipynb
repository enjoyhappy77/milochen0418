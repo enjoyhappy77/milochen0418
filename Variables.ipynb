{
 "cells": [
  {
   "cell_type": "code",
   "execution_count": 1,
   "metadata": {},
   "outputs": [],
   "source": [
    "#Variable"
   ]
  },
  {
   "cell_type": "code",
   "execution_count": 2,
   "metadata": {},
   "outputs": [],
   "source": [
    "# Dynamic type => no declaration needed\n",
    "# x = 3 ( x is an integer)\n",
    "# x = \"This is a string\" ( x is a string)\n",
    "# x = [1,2,3,4,5] ( x is a list)\n",
    "\n"
   ]
  },
  {
   "cell_type": "code",
   "execution_count": 4,
   "metadata": {},
   "outputs": [
    {
     "name": "stdout",
     "output_type": "stream",
     "text": [
      "3\n"
     ]
    }
   ],
   "source": [
    "x = 3 \n",
    "print(x)"
   ]
  },
  {
   "cell_type": "code",
   "execution_count": 5,
   "metadata": {},
   "outputs": [
    {
     "name": "stdout",
     "output_type": "stream",
     "text": [
      "This is a string\n"
     ]
    }
   ],
   "source": [
    "x = \"This is a string\"\n",
    "print(x)"
   ]
  },
  {
   "cell_type": "code",
   "execution_count": 7,
   "metadata": {},
   "outputs": [
    {
     "name": "stdout",
     "output_type": "stream",
     "text": [
      "[1, 2, 3, 4, 5]\n"
     ]
    }
   ],
   "source": [
    "x = [1,2,3,4,5]\n",
    "print(x)"
   ]
  },
  {
   "cell_type": "code",
   "execution_count": 8,
   "metadata": {},
   "outputs": [],
   "source": [
    "# Variable naming\n",
    "# 1. Case sensitive\n",
    "# 2. Cannot start with number\n",
    "# 3. Can contain letters, numbers, and underscores.\n"
   ]
  },
  {
   "cell_type": "code",
   "execution_count": 9,
   "metadata": {},
   "outputs": [],
   "source": [
    "# Dynamic type\n",
    "# 1. The type of python variable (represented by an identifier) is determined at runtime. \n",
    "#    i.e., the program loader does not know the type of the variable when loading the program\n",
    "# 2. The same variable (identifier) can be different types at different time during program execution.\n",
    "# 3. Late binding\n",
    "#  3.1 Avoid too overwhelming type information\n",
    "#  3.2 Handle type difference between platforms\n",
    "#  3.3 The variable cast and access should pass lots of test to ensure the operation is valid\n",
    "#  3.4 Drastically decreases the performance\n"
   ]
  },
  {
   "cell_type": "code",
   "execution_count": 10,
   "metadata": {},
   "outputs": [],
   "source": [
    "# Variables\n",
    "# 1. In C/C++ , a variable is an allocated memory segment to store the information of the value\n",
    "# 2. In python, a variable is like an identifier of a memory segment\n",
    "# 3. What actually happens when python executes the statement x = 3 ?\n",
    "#    . An instance of int object of value 3 is created in memory.\n",
    "#      The identifier \"x\" is created and stored into the name list.\n",
    "#      The reference to the int object is then bind to identifier \"x\""
   ]
  },
  {
   "cell_type": "code",
   "execution_count": 14,
   "metadata": {},
   "outputs": [
    {
     "name": "stdout",
     "output_type": "stream",
     "text": [
      "491679328\n",
      "491679264\n",
      "491679328\n",
      "491679264\n"
     ]
    }
   ],
   "source": [
    "# Everything in python is an object\n",
    "x = 5 \n",
    "print(id(x))\n",
    "x = 3 \n",
    "print(id(x))\n",
    "print(id(5))\n",
    "print(id(3))"
   ]
  },
  {
   "cell_type": "code",
   "execution_count": 19,
   "metadata": {},
   "outputs": [
    {
     "name": "stdout",
     "output_type": "stream",
     "text": [
      "99673288\n",
      "491679264\n",
      "491679264\n",
      "491679200\n",
      "[50, 3, 1]\n",
      "491680768\n"
     ]
    }
   ],
   "source": [
    "# Everhting in python is an object\n",
    "a = [3, 3, 1]\n",
    "print(id(a))\n",
    "print(id(a[0]))\n",
    "print(id(a[1]))\n",
    "print(id(a[2]))\n",
    "a[0] = 50\n",
    "print(a)\n",
    "print(id(a[0]))"
   ]
  },
  {
   "cell_type": "code",
   "execution_count": null,
   "metadata": {},
   "outputs": [],
   "source": []
  }
 ],
 "metadata": {
  "kernelspec": {
   "display_name": "Python 3",
   "language": "python",
   "name": "python3"
  },
  "language_info": {
   "codemirror_mode": {
    "name": "ipython",
    "version": 3
   },
   "file_extension": ".py",
   "mimetype": "text/x-python",
   "name": "python",
   "nbconvert_exporter": "python",
   "pygments_lexer": "ipython3",
   "version": "3.6.4"
  }
 },
 "nbformat": 4,
 "nbformat_minor": 2
}
